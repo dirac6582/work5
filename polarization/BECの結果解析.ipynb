{
 "cells": [
  {
   "cell_type": "code",
   "execution_count": 1,
   "metadata": {},
   "outputs": [],
   "source": [
    "# 水の分極（双極子モーメント）の計算"
   ]
  },
  {
   "cell_type": "code",
   "execution_count": null,
   "metadata": {},
   "outputs": [],
   "source": []
  },
  {
   "cell_type": "code",
   "execution_count": 2,
   "metadata": {},
   "outputs": [],
   "source": [
    "import numpy as np"
   ]
  },
  {
   "cell_type": "code",
   "execution_count": 23,
   "metadata": {},
   "outputs": [],
   "source": [
    "# WCと3つの原子座標からpolarization_vectorを返す関数\n",
    "def polarization_WF(WF1,WF2,WF3,WF4,O,H1,H2):\n",
    "    # 双極子モーメントベクトルの計算\n",
    "    polarization=-2*(WF1+WF2+WF3+WF4)+6*O+(H1+H2)\n",
    "    #print(\"polarization vector =\", polarization)\n",
    "    return polarization\n",
    "\n",
    "# BECと3つの原始座標からpolarization_vectorを返す関数\n",
    "def polarization_BEC(ZO,ZH1,ZH2,O,H1,H2):\n",
    "    # ASR \n",
    "    meanZ=(ZO+ZH1+ZH2)/3.0\n",
    "    newZO=ZO-meanZ\n",
    "    newZH1=ZH1-meanZ\n",
    "    newZH2=ZH2-meanZ\n",
    "    #体積．celldmはbohrだからAに変換している．\n",
    "    V=10*3\n",
    "\n",
    "    #単位に注意．分極の単位はC/m2である．\n",
    "    #分極はは「単位体積当たりの双極子モーメントとして定義される。」\n",
    "    #したがって，双極子モーメントの単位がC*mであることと辻褄があう．\n",
    "    \n",
    "    #したがって，Pの計算でVで割る必要は（上の計算と合わせるだけなら）ない！\n",
    "    # 分極の計算．かける順番に注意．\n",
    "    P=np.dot(newZO,O)+np.dot(newZH1,H1)+np.dot(newZH2,H2)\n",
    "    return P\n",
    "    \n",
    "# ASR\n",
    "def ASR_BEC(ZO,ZH1,ZH2):\n",
    "    # ASR \n",
    "    meanZ=(ZO+ZH1+ZH2)/3.0\n",
    "    newZO=ZO-meanZ\n",
    "    newZH1=ZH1-meanZ\n",
    "    newZH2=ZH2-meanZ\n",
    "    return [newZO, newZH1, newZH2]"
   ]
  },
  {
   "cell_type": "code",
   "execution_count": 2,
   "metadata": {},
   "outputs": [],
   "source": [
    "# 水分子の情報\n",
    "#O 0.00 0.00 0.00\n",
    "#H 0.9693 0.00 0.00\n",
    "#H -0.23625088367 0.94006808794 0.00\n",
    "\n",
    "# 単位はいずれもAngstrom．\n",
    "# Oに+6，Hに+1，4つのWFには-2を割り当てる．"
   ]
  },
  {
   "cell_type": "code",
   "execution_count": 49,
   "metadata": {},
   "outputs": [],
   "source": [
    "#各原子の座標(単位はAngstrom)\n",
    "O=np.array([0.00,0.00,0.00])\n",
    "H1=np.array([0.9693,0.00,0.00])\n",
    "H2=np.array([-0.2362508836,0.94006808794,0.00])"
   ]
  },
  {
   "cell_type": "code",
   "execution_count": 38,
   "metadata": {},
   "outputs": [],
   "source": [
    "#WCの座標（単位はAngstrom）\n",
    "WF1=np.array([-0.107125,  0.514973, -0.000000])\n",
    "WF2=np.array([0.526914,  0.017817, -0.000000 ])\n",
    "WF3=np.array([-0.085620, -0.110962, -0.276969])\n",
    "WF4=np.array([-0.085619, -0.110961,  0.276970 ])"
   ]
  },
  {
   "cell_type": "code",
   "execution_count": 39,
   "metadata": {},
   "outputs": [
    {
     "name": "stdout",
     "output_type": "stream",
     "text": [
      "polarization vector = [0.73304912 0.94006809 0.        ]\n",
      "dipole moment =  5.72194130091999   [D]\n"
     ]
    }
   ],
   "source": [
    "# 完全にイオン性の場合，Hに+1，Oに-2を割り当てればよさそう．\n",
    "p_test=-2*O+(H1+H2)\n",
    "d_test=np.linalg.norm(p_test)*4.79990626955\n",
    "print(\"polarization vector =\", p_test)\n",
    "print(\"dipole moment = \", d_test, \"  [D]\" )"
   ]
  },
  {
   "cell_type": "code",
   "execution_count": 42,
   "metadata": {},
   "outputs": [
    {
     "name": "stdout",
     "output_type": "stream",
     "text": [
      "polarization vector = [0.29321965 0.37602724 0.        ]\n",
      "dipole moment =  2.288776520367996   [D]\n"
     ]
    }
   ],
   "source": [
    "# MDで使われる古典電荷の割り当ては，Oに0.8，Hに0.4くらい．\n",
    "p_test=-0.8*O+0.4*(H1+H2)\n",
    "d_test=np.linalg.norm(p_test)*4.79990626955\n",
    "print(\"polarization vector =\", p_test)\n",
    "print(\"dipole moment = \", d_test, \"  [D]\" )"
   ]
  },
  {
   "cell_type": "code",
   "execution_count": 43,
   "metadata": {
    "scrolled": true
   },
   "outputs": [
    {
     "name": "stdout",
     "output_type": "stream",
     "text": [
      "polarization vector = [ 2.35949116e-01  3.18334088e-01 -2.00000000e-06]\n",
      "dipole moment =  1.9019296356639406   [D]\n"
     ]
    }
   ],
   "source": [
    "# 双極子モーメントベクトルの計算\n",
    "polarization=-2*(WF1+WF2+WF3+WF4)+6*O+(H1+H2)\n",
    "print(\"polarization vector =\", polarization)\n",
    "\n",
    "# 双極子モーメントの大きさの計算．現在の単位はAngstrom*1(e)となっている．\n",
    "# 単位を合わせる．（単位がデバイになる．）\n",
    "dipole=np.linalg.norm(polarization)*4.79990626955\n",
    "print(\"dipole moment = \", dipole, \"  [D]\" )\n"
   ]
  },
  {
   "cell_type": "markdown",
   "metadata": {},
   "source": [
    "# 以下BECから計算する方法．"
   ]
  },
  {
   "cell_type": "code",
   "execution_count": null,
   "metadata": {},
   "outputs": [],
   "source": []
  },
  {
   "cell_type": "code",
   "execution_count": null,
   "metadata": {},
   "outputs": [],
   "source": []
  },
  {
   "cell_type": "code",
   "execution_count": null,
   "metadata": {},
   "outputs": [],
   "source": []
  },
  {
   "cell_type": "code",
   "execution_count": null,
   "metadata": {},
   "outputs": [],
   "source": []
  },
  {
   "cell_type": "code",
   "execution_count": null,
   "metadata": {},
   "outputs": [],
   "source": []
  },
  {
   "cell_type": "code",
   "execution_count": null,
   "metadata": {},
   "outputs": [],
   "source": []
  },
  {
   "cell_type": "markdown",
   "metadata": {},
   "source": [
    "# もっとシステマチックに，BECファイルを取得して計算するやり方1．\n"
   ]
  },
  {
   "cell_type": "code",
   "execution_count": 45,
   "metadata": {},
   "outputs": [
    {
     "name": "stdout",
     "output_type": "stream",
     "text": [
      "[[-3.9515e-01  9.1930e-02 -0.0000e+00]\n",
      " [ 9.2560e-02 -3.5153e-01  0.0000e+00]\n",
      " [ 1.0000e-05  2.0000e-05 -6.5100e-01]]\n",
      "[[ 9.4860e-02 -8.1700e-02  0.0000e+00]\n",
      " [-5.1740e-02  2.7679e-01 -0.0000e+00]\n",
      " [-1.0000e-05 -1.0000e-05  3.2504e-01]]\n",
      "[[ 3.0029e-01 -1.0240e-02 -0.0000e+00]\n",
      " [-4.0820e-02  7.4740e-02  0.0000e+00]\n",
      " [-1.0000e-05 -1.0000e-05  3.2596e-01]]\n"
     ]
    }
   ],
   "source": [
    "# 有効電荷の取得\n",
    "ZO=np.loadtxt(\"bec_O_1.txt\")\n",
    "ZH1=np.loadtxt(\"bec_H1_1.txt\")\n",
    "ZH2=np.loadtxt(\"bec_H2_1.txt\")\n",
    "\n",
    "print(ZO)\n",
    "print(ZH1)\n",
    "print(ZH2)"
   ]
  },
  {
   "cell_type": "code",
   "execution_count": 46,
   "metadata": {},
   "outputs": [
    {
     "name": "stdout",
     "output_type": "stream",
     "text": [
      "[ 1.13777229e-02  2.97528680e-02 -1.67311720e-05]\n",
      "dipole moment =  0.1528968694266839   [D]\n"
     ]
    }
   ],
   "source": [
    "# 分極の計算．かける順番に注意．\n",
    "P=np.dot(ZO,O)+np.dot(ZH1,H1)+np.dot(ZH2,H2)\n",
    "print(P)\n",
    "\n",
    "# 双極子モーメントの大きさの計算．（現在の単位はAngstrom*）\n",
    "# 単位を合わせる．1.34410958が係数．（単位がデバイになる．）\n",
    "D=np.linalg.norm(P)*4.79990626955\n",
    "print(\"dipole moment = \", D , \"  [D]\" )"
   ]
  },
  {
   "cell_type": "markdown",
   "metadata": {},
   "source": [
    "\n"
   ]
  },
  {
   "cell_type": "markdown",
   "metadata": {},
   "source": []
  },
  {
   "cell_type": "markdown",
   "metadata": {},
   "source": []
  },
  {
   "cell_type": "markdown",
   "metadata": {},
   "source": []
  },
  {
   "cell_type": "markdown",
   "metadata": {},
   "source": [
    "#  もっとシステマチックに，ASRを含めて，上で定義した関数を使う．\n"
   ]
  },
  {
   "cell_type": "code",
   "execution_count": 83,
   "metadata": {},
   "outputs": [
    {
     "name": "stdout",
     "output_type": "stream",
     "text": [
      "#######\n",
      "[[-0.46300667  0.07527     0.        ]\n",
      " [ 0.07596    -0.42357     0.        ]\n",
      " [ 0.          0.         -0.67730667]]\n",
      "#######\n",
      "[[ 0.16457333 -0.04834    -0.        ]\n",
      " [-0.06426     0.27697     0.        ]\n",
      " [ 0.          0.          0.33842333]]\n",
      "#######\n",
      "[[ 0.29843333 -0.02693     0.        ]\n",
      " [-0.0117      0.1466     -0.        ]\n",
      " [-0.          0.          0.33888333]]\n",
      "[0.08358279 0.07962266 0.        ]\n",
      "dipole moment =  0.5540899196136148   [D]\n"
     ]
    }
   ],
   "source": [
    "# 有効電荷の取得\n",
    "ZO=np.loadtxt(\"bec_new_O_dFdE.txt\")\n",
    "ZH1=np.loadtxt(\"bec_new_H1_dFdE.txt\")\n",
    "ZH2=np.loadtxt(\"bec_new_H2_dFdE.txt\")\n",
    "\n",
    "print(\"#######\")\n",
    "z=ASR_BEC(ZO,ZH1,ZH2)\n",
    "print(z[0])\n",
    "print(\"#######\")\n",
    "print(z[1])\n",
    "print(\"#######\")\n",
    "print(z[2])\n",
    "\n",
    "\n",
    "P=polarization_BEC(ZO,ZH1,ZH2,O,H1,H2)\n",
    "print(P)\n",
    "\n",
    "# 双極子モーメントの大きさの計算．（現在の単位はAngstrom*）\n",
    "# 単位を合わせる．1.34410958が係数．（単位がデバイになる．）\n",
    "D=np.linalg.norm(P)*4.79990626955\n",
    "print(\"dipole moment = \", D , \"  [D]\" )"
   ]
  },
  {
   "cell_type": "markdown",
   "metadata": {},
   "source": [
    "# 水の角度が変わった時のデータから双極子モーメントの変化を計算する．"
   ]
  },
  {
   "cell_type": "code",
   "execution_count": 23,
   "metadata": {},
   "outputs": [
    {
     "name": "stdout",
     "output_type": "stream",
     "text": [
      "[[-3.55890000e-01  9.19400000e-02  0.00000000e+00]\n",
      " [ 8.82266667e-02 -3.82583333e-01  0.00000000e+00]\n",
      " [ 3.33333333e-06  3.33333333e-06 -7.21120000e-01]]\n",
      "[[ 6.08400000e-02 -5.04200000e-02  0.00000000e+00]\n",
      " [-4.23333333e-03  3.08456667e-01  0.00000000e+00]\n",
      " [ 3.33333333e-06 -6.66666667e-06  3.60750000e-01]]\n",
      "[[ 2.95050000e-01 -4.15200000e-02  0.00000000e+00]\n",
      " [-8.39933333e-02  7.41266667e-02  0.00000000e+00]\n",
      " [-6.66666667e-06  3.33333333e-06  3.60370000e-01]]\n",
      "[[-3.93490000e-01  9.00433333e-02 -0.00000000e+00]\n",
      " [ 9.00433333e-02 -3.93490000e-01 -0.00000000e+00]\n",
      " [ 3.33333333e-06  3.33333333e-06 -7.36720000e-01]]\n",
      "[[ 8.46000000e-02 -5.29766667e-02  0.00000000e+00]\n",
      " [-3.70666667e-02  3.08890000e-01  0.00000000e+00]\n",
      " [ 3.33333333e-06 -6.66666667e-06  3.68360000e-01]]\n",
      "[[ 3.08890000e-01 -3.70666667e-02  0.00000000e+00]\n",
      " [-5.29766667e-02  8.46000000e-02  0.00000000e+00]\n",
      " [-6.66666667e-06  3.33333333e-06  3.68360000e-01]]\n",
      "[[-4.38270000e-01  9.05333333e-02  0.00000000e+00]\n",
      " [ 9.20166667e-02 -4.14966667e-01  0.00000000e+00]\n",
      " [ 3.33333333e-06  3.33333333e-06 -7.55876667e-01]]\n",
      "[[ 1.13340000e-01 -5.23666667e-02 -0.00000000e+00]\n",
      " [-6.92833333e-02  3.12283333e-01  0.00000000e+00]\n",
      " [ 3.33333333e-06 -6.66666667e-06  3.77623333e-01]]\n",
      "[[ 3.24930000e-01 -3.81666667e-02  0.00000000e+00]\n",
      " [-2.27333333e-02  1.02683333e-01 -0.00000000e+00]\n",
      " [-6.66666667e-06  3.33333333e-06  3.78253333e-01]]\n"
     ]
    }
   ],
   "source": [
    "# 有効電荷の取得 80度\n",
    "ZO=np.loadtxt(\"./change/bec_O_80.txt\")\n",
    "ZH1=np.loadtxt(\"./change/bec_H1_80.txt\")\n",
    "ZH2=np.loadtxt(\"./change/bec_H2_80.txt\")\n",
    "\n",
    "# ASR \n",
    "meanZ=(ZO+ZH1+ZH2)/3.0\n",
    "newZO=ZO-meanZ\n",
    "newZH1=ZH1-meanZ\n",
    "newZH2=ZH2-meanZ\n",
    "print(newZO)\n",
    "print(newZH1)\n",
    "print(newZH2)\n",
    "\n",
    "# 有効電荷の取得 90度\n",
    "ZO=np.loadtxt(\"./change/bec_O_90.txt\")\n",
    "ZH1=np.loadtxt(\"./change/bec_H1_90.txt\")\n",
    "ZH2=np.loadtxt(\"./change/bec_H2_90.txt\")\n",
    "\n",
    "# ASR \n",
    "meanZ=(ZO+ZH1+ZH2)/3.0\n",
    "anewZO=ZO-meanZ\n",
    "anewZH1=ZH1-meanZ\n",
    "anewZH2=ZH2-meanZ\n",
    "print(anewZO)\n",
    "print(anewZH1)\n",
    "print(anewZH2)\n",
    "\n",
    "# 有効電荷の取得 100度\n",
    "ZO=np.loadtxt(\"./change/bec_O_100.txt\")\n",
    "ZH1=np.loadtxt(\"./change/bec_H1_100.txt\")\n",
    "ZH2=np.loadtxt(\"./change/bec_H2_100.txt\")\n",
    "\n",
    "# ASR \n",
    "meanZ=(ZO+ZH1+ZH2)/3.0\n",
    "bnewZO=ZO-meanZ\n",
    "bnewZH1=ZH1-meanZ\n",
    "bnewZH2=ZH2-meanZ\n",
    "print(bnewZO)\n",
    "print(bnewZH1)\n",
    "print(bnewZH2)"
   ]
  },
  {
   "cell_type": "code",
   "execution_count": 65,
   "metadata": {},
   "outputs": [],
   "source": [
    "# 3つの座標の計算．\n",
    "distance=0.9693\n",
    "x_array=distance*np.array([np.cos(80*np.pi/180),np.cos(90*np.pi/180),np.cos(100*np.pi/180)])\n",
    "y_array=distance*np.array([np.sin(80*np.pi/180),np.sin(90*np.pi/180),np.sin(100*np.pi/180)])\n",
    "z_array=np.zeros(3)"
   ]
  },
  {
   "cell_type": "code",
   "execution_count": 64,
   "metadata": {},
   "outputs": [
    {
     "ename": "NameError",
     "evalue": "name 'anewZH2' is not defined",
     "output_type": "error",
     "traceback": [
      "\u001b[0;31m---------------------------------------------------------------------------\u001b[0m",
      "\u001b[0;31mNameError\u001b[0m                                 Traceback (most recent call last)",
      "\u001b[0;32m<ipython-input-64-b4da7ea315c7>\u001b[0m in \u001b[0;36m<module>\u001b[0;34m\u001b[0m\n\u001b[0;32m----> 1\u001b[0;31m \u001b[0mdelP\u001b[0m\u001b[0;34m=\u001b[0m\u001b[0mnp\u001b[0m\u001b[0;34m.\u001b[0m\u001b[0mdot\u001b[0m\u001b[0;34m(\u001b[0m\u001b[0mnewZH2\u001b[0m\u001b[0;34m,\u001b[0m\u001b[0;34m[\u001b[0m\u001b[0mx_array\u001b[0m\u001b[0;34m[\u001b[0m\u001b[0;36m1\u001b[0m\u001b[0;34m]\u001b[0m\u001b[0;34m-\u001b[0m\u001b[0mx_array\u001b[0m\u001b[0;34m[\u001b[0m\u001b[0;36m0\u001b[0m\u001b[0;34m]\u001b[0m\u001b[0;34m,\u001b[0m\u001b[0my_array\u001b[0m\u001b[0;34m[\u001b[0m\u001b[0;36m1\u001b[0m\u001b[0;34m]\u001b[0m\u001b[0;34m-\u001b[0m\u001b[0my_array\u001b[0m\u001b[0;34m[\u001b[0m\u001b[0;36m0\u001b[0m\u001b[0;34m]\u001b[0m\u001b[0;34m,\u001b[0m\u001b[0;36m0\u001b[0m\u001b[0;34m]\u001b[0m\u001b[0;34m)\u001b[0m\u001b[0;34m+\u001b[0m\u001b[0mnp\u001b[0m\u001b[0;34m.\u001b[0m\u001b[0mdot\u001b[0m\u001b[0;34m(\u001b[0m\u001b[0manewZH2\u001b[0m\u001b[0;34m,\u001b[0m\u001b[0;34m[\u001b[0m\u001b[0mx_array\u001b[0m\u001b[0;34m[\u001b[0m\u001b[0;36m2\u001b[0m\u001b[0;34m]\u001b[0m\u001b[0;34m-\u001b[0m\u001b[0mx_array\u001b[0m\u001b[0;34m[\u001b[0m\u001b[0;36m1\u001b[0m\u001b[0;34m]\u001b[0m\u001b[0;34m,\u001b[0m\u001b[0my_array\u001b[0m\u001b[0;34m[\u001b[0m\u001b[0;36m2\u001b[0m\u001b[0;34m]\u001b[0m\u001b[0;34m-\u001b[0m\u001b[0my_array\u001b[0m\u001b[0;34m[\u001b[0m\u001b[0;36m1\u001b[0m\u001b[0;34m]\u001b[0m\u001b[0;34m,\u001b[0m\u001b[0;36m0\u001b[0m\u001b[0;34m]\u001b[0m\u001b[0;34m)\u001b[0m\u001b[0;34m\u001b[0m\u001b[0;34m\u001b[0m\u001b[0m\n\u001b[0m\u001b[1;32m      2\u001b[0m \u001b[0mdelP2\u001b[0m\u001b[0;34m=\u001b[0m\u001b[0mnp\u001b[0m\u001b[0;34m.\u001b[0m\u001b[0mdot\u001b[0m\u001b[0;34m(\u001b[0m\u001b[0manewZH2\u001b[0m\u001b[0;34m,\u001b[0m\u001b[0;34m[\u001b[0m\u001b[0mx_array\u001b[0m\u001b[0;34m[\u001b[0m\u001b[0;36m1\u001b[0m\u001b[0;34m]\u001b[0m\u001b[0;34m-\u001b[0m\u001b[0mx_array\u001b[0m\u001b[0;34m[\u001b[0m\u001b[0;36m0\u001b[0m\u001b[0;34m]\u001b[0m\u001b[0;34m,\u001b[0m\u001b[0my_array\u001b[0m\u001b[0;34m[\u001b[0m\u001b[0;36m1\u001b[0m\u001b[0;34m]\u001b[0m\u001b[0;34m-\u001b[0m\u001b[0my_array\u001b[0m\u001b[0;34m[\u001b[0m\u001b[0;36m0\u001b[0m\u001b[0;34m]\u001b[0m\u001b[0;34m,\u001b[0m\u001b[0;36m0\u001b[0m\u001b[0;34m]\u001b[0m\u001b[0;34m)\u001b[0m\u001b[0;34m+\u001b[0m\u001b[0mnp\u001b[0m\u001b[0;34m.\u001b[0m\u001b[0mdot\u001b[0m\u001b[0;34m(\u001b[0m\u001b[0mbnewZH2\u001b[0m\u001b[0;34m,\u001b[0m\u001b[0;34m[\u001b[0m\u001b[0mx_array\u001b[0m\u001b[0;34m[\u001b[0m\u001b[0;36m2\u001b[0m\u001b[0;34m]\u001b[0m\u001b[0;34m-\u001b[0m\u001b[0mx_array\u001b[0m\u001b[0;34m[\u001b[0m\u001b[0;36m1\u001b[0m\u001b[0;34m]\u001b[0m\u001b[0;34m,\u001b[0m\u001b[0my_array\u001b[0m\u001b[0;34m[\u001b[0m\u001b[0;36m2\u001b[0m\u001b[0;34m]\u001b[0m\u001b[0;34m-\u001b[0m\u001b[0my_array\u001b[0m\u001b[0;34m[\u001b[0m\u001b[0;36m1\u001b[0m\u001b[0;34m]\u001b[0m\u001b[0;34m,\u001b[0m\u001b[0;36m0\u001b[0m\u001b[0;34m]\u001b[0m\u001b[0;34m)\u001b[0m\u001b[0;34m\u001b[0m\u001b[0;34m\u001b[0m\u001b[0m\n\u001b[1;32m      3\u001b[0m \u001b[0mprint\u001b[0m\u001b[0;34m(\u001b[0m\u001b[0mdelP\u001b[0m\u001b[0;34m)\u001b[0m\u001b[0;34m\u001b[0m\u001b[0;34m\u001b[0m\u001b[0m\n\u001b[1;32m      4\u001b[0m \u001b[0mprint\u001b[0m\u001b[0;34m(\u001b[0m\u001b[0mdelP2\u001b[0m\u001b[0;34m)\u001b[0m\u001b[0;34m\u001b[0m\u001b[0;34m\u001b[0m\u001b[0m\n",
      "\u001b[0;31mNameError\u001b[0m: name 'anewZH2' is not defined"
     ]
    }
   ],
   "source": [
    "delP=np.dot(newZH2,[x_array[1]-x_array[0],y_array[1]-y_array[0],0])+np.dot(anewZH2,[x_array[2]-x_array[1],y_array[2]-y_array[1],0])\n",
    "delP2=np.dot(anewZH2,[x_array[1]-x_array[0],y_array[1]-y_array[0],0])+np.dot(bnewZH2,[x_array[2]-x_array[1],y_array[2]-y_array[1],0])\n",
    "print(delP)\n",
    "print(delP2)"
   ]
  },
  {
   "cell_type": "code",
   "execution_count": 68,
   "metadata": {},
   "outputs": [
    {
     "name": "stdout",
     "output_type": "stream",
     "text": [
      "polarization vector = [ 3.59247179e-01  2.89648155e-01 -2.00000000e-06]\n",
      "dipole moment =  2.215012892540141   [D]\n"
     ]
    }
   ],
   "source": [
    "# water_80\n",
    "#WCの座標（単位はAngstrom）\n",
    "WF1=np.array([-0.094697, -0.078645,  0.285048])\n",
    "WF2=np.array([0.522090, -0.030953, -0.000002 ])\n",
    "WF3=np.array([0.056493,  0.520710, -0.000002])\n",
    "WF4=np.array([-0.094701, -0.078649, -0.285043 ])\n",
    "\n",
    "#H2の座標\n",
    "H2=np.array([x_array[0],y_array[0],0])\n",
    "O=np.array([0.00,0.00,0.00])\n",
    "H1=np.array([0.9693,0.00,0.00])\n",
    "\n",
    "# 双極子モーメントベクトルの計算\n",
    "polarization1=-2*(WF1+WF2+WF3+WF4)+6*O+(H1+H2)\n",
    "print(\"polarization vector =\", polarization1)\n",
    "\n",
    "# 双極子モーメントの大きさの計算．現在の単位はAngstrom*1(e)となっている．\n",
    "# 単位を合わせる．（単位がデバイになる．）\n",
    "dipole1=np.linalg.norm(polarization1)*4.79990626955\n",
    "print(\"dipole moment = \", dipole1, \"  [D]\" )"
   ]
  },
  {
   "cell_type": "code",
   "execution_count": 70,
   "metadata": {},
   "outputs": [
    {
     "name": "stdout",
     "output_type": "stream",
     "text": [
      "polarization vector = [0.30706 0.30706 0.     ]\n",
      "dipole moment =  2.0843516967194695   [D]\n"
     ]
    }
   ],
   "source": [
    "# water_90\n",
    "#WCの座標（単位はAngstrom）\n",
    "WF1=np.array([-0.010585,  0.526317, -0.000000])\n",
    "WF2=np.array([0.526317, -0.010585, -0.000000 ])\n",
    "WF3=np.array([-0.092306, -0.092306,  0.283980 ])\n",
    "WF4=np.array([-0.092306, -0.092306, -0.283980 ])\n",
    "\n",
    "#H2の座標\n",
    "H2=np.array([x_array[1],y_array[1], 0])\n",
    "\n",
    "# 双極子モーメントベクトルの計算\n",
    "polarization2=-2*(WF1+WF2+WF3+WF4)+6*O+(H1+H2)\n",
    "print(\"polarization vector =\", polarization2)\n",
    "\n",
    "# 双極子モーメントの大きさの計算．現在の単位はAngstrom*1(e)となっている．\n",
    "# 単位を合わせる．（単位がデバイになる．）\n",
    "dipole2=np.linalg.norm(polarization2)*4.79990626955\n",
    "print(\"dipole moment = \", dipole2, \"  [D]\" )"
   ]
  },
  {
   "cell_type": "code",
   "execution_count": 71,
   "metadata": {},
   "outputs": [
    {
     "name": "stdout",
     "output_type": "stream",
     "text": [
      "polarization vector = [2.55690821e-01 3.16060155e-01 1.00000000e-05]\n",
      "dipole moment =  1.9513364574925822   [D]\n"
     ]
    }
   ],
   "source": [
    "# water_100\n",
    "WF1=np.array([0.526634,  0.010402,  0.000022])\n",
    "WF2=np.array([-0.078222,  0.520049,  0.000023 ])\n",
    "WF3=np.array([-0.087862, -0.105571, -0.280392])\n",
    "WF4=np.array([-0.087904, -0.105623,  0.280342 ])\n",
    "\n",
    "\n",
    "#H2の座標\n",
    "H2=np.array([x_array[2],y_array[2], 0])\n",
    "\n",
    "# 双極子モーメントベクトルの計算\n",
    "polarization3=-2*(WF1+WF2+WF3+WF4)+6*O+(H1+H2)\n",
    "print(\"polarization vector =\", polarization3)\n",
    "\n",
    "# 双極子モーメントの大きさの計算．現在の単位はAngstrom*1(e)となっている．\n",
    "# 単位を合わせる．（単位がデバイになる．）\n",
    "dipole3=np.linalg.norm(polarization3)*4.79990626955\n",
    "print(\"dipole moment = \", dipole3, \"  [D]\" )"
   ]
  },
  {
   "cell_type": "code",
   "execution_count": 76,
   "metadata": {},
   "outputs": [
    {
     "name": "stdout",
     "output_type": "stream",
     "text": [
      "[-5.21871786e-02  1.74118450e-02  2.00000000e-06]\n"
     ]
    },
    {
     "ename": "NameError",
     "evalue": "name 'delP' is not defined",
     "output_type": "error",
     "traceback": [
      "\u001b[0;31m---------------------------------------------------------------------------\u001b[0m",
      "\u001b[0;31mNameError\u001b[0m                                 Traceback (most recent call last)",
      "\u001b[0;32m<ipython-input-76-da9c5af2e60a>\u001b[0m in \u001b[0;36m<module>\u001b[0;34m\u001b[0m\n\u001b[1;32m      1\u001b[0m \u001b[0mprint\u001b[0m\u001b[0;34m(\u001b[0m\u001b[0mpolarization2\u001b[0m\u001b[0;34m-\u001b[0m\u001b[0mpolarization1\u001b[0m\u001b[0;34m)\u001b[0m\u001b[0;34m\u001b[0m\u001b[0;34m\u001b[0m\u001b[0m\n\u001b[0;32m----> 2\u001b[0;31m \u001b[0mprint\u001b[0m\u001b[0;34m(\u001b[0m\u001b[0mdelP\u001b[0m\u001b[0;34m)\u001b[0m\u001b[0;34m\u001b[0m\u001b[0;34m\u001b[0m\u001b[0m\n\u001b[0m\u001b[1;32m      3\u001b[0m \u001b[0mprint\u001b[0m\u001b[0;34m(\u001b[0m\u001b[0mdelP2\u001b[0m\u001b[0;34m)\u001b[0m\u001b[0;34m\u001b[0m\u001b[0;34m\u001b[0m\u001b[0m\n",
      "\u001b[0;31mNameError\u001b[0m: name 'delP' is not defined"
     ]
    }
   ],
   "source": [
    "print(polarization2-polarization1)\n",
    "print(delP)\n",
    "print(delP2)"
   ]
  },
  {
   "cell_type": "code",
   "execution_count": 75,
   "metadata": {},
   "outputs": [
    {
     "name": "stdout",
     "output_type": "stream",
     "text": [
      "[-1.03556357e-01  2.64120000e-02  1.20000000e-05]\n"
     ]
    }
   ],
   "source": [
    "#100度-80度\n",
    "print(polarization3-polarization1)"
   ]
  },
  {
   "cell_type": "markdown",
   "metadata": {},
   "source": [
    "# pol2のデータ（1度ずつ変化させたH2O）のBEC解析\n",
    "\n",
    "- ASR補正\n",
    "- 座標取得\n",
    "- 双極子モーメント計算"
   ]
  },
  {
   "cell_type": "code",
   "execution_count": 73,
   "metadata": {},
   "outputs": [
    {
     "name": "stdout",
     "output_type": "stream",
     "text": [
      "[0.16831718 0.95457415 0.        ]\n"
     ]
    }
   ],
   "source": [
    "# まず，座標のリストを取得する\n",
    "z_list=np.zeros((3,21))\n",
    "for i in range(80,101):\n",
    "    z_list[0,i-80]=distance*np.cos(i*np.pi/180)\n",
    "    z_list[1,i-80]=distance*np.sin(i*np.pi/180)\n",
    "\n",
    "# ベクトルの取り出し方\n",
    "print(z_list[:,0])"
   ]
  },
  {
   "cell_type": "code",
   "execution_count": 78,
   "metadata": {},
   "outputs": [
    {
     "name": "stdout",
     "output_type": "stream",
     "text": [
      "-0.16831717861255555\n",
      "0.9545741549947333\n"
     ]
    }
   ],
   "source": [
    "print(distance*np.cos(100*np.pi/180))\n",
    "print(distance*np.sin(100*np.pi/180))"
   ]
  },
  {
   "cell_type": "code",
   "execution_count": 74,
   "metadata": {},
   "outputs": [
    {
     "name": "stdout",
     "output_type": "stream",
     "text": [
      "81 [-5.06146137e-03  1.54455041e-03 -1.20542189e-07]\n",
      "82 [-1.01494908e-02  3.02152088e-03 -2.40420226e-07]\n",
      "83 [-1.52571576e-02  4.42930116e-03 -2.40420226e-07]\n",
      "84 [-2.03859147e-02  5.76798602e-03 -2.34036598e-07]\n",
      "85 [-2.55370624e-02  7.03589515e-03 -2.34036598e-07]\n",
      "86 [-3.07074845e-02  8.23276285e-03 -2.34036598e-07]\n",
      "87 [-3.58953299e-02  9.35720936e-03 -2.34036598e-07]\n",
      "88 [-4.10995909e-02  1.04085894e-02 -2.34036598e-07]\n",
      "89 [-4.63199247e-02  1.13855392e-02 -3.48255836e-07]\n",
      "90 [-5.15534817e-02  1.22872214e-02 -4.61525383e-07]\n",
      "91 [-5.68019298e-02  1.31129550e-02 -4.61525383e-07]\n",
      "92 [-6.2063539e-02  1.3860922e-02 -5.7279234e-07]\n",
      "93 [-6.73364535e-02  1.45304100e-02 -5.72792340e-07]\n",
      "94 [-7.26177495e-02  1.51199920e-02 -6.81921143e-07]\n",
      "95 [-7.79075770e-02  1.56288579e-02 -6.81921143e-07]\n",
      "96 [-8.32078202e-02  1.60553211e-02 -6.81921143e-07]\n",
      "97 [-8.85134520e-02  1.63987606e-02 -7.25182271e-07]\n",
      "98 [-9.38215918e-02  1.66577585e-02 -7.25182271e-07]\n",
      "99 [-9.91365028e-02  1.68307125e-02 -7.25182271e-07]\n",
      "100 [-1.04453906e-01  1.69168644e-02 -8.27110104e-07]\n"
     ]
    }
   ],
   "source": [
    "## 双極子モーメントの計算\n",
    "\n",
    "# 初期化\n",
    "pol=0\n",
    "\n",
    "# ゼロベクトル\n",
    "zero=np.zeros(3)\n",
    "\n",
    "# \n",
    "for i in range(81,101):\n",
    "    # 有効電荷の取得 \n",
    "    ZO=np.loadtxt(\"./pol2/result2/bec_O_{}.txt\".format(i))\n",
    "    ZH1=np.loadtxt(\"./pol2/result2/bec_H1_{}.txt\".format(i))\n",
    "    ZH2=np.loadtxt(\"./pol2/result2/bec_H2_{}.txt\".format(i))\n",
    "    \n",
    "    #  座標の差*BECで更新していく．（ASR適用すみ）\n",
    "    pol+=polarization_BEC(ZO,ZH1,ZH2, zero, zero, z_list[:,i- 80]-z_list[:,i-81])\n",
    "\n",
    "    print(i, pol)\n"
   ]
  },
  {
   "cell_type": "markdown",
   "metadata": {},
   "source": [
    "# 結果の解析\n",
    "\n",
    "## BECによる方法\n",
    "80-90：：[-5.15534817e-02  1.22872214e-02 -4.61525383e-07]\n",
    "80-100：：[-1.04453906e-01  1.69168644e-02 -8.27110104e-07]\n",
    "\n",
    "## wannierによる方法\n",
    "80-90：：[-5.21871786e-02  1.74118450e-02  2.00000000e-06]\n",
    "80-100：：[-1.03556357e-01  2.64120000e-02  1.20000000e-05]"
   ]
  },
  {
   "cell_type": "code",
   "execution_count": 73,
   "metadata": {},
   "outputs": [
    {
     "name": "stdout",
     "output_type": "stream",
     "text": [
      "[[-3.33900000e-02  7.40000000e-04  0.00000000e+00]\n",
      " [ 4.23333333e-04 -3.16233333e-02  0.00000000e+00]\n",
      " [ 6.66666667e-06  3.33333333e-06 -5.49466667e-02]]\n"
     ]
    }
   ],
   "source": []
  },
  {
   "cell_type": "markdown",
   "metadata": {},
   "source": [
    "# BECのK点メッシュ依存性h2o_polarization/bec_zue_asrたち\n",
    "\n",
    "# ASRをちゃんと課すため，"
   ]
  },
  {
   "cell_type": "markdown",
   "metadata": {},
   "source": [
    "# 水のMD計算の結果のBECを書き出す．\n",
    "\n",
    "- 座標のリストはwork5/h2o_MD_座標計算と同じ方法で取得可能\n",
    "- 座標の取得と双極子モーメントの計算は上の（ほぼ）コピペで行ける．"
   ]
  },
  {
   "cell_type": "code",
   "execution_count": 56,
   "metadata": {
    "scrolled": true
   },
   "outputs": [
    {
     "name": "stdout",
     "output_type": "stream",
     "text": [
      "[[ 9.90000000e-03  9.90000000e-03  0.00000000e+00]\n",
      " [ 1.82896845e+00 -2.24652669e-01  2.92522173e-03]\n",
      " [-2.23534394e-01  1.83033378e+00  6.98697185e-04]\n",
      " [ 9.90000000e-03  9.90000000e-03  0.00000000e+00]\n",
      " [ 1.82605464e+00 -2.24278426e-01  6.18214549e-03]\n",
      " [-2.22903058e-01  1.82714531e+00  1.12768217e-03]\n",
      " [ 9.90000000e-03  9.90000000e-03  0.00000000e+00]\n",
      " [ 1.83004965e+00 -2.23068650e-01  4.03081698e-03]\n",
      " [-2.22467650e-01  1.82646432e+00  1.54234565e-03]\n",
      " [ 9.90000000e-03  9.90000000e-03  0.00000000e+00]\n",
      " [ 1.82989765e+00 -2.22664084e-01  2.47327874e-03]\n",
      " [-2.21480217e-01  1.82556166e+00  1.55015138e-03]\n",
      " [ 9.90000000e-03  9.90000000e-03  0.00000000e+00]\n",
      " [ 1.82512200e+00 -2.22402873e-01  6.42737059e-03]\n",
      " [-2.20884316e-01  1.82414644e+00  1.01918162e-03]\n",
      " [ 9.90000000e-03  9.90000000e-03  0.00000000e+00]\n",
      " [ 1.82891419e+00 -2.22361645e-01  1.01984146e-02]\n",
      " [-2.21249473e-01  1.82797176e+00  2.29160718e-03]\n",
      " [ 9.90000000e-03  9.90000000e-03  0.00000000e+00]\n",
      " [ 1.83280292e+00 -2.22206815e-01  8.84597327e-03]\n",
      " [-2.21305104e-01  1.83150102e+00  3.30275897e-03]\n",
      " [ 9.90000000e-03  9.90000000e-03  0.00000000e+00]\n",
      " [ 1.82861905e+00 -2.22287942e-01  7.81445806e-03]\n",
      " [-2.20378115e-01  1.83166258e+00  2.00488665e-03]\n",
      " [ 9.90000000e-03  9.90000000e-03  0.00000000e+00]\n",
      " [ 1.82823418e+00 -2.22945800e-01  1.17114099e-02]\n",
      " [-2.20515718e-01  1.83141769e+00  1.41603939e-03]\n",
      " [ 9.90000000e-03  9.90000000e-03  0.00000000e+00]\n",
      " [ 1.83203330e+00 -2.22734461e-01  1.46276738e-02]\n",
      " [-2.20170650e-01  1.83003919e+00  3.44801172e-03]\n",
      " [ 9.90000000e-03  9.90000000e-03  0.00000000e+00]\n",
      " [ 1.82881728e+00 -2.22687681e-01  1.21069338e-02]\n",
      " [-2.18721076e-01  1.82744830e+00  4.31703748e-03]\n",
      " [ 9.90000000e-03  9.90000000e-03  0.00000000e+00]\n",
      " [ 1.82513665e+00 -2.23419597e-01  1.01606721e-02]\n",
      " [-2.18498370e-01  1.82531229e+00  1.80111610e-03]\n",
      " [ 9.90000000e-03  9.90000000e-03  0.00000000e+00]\n",
      " [ 1.82839152e+00 -2.24152968e-01  1.33934409e-02]\n",
      " [-2.19269185e-01  1.82490219e+00  1.39004024e-03]\n",
      " [ 9.90000000e-03  9.90000000e-03  0.00000000e+00]\n",
      " [ 1.82963437e+00 -2.24793554e-01  1.43666646e-02]\n",
      " [-2.19354163e-01  1.82824397e+00  3.31415005e-03]\n",
      " [ 9.90000000e-03  9.90000000e-03  0.00000000e+00]\n",
      " [ 1.82643376e+00 -2.25424688e-01  1.06522488e-02]\n",
      " [-2.19494389e-01  1.83050945e+00  3.78995232e-03]\n",
      " [ 9.90000000e-03  9.90000000e-03  0.00000000e+00]\n",
      " [ 1.82850683e+00 -2.26804892e-01  9.40052143e-03]\n",
      " [-2.20636080e-01  1.83129370e+00  1.71233858e-03]\n",
      " [ 9.90000000e-03  9.90000000e-03  0.00000000e+00]\n",
      " [ 1.83131514e+00 -2.27343476e-01  1.09094136e-02]\n",
      " [-2.21065797e-01  1.83268007e+00  4.30138983e-04]\n",
      " [ 9.90000000e-03  9.90000000e-03  0.00000000e+00]\n",
      " [ 1.82758462e+00 -2.26533198e-01  1.07090485e-02]\n",
      " [-2.19712513e-01  1.83114384e+00  3.81433249e-03]\n",
      " [ 9.90000000e-03  9.90000000e-03  0.00000000e+00]\n",
      " [ 1.82664988e+00 -2.27415384e-01  7.93673246e-03]\n",
      " [-2.19226970e-01  1.82817832e+00  4.61744241e-03]\n",
      " [ 9.90000000e-03  9.90000000e-03  0.00000000e+00]\n",
      " [ 1.82875895e+00 -2.27555943e-01  6.20607245e-03]\n",
      " [-2.19850251e-01  1.82633082e+00  7.60522366e-04]\n",
      " [ 9.90000000e-03  9.90000000e-03  0.00000000e+00]\n",
      " [ 1.82666593e+00 -2.26618084e-01  7.98021472e-03]\n",
      " [-2.18531357e-01  1.82586705e+00  9.77482431e-04]\n",
      " [ 9.90000000e-03  9.90000000e-03  0.00000000e+00]\n",
      " [ 1.82573019e+00 -2.27313876e-01  8.27298133e-03]\n",
      " [-2.17563341e-01  1.82782140e+00  4.41756761e-03]\n",
      " [ 9.90000000e-03  9.90000000e-03  0.00000000e+00]\n",
      " [ 1.82883118e+00 -2.27800492e-01  5.71445211e-03]\n",
      " [-2.19182048e-01  1.83012118e+00  4.39195110e-03]\n",
      " [ 9.90000000e-03  9.90000000e-03  0.00000000e+00]\n",
      " [ 1.82895176e+00 -2.27651992e-01  5.74201770e-03]\n",
      " [-2.18591554e-01  1.83116897e+00  1.30260000e-03]\n",
      " [ 9.90000000e-03  9.90000000e-03  0.00000000e+00]\n",
      " [ 1.82727848e+00 -2.27279239e-01  7.19694885e-03]\n",
      " [-2.16562757e-01  1.83304224e+00  1.66093679e-03]\n",
      " [ 9.90000000e-03  9.90000000e-03  0.00000000e+00]\n",
      " [ 1.82892285e+00 -2.27240245e-01  7.00931366e-03]\n",
      " [-2.17042966e-01  1.83271937e+00  5.00999207e-03]\n",
      " [ 9.90000000e-03  9.90000000e-03  0.00000000e+00]\n",
      " [ 1.82878134e+00 -2.27344100e-01  6.31906942e-03]\n",
      " [-2.16499852e-01  1.82886087e+00  4.53978357e-03]\n",
      " [ 9.90000000e-03  9.90000000e-03  0.00000000e+00]\n",
      " [ 1.82576958e+00 -2.26053815e-01  6.75685515e-03]\n",
      " [-2.14294979e-01  1.82711295e+00  7.08754387e-04]\n",
      " [ 9.90000000e-03  9.90000000e-03  0.00000000e+00]\n",
      " [ 1.82650648e+00 -2.26228431e-01  7.42911190e-03]\n",
      " [-2.14202323e-01  1.82852320e+00 -2.80210375e-04]\n",
      " [ 9.90000000e-03  9.90000000e-03  0.00000000e+00]\n",
      " [ 1.82838920e+00 -2.27092738e-01  8.00453150e-03]\n",
      " [-2.15412375e-01  1.82831198e+00  3.25434483e-03]]\n"
     ]
    }
   ],
   "source": [
    "# まず，座標のリストを取得する\n",
    "# ファイルを読み込み．\n",
    "zahixyou=np.loadtxt(\"h2o_mol2.pos\")\n",
    "print(zahixyou)"
   ]
  },
  {
   "cell_type": "code",
   "execution_count": 89,
   "metadata": {},
   "outputs": [
    {
     "name": "stdout",
     "output_type": "stream",
     "text": [
      "(array([-0.52742665, -0.37252335, -0.68518   ]), array([[-7.90292447e-01, -6.09459451e-01,  1.67547820e-04],\n",
      "       [ 6.12729833e-01, -7.92817241e-01,  1.85989658e-04],\n",
      "       [ 0.00000000e+00,  0.00000000e+00,  9.99999969e-01]]))\n"
     ]
    }
   ],
   "source": [
    "test=np.array([[-0.46958,0.07461,-0.00005] ,\n",
    "[0.07525,-0.43037,-0.00006],\n",
    "[0.00000,0.00000,-0.68518]] )\n",
    "\n",
    "eig = np.linalg.eig(test)\n",
    "print(eig)"
   ]
  },
  {
   "cell_type": "code",
   "execution_count": 86,
   "metadata": {},
   "outputs": [
    {
     "name": "stdout",
     "output_type": "stream",
     "text": [
      "1 0.0027088744790604597\n",
      "2 0.0033410674937740005\n",
      "3 0.003625918724382977\n",
      "4 0.0042063138606599874\n",
      "5 0.007184045113053354\n",
      "6 0.00713586094834175\n",
      "7 0.0059967804938986305\n",
      "8 0.007776724740649328\n",
      "9 0.011129521947752763\n",
      "10 0.010336379846641014\n",
      "11 0.007461439516532239\n",
      "12 0.008652430700936483\n",
      "13 0.010630795535142797\n",
      "14 0.009092774214849017\n",
      "15 0.006555090532945946\n",
      "16 0.006386787752972825\n",
      "17 0.009111907544440216\n",
      "18 0.007797632802766031\n",
      "19 0.003314187956901651\n",
      "20 0.005354214656870301\n",
      "21 0.008782593453809254\n",
      "22 0.00650378399180497\n",
      "23 0.005825967459103531\n",
      "24 0.00903901374573332\n",
      "25 0.009289613635667122\n",
      "26 0.007942977257072896\n",
      "27 0.008616526978962058\n",
      "28 0.008875129954456263\n",
      "29 0.008753341845314783\n"
     ]
    }
   ],
   "source": [
    "## 双極子モーメントの計算\n",
    "\n",
    "# polの保存．\n",
    "pol_list=np.zeros([30,3])\n",
    "\n",
    "# 初期化\n",
    "pol=0\n",
    "\n",
    "# range(a,b)はaからb-1まで．\n",
    "# BECの場合は一つ減らしておく．\n",
    "for i in range(0,29):\n",
    "    # 有効電荷の取得 \n",
    "    ZO=np.loadtxt(\"./pol2/result_bec/bec_O_{}.txt\".format(i))\n",
    "    ZH1=np.loadtxt(\"./pol2/result_bec/bec_H1_{}.txt\".format(i))\n",
    "    ZH2=np.loadtxt(\"./pol2/result_bec/bec_H2_{}.txt\".format(i))\n",
    "    \n",
    "    #  座標の差*BECで更新していく．\n",
    "    pol+=polarization_BEC(ZO,ZH1, ZH2, zahixyou[3*i+3]-zahixyou[3*i], zahixyou[3*i+4]-zahixyou[3*i+1], zahixyou[3*i+5]-zahixyou[3*i+2])\n",
    "    #pol+=polarization_BEC(ZO,ZH1, ZH2, zahixyou[3*i]-zahixyou[3*i-3], zahixyou[3*i+1]-zahixyou[3*i-2], zahixyou[3*i+2]-zahixyou[3*i-1])\n",
    "\n",
    "    pol_list[i]=pol\n",
    "    print(i+1,np.linalg.norm(pol)*4.79990626955)\n"
   ]
  },
  {
   "cell_type": "markdown",
   "metadata": {},
   "source": [
    "# 水のMD計算の結果のwannierを書き出す．\n",
    "\n",
    "- 座標のリストはwork5/h2o_MD_座標計算と同じ方法で取得可能→ 上のを流用する．\n",
    "- 座標の取得と双極子モーメントの計算は上の（ほぼ）コピペで行ける．"
   ]
  },
  {
   "cell_type": "code",
   "execution_count": null,
   "metadata": {
    "scrolled": true
   },
   "outputs": [],
   "source": []
  },
  {
   "cell_type": "code",
   "execution_count": 84,
   "metadata": {},
   "outputs": [
    {
     "name": "stdout",
     "output_type": "stream",
     "text": [
      "0 [0.34523006 0.34515111 0.00084792]\n",
      "1 [0.34447358 0.34434088 0.00171183]\n",
      "2 [0.345112   0.34466367 0.00130316]\n",
      "3 [0.34523944 0.34456158 0.00093743]\n",
      "4 [0.34450969 0.34428957 0.00174255]\n",
      "5 [0.34534072 0.34501012 0.00291802]\n",
      "6 [0.34581982 0.3454982  0.00283073]\n",
      "7 [0.34545894 0.34540864 0.00229134]\n",
      "8 [0.34527246 0.34520789 0.00306545]\n",
      "9 [0.34590665 0.34534073 0.00421369]\n",
      "10 [0.3458262  0.34495261 0.00383597]\n",
      "11 [0.34509628 0.34412869 0.00279779]\n",
      "12 [0.34549433 0.34405522 0.00345348]\n",
      "13 [0.34555821 0.34450241 0.00412881]\n",
      "14 [0.35177937 0.38870476 0.0033442 ]\n",
      "15 [0.34529075 0.3446288  0.00259686]\n",
      "16 [0.34548334 0.34452659 0.00264555]\n",
      "17 [0.34535211 0.34438464 0.00338938]\n",
      "18 [0.34513491 0.34383294 0.00293417]\n",
      "19 [0.3452887  0.34364088 0.00162659]\n",
      "20 [0.34528658 0.34356297 0.0020897 ]\n",
      "21 [0.34524885 0.34372153 0.00296455]\n",
      "22 [0.34552913 0.34412669 0.0023584 ]\n",
      "23 [0.3457622  0.34437098 0.00164462]\n",
      "24 [0.34623972 0.344659   0.00206989]\n",
      "25 [0.34602788 0.34462312 0.00280331]\n",
      "26 [0.34616549 0.34423677 0.00253685]\n",
      "27 [0.3462106  0.34427513 0.00174561]\n",
      "28 [0.34621815 0.34427277 0.0016709 ]\n",
      "29 [0.34618082 0.34415324 0.00263088]\n",
      "#######################\n",
      "# pol[0]との差を計算\n",
      "0 0.0\n",
      "1 0.006745655084230305\n",
      "2 0.0032511485190228145\n",
      "3 0.0028624971218528155\n",
      "4 0.006891767346309583\n",
      "5 0.009973472883176045\n",
      "6 0.010068180916009143\n",
      "7 0.0071229421207080045\n",
      "8 0.010649370898351152\n",
      "9 0.01650365770729423\n",
      "10 0.014656029775299752\n",
      "11 0.0105872795881248\n",
      "12 0.013626796225096051\n",
      "13 0.016129944687555776\n",
      "14 0.21174307349682467\n",
      "15 0.0087659505522009\n",
      "16 0.009214897315960563\n",
      "17 0.012754927501387354\n",
      "18 0.01185401015966389\n",
      "19 0.00816065740322519\n",
      "20 0.009680347103866406\n",
      "21 0.012260151662751169\n",
      "22 0.008877159132362452\n",
      "23 0.005930366632115561\n",
      "24 0.007966674183364986\n",
      "25 0.010448846086672507\n",
      "26 0.010253788832417586\n",
      "27 0.007641712759247031\n",
      "28 0.007474776435043284\n",
      "29 0.010816983467378163\n"
     ]
    }
   ],
   "source": [
    "#polデータの配列\n",
    "\n",
    "# polの保存．\n",
    "pol_wan_list=np.zeros([30,3])\n",
    "\n",
    "# range(a,b)はaからb-1まで．\n",
    "for i in range(0,30):\n",
    "    \n",
    "    #O，Hの座標\n",
    "    O=zahixyou[3*i]\n",
    "    H1=zahixyou[3*i+1]\n",
    "    H2=zahixyou[3*i+2]\n",
    "\n",
    "    #ファイルから読み込み\n",
    "    WCs=np.loadtxt(\"./pol2/result_wan/wan2_{}.txt\".format(i))\n",
    "    \n",
    "    # 4つのWannierCenterの取得 \n",
    "    WC1=WCs[0]\n",
    "    WC2=WCs[1]\n",
    "    WC3=WCs[2]\n",
    "    WC4=WCs[3]\n",
    "\n",
    "    # 双極子モーメントを計算\n",
    "    pol_wan= polarization_WF(WC1,WC2,WC3,WC4,O,H1,H2)\n",
    "    print(i, pol_wan)\n",
    "    pol_wan_list[i]=pol_wan\n",
    "    #print(i, pol_wan)\n",
    "\n",
    "\n",
    "print(\"#######################\")\n",
    "print(\"# pol[0]との差を計算\")\n",
    "for i in range(0,30):\n",
    "    print(i, np.linalg.norm(pol_wan_list[i]-pol_wan_list[0])*4.79990626955)"
   ]
  },
  {
   "cell_type": "markdown",
   "metadata": {},
   "source": [
    "# BECとwannierの結果の比較．"
   ]
  },
  {
   "cell_type": "code",
   "execution_count": 95,
   "metadata": {},
   "outputs": [
    {
     "name": "stdout",
     "output_type": "stream",
     "text": [
      "[0.027838 0.018728 0.006862]\n",
      "0.16437694228797617\n"
     ]
    }
   ],
   "source": [
    "WF1=np.array([-0.316204, -0.000219, -0.004067])\n",
    "WF2=np.array([ 0.447678,  0.076490,  0.048498])\n",
    "WF3=np.array([1.531495,  0.000154,  0.000834])\n",
    "WF4=np.array([0.307460, -0.095170, -0.020987 ])\n",
    "WF5=np.array([0.295652,  0.009381, -0.027709])\n",
    "\n",
    "C=np.array([1.14, 0, 0])\n",
    "O=np.array([0, 0, 0])\n",
    "\n",
    "polarization=-2*(WF1+WF2+WF3+WF4+WF5)+6*O+4*C\n",
    "print(polarization)\n",
    "d_test=np.linalg.norm(polarization)*4.79990626955\n",
    "print(d_test)"
   ]
  },
  {
   "cell_type": "markdown",
   "metadata": {},
   "source": [
    "実験値は0.112 Dらしいので，なんか全然会ってないね．"
   ]
  },
  {
   "cell_type": "code",
   "execution_count": 101,
   "metadata": {},
   "outputs": [
    {
     "name": "stdout",
     "output_type": "stream",
     "text": [
      "[-0.7223496  0.         0.       ]\n",
      "3.4672103738469344\n"
     ]
    }
   ],
   "source": [
    "ZO=np.array(\n",
    "[[0.63364,        0.00000 ,      -0.00000],\n",
    " [0.00000 ,       -0.01822  ,     -0.00000],\n",
    " [0.00000  ,      0.00000   ,     -0.01821]]\n",
    ")\n",
    "\n",
    "ZC=np.array(\n",
    "[[-0.63364 ,      -0.00000   ,     0.00000],\n",
    " [-0.00000  ,      0.01822     ,    0.00000],\n",
    " [-0.00000   ,    -0.00000     ,  0.01821]]\n",
    ")\n",
    "\n",
    "P=np.dot(ZO,O)+np.dot(ZC,C)\n",
    "print(P)\n",
    "print(np.linalg.norm(P)*4.79990626955)"
   ]
  },
  {
   "cell_type": "code",
   "execution_count": 97,
   "metadata": {},
   "outputs": [
    {
     "name": "stdout",
     "output_type": "stream",
     "text": [
      "0.020759399999999997\n"
     ]
    }
   ],
   "source": [
    "print(1.14*0.01821)"
   ]
  },
  {
   "cell_type": "code",
   "execution_count": 102,
   "metadata": {},
   "outputs": [
    {
     "name": "stdout",
     "output_type": "stream",
     "text": [
      "[-1.14  0.    0.  ]\n",
      "5.471893147287\n"
     ]
    }
   ],
   "source": [
    "polarization=O-C\n",
    "print(polarization)\n",
    "d_test=np.linalg.norm(polarization)*4.79990626955\n",
    "print(d_test)"
   ]
  },
  {
   "cell_type": "code",
   "execution_count": null,
   "metadata": {},
   "outputs": [],
   "source": []
  }
 ],
 "metadata": {
  "kernelspec": {
   "display_name": "Python 3 (ipykernel)",
   "language": "python",
   "name": "python3"
  },
  "language_info": {
   "codemirror_mode": {
    "name": "ipython",
    "version": 3
   },
   "file_extension": ".py",
   "mimetype": "text/x-python",
   "name": "python",
   "nbconvert_exporter": "python",
   "pygments_lexer": "ipython3",
   "version": "3.9.2"
  }
 },
 "nbformat": 4,
 "nbformat_minor": 2
}
