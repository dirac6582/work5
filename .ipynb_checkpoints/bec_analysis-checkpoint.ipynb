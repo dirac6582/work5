{
 "cells": [
  {
   "cell_type": "code",
   "execution_count": 1,
   "metadata": {},
   "outputs": [],
   "source": [
    "# \n",
    "\n",
    "import numpy as np"
   ]
  },
  {
   "cell_type": "code",
   "execution_count": 2,
   "metadata": {},
   "outputs": [
    {
     "name": "stdout",
     "output_type": "stream",
     "text": [
      "[[ 3.4017e-01  6.3170e-02  0.0000e+00]\n",
      " [ 6.7450e-02 -5.8144e-01  0.0000e+00]\n",
      " [-1.0000e-05 -0.0000e+00 -5.9689e-01]\n",
      " [-1.7098e-01 -2.2630e-01  0.0000e+00]\n",
      " [-2.8600e-03  2.1768e-01  0.0000e+00]\n",
      " [-0.0000e+00 -0.0000e+00  2.3625e-01]\n",
      " [-1.9363e-01  1.6257e-01  0.0000e+00]\n",
      " [-6.6060e-02  2.4179e-01  0.0000e+00]\n",
      " [-0.0000e+00  0.0000e+00  2.3635e-01]]\n",
      "0.34017\n"
     ]
    }
   ],
   "source": [
    "# データをファイルから読み込み．\n",
    "test=np.loadtxt(\"./water_10.0/bec2.txt\")\n",
    "print(test)\n",
    "\n",
    "#そのうち，対角成分合計3*3=9個を取り出す．\n",
    "print(test[0][0])"
   ]
  },
  {
   "cell_type": "code",
   "execution_count": 3,
   "metadata": {},
   "outputs": [
    {
     "name": "stdout",
     "output_type": "stream",
     "text": [
      "[[1. 1. 1. 1.]\n",
      " [1. 1. 1. 1.]\n",
      " [1. 1. 1. 1.]\n",
      " [1. 1. 1. 1.]\n",
      " [1. 1. 1. 1.]\n",
      " [1. 1. 1. 1.]\n",
      " [1. 1. 1. 1.]\n",
      " [1. 1. 1. 1.]\n",
      " [1. 1. 1. 1.]\n",
      " [1. 1. 1. 1.]\n",
      " [1. 1. 1. 1.]\n",
      " [1. 1. 1. 1.]\n",
      " [1. 1. 1. 1.]\n",
      " [1. 1. 1. 1.]\n",
      " [1. 1. 1. 1.]\n",
      " [1. 1. 1. 1.]\n",
      " [1. 1. 1. 1.]\n",
      " [1. 1. 1. 1.]]\n",
      "[[1. 2. 1. 1.]\n",
      " [1. 1. 1. 1.]\n",
      " [1. 1. 1. 1.]\n",
      " [1. 1. 1. 1.]\n",
      " [1. 1. 1. 1.]\n",
      " [1. 1. 1. 1.]\n",
      " [1. 1. 1. 1.]\n",
      " [1. 1. 1. 1.]\n",
      " [1. 1. 1. 1.]\n",
      " [1. 1. 1. 1.]\n",
      " [1. 1. 1. 1.]\n",
      " [1. 1. 1. 1.]\n",
      " [1. 1. 1. 1.]\n",
      " [1. 1. 1. 1.]\n",
      " [1. 1. 1. 1.]\n",
      " [1. 1. 1. 1.]\n",
      " [1. 1. 1. 1.]\n",
      " [1. 1. 1. 1.]]\n"
     ]
    }
   ],
   "source": [
    "# OとH1，H2を保存するndarrayを作成する．各18*(3+1)成分必要\n",
    "O=np.ones((18,4))\n",
    "print(O)\n",
    "O[0][1]=2.0\n",
    "print(O)\n",
    "H1=np.ones((18,4))\n",
    "H2=np.ones((18,4))\n"
   ]
  },
  {
   "cell_type": "code",
   "execution_count": 4,
   "metadata": {},
   "outputs": [
    {
     "name": "stdout",
     "output_type": "stream",
     "text": [
      "[ 10.  20.  30.  40.  50.  60.  70.  80.  90. 100. 110. 120. 130. 140.\n",
      " 150. 160. 170. 180.]\n"
     ]
    }
   ],
   "source": [
    "# 10-180までのリスト\n",
    "deg=np.linspace(10,180,18)\n",
    "print(deg)"
   ]
  },
  {
   "cell_type": "code",
   "execution_count": 5,
   "metadata": {},
   "outputs": [
    {
     "name": "stdout",
     "output_type": "stream",
     "text": [
      "./water_10.0/bec2.txt\n",
      "./water_20.0/bec2.txt\n",
      "./water_30.0/bec2.txt\n",
      "./water_40.0/bec2.txt\n",
      "./water_50.0/bec2.txt\n",
      "./water_60.0/bec2.txt\n",
      "./water_70.0/bec2.txt\n",
      "./water_80.0/bec2.txt\n",
      "./water_90.0/bec2.txt\n",
      "./water_100.0/bec2.txt\n",
      "./water_110.0/bec2.txt\n",
      "./water_120.0/bec2.txt\n",
      "./water_130.0/bec2.txt\n",
      "./water_140.0/bec2.txt\n",
      "./water_150.0/bec2.txt\n",
      "./water_160.0/bec2.txt\n",
      "./water_170.0/bec2.txt\n",
      "./water_180.0/bec2.txt\n"
     ]
    }
   ],
   "source": [
    "# 各ファイルからデータを読み込む．\n",
    "\n",
    "#カウンタ\n",
    "i=0\n",
    "\n",
    "for angle in deg:\n",
    "    #ファイル名\n",
    "    file=\"./water_{}/bec2.txt\".format(str(angle))\n",
    "    print(file)\n",
    "    \n",
    "    #ファイル読み込み\n",
    "    data=np.loadtxt(file)\n",
    "    \n",
    "    #データ抽出\n",
    "    O[i][0]=angle\n",
    "    O[i][1]=data[0][0] #Oxx\n",
    "    O[i][2]=data[1][1] #Oyy\n",
    "    O[i][3]=data[2][2] #Ozz\n",
    "\n",
    "    H1[i][0]=angle\n",
    "    H1[i][1]=data[3][0] #H1xx\n",
    "    H1[i][2]=data[4][1] #H1yy\n",
    "    H1[i][3]=data[5][2] #H1zz\n",
    "\n",
    "    H2[i][0]=angle    \n",
    "    H2[i][1]=data[6][0] #H2xx\n",
    "    H2[i][2]=data[7][1] #H2yy\n",
    "    H2[i][3]=data[8][2] #H2zz\n",
    "    \n",
    "    #カウンタ更新\n",
    "    i+=1\n"
   ]
  },
  {
   "cell_type": "code",
   "execution_count": 6,
   "metadata": {},
   "outputs": [
    {
     "name": "stdout",
     "output_type": "stream",
     "text": [
      "[[ 1.0000e+01 -1.9363e-01  2.4179e-01  2.3635e-01]\n",
      " [ 2.0000e+01 -1.2712e-01  2.4417e-01  2.5652e-01]\n",
      " [ 3.0000e+01 -1.8110e-02  2.0099e-01  2.7408e-01]\n",
      " [ 4.0000e+01  9.0770e-02  1.3787e-01  2.8525e-01]\n",
      " [ 5.0000e+01  1.7116e-01  8.4670e-02  2.9160e-01]\n",
      " [ 6.0000e+01  2.1949e-01  5.3730e-02  2.9585e-01]\n",
      " [ 7.0000e+01  2.4590e-01  4.2010e-02  3.0023e-01]\n",
      " [ 8.0000e+01  2.6199e-01  4.2950e-02  3.0573e-01]\n",
      " [ 9.0000e+01  2.7573e-01  5.1440e-02  3.1297e-01]\n",
      " [ 1.0000e+02  2.9213e-01  6.6350e-02  3.2191e-01]\n",
      " [ 1.1000e+02  3.1393e-01  8.9280e-02  3.3245e-01]\n",
      " [ 1.2000e+02  3.4232e-01  1.2299e-01  3.4438e-01]\n",
      " [ 1.3000e+02  3.7746e-01  1.6801e-01  3.5709e-01]\n",
      " [ 1.4000e+02  4.1715e-01  2.2375e-01  3.6999e-01]\n",
      " [ 1.5000e+02  4.5679e-01  2.8555e-01  3.8228e-01]\n",
      " [ 1.6000e+02  4.9017e-01  3.4390e-01  3.9272e-01]\n",
      " [ 1.7000e+02  5.1045e-01  3.8664e-01  3.9991e-01]\n",
      " [ 1.8000e+02  5.1741e-01  4.0259e-01  4.0259e-01]]\n"
     ]
    }
   ],
   "source": [
    "print(H2)"
   ]
  },
  {
   "cell_type": "code",
   "execution_count": 7,
   "metadata": {},
   "outputs": [],
   "source": [
    "# データを書き出し． \n",
    "# O_bec.txtなど3つのファイルにangle xx yy zzの形式で入れる．\n",
    "\n",
    "# Oのファイル\n",
    "np.savetxt('O_bec.txt', O, header='# angle Zxx Zyy Zzz') \n",
    "\n",
    "# H1のファイル\n",
    "np.savetxt('H1_bec.txt', H1, header='# angle Zxx Zyy Zzz') \n",
    "\n",
    "# H2のファイル\n",
    "np.savetxt('H2_bec.txt', H2, header='# angle Zxx Zyy Zzz') \n"
   ]
  },
  {
   "cell_type": "code",
   "execution_count": 24,
   "metadata": {},
   "outputs": [
    {
     "name": "stdout",
     "output_type": "stream",
     "text": [
      "-0.16831717861255555\n",
      "0.9545741549947333\n"
     ]
    }
   ],
   "source": [
    "r=0.9693\n",
    "g=104.107\n",
    "g=100\n",
    "print(r*np.cos(g/180*np.pi))\n",
    "print(r*np.sin(g/180*np.pi))"
   ]
  },
  {
   "cell_type": "code",
   "execution_count": 6,
   "metadata": {},
   "outputs": [
    {
     "name": "stdout",
     "output_type": "stream",
     "text": [
      "./water_10.0/bec2.txt\n",
      "-0.024440000000000017\n",
      "-0.12196999999999997\n",
      "-0.12429000000000007\n",
      "./water_20.0/bec2.txt\n",
      "-0.035120000000000026\n",
      "-0.12015999999999999\n",
      "-0.13226\n",
      "./water_30.0/bec2.txt\n",
      "-0.05105\n",
      "-0.11399999999999999\n",
      "-0.14007000000000003\n",
      "./water_40.0/bec2.txt\n",
      "-0.06857\n",
      "-0.10418\n",
      "-0.14709\n",
      "./water_50.0/bec2.txt\n",
      "-0.08267\n",
      "-0.09557999999999997\n",
      "-0.15292999999999995\n",
      "./water_60.0/bec2.txt\n",
      "-0.09168000000000001\n",
      "-0.09081\n",
      "-0.15761999999999998\n",
      "./water_70.0/bec2.txt\n",
      "-0.09682999999999997\n",
      "-0.08990999999999999\n",
      "-0.16075\n",
      "./water_80.0/bec2.txt\n",
      "-0.09917999999999999\n",
      "-0.09352999999999999\n",
      "-0.16392\n",
      "./water_90.0/bec2.txt\n",
      "-0.09948000000000001\n",
      "-0.09948\n",
      "-0.16616999999999993\n",
      "./water_100.0/bec2.txt\n",
      "-0.09839999999999999\n",
      "-0.109\n",
      "-0.16903000000000007\n",
      "./water_110.0/bec2.txt\n",
      "-0.09449999999999997\n",
      "-0.11961999999999998\n",
      "-0.17140999999999995\n",
      "./water_120.0/bec2.txt\n",
      "-0.0859299999999999\n",
      "-0.12889\n",
      "-0.17247\n",
      "./water_130.0/bec2.txt\n",
      "-0.07588000000000006\n",
      "-0.13984000000000002\n",
      "-0.17442999999999997\n",
      "./water_140.0/bec2.txt\n",
      "-0.06630999999999998\n",
      "-0.15142\n",
      "-0.17688999999999994\n",
      "./water_150.0/bec2.txt\n",
      "-0.05891000000000007\n",
      "-0.16265999999999997\n",
      "-0.1791500000000001\n",
      "./water_160.0/bec2.txt\n",
      "-0.055439999999999934\n",
      "-0.17385000000000006\n",
      "-0.18214000000000002\n",
      "./water_170.0/bec2.txt\n",
      "-0.05687999999999993\n",
      "-0.18203000000000003\n",
      "-0.18433\n",
      "./water_180.0/bec2.txt\n",
      "-0.05857000000000001\n",
      "-0.18384999999999996\n",
      "-0.18384999999999996\n"
     ]
    }
   ],
   "source": [
    "# 有効電荷の総和則を満たしているかの確認\n",
    "\n",
    "#カウンタ\n",
    "i=0\n",
    "\n",
    "for angle in deg:\n",
    "    #ファイル名\n",
    "    file=\"./water_{}/bec2.txt\".format(str(angle))\n",
    "    print(file)\n",
    "    \n",
    "    #ファイル読み込み\n",
    "    data=np.loadtxt(file)\n",
    "    \n",
    "    ##データ抽出\n",
    "    print(data[0][0]+data[3][0]+data[6][0])#xxの総和\n",
    "    print(data[1][1]+data[4][1]+data[7][1])#yyの総和\n",
    "    print(data[2][2]+data[5][2]+data[8][2])#zzの総和\n",
    "    \n",
    "Ab initio molecular dynamics study of temperature and pressure-dependent infrared dielectric functions of liquid methanolAb initio molecular dynamics study of temperature and pressure-dependent infrared dielectric functions of liquid methanol    #カウンタ更新\n",
    "    i+=1\n",
    "\n"
   ]
  },
  {
   "cell_type": "code",
   "execution_count": null,
   "metadata": {},
   "outputs": [],
   "source": []
  }
 ],
 "metadata": {
  "kernelspec": {
   "display_name": "Python 3",
   "language": "python",
   "name": "python3"
  },
  "language_info": {
   "codemirror_mode": {
    "name": "ipython",
    "version": 3
   },
   "file_extension": ".py",
   "mimetype": "text/x-python",
   "name": "python",
   "nbconvert_exporter": "python",
   "pygments_lexer": "ipython3",
   "version": "3.7.2"
  }
 },
 "nbformat": 4,
 "nbformat_minor": 2
}
