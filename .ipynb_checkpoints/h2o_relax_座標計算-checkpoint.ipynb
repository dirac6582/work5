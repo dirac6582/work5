{
 "cells": [
  {
   "cell_type": "code",
   "execution_count": 2,
   "metadata": {},
   "outputs": [],
   "source": [
    "import numpy as np"
   ]
  },
  {
   "cell_type": "code",
   "execution_count": 26,
   "metadata": {},
   "outputs": [
    {
     "name": "stdout",
     "output_type": "stream",
     "text": [
      "[ 10.  20.  30.  40.  50.  60.  70.  80.  90. 100. 110. 120. 130. 140.\n",
      " 150. 160. 170. 180.]\n",
      "[0.17453293 0.34906585 0.52359878 0.6981317  0.87266463 1.04719755\n",
      " 1.22173048 1.3962634  1.57079633 1.74532925 1.91986218 2.0943951\n",
      " 2.26892803 2.44346095 2.61799388 2.7925268  2.96705973 3.14159265]\n"
     ]
    }
   ],
   "source": [
    "#rはÅで指定\n",
    "r=0.9693\n",
    "deg_list=np.linspace(10,180,18)\n",
    "print(deg_list)\n",
    "theta_list=deg_list*np.pi/180\n",
    "print(theta_list)"
   ]
  },
  {
   "cell_type": "code",
   "execution_count": 27,
   "metadata": {},
   "outputs": [
    {
     "name": "stdout",
     "output_type": "stream",
     "text": [
      "10.0 0.9545741549947333 0.16831717861255557 0.00\n",
      "20.0 0.9108440573277811 0.3315201249255707 0.00\n",
      "30.0 0.8394384238882565 0.48464999999999997 0.00\n",
      "40.0 0.7425268787152255 0.6230540300691625 0.00\n",
      "50.0 0.6230540300691626 0.7425268787152254 0.00\n",
      "60.0 0.48465000000000014 0.8394384238882564 0.00\n",
      "70.0 0.3315201249255708 0.910844057327781 0.00\n",
      "80.0 0.16831717861255566 0.9545741549947333 0.00\n",
      "90.0 5.935250712067648e-17 0.9693 0.00\n",
      "100.0 -0.16831717861255555 0.9545741549947333 0.00\n",
      "110.0 -0.3315201249255707 0.9108440573277811 0.00\n",
      "120.0 -0.4846499999999998 0.8394384238882566 0.00\n",
      "130.0 -0.6230540300691625 0.7425268787152255 0.00\n",
      "140.0 -0.7425268787152253 0.6230540300691627 0.00\n",
      "150.0 -0.8394384238882565 0.48464999999999997 0.00\n",
      "160.0 -0.910844057327781 0.33152012492557087 0.00\n",
      "170.0 -0.9545741549947334 0.1683171786125555 0.00\n",
      "180.0 -0.9693 1.1870501424135296e-16 0.00\n"
     ]
    }
   ],
   "source": [
    "for deg in deg_list:\n",
    "    print(deg, r*np.cos(deg*np.pi/180), r*np.sin(deg*np.pi/180), \"0.00\")"
   ]
  },
  {
   "cell_type": "code",
   "execution_count": 28,
   "metadata": {},
   "outputs": [],
   "source": [
    "#座標x y の設定\n",
    "x=1.8038723611924616\n",
    "y=0.3180713670325163\n",
    "def make_file(x,y,angle):\n",
    "    lines= [\n",
    "    \"&control\", \n",
    "    \"      calculation = 'scf'\", \n",
    "    \"      prefix = 'h2o_bec'\", \n",
    "    \"      pseudo_dir = '/home/amano/src/qe-6.4.1/pseudo/'\", \n",
    "    \"      outdir           = './work/'\", \n",
    "    \" \",    \n",
    "    \"/\", \n",
    "    \"&system\", \n",
    "    \"      ibrav=1, celldm(1) =10,\", \n",
    "    \"      nat=3, ntyp=2,\", \n",
    "    \"      ecutwfc=70\", \n",
    "    \"      nosym =.TRUE.\", \n",
    "    \"/\", \n",
    "    \"&electrons\", \n",
    "    \"      conv_thr=1e-8\", \n",
    "    \"/\", \n",
    "    \"&ions\", \n",
    "    \"/\", \n",
    "    \"ATOMIC_SPECIES\", \n",
    "    \"H  1.00784 H.pbe-rrkjus_psl.1.0.0.UPF\", \n",
    "    \"O  15.999 O.pbe-n-rrkjus_psl.1.0.0.UPF\", \n",
    "    \" \",\n",
    "    \" \" ,  \n",
    "    \"ATOMIC_POSITIONS (angstrom)\", \n",
    "    \" O 0.00 0.00 0.00\", \n",
    "    \" H 0.9693 0.00 0.00\", \n",
    "    \" H {0} {1} 0.00\".format(x, y), \n",
    "    \" \" , \n",
    "    \"K_POINTS (automatic)\", \n",
    "    \" 1 1 1 0 0 0\", \n",
    "    ]\n",
    "    #出力ファイル名\n",
    "    output=\"h2o_bec.pw.in\"\n",
    "    #ファイルの保存\n",
    "    with open(output, mode='w') as f:\n",
    "        f.write('\\n'.join(lines))\n"
   ]
  },
  {
   "cell_type": "code",
   "execution_count": 29,
   "metadata": {},
   "outputs": [],
   "source": [
    "#phファイルの方\n",
    "def make_phfile():\n",
    "    lines=[\n",
    "    \"h2o phonon\",\n",
    "    \"&inputph\",\n",
    "    \"     tr2_ph = 1.0d-14,\",\n",
    "    \"     prefix = 'h2o_bec'\",\n",
    "    \"     outdir = './work/'\",\n",
    "    \"     trans  = .false.\",\n",
    "    \"     zeu    = .true.\",\n",
    "    \"     epsil  = .true.\",\n",
    "    \"/\",\n",
    "    \"0 0 0\",\n",
    "    ]\n",
    "    #出力ファイル名\n",
    "    output=\"h2o_bec.ph.in\"\n",
    "    #ファイルの保存\n",
    "    with open(output, mode='w') as f:\n",
    "        f.write('\\n'.join(lines))\n"
   ]
  },
  {
   "cell_type": "code",
   "execution_count": null,
   "metadata": {},
   "outputs": [],
   "source": [
    "\n",
    "        "
   ]
  },
  {
   "cell_type": "code",
   "execution_count": 30,
   "metadata": {},
   "outputs": [],
   "source": [
    "def copyfile1(angle):\n",
    "    import shutil\n",
    "    src=\"h2o_bec.pw.in\"\n",
    "    copy = './water_{}'.format(str(angle)) #移動先のdir\n",
    "    # shutil.copyfileはscrのファイルをcopyにコピーする．\n",
    "    shutil.move(src,copy)\n",
    "\n",
    "def copyfile2(angle):\n",
    "    import shutil\n",
    "    src=\"h2o_bec.ph.in\"\n",
    "    copy = './water_{}'.format(str(angle))\n",
    "    # shutil.copyfileはscrのファイルをcopyにコピーする．\n",
    "    shutil.move(src,copy)\n",
    "\n",
    "\n",
    "#water_10などのdirを作成\n",
    "def make_dir(angle):\n",
    "    import os\n",
    "    new_dir_path = 'water_{}'.format(str(angle))\n",
    "    os.mkdir(new_dir_path)"
   ]
  },
  {
   "cell_type": "code",
   "execution_count": 31,
   "metadata": {},
   "outputs": [
    {
     "name": "stdout",
     "output_type": "stream",
     "text": [
      "10.0 0.9545741549947333 0.16831717861255557 0.00\n",
      "20.0 0.9108440573277811 0.3315201249255707 0.00\n",
      "30.0 0.8394384238882565 0.48464999999999997 0.00\n",
      "40.0 0.7425268787152255 0.6230540300691625 0.00\n",
      "50.0 0.6230540300691626 0.7425268787152254 0.00\n",
      "60.0 0.48465000000000014 0.8394384238882564 0.00\n",
      "70.0 0.3315201249255708 0.910844057327781 0.00\n",
      "80.0 0.16831717861255566 0.9545741549947333 0.00\n",
      "90.0 5.935250712067648e-17 0.9693 0.00\n",
      "100.0 -0.16831717861255555 0.9545741549947333 0.00\n",
      "110.0 -0.3315201249255707 0.9108440573277811 0.00\n",
      "120.0 -0.4846499999999998 0.8394384238882566 0.00\n",
      "130.0 -0.6230540300691625 0.7425268787152255 0.00\n",
      "140.0 -0.7425268787152253 0.6230540300691627 0.00\n",
      "150.0 -0.8394384238882565 0.48464999999999997 0.00\n",
      "160.0 -0.910844057327781 0.33152012492557087 0.00\n",
      "170.0 -0.9545741549947334 0.1683171786125555 0.00\n",
      "180.0 -0.9693 1.1870501424135296e-16 0.00\n"
     ]
    }
   ],
   "source": [
    "# 実際にファイル群を作成\n",
    "for deg in deg_list:\n",
    "    print(deg, r*np.cos(deg*np.pi/180), r*np.sin(deg*np.pi/180), \"0.00\")\n",
    "    # 3つの変数の設定\n",
    "    angle=deg\n",
    "    x=r*np.cos(deg*np.pi/180)\n",
    "    y=r*np.sin(deg*np.pi/180)\n",
    "    \n",
    "    #water_angleのdir作成\n",
    "    make_dir(angle)\n",
    "    \n",
    "    #pwファイル作成\n",
    "    make_file(x,y,angle)\n",
    "    \n",
    "    #pwファイル移動\n",
    "    copyfile1(angle)\n",
    "    \n",
    "    #phファイル作成\n",
    "    make_phfile()\n",
    "    \n",
    "    #phファイル移動\n",
    "    copyfile2(angle)\n",
    "    "
   ]
  },
  {
   "cell_type": "code",
   "execution_count": null,
   "metadata": {},
   "outputs": [],
   "source": []
  }
 ],
 "metadata": {
  "kernelspec": {
   "display_name": "Python 3",
   "language": "python",
   "name": "python3"
  },
  "language_info": {
   "codemirror_mode": {
    "name": "ipython",
    "version": 3
   },
   "file_extension": ".py",
   "mimetype": "text/x-python",
   "name": "python",
   "nbconvert_exporter": "python",
   "pygments_lexer": "ipython3",
   "version": "3.7.4"
  }
 },
 "nbformat": 4,
 "nbformat_minor": 2
}
