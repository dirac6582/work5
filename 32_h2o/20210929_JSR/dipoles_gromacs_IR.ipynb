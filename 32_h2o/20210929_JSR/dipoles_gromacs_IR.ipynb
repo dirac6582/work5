{
 "cells": [
  {
   "cell_type": "code",
   "execution_count": 1,
   "metadata": {
    "id": "348wozCBEuUV",
    "outputId": "32a2301e-c34f-4854-e6f8-c6480163ea08"
   },
   "outputs": [
    {
     "name": "stdout",
     "output_type": "stream",
     "text": [
      "env: SMILES=O\n"
     ]
    }
   ],
   "source": [
    "%env SMILES=O\n",
    "\n",
    "mol_name1 =\"input\"\n",
    "\n",
    "density = 0.997                     #構造生成する際の密度をg/cm3の単位で書く。1より少し小さい値がお勧め \n",
    "max_atoms = 1200                    #ユニットセル中の全原子数                  \n",
    "dt = 1                               #[fs] MDの刻み時間：このまま使うことを推奨。\n",
    "reportInterval=5000                 #Logのインターバル時間 step数で書く。1000stepsであれば1ps\n",
    "eq_temp = 300                        #緩和計算させるときの温度 [K]\n",
    "system_press = 1.0                   #系の圧力 [atm] \n",
    "prod_steps = 100000                  #１つの温度条件での計算Steps数\n",
    "eq_steps = 300000                    #緩和計算するstep数。この例だと100ps\n",
    "eq_press = 1.0                       #緩和計算する際の系の圧力 [atm]\n",
    "# 計算する温度の条件 [K]で書く\n",
    "temps = [300]\n",
    "\n",
    "gromacs_home = \"/home/yamazaki/usr/local/gromacs/bin/\"\n",
    "#gromacs_home = \"/opt/gromacs/bin/\""
   ]
  },
  {
   "cell_type": "code",
   "execution_count": 2,
   "metadata": {},
   "outputs": [
    {
     "name": "stdout",
     "output_type": "stream",
     "text": [
      "1 molecule converted\n",
      "1 molecule converted\n",
      "3 info messages 6 audit log messages \n",
      "=========================================================================================\n",
      "| ACPYPE: AnteChamber PYthon Parser interfacE v. 2020-10-24T12:16:34CEST (c) 2021 AWSdS |\n",
      "=========================================================================================\n",
      "==> ... charge set to 0\n",
      "==> Executing Antechamber...\n",
      "==> * Antechamber OK *\n",
      "==> * Parmchk OK *\n",
      "==> Executing Tleap...\n",
      "++++++++++start_quote+++++++++++++++++++++++++++++++++++++++++++++++++++++++++++\n",
      "Checking 'HOH'....\n",
      "Checking parameters for unit 'HOH'.\n",
      "Checking for bond parameters.\n",
      "Checking for angle parameters.\n",
      "Unit is OK.\n",
      "++++++++++end_quote+++++++++++++++++++++++++++++++++++++++++++++++++++++++++++++\n",
      "==> * Tleap OK *\n",
      "==> Removing temporary files...\n",
      "==> Writing GROMACS files\n",
      "\n",
      "==> Writing GMX dihedrals for GMX 4.5 and higher.\n",
      "\n",
      "==> Overwriting pickle file input.pkl\n",
      "Total time of execution: 2s\n"
     ]
    },
    {
     "data": {
      "text/plain": [
       "'./input1.itp'"
      ]
     },
     "execution_count": 2,
     "metadata": {},
     "output_type": "execute_result"
    }
   ],
   "source": [
    "#GAFF/AM1-BCCをアサインする\n",
    "#%rm -r -f input.acpype\n",
    "#%ls ./ |  grep -v -E 'dipoles_gromacs_IR.ipynb|dipoles_gromacs_nemd_scan.ipynb|system.mdp|pred_eps.txt'  | xargs rm -rf \n",
    "\n",
    "!echo ${SMILES} > input.smi\n",
    "!obabel -ismi input.smi -O input.mol2 --gen3D --conformer --nconf 5000 --weighted \n",
    "!babel -imol2 input.mol2 -oxyz input.xyz\n",
    "from ase.io import read, write\n",
    "inp1 = read('input.xyz')\n",
    "!acpype -i input.mol2 -c bcc -n 0 -m 1 -a gaff2 -f -o gmx -k \"qm_theory='AM1',grms_tol=0.05,scfconv=1.d-10,ndiis_attempts=700, \"\n",
    "\n",
    "import shutil\n",
    "src = './input.acpype/input_GMX.gro'\n",
    "copy = './input1.gro'\n",
    "shutil.copyfile(src,copy)\n",
    "src = './input.acpype/input_GMX.itp'\n",
    "copy = './input1.itp'\n",
    "shutil.copyfile(src,copy)"
   ]
  },
  {
   "cell_type": "code",
   "execution_count": 3,
   "metadata": {
    "scrolled": true
   },
   "outputs": [
    {
     "data": {
      "application/vnd.jupyter.widget-view+json": {
       "model_id": "1ec6ce6ee2834335a9d28b8e38008737",
       "version_major": 2,
       "version_minor": 0
      },
      "text/plain": []
     },
     "metadata": {},
     "output_type": "display_data"
    },
    {
     "data": {
      "application/vnd.jupyter.widget-view+json": {
       "model_id": "2ada9c770f334784aad17ce7109e2160",
       "version_major": 2,
       "version_minor": 0
      },
      "text/plain": [
       "NGLWidget()"
      ]
     },
     "metadata": {},
     "output_type": "display_data"
    }
   ],
   "source": [
    "#構造可視化\n",
    "import MDAnalysis as mda\n",
    "import nglview as nv\n",
    "from nglview.datafiles import PDB, XTC\n",
    "#w = nv.show_ase(inp1,gui=True)\n",
    "mol1 = mda.Universe('input1.gro')\n",
    "w = nv.show_mdanalysis(mol1)\n",
    "w.add_label(radius=1,color=\"black\",label_type=\"atom\")\n",
    "w"
   ]
  },
  {
   "cell_type": "code",
   "execution_count": 4,
   "metadata": {},
   "outputs": [],
   "source": [
    "#Production Run \n",
    "#OpenMMによるNVT計算\n",
    "#トラジェクトリファイルh5を出力する\n",
    "def run_nvt(temp,dt,steps,inp_file,out_file,nstlog):\n",
    "    temp = temp \n",
    "    dt = dt \n",
    "    steps = steps \n",
    "\n",
    "    import mdtraj\n",
    "        # OpenMM Imports\n",
    "    import simtk.openmm as mm\n",
    "    import simtk.openmm.app as app\n",
    "    from openmmtools import integrators\n",
    "\n",
    "    # ParmEd Imports\n",
    "    from parmed import load_file\n",
    "    from parmed.openmm.reporters import NetCDFReporter\n",
    "    from parmed import unit as u\n",
    "    \n",
    "    eq_traj = mdtraj.load(inp_file+'.h5', 'r')\n",
    "    eq_traj[-1].save_gro(\"pre.gro\")\n",
    "\n",
    "    # Load in a gromacs system\n",
    "    from simtk.openmm import app\n",
    "    gro = app.GromacsGroFile('pre.gro')\n",
    "    top = app.GromacsTopFile('system.top', periodicBoxVectors=gro.getPeriodicBoxVectors(), includeDir=\"./\")\n",
    "\n",
    "    # Create the OpenMM system\n",
    "    print('Creating OpenMM System')\n",
    "    system = top.createSystem(nonbondedMethod=app.PME,\n",
    "                          nonbondedCutoff=8.0*u.angstroms,\n",
    "                          #constraints=app.HBonds,\n",
    "                          removeCMMotion=True,\n",
    "    )\n",
    "\n",
    "    #barostat = mm.MonteCarloBarostat(pressure*u.bar, temp*u.kelvin,25)\n",
    "    #system.addForce(barostat)\n",
    "\n",
    "    # Create the integrator to do Langevin dynamics\n",
    "    #integrator = mm.LangevinIntegrator(\n",
    "    #                        temperature*u.kelvin,       # Temperature of heat bath\n",
    "    #                        1.0/u.picoseconds,          # Friction coefficient\n",
    "    #                        dt*u.femtoseconds,          # Time step\n",
    "    #)\n",
    "\n",
    "    timestep = dt * u.femtoseconds\n",
    "    collision_rate = 1.0 / u.picoseconds\n",
    "    temperature = temp * u.kelvin\n",
    "    integrator = integrators.AndersenVelocityVerletIntegrator(temperature, collision_rate, timestep)\n",
    "\n",
    "    # Define the platform to use; CUDA, OpenCL, CPU, or Reference. Or do not specify\n",
    "    # the platform to use the default (fastest) platform\n",
    "    platform = mm.Platform.getPlatformByName('CUDA')\n",
    "    prop = dict(CudaPrecision='mixed') # Use mixed single/double precision\n",
    "\n",
    "    # Create the Simulation object\n",
    "    sim = app.Simulation(top.topology, system, integrator, platform, prop)\n",
    "\n",
    "    # Set the particle positions\n",
    "    sim.context.setPositions(gro.positions)\n",
    "\n",
    "    #Molecular Dynamics\n",
    "    sim.context.setVelocitiesToTemperature(temp*u.kelvin) \n",
    "    print('Running dynamics :Production')\n",
    "    sim.context.setVelocitiesToTemperature(temp*u.kelvin) \n",
    "    sim.reporters.append(mdtraj.reporters.HDF5Reporter(out_file+'.h5', reportInterval, coordinates=True, time=True, cell=True, potentialEnergy=True, temperature=True))\n",
    "    sim.reporters.append(mdtraj.reporters.DCDReporter(out_file+'.dcd', reportInterval))\n",
    "    sim.reporters.append(\n",
    "        app.StateDataReporter(out_file+\"ene.csv\", reportInterval, step=True, potentialEnergy=True,\n",
    "                              kineticEnergy=True, temperature=True, volume=True,\n",
    "                              density=True)\n",
    "    )\n",
    "\n",
    "    sim.step(steps)\n",
    "\n",
    "    del sim # Make sure to close all files"
   ]
  },
  {
   "cell_type": "code",
   "execution_count": 5,
   "metadata": {},
   "outputs": [],
   "source": [
    "def relax(dt):\n",
    "\n",
    "    import pandas as pd\n",
    "    \n",
    "    import time \n",
    "    init_time = time.time()\n",
    "    \n",
    "    dt = dt\n",
    "\n",
    "    #構造可視化\n",
    "    import MDAnalysis as mda\n",
    "    import nglview as nv\n",
    "    from nglview.datafiles import PDB, XTC\n",
    "\n",
    "\n",
    "    #混合溶液を作成\n",
    "    import mdapackmol\n",
    "    import numpy as np\n",
    "    from ase import units\n",
    "\n",
    "    # load individual molecule files\n",
    "    mol1 = mda.Universe('input1.gro')\n",
    "    #mol2 = mda.Universe('input2.gro')\n",
    "    #total_mol = int(max_atoms/(mol1.atoms.n_atoms*conc+mol2.atoms.n_atoms*(1.0-conc)))\n",
    "    total_mol = int(max_atoms/(mol1.atoms.n_atoms))\n",
    "    num_mols1 = total_mol\n",
    "    #num_mols1 = int(conc*total_mol)\n",
    "    #num_mols2 = int((1.0-conc)*total_mol)\n",
    "\n",
    "    mw_mol1 = np.sum(mol1.atoms.masses)\n",
    "    #mw_mol2 = np.sum(mol2.atoms.masses)\n",
    "    #print(\"Mw={}\".format(mw_mol1))\n",
    "\n",
    "    #total_weight = num_mols1 * mw_mol1 + num_mols2 * mw_mol2  \n",
    "    total_weight = num_mols1 * mw_mol1 \n",
    "\n",
    "    # Determine side length of a box with the density of mixture \n",
    "    d = density / 1e24 # Density in g/Ang3 \n",
    "    volume = (total_weight / units.mol) / d\n",
    "    L = volume**(1.0/3.0)\n",
    "\n",
    "    system = mdapackmol.packmol(\n",
    "    [ mdapackmol.PackmolStructure(\n",
    "    mol1, number=num_mols1,\n",
    "    instructions=['inside box 0. 0. 0. '+str(L)+\"  \"+str(L)+\"  \"+str(L)]),\n",
    "    ])\n",
    "    \n",
    "    system.atoms.write('mixture.gro')\n",
    "\n",
    "    import os \n",
    "    os.environ['GMX_MAXBACKUP'] = '-1'\n",
    "\n",
    "    # for gromacs-5 or later \n",
    "    #commands = \"gmx editconf -f mixture.gro  -box \"+ str(L/10.0)+\"  \"+str(L/10.0)+\"  \"+str(L/10.0) + \"  \" +\" -o init.gro\"\n",
    "    commands = \"editconf -f mixture.gro  -box \"+ str(L/10.0)+\"  \"+str(L/10.0)+\"  \"+str(L/10.0) + \"  \" +\" -o init.gro\"\n",
    "\n",
    "    import subprocess\n",
    "    from subprocess import PIPE\n",
    "\n",
    "    proc = subprocess.run(commands, shell=True, stdout=PIPE, stderr=PIPE,encoding='utf-8')\n",
    "    output = proc.stdout\n",
    "    #print('STDOUT: {}'.format(output))\n",
    "\n",
    "    #make top file for GAFF\n",
    "\n",
    "    top_file = \"system.top\"\n",
    "\n",
    "    lines = [\n",
    "        \"; input_GMX.top created by acpype (v: 2020-07-25T09:06:13CEST) on Fri Jul 31 07:59:08 2020\",\n",
    "        \";by acpype (v: 2020-07-25T09:06:13CEST) on Fri Jul 31 07:59:08 2020\",\n",
    "        \"   \",\n",
    "        \"[ defaults ]\",\n",
    "        \"; nbfunc        comb-rule       gen-pairs       fudgeLJ fudgeQQ\",\n",
    "        \"1               2               yes             0.5     0.8333\",\n",
    "        \"    \",\n",
    "        \"; Include input.itp topology\", \n",
    "        \"#include \\\"input1.itp\\\"\",\n",
    "        \"    \",\n",
    "        \"[ system ]\",\n",
    "        \"input\",\n",
    "        \"     \",\n",
    "        \"[ molecules ]\",\n",
    "        \"; Compound        nmols\" ,\n",
    "        mol_name1 + \"          \" + str(int(num_mols1)), ]\n",
    "\n",
    "    with open(top_file, mode='w') as f:\n",
    "        f.write('\\n'.join(lines))\n",
    "\n",
    "    import sys\n",
    "    import mdtraj\n",
    "\n",
    "    # OpenMM Imports\n",
    "    import simtk.openmm as mm\n",
    "    import simtk.openmm.app as app\n",
    "    from openmmtools import integrators\n",
    "\n",
    "    # ParmEd Imports\n",
    "    from parmed import load_file\n",
    "    from parmed.openmm.reporters import NetCDFReporter\n",
    "    from parmed import unit as u\n",
    "\n",
    "    # Load in a gromacs system\n",
    "    from simtk.openmm import app\n",
    "    gro = app.GromacsGroFile('init.gro')\n",
    "    top = app.GromacsTopFile('system.top', periodicBoxVectors=gro.getPeriodicBoxVectors(), includeDir=\"./\")\n",
    "\n",
    "    # Equilibration\n",
    "    print('Creating OpenMM System')\n",
    "\n",
    "    system = top.createSystem(nonbondedMethod=app.PME,\n",
    "                  nonbondedCutoff=8.0*u.angstroms,\n",
    "                  #constraints=app.HBonds,\n",
    "                  removeCMMotion=True,\n",
    "    )\n",
    "\n",
    "    #barostat = mm.MonteCarloBarostat(eq_press*u.bar, eq_temp*u.kelvin, 25)\n",
    "    #system.addForce(barostat)\n",
    "\n",
    "    # Create the integrator to do Langevin dynamics\n",
    "    #integrator = mm.LangevinIntegrator(\n",
    "    #                        eq_temp*u.kelvin,       # Temperature of heat bath\n",
    "    #                        1.0/u.picoseconds,  # Friction coefficient\n",
    "    #                        dt*u.femtoseconds, # Time step\n",
    "    #)\n",
    "\n",
    "    timestep = dt * u.femtoseconds\n",
    "    collision_rate = 1.0 / u.picoseconds\n",
    "    temperature = eq_temp * u.kelvin\n",
    "    integrator = integrators.AndersenVelocityVerletIntegrator(temperature, collision_rate, timestep)\n",
    "\n",
    "    # Define the platform to use; CUDA, OpenCL, CPU, or Reference. Or do not specify\n",
    "    # the platform to use the default (fastest) platform\n",
    "    platform = mm.Platform.getPlatformByName('CUDA')\n",
    "    prop = dict(CudaPrecision='mixed') # Use mixed single/double precision\n",
    "\n",
    "    # Create the Simulation object\n",
    "    sim = app.Simulation(top.topology, system, integrator, platform, prop)\n",
    "\n",
    "    # Set the particle positions\n",
    "    sim.context.setPositions(gro.positions)\n",
    "\n",
    "    # Minimize the energy\n",
    "    print('Minimizing energy')\n",
    "    sim.minimizeEnergy(maxIterations=10000)\n",
    "\n",
    "    #Relax the geometry \n",
    "    print('Running dynamics :Equilibration')\n",
    "    sim.context.setVelocitiesToTemperature(eq_temp*u.kelvin) \n",
    "    sim.reporters.append(\n",
    "        mdtraj.reporters.HDF5Reporter('eq_out.h5', 10000, coordinates=True, time=True, \n",
    "                                      cell=True, potentialEnergy=True, temperature=True))\n",
    "    sim.reporters.append(\n",
    "        app.StateDataReporter(\"eq_ene.csv\", 10000, step=True, potentialEnergy=True,\n",
    "                              kineticEnergy=True, temperature=True, volume=True,\n",
    "                              density=True))\n",
    "    sim.step(eq_steps)\n",
    "\n",
    "    del sim # Make sure to close all files\n",
    "    \n",
    "    print(\"elapsed time= {} sec.\".format(time.time()-init_time))\n",
    "\n",
    "    #Production Run \n",
    "    dens = []\n",
    "    inp_file = \"eq_out\"\n",
    "    nstlog =1000\n",
    "    for temp in temps :\n",
    "        out_file = \"resin\"+str(temp)\n",
    "        run_nvt(temp,dt,prod_steps,inp_file,out_file,nstlog)\n",
    "        data = pd.read_csv(out_file+\"ene.csv\")\n",
    "        dens.append(np.mean(data[\"Density (g/mL)\"])) \n",
    "        inp_file = out_file\n",
    "        dens=np.array(dens)\n",
    "\n",
    "    import MDAnalysis as mda\n",
    "    import nglview as nv\n",
    "    from nglview.datafiles import PDB, XTC\n",
    "    import mdapackmol\n",
    "    import numpy as np\n",
    "    from ase import units\n",
    "    temp=temps[0]\n",
    "    traj =mdtraj.load(\"resin\"+str(temp)+\".h5\", 'r')\n",
    "    traj[-1].save_gro(\"eq.gro\")\n",
    "    \n",
    "    line = np.array([float(p) for p in tail(\"eq.gro\",1)[0]]) \n",
    "    v = line[0]*line[1]*line[2]\n",
    "    \n",
    "    return v,line[0],line[1],line[2]"
   ]
  },
  {
   "cell_type": "code",
   "execution_count": 6,
   "metadata": {},
   "outputs": [],
   "source": [
    "def tail(fn, n):\n",
    "    # ファイルを開いてすべての行をリストで取得する\n",
    "    with open(fn, 'r') as f:\n",
    "        f.readline()\n",
    "        lines = f.readlines()\n",
    "\n",
    "    # 文字列を配列にしてから返す. ついでにstr->floatに型変換する\n",
    "    return [line.strip().split() for line in lines[-n:]]"
   ]
  },
  {
   "cell_type": "code",
   "execution_count": 7,
   "metadata": {
    "id": "3ajS4PZHEuUW"
   },
   "outputs": [],
   "source": [
    "#make mdp file for dielectric dispersion \n",
    "\n",
    "mdp_file = \"system.mdp\"\n",
    "temp =temps[0]\n",
    "interval_steps = 2\n",
    "\n",
    "lines = [\n",
    "\"; VARIOUS PREPROCESSING OPTIONS\",\n",
    "\";title                    = Yo\",\n",
    "\";cpp                      = /usr/bin/cpp\",\n",
    "\"include                  =\", \n",
    "\"define                   =\", \n",
    "\"    \",\n",
    "\"; RUN CONTROL PARAMETERS\",\n",
    "\"integrator               = md\",\n",
    "\";integrator               = cg\",\n",
    "\"; Start time and timestep in ps\",\n",
    "\"tinit                    = 0\",\n",
    "\"dt                       = 0.001\",\n",
    "\"nsteps                   = 1000000\",\n",
    "\"; For exact run continuation or redoing part of a run\",\n",
    "\"init_step                = 0\",\n",
    "\"; mode for center of mass motion removal\",\n",
    "\";comm-mode                = Linear\",\n",
    "\"; number of steps for center of mass motion removal\",\n",
    "\";nstcomm                  = 1\",\n",
    "\"; group(s) for center of mass motion removal\",\n",
    "\";comm-grps                = \",\n",
    "\"    \",\n",
    "\"; ENERGY MINIMIZATION OPTIONS\",\n",
    "\"; Force tolerance and initial step-size\",\n",
    "\"emtol                    = 100\",\n",
    "\"emstep                   = 0.01\",\n",
    "\"; Max number of iterations in relax_shells\",\n",
    "\"niter                    = 20\",\n",
    "\"; Step size (1/ps^2) for minimization of flexible constraints\",\n",
    "\"fcstep                   = 0\",\n",
    "\"; Frequency of steepest descents steps when doing CG\",\n",
    "\"nstcgsteep               = 1000\",\n",
    "\"nbfgscorr                = 10\",\n",
    "\"        \",\n",
    "\"; OUTPUT CONTROL OPTIONS\",\n",
    "\"; Output frequency for coords (x), velocities (v) and forces (f)\",\n",
    "\"nstxout                  = 0\",\n",
    "\"nstvout                  = 0\",\n",
    "\"nstfout                  = 0\",\n",
    "\"; Checkpointing helps you continue after crashes\",\n",
    "\"; THIS OPTION IS OBSOLETE\",\n",
    "\";nstcheckpoint            = 1000\",\n",
    "\"; Output frequency for energies to log file and energy file\",\n",
    "\"nstlog                   = 1000\",\n",
    "\"nstenergy                = 1000\",\n",
    "\"; Output frequency and precision for xtc file\",\n",
    "\"nstxtcout                = {}\".format(interval_steps),\n",
    "\"xtc-precision            = 100000\",\n",
    "\"; This selects the subset of atoms for the xtc file. You can\",\n",
    "\"; select multiple groups. By default all atoms will be written.\",\n",
    "\"xtc-grps                 = \",\n",
    "\"; Selection of energy groups\",\n",
    "\"energygrps               = \",\n",
    "\"      \",\n",
    "\"; NEIGHBORSEARCHING PARAMETERS\",\n",
    "\"; nblist update frequency\",\n",
    "\"nstlist                  = 50\",\n",
    "\"; ns algorithm (simple or grid)\",\n",
    "\"ns_type                  = grid\",\n",
    "\"; Periodic boundary conditions: xyz (default), no (vacuum)\",\n",
    "\"; or full (infinite systems only)\",\n",
    "\"pbc                      = xyz\",\n",
    "\"; nblist cut-off        \",\n",
    "\"rlist                    = 1.0\",\n",
    "\";domain-decomposition     = no\",\n",
    "\"    \",\n",
    "\"; OPTIONS FOR ELECTROSTATICS AND VDW\",\n",
    "\"; Method for doing electrostatics\",\n",
    "\";coulombtype              = Cut-off\",\n",
    "\";coulombtype              = Ewald\",\n",
    "\"coulombtype              = pme\",\n",
    "\";rcoulomb-switch          = 0\",\n",
    "\"rcoulomb                 = 1.0\",\n",
    "\"; Dielectric constant (DC) for cut-off or DC of reaction field\",\n",
    "\"epsilon-r                = 1\",\n",
    "\"; Method for doing Van der Waals\",\n",
    "\"vdw-type                 = Cut-off\",\n",
    "\"; cut-off lengths       \",\n",
    "\"rvdw-switch              = 0\",\n",
    "\"rvdw                     = 1.0\",\n",
    "\"; Apply long range dispersion corrections for Energy and Pressure\",\n",
    "\"DispCorr                 = EnerPres\",\n",
    "\"; Extension of the potential lookup tables beyond the cut-off\",\n",
    "\"table-extension          = 1\",\n",
    "\"; Spacing for the PME/PPPM FFT grid\",\n",
    "\";fourierspacing           = 0.6\",\n",
    "\"fourierspacing           = 0.12\",\n",
    "\"; FFT grid size, when a value is 0 fourierspacing will be used\",\n",
    "\"fourier_nx               = 0\",\n",
    "\"fourier_ny               = 0\",\n",
    "\"fourier_nz               = 0\",\n",
    "\"; EWALD/PME/PPPM parameters\",\n",
    "\"pme_order                = 4\",\n",
    "\";pme_order                = 3\",\n",
    "\"ewald_rtol               = 1e-05\",\n",
    "\"ewald_geometry           = 3d\",\n",
    "\"epsilon_surface          = 0\",\n",
    "\"optimize_fft             = yes\",\n",
    "\"      \",\n",
    "\"; GENERALIZED BORN ELECTROSTATICS\",\n",
    "\"; Algorithm for calculating Born radii\",\n",
    "\"gb_algorithm             = Still\",\n",
    "\"; Frequency of calculating the Born radii inside rlist\",\n",
    "\"nstgbradii               = 1\",\n",
    "\"; Cutoff for Born radii calculation; the contribution from atoms\",\n",
    "\"; between rlist and rgbradii is updated every nstlist steps\",\n",
    "\"rgbradii                 = 2\",\n",
    "\"; Salt concentration in M for Generalized Born models\",\n",
    "\"gb_saltconc              = 0\",\n",
    "\"      \",\n",
    "\"; IMPLICIT SOLVENT (for use with Generalized Born electrostatics)\",\n",
    "\"implicit_solvent         = No\",\n",
    "\"     \",\n",
    "\"; OPTIONS FOR WEAK COUPLING ALGORITHMS\",\n",
    "\"; Temperature coupling  \",\n",
    "\"Tcoupl                   = nose-hoover\",\n",
    "\";Tcoupl                   = Berendsen\",\n",
    "\"; Groups to couple separately\",\n",
    "\"tc-grps                  = System\",\n",
    "\"; Time constant (ps) and reference temperature (K)\",\n",
    "\"tau_t                    = 0.2 \",\n",
    "\"ref_t                    =  \"+str(temp),\n",
    "\"; Pressure coupling     \",\n",
    "\"Pcoupl                   = No\",\n",
    "\";Pcoupl                   = berendsen\",\n",
    "\";Pcoupl                   = Parrinello-Rahman\",\n",
    "\"Pcoupltype               = isotropic\",\n",
    "\"; Time constant (ps), compressibility (1/bar) and reference P (bar)\",\n",
    "\"tau_p                    = 1.0\",\n",
    "\"compressibility          = 4.5e-5\",\n",
    "\"ref_p                    = 1.0\",\n",
    "\"; Random seed for Andersen thermostat\",\n",
    "\"andersen_seed            = 815131\",\n",
    "\"      \",\n",
    "\"; SIMULATED ANNEALING  \",\n",
    "\"; Type of annealing for each temperature group (no/single/periodic)\",\n",
    "\"annealing                = no\",\n",
    "\"; Number of time points to use for specifying annealing in each group\",\n",
    "\"annealing_npoints        = \",\n",
    "\"; List of times at the annealing points for each group\",\n",
    "\"annealing_time           = \",\n",
    "\"; Temp. at each annealing point, for each group.\",\n",
    "\"annealing_temp           = \",\n",
    "\"        \",\n",
    "\"; GENERATE VELOCITIES FOR STARTUP RUN\",\n",
    "\"gen_vel                  = yes\",\n",
    "\"gen_temp                 = 298\",\n",
    "\"gen_seed                 = -1\",\n",
    "\"       \",\n",
    "\"; OPTIONS FOR BONDS    \",\n",
    "\";constraints              = all-bonds\",\n",
    "\"constraints              = none\",\n",
    "\"; Type of constraint algorithm\",\n",
    "\"constraint-algorithm     = Lincs\",\n",
    "\"; Do not constrain the start configuration\",\n",
    "\"continuation      = no\",\n",
    "\"; Use successive overrelaxation to reduce the number of shake iterations\",\n",
    "\"Shake-SOR                = no\",\n",
    "\"; Relative tolerance of shake\",\n",
    "\"shake-tol                = 1e-04\",\n",
    "\"; Highest order in the expansion of the constraint coupling matrix\",\n",
    "\"lincs-order              = 4\",\n",
    "\"; Number of iterations in the final step of LINCS. 1 is fine for\",\n",
    "\"; normal simulations, but use 2 to conserve energy in NVE runs.\",\n",
    "\"; For energy minimization with constraints it should be 4 to 8.\",\n",
    "\"lincs-iter               = 1\",\n",
    "\"; Lincs will write a warning to the stderr if in one step a bond\",\n",
    "\"; rotates over more degrees than\",\n",
    "\"lincs-warnangle          = 30\",\n",
    "\"; Convert harmonic bonds to morse potentials\",\n",
    "\"morse                    = no\",\n",
    "\"      \",\n",
    "\"; ENERGY GROUP EXCLUSIONS\",\n",
    "\"; Pairs of energy groups for which all non-bonded interactions are excluded\",\n",
    "\"energygrp_excl           = \",\n",
    "\"       \",\n",
    "\"; NMR refinement stuff \",\n",
    "\"; Distance restraints type: No, Simple or Ensemble\",\n",
    "\"disre                    = No\",\n",
    "\"; Force weighting of pairs in one distance restraint: Conservative or Equal\",\n",
    "\"disre-weighting          = Conservative\",\n",
    "\"; Use sqrt of the time averaged times the instantaneous violation\",\n",
    "\"disre-mixed              = no\",\n",
    "\"disre-fc                 = 1000\",\n",
    "\"disre-tau                = 0\",\n",
    "\"; Output frequency for pair distances to energy file\",\n",
    "\"; THIS IS OBSOLETE\",\n",
    "\";nstdisreout              = 100 \",\n",
    "\"; Orientation restraints: No or Yes\",\n",
    "\"orire                    = no\",\n",
    "\"; Orientation restraints force constant and tau for time averaging\",\n",
    "\"orire-fc                 = 0\",\n",
    "\"orire-tau                = 0\",\n",
    "\"orire-fitgrp             = \",\n",
    "\"; Output frequency for trace(SD) to energy file\",\n",
    "\"nstorireout              = 100\",\n",
    "\"; Dihedral angle restraints: No, Simple or Ensemble\",\n",
    "\"dihre                    = No\",\n",
    "\"dihre-fc                 = 1000\",\n",
    "\";dihre-tau                = 0\",\n",
    "\"; Output frequency for dihedral values to energy file\",\n",
    "\";nstdihreout              = 100\",\n",
    "\"       \",\n",
    "\"; Free energy control stuff\",\n",
    "\"free-energy              = no\",\n",
    "\"init-lambda              = 0\",\n",
    "\"delta-lambda             = 0\",\n",
    "\"sc-alpha                 = 0\",\n",
    "\"sc-sigma                 = 0.3\",\n",
    "\"      \",\n",
    "\"; Electric fields      \",\n",
    "\"; Format is number of terms (int) and for all terms an amplitude (real)\",\n",
    "\"; and a phase angle (real)\",\n",
    "\"E-x                      = \",\n",
    "\"E-xt                     = \",\n",
    "\"E-y                      = \",\n",
    "\"E-yt                     = \",\n",
    "\"E-z                      = \",\n",
    "\"E-zt                     = \",\n",
    "\"      \",\n",
    "\"; User defined thingies\",\n",
    "\"user1-grps               = \",\n",
    "\"user2-grps               = \",\n",
    "\"userint1                 = 0\",\n",
    "\"userint2                 = 0\",\n",
    "\"userint3                 = 0\",\n",
    "\"userint4                 = 0\",\n",
    "\"userreal1                = 0\",\n",
    "\"userreal2                = 0\",\n",
    "\"userreal3                = 0\",\n",
    "\"userreal4                = 0\", \n",
    "]\n",
    "    \n",
    "with open(mdp_file, mode='w') as f:\n",
    "    f.write('\\n'.join(lines))"
   ]
  },
  {
   "cell_type": "code",
   "execution_count": 8,
   "metadata": {
    "id": "Js4CGIr8EuUW"
   },
   "outputs": [],
   "source": [
    "def calc(dt):\n",
    "    # ParmEd Imports\n",
    "    import pandas as pd\n",
    "    \n",
    "    dt = dt\n",
    "\n",
    "    import time \n",
    "    init_time = time.time()\n",
    "\n",
    "    from ase.io import read, write\n",
    "    import MDAnalysis as mda\n",
    "    import nglview as nv\n",
    "    from nglview.datafiles import PDB, XTC\n",
    "\n",
    "    #混合溶液を作成\n",
    "    import mdapackmol\n",
    "    import numpy as np\n",
    "    from ase import units\n",
    "\n",
    "    # load individual molecule files\n",
    "    mol1 = mda.Universe('input1.gro')\n",
    "    #mol2 = mda.Universe('input2.gro')\n",
    "    #total_mol = int(max_atoms/(mol1.atoms.n_atoms*conc+mol2.atoms.n_atoms*(1.0-conc)))\n",
    "    total_mol = int(max_atoms/(mol1.atoms.n_atoms))\n",
    "    num_mols1 = total_mol\n",
    "    #num_mols1 = int(conc*total_mol)\n",
    "    #num_mols2 = int((1.0-conc)*total_mol)\n",
    "\n",
    "    mw_mol1 = np.sum(mol1.atoms.masses)\n",
    "    #mw_mol2 = np.sum(mol2.atoms.masses)\n",
    "    #print(\"Mw={}\".format(mw_mol1))\n",
    "\n",
    "    #total_weight = num_mols1 * mw_mol1 + num_mols2 * mw_mol2  \n",
    "    total_weight = num_mols1 * mw_mol1 \n",
    "\n",
    "    # Determine side length of a box with the density of mixture \n",
    "    d = density / 1e24 # Density in g/Ang3 \n",
    "    volume = (total_weight / units.mol) / d\n",
    "    L = volume**(1.0/3.0)\n",
    "\n",
    "    system = mdapackmol.packmol(\n",
    "    [ mdapackmol.PackmolStructure(\n",
    "    mol1, number=num_mols1,\n",
    "    instructions=['inside box 0. 0. 0. '+str(L)+\"  \"+str(L)+\"  \"+str(L)]),\n",
    "    ])\n",
    "    \n",
    "    system.atoms.write('mixture.gro')\n",
    "\n",
    "    import os \n",
    "    os.environ['GMX_MAXBACKUP'] = '-1'\n",
    "\n",
    "    # for gromacs-5 or later \n",
    "    #commands = \"gmx editconf -f mixture.gro  -box \"+ str(L/10.0)+\"  \"+str(L/10.0)+\"  \"+str(L/10.0) + \"  \" +\" -o init.gro\"\n",
    "    commands = \"editconf -f mixture.gro  -box \"+ str(L/10.0)+\"  \"+str(L/10.0)+\"  \"+str(L/10.0) + \"  \" +\" -o init.gro\"\n",
    "\n",
    "    import subprocess\n",
    "    from subprocess import PIPE\n",
    "\n",
    "    proc = subprocess.run(commands, shell=True, stdout=PIPE, stderr=PIPE,encoding='utf-8')\n",
    "    output = proc.stdout\n",
    "    #print('STDOUT: {}'.format(output))\n",
    "\n",
    "    #make top file for GAFF\n",
    "\n",
    "    top_file = \"system.top\"\n",
    "\n",
    "    lines = [\n",
    "        \"; input_GMX.top created by acpype (v: 2020-07-25T09:06:13CEST) on Fri Jul 31 07:59:08 2020\",\n",
    "        \";by acpype (v: 2020-07-25T09:06:13CEST) on Fri Jul 31 07:59:08 2020\",\n",
    "        \"   \",\n",
    "        \"[ defaults ]\",\n",
    "        \"; nbfunc        comb-rule       gen-pairs       fudgeLJ fudgeQQ\",\n",
    "        \"1               2               yes             0.5     0.8333\",\n",
    "        \"    \",\n",
    "        \"; Include input.itp topology\", \n",
    "        \"#include \\\"input1.itp\\\"\",\n",
    "        \"    \",\n",
    "        \"[ system ]\",\n",
    "        \"input\",\n",
    "        \"     \",\n",
    "        \"[ molecules ]\",\n",
    "        \"; Compound        nmols\" ,\n",
    "        mol_name1 + \"          \" + str(int(num_mols1)), ]\n",
    "\n",
    "    with open(top_file, mode='w') as f:\n",
    "        f.write('\\n'.join(lines))\n",
    "\n",
    "    import sys\n",
    "    import mdtraj\n",
    "\n",
    "    # OpenMM Imports\n",
    "    import simtk.openmm as mm\n",
    "    import simtk.openmm.app as app\n",
    "    from openmmtools import integrators\n",
    "\n",
    "    # ParmEd Imports\n",
    "    from parmed import load_file\n",
    "    from parmed.openmm.reporters import NetCDFReporter\n",
    "    from parmed import unit as u\n",
    "\n",
    "    # Load in a gromacs system\n",
    "    from simtk.openmm import app\n",
    "    gro = app.GromacsGroFile('init.gro')\n",
    "    top = app.GromacsTopFile('system.top', periodicBoxVectors=gro.getPeriodicBoxVectors(), includeDir=\"./\")\n",
    "\n",
    "    # Equilibration\n",
    "    print('Creating OpenMM System')\n",
    "\n",
    "    system = top.createSystem(nonbondedMethod=app.PME,\n",
    "                  nonbondedCutoff=8.0*u.angstroms,\n",
    "                  #constraints=app.HBonds,\n",
    "                  removeCMMotion=True,\n",
    "    )\n",
    "\n",
    "    #barostat = mm.MonteCarloBarostat(eq_press*u.bar, eq_temp*u.kelvin,25)\n",
    "    #system.addForce(barostat)\n",
    "\n",
    "    # Create the integrator to do Langevin dynamics\n",
    "    #integrator = mm.LangevinIntegrator(\n",
    "    #                        eq_temp*u.kelvin,       # Temperature of heat bath\n",
    "    #                        1.0/u.picoseconds,  # Friction coefficient\n",
    "    #                        dt*u.femtoseconds, # Time step\n",
    "    #)\n",
    "\n",
    "    timestep = dt * u.femtoseconds\n",
    "    collision_rate = 1.0 / u.picoseconds\n",
    "    temperature = eq_temp * u.kelvin\n",
    "    integrator = integrators.AndersenVelocityVerletIntegrator(temperature, collision_rate, timestep)\n",
    "\n",
    "    # Define the platform to use; CUDA, OpenCL, CPU, or Reference. Or do not specify\n",
    "    # the platform to use the default (fastest) platform\n",
    "    platform = mm.Platform.getPlatformByName('CUDA')\n",
    "    prop = dict(CudaPrecision='mixed') # Use mixed single/double precision\n",
    "\n",
    "    # Create the Simulation object\n",
    "    sim = app.Simulation(top.topology, system, integrator, platform, prop)\n",
    "\n",
    "    # Set the particle positions\n",
    "    sim.context.setPositions(gro.positions)\n",
    "\n",
    "    # Minimize the energy\n",
    "    print('Minimizing energy')\n",
    "    sim.minimizeEnergy(maxIterations=10000)\n",
    "\n",
    "    #Relax the geometry \n",
    "    print('Running dynamics :Equilibration')\n",
    "    sim.context.setVelocitiesToTemperature(eq_temp*u.kelvin) \n",
    "    sim.reporters.append(\n",
    "        mdtraj.reporters.HDF5Reporter('eq_out.h5', 10000, coordinates=True, time=True, \n",
    "                                      cell=True, potentialEnergy=True, temperature=True))\n",
    "    sim.reporters.append(\n",
    "        app.StateDataReporter(\"eq_ene.csv\", 10000, step=True, potentialEnergy=True,\n",
    "                              kineticEnergy=True, temperature=True, volume=True,\n",
    "                              density=True))\n",
    "    sim.step(eq_steps)\n",
    "\n",
    "    del sim # Make sure to close all files\n",
    "    \n",
    "    print(\"elapsed time= {} sec.\".format(time.time()-init_time))\n",
    "\n",
    "    #Production Run \n",
    "    dens = []\n",
    "    inp_file = \"eq_out\"\n",
    "    nstlog =1000\n",
    "    for temp in temps :\n",
    "        out_file = \"resin\"+str(temp)\n",
    "        run_nvt(temp,dt,prod_steps,inp_file,out_file,nstlog)\n",
    "        data = pd.read_csv(out_file+\"ene.csv\")\n",
    "        dens.append(np.mean(data[\"Density (g/mL)\"])) \n",
    "        inp_file = out_file\n",
    "        dens=np.array(dens)\n",
    "    print(\"MD done. elapsed time= {} sec.\".format(time.time()-init_time))\n",
    "\n",
    "    import MDAnalysis as mda\n",
    "    import nglview as nv\n",
    "    from nglview.datafiles import PDB, XTC\n",
    "    import mdapackmol\n",
    "    import numpy as np\n",
    "    from ase import units\n",
    "    temp=temps[0]\n",
    "    traj =mdtraj.load(\"resin\"+str(temp)+\".h5\", 'r')\n",
    "    traj[-1].save_gro(\"eq.gro\")\n",
    "\n",
    "    #make mdp file for dielectric dispersion \n",
    "    mdp_file = \"system.mdp\"\n",
    "    \n",
    "    #grompp\n",
    "    !export OMP_NUM_THREADS=1 \n",
    "    commands = gromacs_home+\"gmx_mpi grompp -f system.mdp -p system.top -c eq.gro -o run.tpr -maxwarn 10 \"\n",
    "    proc = subprocess.run(commands, shell=True, stdout=PIPE, stderr=PIPE,encoding='utf-8')\n",
    "    output = proc.stdout\n",
    "\n",
    "    #mdrun\n",
    "    !export OMP_NUM_THREADS=6\n",
    "    commands = gromacs_home+\"gmx_mpi mdrun -s run.tpr -o run.trr -e run.edr -nb gpu\"\n",
    "    proc = subprocess.run(commands, shell=True, stdout=PIPE, stderr=PIPE,encoding='utf-8')\n",
    "    output = proc.stdout\n",
    "    print(\"mdrun done. elapsed time= {} sec.\".format(time.time()-init_time))\n",
    "    \n",
    "    #input.txt for g_dipoles trjconv \n",
    "    commands = \"echo System > input.txt\"\n",
    "\n",
    "    proc = subprocess.run(commands, shell=True, stdout=PIPE, stderr=PIPE,encoding='utf-8')\n",
    "    output = proc.stdout\n",
    "\n",
    "\n",
    "    #make pdb file including connect info.\n",
    "    #commands = gromacs_home+\"gmx trjconv -s run.tpr -f traj_comp.xtc -dump -1 -conect -o run.pdb < input.txt\"\n",
    "\n",
    "    #proc = subprocess.run(commands, shell=True, stdout=PIPE, stderr=PIPE,encoding='utf-8')\n",
    "    #output = proc.stdout\n",
    "\n",
    "\n",
    "    #resize xtc file \n",
    "    #commands = gromacs_home+\"gmx trjconv -s run.tpr -f traj_comp.xtc -dt 10 -o traj_comp_resize.xtc < input.txt\"\n",
    "\n",
    "    #proc = subprocess.run(commands, shell=True, stdout=PIPE, stderr=PIPE,encoding='utf-8')\n",
    "    #output = proc.stdout\n",
    "\n",
    "    #analysis \n",
    "    !export OMP_NUM_THREADS=1\n",
    "    commands = gromacs_home+\"gmx_mpi dipoles -s run.tpr -f traj_comp.xtc -o mtot1.xvg  -corr total -c acf1.xvg < input.txt\"\n",
    "\n",
    "    proc = subprocess.run(commands, shell=True, stdout=PIPE, stderr=PIPE,encoding='utf-8')\n",
    "    output = proc.stdout\n",
    "    print(\"traj. analysis done. elapsed time= {} sec.\".format(time.time()-init_time))\n",
    "\n",
    "    #誘電率の値を抽出する\n",
    "    import re\n",
    "    regex = re.compile(r'([+-]?[0-9]+\\.?[0-9]*)')\n",
    "    pred_eps = np.array(regex.findall(output[-18:-1])).astype(\"float\")[0]\n",
    "\n",
    "    import pandas as pd\n",
    "    acfs = pd.read_csv(\"acf1.xvg\",header=0,delim_whitespace=True,names=(\"time\",\"acf\"),skiprows=17)\n",
    "    #最終行を削除\n",
    "    acfs = acfs[:-1]\n",
    "\n",
    "    mtot = pd.read_csv(\"mtot1.xvg\",header=0,delim_whitespace=True,names=(\"time\",\"Mx\",\"My\",\"Mz\",\"Mt\"),skiprows=27)\n",
    "\n",
    "    return pred_eps,acfs,mtot\n",
    "    "
   ]
  },
  {
   "cell_type": "code",
   "execution_count": 9,
   "metadata": {
    "id": "2i5GY2EyEuUW",
    "outputId": "b9d85810-442f-4e1e-bca5-0b917b981af3",
    "scrolled": false
   },
   "outputs": [
    {
     "name": "stderr",
     "output_type": "stream",
     "text": [
      "  0%|          | 0/20 [00:00<?, ?it/s]/home/yamazaki/miniconda3/envs/openmm/lib/python3.6/site-packages/MDAnalysis/coordinates/PDB.py:1028: UserWarning: Found no information for attr: 'altLocs' Using default value of ' '\n",
      "  \"\".format(attrname, default))\n",
      "/home/yamazaki/miniconda3/envs/openmm/lib/python3.6/site-packages/MDAnalysis/coordinates/PDB.py:1028: UserWarning: Found no information for attr: 'icodes' Using default value of ' '\n",
      "  \"\".format(attrname, default))\n",
      "/home/yamazaki/miniconda3/envs/openmm/lib/python3.6/site-packages/MDAnalysis/coordinates/PDB.py:1028: UserWarning: Found no information for attr: 'occupancies' Using default value of '1.0'\n",
      "  \"\".format(attrname, default))\n",
      "/home/yamazaki/miniconda3/envs/openmm/lib/python3.6/site-packages/MDAnalysis/coordinates/PDB.py:1028: UserWarning: Found no information for attr: 'tempfactors' Using default value of '0.0'\n",
      "  \"\".format(attrname, default))\n"
     ]
    },
    {
     "name": "stdout",
     "output_type": "stream",
     "text": [
      "Creating OpenMM System\n",
      "Minimizing energy\n",
      "Running dynamics :Equilibration\n",
      "elapsed time= 59.6867470741272 sec.\n",
      "Creating OpenMM System\n",
      "Running dynamics :Production\n"
     ]
    },
    {
     "name": "stderr",
     "output_type": "stream",
     "text": [
      "/home/yamazaki/miniconda3/envs/openmm/lib/python3.6/site-packages/mdtraj/utils/validation.py:116: TypeCastPerformanceWarning: Casting xyz dtype=float64 to <class 'numpy.float32'> \n",
      "  TypeCastPerformanceWarning)\n"
     ]
    },
    {
     "name": "stdout",
     "output_type": "stream",
     "text": [
      "MD done. elapsed time= 75.36989331245422 sec.\n",
      "mdrun done. elapsed time= 194.79205536842346 sec.\n",
      "traj. analysis done. elapsed time= 263.58157324790955 sec.\n",
      "0.002\n"
     ]
    },
    {
     "name": "stderr",
     "output_type": "stream",
     "text": [
      "  5%|▌         | 1/20 [04:43<1:29:48, 283.59s/it]/home/yamazaki/miniconda3/envs/openmm/lib/python3.6/site-packages/MDAnalysis/coordinates/PDB.py:1028: UserWarning: Found no information for attr: 'altLocs' Using default value of ' '\n",
      "  \"\".format(attrname, default))\n",
      "/home/yamazaki/miniconda3/envs/openmm/lib/python3.6/site-packages/MDAnalysis/coordinates/PDB.py:1028: UserWarning: Found no information for attr: 'icodes' Using default value of ' '\n",
      "  \"\".format(attrname, default))\n",
      "/home/yamazaki/miniconda3/envs/openmm/lib/python3.6/site-packages/MDAnalysis/coordinates/PDB.py:1028: UserWarning: Found no information for attr: 'occupancies' Using default value of '1.0'\n",
      "  \"\".format(attrname, default))\n",
      "/home/yamazaki/miniconda3/envs/openmm/lib/python3.6/site-packages/MDAnalysis/coordinates/PDB.py:1028: UserWarning: Found no information for attr: 'tempfactors' Using default value of '0.0'\n",
      "  \"\".format(attrname, default))\n"
     ]
    },
    {
     "name": "stdout",
     "output_type": "stream",
     "text": [
      "Creating OpenMM System\n",
      "Minimizing energy\n",
      "Running dynamics :Equilibration\n",
      "elapsed time= 46.76357436180115 sec.\n",
      "Creating OpenMM System\n",
      "Running dynamics :Production\n"
     ]
    },
    {
     "name": "stderr",
     "output_type": "stream",
     "text": [
      "/home/yamazaki/miniconda3/envs/openmm/lib/python3.6/site-packages/mdtraj/utils/validation.py:116: TypeCastPerformanceWarning: Casting xyz dtype=float64 to <class 'numpy.float32'> \n",
      "  TypeCastPerformanceWarning)\n"
     ]
    },
    {
     "name": "stdout",
     "output_type": "stream",
     "text": [
      "MD done. elapsed time= 62.59156799316406 sec.\n",
      "mdrun done. elapsed time= 175.27296257019043 sec.\n",
      "traj. analysis done. elapsed time= 248.50465750694275 sec.\n",
      "0.002\n"
     ]
    },
    {
     "name": "stderr",
     "output_type": "stream",
     "text": [
      "\r",
      " 10%|█         | 2/20 [09:07<1:21:32, 271.83s/it]"
     ]
    },
    {
     "name": "stdout",
     "output_type": "stream",
     "text": [
      "Creating OpenMM System\n",
      "Minimizing energy\n",
      "Running dynamics :Equilibration\n",
      "elapsed time= 47.302443981170654 sec.\n",
      "Creating OpenMM System\n",
      "Running dynamics :Production\n",
      "MD done. elapsed time= 63.0416214466095 sec.\n",
      "mdrun done. elapsed time= 177.42605757713318 sec.\n",
      "traj. analysis done. elapsed time= 250.4949185848236 sec.\n",
      "0.002\n"
     ]
    },
    {
     "name": "stderr",
     "output_type": "stream",
     "text": [
      "\r",
      " 15%|█▌        | 3/20 [13:35<1:16:35, 270.35s/it]"
     ]
    },
    {
     "name": "stdout",
     "output_type": "stream",
     "text": [
      "Creating OpenMM System\n",
      "Minimizing energy\n",
      "Running dynamics :Equilibration\n",
      "elapsed time= 47.789560079574585 sec.\n",
      "Creating OpenMM System\n",
      "Running dynamics :Production\n",
      "MD done. elapsed time= 63.567418575286865 sec.\n",
      "mdrun done. elapsed time= 180.50308179855347 sec.\n",
      "traj. analysis done. elapsed time= 255.56991529464722 sec.\n",
      "0.002\n"
     ]
    },
    {
     "name": "stderr",
     "output_type": "stream",
     "text": [
      "\r",
      " 20%|██        | 4/20 [18:07<1:12:14, 270.93s/it]"
     ]
    },
    {
     "name": "stdout",
     "output_type": "stream",
     "text": [
      "Creating OpenMM System\n",
      "Minimizing energy\n",
      "Running dynamics :Equilibration\n",
      "elapsed time= 47.23973989486694 sec.\n",
      "Creating OpenMM System\n",
      "Running dynamics :Production\n",
      "MD done. elapsed time= 63.2068088054657 sec.\n",
      "mdrun done. elapsed time= 182.09874892234802 sec.\n",
      "traj. analysis done. elapsed time= 257.4331691265106 sec.\n",
      "0.002\n"
     ]
    },
    {
     "name": "stderr",
     "output_type": "stream",
     "text": [
      "\r",
      " 25%|██▌       | 5/20 [22:41<1:08:01, 272.11s/it]"
     ]
    },
    {
     "name": "stdout",
     "output_type": "stream",
     "text": [
      "Creating OpenMM System\n",
      "Minimizing energy\n",
      "Running dynamics :Equilibration\n",
      "elapsed time= 47.25013852119446 sec.\n",
      "Creating OpenMM System\n",
      "Running dynamics :Production\n",
      "MD done. elapsed time= 63.124345779418945 sec.\n",
      "mdrun done. elapsed time= 181.7749059200287 sec.\n",
      "traj. analysis done. elapsed time= 255.54421877861023 sec.\n",
      "0.002\n"
     ]
    },
    {
     "name": "stderr",
     "output_type": "stream",
     "text": [
      "\r",
      " 30%|███       | 6/20 [27:14<1:03:31, 272.28s/it]"
     ]
    },
    {
     "name": "stdout",
     "output_type": "stream",
     "text": [
      "Creating OpenMM System\n",
      "Minimizing energy\n",
      "Running dynamics :Equilibration\n",
      "elapsed time= 47.55234980583191 sec.\n",
      "Creating OpenMM System\n",
      "Running dynamics :Production\n",
      "MD done. elapsed time= 63.56983947753906 sec.\n",
      "mdrun done. elapsed time= 181.5038664340973 sec.\n",
      "traj. analysis done. elapsed time= 257.96353006362915 sec.\n",
      "0.002\n"
     ]
    },
    {
     "name": "stderr",
     "output_type": "stream",
     "text": [
      "\r",
      " 35%|███▌      | 7/20 [31:50<59:15, 273.49s/it]  "
     ]
    },
    {
     "name": "stdout",
     "output_type": "stream",
     "text": [
      "Creating OpenMM System\n",
      "Minimizing energy\n",
      "Running dynamics :Equilibration\n",
      "elapsed time= 48.28282880783081 sec.\n",
      "Creating OpenMM System\n",
      "Running dynamics :Production\n",
      "MD done. elapsed time= 64.196049451828 sec.\n",
      "mdrun done. elapsed time= 186.95573568344116 sec.\n",
      "traj. analysis done. elapsed time= 261.35048270225525 sec.\n",
      "0.002\n"
     ]
    },
    {
     "name": "stderr",
     "output_type": "stream",
     "text": [
      "\r",
      " 40%|████      | 8/20 [36:28<54:59, 274.95s/it]"
     ]
    },
    {
     "name": "stdout",
     "output_type": "stream",
     "text": [
      "Creating OpenMM System\n",
      "Minimizing energy\n",
      "Running dynamics :Equilibration\n",
      "elapsed time= 47.21459937095642 sec.\n",
      "Creating OpenMM System\n",
      "Running dynamics :Production\n",
      "MD done. elapsed time= 63.08127975463867 sec.\n",
      "mdrun done. elapsed time= 183.79872059822083 sec.\n",
      "traj. analysis done. elapsed time= 260.19805455207825 sec.\n",
      "0.002\n"
     ]
    },
    {
     "name": "stderr",
     "output_type": "stream",
     "text": [
      "\r",
      " 45%|████▌     | 9/20 [41:05<50:29, 275.45s/it]"
     ]
    },
    {
     "name": "stdout",
     "output_type": "stream",
     "text": [
      "Creating OpenMM System\n",
      "Minimizing energy\n",
      "Running dynamics :Equilibration\n",
      "elapsed time= 47.334389209747314 sec.\n",
      "Creating OpenMM System\n",
      "Running dynamics :Production\n",
      "MD done. elapsed time= 63.3156156539917 sec.\n",
      "mdrun done. elapsed time= 183.96464109420776 sec.\n",
      "traj. analysis done. elapsed time= 258.8268344402313 sec.\n",
      "0.002\n"
     ]
    },
    {
     "name": "stderr",
     "output_type": "stream",
     "text": [
      "\r",
      " 50%|█████     | 10/20 [45:40<45:55, 275.56s/it]"
     ]
    },
    {
     "name": "stdout",
     "output_type": "stream",
     "text": [
      "Creating OpenMM System\n",
      "Minimizing energy\n",
      "Running dynamics :Equilibration\n",
      "elapsed time= 47.39839196205139 sec.\n",
      "Creating OpenMM System\n",
      "Running dynamics :Production\n",
      "MD done. elapsed time= 63.46980595588684 sec.\n",
      "mdrun done. elapsed time= 185.0657603740692 sec.\n",
      "traj. analysis done. elapsed time= 259.9758996963501 sec.\n",
      "0.002\n"
     ]
    },
    {
     "name": "stderr",
     "output_type": "stream",
     "text": [
      "\r",
      " 55%|█████▌    | 11/20 [50:17<41:23, 275.96s/it]"
     ]
    },
    {
     "name": "stdout",
     "output_type": "stream",
     "text": [
      "Creating OpenMM System\n",
      "Minimizing energy\n",
      "Running dynamics :Equilibration\n",
      "elapsed time= 47.617220878601074 sec.\n",
      "Creating OpenMM System\n",
      "Running dynamics :Production\n",
      "MD done. elapsed time= 63.63734412193298 sec.\n",
      "mdrun done. elapsed time= 187.68352794647217 sec.\n",
      "traj. analysis done. elapsed time= 264.670939207077 sec.\n",
      "0.002\n"
     ]
    },
    {
     "name": "stderr",
     "output_type": "stream",
     "text": [
      "\r",
      " 60%|██████    | 12/20 [54:59<37:00, 277.61s/it]"
     ]
    },
    {
     "name": "stdout",
     "output_type": "stream",
     "text": [
      "Creating OpenMM System\n",
      "Minimizing energy\n",
      "Running dynamics :Equilibration\n",
      "elapsed time= 47.72706079483032 sec.\n",
      "Creating OpenMM System\n",
      "Running dynamics :Production\n",
      "MD done. elapsed time= 63.769126892089844 sec.\n",
      "mdrun done. elapsed time= 186.51636004447937 sec.\n",
      "traj. analysis done. elapsed time= 261.646968126297 sec.\n",
      "0.002\n"
     ]
    },
    {
     "name": "stderr",
     "output_type": "stream",
     "text": [
      "\r",
      " 65%|██████▌   | 13/20 [59:37<32:25, 277.97s/it]"
     ]
    },
    {
     "name": "stdout",
     "output_type": "stream",
     "text": [
      "Creating OpenMM System\n",
      "Minimizing energy\n",
      "Running dynamics :Equilibration\n",
      "elapsed time= 47.570515155792236 sec.\n",
      "Creating OpenMM System\n",
      "Running dynamics :Production\n",
      "MD done. elapsed time= 63.55286908149719 sec.\n",
      "mdrun done. elapsed time= 186.31347012519836 sec.\n",
      "traj. analysis done. elapsed time= 261.11244535446167 sec.\n",
      "0.002\n"
     ]
    },
    {
     "name": "stderr",
     "output_type": "stream",
     "text": [
      "\r",
      " 70%|███████   | 14/20 [1:04:15<27:47, 277.99s/it]"
     ]
    },
    {
     "name": "stdout",
     "output_type": "stream",
     "text": [
      "Creating OpenMM System\n",
      "Minimizing energy\n",
      "Running dynamics :Equilibration\n",
      "elapsed time= 47.27302265167236 sec.\n",
      "Creating OpenMM System\n",
      "Running dynamics :Production\n",
      "MD done. elapsed time= 63.314044713974 sec.\n",
      "mdrun done. elapsed time= 186.8830623626709 sec.\n",
      "traj. analysis done. elapsed time= 263.46957874298096 sec.\n",
      "0.002\n"
     ]
    },
    {
     "name": "stderr",
     "output_type": "stream",
     "text": [
      "\r",
      " 75%|███████▌  | 15/20 [1:08:57<23:15, 279.09s/it]"
     ]
    },
    {
     "name": "stdout",
     "output_type": "stream",
     "text": [
      "Creating OpenMM System\n",
      "Minimizing energy\n",
      "Running dynamics :Equilibration\n",
      "elapsed time= 48.25410318374634 sec.\n",
      "Creating OpenMM System\n",
      "Running dynamics :Production\n",
      "MD done. elapsed time= 64.33146262168884 sec.\n",
      "mdrun done. elapsed time= 186.74632692337036 sec.\n",
      "traj. analysis done. elapsed time= 262.0578579902649 sec.\n",
      "0.002\n"
     ]
    },
    {
     "name": "stderr",
     "output_type": "stream",
     "text": [
      "\r",
      " 80%|████████  | 16/20 [1:13:36<18:36, 279.06s/it]"
     ]
    },
    {
     "name": "stdout",
     "output_type": "stream",
     "text": [
      "Creating OpenMM System\n",
      "Minimizing energy\n",
      "Running dynamics :Equilibration\n",
      "elapsed time= 47.64222598075867 sec.\n",
      "Creating OpenMM System\n",
      "Running dynamics :Production\n",
      "MD done. elapsed time= 63.706077575683594 sec.\n",
      "mdrun done. elapsed time= 188.49961733818054 sec.\n",
      "traj. analysis done. elapsed time= 263.7789378166199 sec.\n",
      "0.002\n"
     ]
    },
    {
     "name": "stderr",
     "output_type": "stream",
     "text": [
      "\r",
      " 85%|████████▌ | 17/20 [1:18:17<13:58, 279.54s/it]"
     ]
    },
    {
     "name": "stdout",
     "output_type": "stream",
     "text": [
      "Creating OpenMM System\n",
      "Minimizing energy\n",
      "Running dynamics :Equilibration\n",
      "elapsed time= 47.63132166862488 sec.\n",
      "Creating OpenMM System\n",
      "Running dynamics :Production\n",
      "MD done. elapsed time= 63.92694306373596 sec.\n",
      "mdrun done. elapsed time= 192.77277827262878 sec.\n",
      "traj. analysis done. elapsed time= 271.2263813018799 sec.\n",
      "0.002\n"
     ]
    },
    {
     "name": "stderr",
     "output_type": "stream",
     "text": [
      "\r",
      " 90%|█████████ | 18/20 [1:23:04<09:24, 282.00s/it]"
     ]
    },
    {
     "name": "stdout",
     "output_type": "stream",
     "text": [
      "Creating OpenMM System\n",
      "Minimizing energy\n",
      "Running dynamics :Equilibration\n"
     ]
    },
    {
     "name": "stderr",
     "output_type": "stream",
     "text": [
      " 90%|█████████ | 18/20 [1:23:05<09:13, 276.98s/it]\n"
     ]
    },
    {
     "ename": "Exception",
     "evalue": "Particle coordinate is nan",
     "output_type": "error",
     "traceback": [
      "\u001b[0;31m---------------------------------------------------------------------------\u001b[0m",
      "\u001b[0;31mException\u001b[0m                                 Traceback (most recent call last)",
      "\u001b[0;32m<ipython-input-9-f10a3ac21790>\u001b[0m in \u001b[0;36m<module>\u001b[0;34m()\u001b[0m\n\u001b[1;32m     24\u001b[0m \u001b[0mcycle\u001b[0m \u001b[0;34m=\u001b[0m \u001b[0;36m20\u001b[0m\u001b[0;34m\u001b[0m\u001b[0;34m\u001b[0m\u001b[0m\n\u001b[1;32m     25\u001b[0m \u001b[0;32mfor\u001b[0m \u001b[0mi\u001b[0m \u001b[0;32min\u001b[0m \u001b[0mtqdm\u001b[0m\u001b[0;34m(\u001b[0m\u001b[0mrange\u001b[0m\u001b[0;34m(\u001b[0m\u001b[0mcycle\u001b[0m\u001b[0;34m)\u001b[0m\u001b[0;34m)\u001b[0m\u001b[0;34m:\u001b[0m\u001b[0;34m\u001b[0m\u001b[0;34m\u001b[0m\u001b[0m\n\u001b[0;32m---> 26\u001b[0;31m     \u001b[0mpred_eps\u001b[0m\u001b[0;34m,\u001b[0m\u001b[0macfs\u001b[0m\u001b[0;34m,\u001b[0m\u001b[0mmtot\u001b[0m\u001b[0;34m=\u001b[0m\u001b[0mcalc\u001b[0m\u001b[0;34m(\u001b[0m\u001b[0mdt\u001b[0m\u001b[0;34m)\u001b[0m\u001b[0;34m\u001b[0m\u001b[0;34m\u001b[0m\u001b[0m\n\u001b[0m\u001b[1;32m     27\u001b[0m     \u001b[0macfs\u001b[0m\u001b[0;34m[\u001b[0m\u001b[0;34m\"time\"\u001b[0m\u001b[0;34m]\u001b[0m\u001b[0;34m=\u001b[0m\u001b[0macfs\u001b[0m\u001b[0;34m[\u001b[0m\u001b[0;34m\"time\"\u001b[0m\u001b[0;34m]\u001b[0m\u001b[0;34m.\u001b[0m\u001b[0mastype\u001b[0m\u001b[0;34m(\u001b[0m\u001b[0mfloat\u001b[0m\u001b[0;34m)\u001b[0m\u001b[0;34m\u001b[0m\u001b[0;34m\u001b[0m\u001b[0m\n\u001b[1;32m     28\u001b[0m     \u001b[0mtime_dmdt\u001b[0m\u001b[0;34m,\u001b[0m\u001b[0macf_dmdt\u001b[0m\u001b[0;34m,\u001b[0m\u001b[0mM2\u001b[0m\u001b[0;34m,\u001b[0m\u001b[0mdM2\u001b[0m\u001b[0;34m,\u001b[0m\u001b[0mdMM\u001b[0m \u001b[0;34m=\u001b[0m \u001b[0mcalc_dt_dipole_acf\u001b[0m\u001b[0;34m(\u001b[0m\u001b[0mmtot\u001b[0m\u001b[0;34m)\u001b[0m\u001b[0;34m\u001b[0m\u001b[0;34m\u001b[0m\u001b[0m\n",
      "\u001b[0;32m<ipython-input-8-f0a6b2a72665>\u001b[0m in \u001b[0;36mcalc\u001b[0;34m(dt)\u001b[0m\n\u001b[1;32m    153\u001b[0m                               \u001b[0mkineticEnergy\u001b[0m\u001b[0;34m=\u001b[0m\u001b[0;32mTrue\u001b[0m\u001b[0;34m,\u001b[0m \u001b[0mtemperature\u001b[0m\u001b[0;34m=\u001b[0m\u001b[0;32mTrue\u001b[0m\u001b[0;34m,\u001b[0m \u001b[0mvolume\u001b[0m\u001b[0;34m=\u001b[0m\u001b[0;32mTrue\u001b[0m\u001b[0;34m,\u001b[0m\u001b[0;34m\u001b[0m\u001b[0;34m\u001b[0m\u001b[0m\n\u001b[1;32m    154\u001b[0m                               density=True))\n\u001b[0;32m--> 155\u001b[0;31m     \u001b[0msim\u001b[0m\u001b[0;34m.\u001b[0m\u001b[0mstep\u001b[0m\u001b[0;34m(\u001b[0m\u001b[0meq_steps\u001b[0m\u001b[0;34m)\u001b[0m\u001b[0;34m\u001b[0m\u001b[0;34m\u001b[0m\u001b[0m\n\u001b[0m\u001b[1;32m    156\u001b[0m \u001b[0;34m\u001b[0m\u001b[0m\n\u001b[1;32m    157\u001b[0m     \u001b[0;32mdel\u001b[0m \u001b[0msim\u001b[0m \u001b[0;31m# Make sure to close all files\u001b[0m\u001b[0;34m\u001b[0m\u001b[0;34m\u001b[0m\u001b[0m\n",
      "\u001b[0;32m/home/yamazaki/miniconda3/envs/openmm/lib/python3.6/site-packages/simtk/openmm/app/simulation.py\u001b[0m in \u001b[0;36mstep\u001b[0;34m(self, steps)\u001b[0m\n\u001b[1;32m    130\u001b[0m     \u001b[0;32mdef\u001b[0m \u001b[0mstep\u001b[0m\u001b[0;34m(\u001b[0m\u001b[0mself\u001b[0m\u001b[0;34m,\u001b[0m \u001b[0msteps\u001b[0m\u001b[0;34m)\u001b[0m\u001b[0;34m:\u001b[0m\u001b[0;34m\u001b[0m\u001b[0;34m\u001b[0m\u001b[0m\n\u001b[1;32m    131\u001b[0m         \u001b[0;34m\"\"\"Advance the simulation by integrating a specified number of time steps.\"\"\"\u001b[0m\u001b[0;34m\u001b[0m\u001b[0;34m\u001b[0m\u001b[0m\n\u001b[0;32m--> 132\u001b[0;31m         \u001b[0mself\u001b[0m\u001b[0;34m.\u001b[0m\u001b[0m_simulate\u001b[0m\u001b[0;34m(\u001b[0m\u001b[0mendStep\u001b[0m\u001b[0;34m=\u001b[0m\u001b[0mself\u001b[0m\u001b[0;34m.\u001b[0m\u001b[0mcurrentStep\u001b[0m\u001b[0;34m+\u001b[0m\u001b[0msteps\u001b[0m\u001b[0;34m)\u001b[0m\u001b[0;34m\u001b[0m\u001b[0;34m\u001b[0m\u001b[0m\n\u001b[0m\u001b[1;32m    133\u001b[0m \u001b[0;34m\u001b[0m\u001b[0m\n\u001b[1;32m    134\u001b[0m     \u001b[0;32mdef\u001b[0m \u001b[0mrunForClockTime\u001b[0m\u001b[0;34m(\u001b[0m\u001b[0mself\u001b[0m\u001b[0;34m,\u001b[0m \u001b[0mtime\u001b[0m\u001b[0;34m,\u001b[0m \u001b[0mcheckpointFile\u001b[0m\u001b[0;34m=\u001b[0m\u001b[0;32mNone\u001b[0m\u001b[0;34m,\u001b[0m \u001b[0mstateFile\u001b[0m\u001b[0;34m=\u001b[0m\u001b[0;32mNone\u001b[0m\u001b[0;34m,\u001b[0m \u001b[0mcheckpointInterval\u001b[0m\u001b[0;34m=\u001b[0m\u001b[0;32mNone\u001b[0m\u001b[0;34m)\u001b[0m\u001b[0;34m:\u001b[0m\u001b[0;34m\u001b[0m\u001b[0;34m\u001b[0m\u001b[0m\n",
      "\u001b[0;32m/home/yamazaki/miniconda3/envs/openmm/lib/python3.6/site-packages/simtk/openmm/app/simulation.py\u001b[0m in \u001b[0;36m_simulate\u001b[0;34m(self, endStep, endTime)\u001b[0m\n\u001b[1;32m    195\u001b[0m             \u001b[0mstepsToGo\u001b[0m \u001b[0;34m=\u001b[0m \u001b[0mnextSteps\u001b[0m\u001b[0;34m\u001b[0m\u001b[0;34m\u001b[0m\u001b[0m\n\u001b[1;32m    196\u001b[0m             \u001b[0;32mwhile\u001b[0m \u001b[0mstepsToGo\u001b[0m \u001b[0;34m>\u001b[0m \u001b[0;36m10\u001b[0m\u001b[0;34m:\u001b[0m\u001b[0;34m\u001b[0m\u001b[0;34m\u001b[0m\u001b[0m\n\u001b[0;32m--> 197\u001b[0;31m                 \u001b[0mself\u001b[0m\u001b[0;34m.\u001b[0m\u001b[0mintegrator\u001b[0m\u001b[0;34m.\u001b[0m\u001b[0mstep\u001b[0m\u001b[0;34m(\u001b[0m\u001b[0;36m10\u001b[0m\u001b[0;34m)\u001b[0m \u001b[0;31m# Only take 10 steps at a time, to give Python more chances to respond to a control-c.\u001b[0m\u001b[0;34m\u001b[0m\u001b[0;34m\u001b[0m\u001b[0m\n\u001b[0m\u001b[1;32m    198\u001b[0m                 \u001b[0mself\u001b[0m\u001b[0;34m.\u001b[0m\u001b[0mcurrentStep\u001b[0m \u001b[0;34m+=\u001b[0m \u001b[0;36m10\u001b[0m\u001b[0;34m\u001b[0m\u001b[0;34m\u001b[0m\u001b[0m\n\u001b[1;32m    199\u001b[0m                 \u001b[0mstepsToGo\u001b[0m \u001b[0;34m-=\u001b[0m \u001b[0;36m10\u001b[0m\u001b[0;34m\u001b[0m\u001b[0;34m\u001b[0m\u001b[0m\n",
      "\u001b[0;32m/home/yamazaki/miniconda3/envs/openmm/lib/python3.6/site-packages/simtk/openmm/openmm.py\u001b[0m in \u001b[0;36mstep\u001b[0;34m(self, steps)\u001b[0m\n\u001b[1;32m   2723\u001b[0m             \u001b[0mthe\u001b[0m \u001b[0mnumber\u001b[0m \u001b[0mof\u001b[0m \u001b[0mtime\u001b[0m \u001b[0msteps\u001b[0m \u001b[0mto\u001b[0m \u001b[0mtake\u001b[0m\u001b[0;34m\u001b[0m\u001b[0;34m\u001b[0m\u001b[0m\n\u001b[1;32m   2724\u001b[0m         \"\"\"\n\u001b[0;32m-> 2725\u001b[0;31m         \u001b[0;32mreturn\u001b[0m \u001b[0m_openmm\u001b[0m\u001b[0;34m.\u001b[0m\u001b[0mCustomIntegrator_step\u001b[0m\u001b[0;34m(\u001b[0m\u001b[0mself\u001b[0m\u001b[0;34m,\u001b[0m \u001b[0msteps\u001b[0m\u001b[0;34m)\u001b[0m\u001b[0;34m\u001b[0m\u001b[0;34m\u001b[0m\u001b[0m\n\u001b[0m\u001b[1;32m   2726\u001b[0m \u001b[0;34m\u001b[0m\u001b[0m\n\u001b[1;32m   2727\u001b[0m \u001b[0;34m\u001b[0m\u001b[0m\n",
      "\u001b[0;31mException\u001b[0m: Particle coordinate is nan"
     ]
    }
   ],
   "source": [
    "import copy \n",
    "import pandas as pd \n",
    "from tqdm import tqdm\n",
    "\n",
    "def calc_dt_dipole_acf(m):\n",
    "    import statsmodels.api as sm\n",
    "    import numpy as np\n",
    "    mtot = m\n",
    "    time = mtot[\"time\"].to_numpy()\n",
    "    dt = time[1]-time[0]\n",
    "    print(dt)\n",
    "    dmdt = (mtot[\"Mt\"][2:].to_numpy() - mtot[\"Mt\"][:-2].to_numpy())/(2.0*dt)\n",
    "    dtime = time[1:-1]\n",
    "    N=int(len(dmdt)/2)\n",
    "    acf = sm.tsa.stattools.acf(dmdt,nlags=N,fft=False)\n",
    "\n",
    "    M2    = np.mean(mtot[\"Mt\"].to_numpy()**2)\n",
    "    dmdt2 = np.mean(dmdt**2)\n",
    "    cut_m = mtot[\"Mt\"].to_numpy()[1:-1]\n",
    "    dmdtM = np.mean(dmdt*cut_m)\n",
    "    \n",
    "    return [dtime[:len(acf)],acf,M2,dmdt2,dmdtM]\n",
    "    \n",
    "cycle = 20\n",
    "for i in tqdm(range(cycle)):\n",
    "    pred_eps,acfs,mtot=calc(dt)\n",
    "    acfs[\"time\"]=acfs[\"time\"].astype(float)\n",
    "    time_dmdt,acf_dmdt,M2,dM2,dMM = calc_dt_dipole_acf(mtot)\n",
    "    \n",
    "    if i==0 :\n",
    "        pred_eps_ave = copy.deepcopy(pred_eps)\n",
    "        acfs_ave = copy.deepcopy(acfs)\n",
    "        acf_from_mtot_ave = acf_dmdt\n",
    "        M2_ave  = M2\n",
    "        dM2_ave = dM2\n",
    "        dMM_ave = dMM\n",
    "        \n",
    "    if i > 0 :\n",
    "        pred_eps_ave = (float(i)*pred_eps_ave + pred_eps) /(float(i)+1.0)\n",
    "        c1 =float(2.0*i/(i+1))\n",
    "        c2 =float(2.0/(i+1))\n",
    "        df_concat = pd.concat((c1*acfs_ave, c2*acfs))\n",
    "        by_row_index = df_concat.groupby(df_concat.index)\n",
    "        acfs_ave = by_row_index.mean()\n",
    "        acf_from_mtot_ave = (c1*acf_from_mtot_ave + c2*acf_dmdt)/2.0\n",
    "        M2_ave  = (c1*M2_ave + c2*M2)/2.0\n",
    "        dM2_ave = (c1*dM2_ave + c2*dM2)/2.0\n",
    "        dMM_ave = (c1*dMM_ave + c2*dMM)/2.0\n"
   ]
  },
  {
   "cell_type": "code",
   "execution_count": 10,
   "metadata": {
    "id": "vmjS79GUEuUW",
    "outputId": "52e676f8-d3b0-4cb0-fe70-9b2388e68ea9",
    "scrolled": true
   },
   "outputs": [
    {
     "data": {
      "image/png": "[encoded data removed]",
      "text/plain": [
       "<Figure size 432x288 with 1 Axes>"
      ]
     },
     "metadata": {
      "needs_background": "light"
     },
     "output_type": "display_data"
    }
   ],
   "source": [
    "import matplotlib.pyplot as plt\n",
    "%matplotlib inline\n",
    "\n",
    "time = acfs_ave[\"time\"].astype(\"float\")\n",
    "x00 = acfs_ave[\"acf\"].astype(\"float\")\n",
    "plt.plot(time, x00 , label=\"water\")\n",
    "\n",
    "plt.xscale(\"log\")\n",
    "plt.legend()\n",
    "\n",
    "plt.xlabel(\"time [ps]\")\n",
    "plt.ylabel(\"dipole moment autocorrelation function\")\n",
    "plt.show()"
   ]
  },
  {
   "cell_type": "code",
   "execution_count": 11,
   "metadata": {
    "id": "swn4HJlsEuUX",
    "outputId": "e988d122-edf3-4335-b47a-0b960669c96d"
   },
   "outputs": [
    {
     "data": {
      "image/png": "[encoded data removed]",
      "text/plain": [
       "<Figure size 432x288 with 1 Axes>"
      ]
     },
     "metadata": {
      "needs_background": "light"
     },
     "output_type": "display_data"
    }
   ],
   "source": [
    "import statsmodels.api as sm\n",
    "time = mtot[\"time\"].to_numpy()[:len(acf_from_mtot_ave)]\n",
    "plt.plot(time, acf_from_mtot_ave, label=\"acf\")\n",
    "plt.xscale(\"log\")\n",
    "plt.legend()\n",
    "\n",
    "plt.xlabel(\"time [ps]\")\n",
    "plt.ylabel(\"time derivative dipole moment autocorrelation function\")\n",
    "\n",
    "plt.show()"
   ]
  },
  {
   "cell_type": "code",
   "execution_count": 12,
   "metadata": {
    "id": "sDm4cibMEuUX",
    "outputId": "dec67e39-5f34-4556-b2ad-59e125548abe"
   },
   "outputs": [
    {
     "data": {
      "image/png": "[encoded data removed]",
      "text/plain": [
       "<Figure size 432x288 with 1 Axes>"
      ]
     },
     "metadata": {
      "needs_background": "light"
     },
     "output_type": "display_data"
    }
   ],
   "source": [
    "import numpy as np\n",
    "alpha=0.1\n",
    "acf2=acf_from_mtot_ave*np.exp(-alpha*time[:len(acf_from_mtot_ave)]**2)\n",
    "w = (2.0 * np.pi * np.arange(len(acf2)) /(len(acf2)))/(time[1]-time[0])\n",
    "f = w / (2.0*np.pi)\n",
    "fcm = f*33.3\n",
    "from scipy import fftpack\n",
    "fft2 = fftpack.fft(acf2)\n",
    "indx=int(len(fft2.real)/2)\n",
    "plt.xlim(0,4000)\n",
    "plt.plot(fcm[:indx], fft2.real[:indx] , label=\"water\")\n",
    "plt.gca().invert_xaxis()\n",
    "plt.gca().patch.set_alpha(0)\n",
    "plt.legend()\n",
    "\n",
    "plt.xlabel(\"frequency [cm-1]\")\n",
    "plt.ylabel(\"absorbance(arb.)\")\n",
    "\n",
    "plt.show()"
   ]
  },
  {
   "cell_type": "code",
   "execution_count": 13,
   "metadata": {},
   "outputs": [
    {
     "data": {
      "image/png": "[encoded data removed]",
      "text/plain": [
       "<Figure size 432x288 with 1 Axes>"
      ]
     },
     "metadata": {
      "needs_background": "light"
     },
     "output_type": "display_data"
    }
   ],
   "source": [
    "import numpy as np\n",
    "from scipy import fftpack\n",
    "\n",
    "eps_inf = 1 \n",
    "eps_0 = pred_eps_ave\n",
    "\n",
    "w = (2.0 * np.pi * np.arange(len(acf2)) /(len(acf2)))/(time[1]-time[0])\n",
    "f = w / (2.0*np.pi)\n",
    "\n",
    "Cm = acfs_ave[\"acf\"].astype(\"float\").to_numpy()\n",
    "N=len(Cm)\n",
    "fftCm = fftpack.fft(Cm)\n",
    "indx=int(len(fftCm.real)/2)\n",
    "\n",
    "# 正規化 √Nで割る\n",
    "fftCm = fftCm/(np.sqrt(N))\n",
    "\n",
    "eps1 = eps_0+w[1:indx]*(eps_0-eps_inf)*fftCm.imag[1:indx]\n",
    "eps2 =       w[1:indx]*(eps_0-eps_inf)*fftCm.real[1:indx]\n",
    "\n",
    "#eps1 = fftCm.imag[1:indx]*w[1:indx]\n",
    "\n",
    "plt.xlim(0.001,10)\n",
    "plt.plot(f[1:indx], eps1 , label=\"eps1\")\n",
    "plt.plot(f[1:indx], eps2 , label=\"eps2\")\n",
    "\n",
    "plt.legend()\n",
    "\n",
    "plt.xlabel(\"frequency [THz]\")\n",
    "plt.ylabel(\"eps1,eps2\")\n",
    "\n",
    "plt.xscale(\"log\") \n",
    "\n",
    "plt.show()"
   ]
  },
  {
   "cell_type": "code",
   "execution_count": 14,
   "metadata": {},
   "outputs": [
    {
     "data": {
      "image/png": "[encoded data removed]",
      "text/plain": [
       "<Figure size 432x288 with 1 Axes>"
      ]
     },
     "metadata": {
      "needs_background": "light"
     },
     "output_type": "display_data"
    }
   ],
   "source": [
    "import numpy as np\n",
    "\n",
    "w = (2.0 * np.pi * np.arange(len(acf2)) /(len(acf2)))/(time[1]-time[0])\n",
    "f = w / (2.0*np.pi)\n",
    "\n",
    "from scipy import fftpack\n",
    "N = len(acf_from_mtot_ave)\n",
    "fft2 = fftpack.fft(acf_from_mtot_ave)/(np.sqrt(N))\n",
    "indx=int(len(fft2.real)/2)\n",
    "plt.xlim(0.001,10)\n",
    "plt.plot(f[1:indx], fft2.real[1:indx]/w[1:indx], label=\"wat\")\n",
    "plt.plot(f[1:indx], fft2.real[1:indx], label=\"wat\")\n",
    "plt.legend()\n",
    "\n",
    "plt.xlabel(\"frequency [THz]\")\n",
    "plt.ylabel(\"absorbance(arb.)\")\n",
    "\n",
    "plt.xscale(\"log\") \n",
    "\n",
    "plt.show()"
   ]
  },
  {
   "cell_type": "code",
   "execution_count": 15,
   "metadata": {},
   "outputs": [],
   "source": [
    "#XTCを間引く\n",
    "import subprocess\n",
    "from subprocess import PIPE\n",
    "steps = 0.01\n",
    "!export OMP_NUM_THREADS=1\n",
    "!echo System > input.txt\n",
    "commands = gromacs_home+\"gmx_mpi trjconv -s run.tpr -f traj_comp.xtc -dt {} -pbc mol -o traj_pbc.xtc  < input.txt\".format(steps)\n",
    "proc = subprocess.run(commands, shell=True, stdout=PIPE, stderr=PIPE,encoding='utf-8')\n",
    "output = proc.stdout"
   ]
  },
  {
   "cell_type": "code",
   "execution_count": 16,
   "metadata": {},
   "outputs": [
    {
     "data": {
      "application/vnd.jupyter.widget-view+json": {
       "model_id": "0ea74633613742bf84e18a800d47f11a",
       "version_major": 2,
       "version_minor": 0
      },
      "text/plain": [
       "NGLWidget(max_frame=100000)"
      ]
     },
     "metadata": {},
     "output_type": "display_data"
    },
    {
     "data": {
      "application/vnd.jupyter.widget-view+json": {
       "model_id": "98c00f40e32e405aa5052d91022dbba0",
       "version_major": 2,
       "version_minor": 0
      },
      "text/plain": [
       "Tab(children=(Box(children=(Box(children=(Box(children=(Label(value='step'), IntSlider(value=1, min=-100)), la…"
      ]
     },
     "metadata": {},
     "output_type": "display_data"
    }
   ],
   "source": [
    "#分子運動の可視化\n",
    "# Load in a gromacs system\n",
    "from simtk.openmm import app\n",
    "import mdtraj\n",
    "#gro = app.GromacsGroFile('eq.gro')\n",
    "eq_traj = mdtraj.load('resin300.h5', 'r')\n",
    "eq_traj[-1].save_pdb(\"traj.pdb\")\n",
    "\n",
    "#n_total_atoms = len(gro.getPositions())\n",
    "traj=mdtraj.load('traj_pbc.xtc',top=\"traj.pdb\")\n",
    "view=nv.show_mdtraj(traj,gui=True)\n",
    "view.clear_representations()\n",
    "view.parameters =dict(camera_type=\"orthographic\",backgraound_color=\"black\",clip_dist=0)\n",
    "view.add_representation(\"ball+stick\")\n",
    "view.add_unitcell()\n",
    "view.update_unitcell()\n",
    "view"
   ]
  },
  {
   "cell_type": "code",
   "execution_count": null,
   "metadata": {},
   "outputs": [],
   "source": []
  }
 ],
 "metadata": {
  "colab": {
   "name": "dipoles_gromacs_IR.ipynb",
   "provenance": []
  },
  "kernelspec": {
   "display_name": "Python 3",
   "language": "python",
   "name": "python3"
  },
  "language_info": {
   "codemirror_mode": {
    "name": "ipython",
    "version": 3
   },
   "file_extension": ".py",
   "mimetype": "text/x-python",
   "name": "python",
   "nbconvert_exporter": "python",
   "pygments_lexer": "ipython3",
   "version": "3.6.12"
  }
 },
 "nbformat": 4,
 "nbformat_minor": 1
}
