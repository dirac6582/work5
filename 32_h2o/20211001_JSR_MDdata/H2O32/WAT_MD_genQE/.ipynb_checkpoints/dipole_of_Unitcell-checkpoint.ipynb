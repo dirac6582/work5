{
 "cells": [
  {
   "cell_type": "markdown",
   "metadata": {},
   "source": [
    "【目的】  \n",
    "弊社の誘電スペクトルの計算においてGromacsの解析ツールの\"gmx dipoles\"を使い  \n",
    "Unit Cellの双極子モーメントを計算しているが、周期境界をはみ出した電荷についてはどのように扱われて  \n",
    "いるのかを調査する。  \n",
    "\n",
    "【方法】  \n",
    "ここでは1,3-プロパンジオール (HO-CH2CH2CH2-OH)を用いて、Unit Cell内にガス状態で分散させ、  \n",
    "分子の中心は周期境界を跨いではいないが、端のOH基がはみ出しているような構造を作る。  \n",
    "gmx dipolesで解析した値と原子座標Rと電荷qよりμ=qrで計算した値とを比較する。  "
   ]
  },
  {
   "cell_type": "code",
   "execution_count": 1,
   "metadata": {},
   "outputs": [],
   "source": [
    "!rm -r -f input.acpype\n",
    "!ls ./ |  grep -v -E 'RFmodels|inputs|dipole_of_Unitcell.ipynb' | xargs rm -rf \n",
    "!mkdir output"
   ]
  },
  {
   "cell_type": "code",
   "execution_count": 2,
   "metadata": {},
   "outputs": [],
   "source": [
    "import pandas as pd\n",
    "poly = pd.read_csv(\"./inputs/propanediol.csv\")\n",
    "#poly = poly[1:].reset_index(drop=True)"
   ]
  },
  {
   "cell_type": "code",
   "execution_count": 3,
   "metadata": {
    "scrolled": true
   },
   "outputs": [
    {
     "data": {
      "text/html": [
       "<div>\n",
       "<style scoped>\n",
       "    .dataframe tbody tr th:only-of-type {\n",
       "        vertical-align: middle;\n",
       "    }\n",
       "\n",
       "    .dataframe tbody tr th {\n",
       "        vertical-align: top;\n",
       "    }\n",
       "\n",
       "    .dataframe thead th {\n",
       "        text-align: right;\n",
       "    }\n",
       "</style>\n",
       "<table border=\"1\" class=\"dataframe\">\n",
       "  <thead>\n",
       "    <tr style=\"text-align: right;\">\n",
       "      <th></th>\n",
       "      <th>Smiles</th>\n",
       "      <th>Name</th>\n",
       "    </tr>\n",
       "  </thead>\n",
       "  <tbody>\n",
       "    <tr>\n",
       "      <th>0</th>\n",
       "      <td>OCCCO</td>\n",
       "      <td>PRD</td>\n",
       "    </tr>\n",
       "  </tbody>\n",
       "</table>\n",
       "</div>"
      ],
      "text/plain": [
       "  Smiles Name\n",
       "0  OCCCO  PRD"
      ]
     },
     "execution_count": 3,
     "metadata": {},
     "output_type": "execute_result"
    }
   ],
   "source": [
    "poly"
   ]
  },
  {
   "cell_type": "code",
   "execution_count": 4,
   "metadata": {},
   "outputs": [],
   "source": [
    "import pandas as pd\n",
    "\n",
    "from rdkit import Chem\n",
    "from rdkit.Chem import Draw\n",
    "from rdkit.Chem import Descriptors\n",
    "from rdkit.ML.Descriptors import MoleculeDescriptors\n",
    "from rdkit.Chem import PandasTools\n",
    "\n",
    "#化学構造のsmilesリストを準備する\n",
    "smiles_list_polymer = poly[\"Smiles\"].to_list()\n",
    "\n",
    "\n",
    "# 化合物のラベルを作成\n",
    "label_list = poly[\"Name\"].to_list()\n",
    "\n",
    "# molオブジェクトのリストを作成\n",
    "mols_list_polymer = [Chem.MolFromSmiles(smile) for smile in smiles_list_polymer]"
   ]
  },
  {
   "cell_type": "code",
   "execution_count": 5,
   "metadata": {
    "scrolled": false
   },
   "outputs": [
    {
     "data": {
      "image/png": "[encoded data removed]",
      "text/plain": [
       "<IPython.core.display.Image object>"
      ]
     },
     "execution_count": 5,
     "metadata": {},
     "output_type": "execute_result"
    }
   ],
   "source": [
    "img = Draw.MolsToGridImage(mols_list_polymer,\n",
    "                           molsPerRow=4, #一列に配置する分子の数\n",
    "                           subImgSize=(300,200),\n",
    "                           legends=label_list #化合物の下に表示するラベル\n",
    "                           )\n",
    "img"
   ]
  },
  {
   "cell_type": "code",
   "execution_count": 6,
   "metadata": {},
   "outputs": [],
   "source": [
    "def gaff_bcc(smiles):\n",
    "    #GAFF2/AM1-BCCをアサインする\n",
    "    import sys,os,os.path\n",
    "    os.environ['SMILES']=str(smiles)\n",
    "    !echo ${SMILES} > input.smi\n",
    "    !obabel -ismi input.smi -O input.mol2 --gen3D --conformer --nconf 5000 --weighted \n",
    "    !babel -imol2 input.mol2 -oxyz input.xyz\n",
    "    from ase.io import read, write\n",
    "    inp1 = read('input.xyz')\n",
    "    !acpype -i input.mol2 -c bcc -n 0 -m 1 -a gaff2 -f -o gmx -k \"qm_theory='AM1',grms_tol=0.05,scfconv=1.d-10,ndiis_attempts=700, \"\n",
    "\n",
    "    import shutil\n",
    "    src = './input.acpype/input_GMX.gro'\n",
    "    copy = './input1.gro'\n",
    "    shutil.copyfile(src,copy)\n",
    "    src = './input.acpype/input_GMX.itp'\n",
    "    copy = './input1.itp'\n",
    "    shutil.copyfile(src,copy)"
   ]
  },
  {
   "cell_type": "code",
   "execution_count": 7,
   "metadata": {},
   "outputs": [
    {
     "name": "stdout",
     "output_type": "stream",
     "text": [
      "1 molecule converted\n",
      "1 molecule converted\n",
      "13 info messages 6 audit log messages \n",
      "=========================================================================================\n",
      "| ACPYPE: AnteChamber PYthon Parser interfacE v. 2020-10-24T12:16:34CEST (c) 2021 AWSdS |\n",
      "=========================================================================================\n",
      "==> ... charge set to 0\n",
      "==> Executing Antechamber...\n",
      "==> * Antechamber OK *\n",
      "==> * Parmchk OK *\n",
      "==> Executing Tleap...\n",
      "++++++++++start_quote+++++++++++++++++++++++++++++++++++++++++++++++++++++++++++\n",
      "Checking 'UNL'....\n",
      "Checking parameters for unit 'UNL'.\n",
      "Checking for bond parameters.\n",
      "Checking for angle parameters.\n",
      "Unit is OK.\n",
      "++++++++++end_quote+++++++++++++++++++++++++++++++++++++++++++++++++++++++++++++\n",
      "==> * Tleap OK *\n",
      "==> Removing temporary files...\n",
      "==> Writing GROMACS files\n",
      "\n",
      "==> Writing GMX dihedrals for GMX 4.5 and higher.\n",
      "\n",
      "==> Writing pickle file input.pkl\n",
      "Total time of execution: less than a second\n"
     ]
    }
   ],
   "source": [
    "gaff_bcc(smiles_list_polymer[0])"
   ]
  },
  {
   "cell_type": "code",
   "execution_count": 8,
   "metadata": {},
   "outputs": [],
   "source": [
    "#make mdp file for energy minimization\n",
    "def make_mdp_em():\n",
    "\n",
    "    mdp_file = \"em.mdp\"\n",
    "\n",
    "    lines = [\n",
    "    \"; VARIOUS PREPROCESSING OPTIONS\",\n",
    "    \";title                    = Yo\",\n",
    "    \";cpp                      = /usr/bin/cpp\",\n",
    "    \"include                  =\", \n",
    "    \"define                   =\", \n",
    "    \"    \",\n",
    "    \"; RUN CONTROL PARAMETERS\",\n",
    "    \"integrator               = steep\",\n",
    "    \"nsteps                   = 1000000\",\n",
    "    \"emtol                    = 10\",\n",
    "    \"emstep                   = 0.1\",\n",
    "    \"nstlist                  = 1\",\n",
    "    \"cutoff-scheme            = verlet\",\n",
    "    \"vdw-type                 = cut-off\",\n",
    "    \"rlist                    = 0.5\",\n",
    "    \"rvdw                     = 0.5\",\n",
    "    \"rcoulomb                 = 0.5\",\n",
    "    ]\n",
    "\n",
    "    with open(mdp_file, mode='w') as f:\n",
    "        f.write('\\n'.join(lines))"
   ]
  },
  {
   "cell_type": "code",
   "execution_count": 9,
   "metadata": {},
   "outputs": [],
   "source": [
    "#make mdp file for NVT run\n",
    "def make_mdp_nvt(temp,steps,dt,cutoff):\n",
    "\n",
    "    temperature      = temp\n",
    "    simulation_steps = steps \n",
    "    time_step        = dt/1000.0  # ps\n",
    "    cutoff_radius    = cutoff/10.0\n",
    "    \n",
    "    mdp_file = \"run.mdp\"\n",
    "\n",
    "    lines = [\n",
    "    \"; VARIOUS PREPROCESSING OPTIONS\",\n",
    "    \";title                    = Yo\",\n",
    "    \";cpp                      = /usr/bin/cpp\",\n",
    "    \"include                  =\", \n",
    "    \"define                   =\", \n",
    "    \"    \",\n",
    "    \"; RUN CONTROL PARAMETERS\",\n",
    "    \"constraints              = none\",\n",
    "    \"integrator               = md\",\n",
    "    \"nsteps                   = {}\".format(simulation_steps),\n",
    "    \"dt                       = {}\".format(time_step),\n",
    "    \"nstlist                  = 1\",\n",
    "    \"rlist                    = {}\".format(cutoff_radius),\n",
    "    \"rvdw                     = {}\".format(cutoff_radius),\n",
    "    \"rcoulomb                 = {}\".format(cutoff_radius),\n",
    "    \"coulombtype              = cut-off\",\n",
    "    \"cutoff-scheme            = verlet\",\n",
    "    \"vdw-type                 = cut-off\",        \n",
    "    \"tc-grps                  = system\",\n",
    "    \"tau-t                    = 0.1\",\n",
    "    \"ref-t                    = {}\".format(temperature),\n",
    "    \"Pcoupl                   = no\",\n",
    "    \"nstenergy                = 1000\",\n",
    "    \"nstxout                  = 1000\",  \n",
    "    ]\n",
    "\n",
    "    with open(mdp_file, mode='w') as f:\n",
    "        f.write('\\n'.join(lines))"
   ]
  },
  {
   "cell_type": "code",
   "execution_count": 10,
   "metadata": {},
   "outputs": [],
   "source": [
    "def build_initial_cell_gromacs(dt,eq_cutoff,eq_temp,eq_steps):\n",
    "\n",
    "    import pandas as pd\n",
    "    \n",
    "    import time \n",
    "    init_time = time.time()\n",
    "    \n",
    "    dt = dt\n",
    "\n",
    "    import MDAnalysis as mda\n",
    "    from nglview.datafiles import PDB, XTC\n",
    "\n",
    "    #混合溶液を作成\n",
    "    import mdapackmol\n",
    "    import numpy as np\n",
    "    from ase import units\n",
    "    import shutil\n",
    "\n",
    "    # load individual molecule files\n",
    "    mol1 = mda.Universe('input1.gro')\n",
    "    num_mols1 = 15\n",
    "\n",
    "    mw_mol1 = np.sum(mol1.atoms.masses)\n",
    "    total_weight = num_mols1 * mw_mol1 \n",
    "    \n",
    "    # Determine side length of a box with the density of mixture \n",
    "    L = 12.0 # Ang. unit \n",
    "    system = mdapackmol.packmol(\n",
    "    [ mdapackmol.PackmolStructure(\n",
    "    mol1, number=num_mols1,\n",
    "    instructions=[\"inside box \"+str(0)+\"  \"+str(0)+\"  \"+str(0)+ \"  \"+str(L)+\"  \"+str(L)+\"  \"+str(L)]),])\n",
    "\n",
    "    system.atoms.write('mixture.gro')\n",
    "\n",
    "    import os \n",
    "    os.environ['GMX_MAXBACKUP'] = '-1'\n",
    "\n",
    "    # for gromacs-5 or later \n",
    "    commands = \"gmx editconf -f mixture.gro  -box \"+ str(L/10.0)+\"  \"+str(L/10.0)+\"  \"+str(L/10.0) + \"  \" +\" -o init.gro\"\n",
    "\n",
    "    import subprocess\n",
    "    from subprocess import PIPE\n",
    "\n",
    "    proc = subprocess.run(commands, shell=True, stdout=PIPE, stderr=PIPE,encoding='utf-8')\n",
    "    output = proc.stdout\n",
    "    #print('STDOUT: {}'.format(output))\n",
    "\n",
    "    #make top file for GAFF\n",
    "\n",
    "    top_file = \"system.top\"\n",
    "    mol_name1 = \"input\"\n",
    " \n",
    "    lines = [\n",
    "        \"; input_GMX.top created by acpype (v: 2020-07-25T09:06:13CEST) on Fri Jul 31 07:59:08 2020\",\n",
    "        \";by acpype (v: 2020-07-25T09:06:13CEST) on Fri Jul 31 07:59:08 2020\",\n",
    "        \"   \",\n",
    "        \"[ defaults ]\",\n",
    "        \"; nbfunc        comb-rule       gen-pairs       fudgeLJ fudgeQQ\",\n",
    "        \"1               2               yes             0.5     0.8333\",\n",
    "        \"    \",\n",
    "        \"; Include input.itp topology\", \n",
    "        \"#include \\\"{}.itp\\\"\".format(\"input1\"),\n",
    "        \"    \",\n",
    "        \"[ system ]\",\n",
    "        \"input\",\n",
    "        \"     \",\n",
    "        \"[ molecules ]\",\n",
    "        \"; Compound        nmols\" ,\n",
    "        mol_name1 + \"          {} \".format(num_mols1), \n",
    "    ]\n",
    "        \n",
    "    with open(top_file, mode='w') as f:\n",
    "        f.write('\\n'.join(lines))\n",
    "\n",
    "    # Energy minimization\n",
    "    import os\n",
    "    import subprocess\n",
    "    from subprocess import PIPE\n",
    "    \n",
    "    print('Minimizing energy')\n",
    "    \n",
    "    os.environ['GMX_MAXBACKUP'] = '-1'\n",
    "    !. /home/yam13524/usr/local/gromacs2018/bin/GMXRC\n",
    "    gromacs_home = \"/home/yam13524/usr/local/gromacs2018/bin/\"\n",
    "\n",
    "    make_mdp_em()\n",
    "\n",
    "    #grompp\n",
    "    os.environ['OMP_NUM_THREADS'] = '1'    \n",
    "    commands = gromacs_home+\"gmx_mpi grompp -f em.mdp -p system.top -c init.gro -o em.tpr -maxwarn 10 \"\n",
    "    proc = subprocess.run(commands, shell=True, stdout=PIPE, stderr=PIPE,encoding='utf-8')\n",
    "    output = proc.stdout\n",
    "\n",
    "    #mdrun\n",
    "    os.environ['OMP_NUM_THREADS'] = '1' \n",
    "    commands = gromacs_home+\"gmx_mpi mdrun -s em.tpr -o em.trr -e em.edr -c em.gro -nb cpu\"\n",
    "    proc = subprocess.run(commands, shell=True, stdout=PIPE, stderr=PIPE,encoding='utf-8')\n",
    "    output = proc.stdout\n",
    "\n",
    "    #Relax the geometry \n",
    "    print('Running dynamics :Equilibration')\n",
    "  \n",
    "    temp = eq_temp\n",
    "    dt   = dt \n",
    "    steps = eq_steps\n",
    "    make_mdp_nvt(temp,steps,dt,eq_cutoff)\n",
    "\n",
    "    #grompp\n",
    "    os.environ['OMP_NUM_THREADS'] = '1'    \n",
    "    commands = gromacs_home+\"gmx_mpi grompp -f run.mdp -p system.top -c em.gro -o eq.tpr -maxwarn 10 \".format(str(temp))\n",
    "    proc = subprocess.run(commands, shell=True, stdout=PIPE, stderr=PIPE,encoding='utf-8')\n",
    "    output = proc.stdout\n",
    "\n",
    "    #mdrun\n",
    "    os.environ['OMP_NUM_THREADS'] = '1' \n",
    "    commands = gromacs_home+\"gmx_mpi mdrun -s eq.tpr -o eq.trr -e eq.edr -c eq.gro -nb cpu\"\n",
    "    proc = subprocess.run(commands, shell=True, stdout=PIPE, stderr=PIPE,encoding='utf-8')\n",
    "    output = proc.stdout\n",
    "\n",
    "    print(\"elapsed time= {} sec.\".format(time.time()-init_time))"
   ]
  },
  {
   "cell_type": "code",
   "execution_count": 11,
   "metadata": {},
   "outputs": [],
   "source": [
    "!export OMP_NUM_THREADS=1 "
   ]
  },
  {
   "cell_type": "code",
   "execution_count": 12,
   "metadata": {},
   "outputs": [],
   "source": [
    "dt = 1                              #[fs] MDの刻み時間：このまま使うことを推奨。\n",
    "eq_temp = 300                       #緩和計算させるときの温度 [K]\n",
    "eq_steps = 100000                    #緩和計算するstep数。この例だと100ps\n",
    "eq_cutoff = 4.0 "
   ]
  },
  {
   "cell_type": "code",
   "execution_count": 13,
   "metadata": {},
   "outputs": [
    {
     "data": {
      "application/vnd.jupyter.widget-view+json": {
       "model_id": "c8e8a36f9d9143d19b8b9ad82c743414",
       "version_major": 2,
       "version_minor": 0
      },
      "text/plain": []
     },
     "metadata": {},
     "output_type": "display_data"
    },
    {
     "name": "stdout",
     "output_type": "stream",
     "text": [
      "Minimizing energy\n"
     ]
    },
    {
     "name": "stderr",
     "output_type": "stream",
     "text": [
      "/home/yam13524/miniconda3/envs/openmm/lib/python3.7/site-packages/MDAnalysis/topology/base.py:203: DeprecationWarning: `np.int` is a deprecated alias for the builtin `int`. To silence this warning, use `int` by itself. Doing this will not modify any behavior and is safe. When replacing `np.int`, you may wish to use e.g. `np.int64` or `np.int32` to specify the precision. If you wish to review your current use, check the release note link for additional information.\n",
      "Deprecated in NumPy 1.20; for more details and guidance: https://numpy.org/devdocs/release/1.20.0-notes.html#deprecations\n",
      "  residx = np.zeros_like(criteria[0], dtype=np.int)\n",
      "/home/yam13524/miniconda3/envs/openmm/lib/python3.7/site-packages/MDAnalysis/coordinates/PDB.py:1028: UserWarning: Found no information for attr: 'altLocs' Using default value of ' '\n",
      "  \"\".format(attrname, default))\n",
      "/home/yam13524/miniconda3/envs/openmm/lib/python3.7/site-packages/MDAnalysis/coordinates/PDB.py:1028: UserWarning: Found no information for attr: 'icodes' Using default value of ' '\n",
      "  \"\".format(attrname, default))\n",
      "/home/yam13524/miniconda3/envs/openmm/lib/python3.7/site-packages/MDAnalysis/coordinates/PDB.py:1028: UserWarning: Found no information for attr: 'occupancies' Using default value of '1.0'\n",
      "  \"\".format(attrname, default))\n",
      "/home/yam13524/miniconda3/envs/openmm/lib/python3.7/site-packages/MDAnalysis/coordinates/PDB.py:1028: UserWarning: Found no information for attr: 'tempfactors' Using default value of '0.0'\n",
      "  \"\".format(attrname, default))\n"
     ]
    },
    {
     "name": "stdout",
     "output_type": "stream",
     "text": [
      "Running dynamics :Equilibration\n",
      "elapsed time= 20.66769814491272 sec.\n"
     ]
    }
   ],
   "source": [
    "build_initial_cell_gromacs(dt,eq_cutoff,eq_temp,eq_steps)"
   ]
  },
  {
   "cell_type": "code",
   "execution_count": 2,
   "metadata": {},
   "outputs": [
    {
     "data": {
      "image/png": "[encoded data removed]",
      "text/plain": [
       "<Figure size 432x288 with 1 Axes>"
      ]
     },
     "metadata": {
      "needs_background": "light"
     },
     "output_type": "display_data"
    }
   ],
   "source": [
    "#構造可視化(matplotlib版)\n",
    "import matplotlib.pyplot as plt\n",
    "from ase.visualize.plot import plot_atoms\n",
    "import ase.io\n",
    "mol1 = ase.io.read('eq.gro')\n",
    "%matplotlib inline\n",
    "plot_atoms(mol1, rotation=('0x,0y,0z'))\n",
    "plt.show()"
   ]
  },
  {
   "cell_type": "code",
   "execution_count": 1,
   "metadata": {},
   "outputs": [
    {
     "data": {
      "application/vnd.jupyter.widget-view+json": {
       "model_id": "1f593b905aaa490e9aded2fd7c1bbf1a",
       "version_major": 2,
       "version_minor": 0
      },
      "text/plain": []
     },
     "metadata": {},
     "output_type": "display_data"
    },
    {
     "data": {
      "application/vnd.jupyter.widget-view+json": {
       "model_id": "d6815f2279174b7b8ff94df60d804769",
       "version_major": 2,
       "version_minor": 0
      },
      "text/plain": [
       "NGLWidget()"
      ]
     },
     "metadata": {},
     "output_type": "display_data"
    }
   ],
   "source": [
    "#構造可視化(nglview版)\n",
    "import nglview as nv\n",
    "import ase.io\n",
    "mol1 = ase.io.read('eq.gro')\n",
    "w = nv.show_ase(mol1)\n",
    "w.add_label(radius=1,color=\"black\",label_type=\"atom\")\n",
    "w.add_unitcell()\n",
    "w.update_unitcell()\n",
    "w"
   ]
  },
  {
   "cell_type": "code",
   "execution_count": 15,
   "metadata": {},
   "outputs": [],
   "source": [
    "#1,3-propanediolの電荷\n",
    "chags =[\n",
    "-0.597800,\n",
    " 0.128900,\n",
    "-0.158400,\n",
    " 0.128900,   \n",
    "-0.597800, \n",
    " 0.395500,      \n",
    " 0.050700,   \n",
    " 0.050700,     \n",
    " 0.051200,  \n",
    " 0.051200,  \n",
    " 0.050700,    \n",
    " 0.050700,    \n",
    " 0.395500]     \n",
    "\n",
    "#電荷素量、長さ、デバイの単位\n",
    "qe = 1.60217663e-19 #C \n",
    "debye = 3.33564e-30 #Cm \n",
    "ang = 1.0e-10 #Ang. Unit"
   ]
  },
  {
   "cell_type": "code",
   "execution_count": 16,
   "metadata": {},
   "outputs": [
    {
     "name": "stdout",
     "output_type": "stream",
     "text": [
      "Total < M_x > = -22.686022595822678 Debye\n",
      "Total < M_y > = 26.359183178009452 Debye\n",
      "Total < M_z > = 9.11206617392886 Debye\n"
     ]
    }
   ],
   "source": [
    "#原子座標と電荷の値を用いて直接、UnitCellの双極子モーメントを計算する\n",
    "import numpy as np\n",
    "dx=0;dy=0;dz=0\n",
    "num_at = len(chags)\n",
    "for i,r in enumerate(mol1.get_positions()) :\n",
    "    dx += chags[i%num_at] * r[0] ; dy += chags[i%num_at] * r[1]; dz += chags[i%num_at] * r[2]\n",
    "\n",
    "print(\"Total < M_x > = {} Debye\".format(dx*ang*qe/debye))\n",
    "print(\"Total < M_y > = {} Debye\".format(dy*ang*qe/debye))\n",
    "print(\"Total < M_z > = {} Debye\".format(dz*ang*qe/debye))"
   ]
  },
  {
   "cell_type": "code",
   "execution_count": 17,
   "metadata": {},
   "outputs": [
    {
     "name": "stdout",
     "output_type": "stream",
     "text": [
      "Using 5 as mu_max and -1 as the dipole moment.\n",
      "WARNING: EpsilonRF = 0.0, this really means EpsilonRF = infinity\n",
      "Selected 0: 'System'\n",
      "There are 15 molecules in the selection\n",
      "Average volume over run is 1.728\n",
      "\n",
      "Dipole moment (Debye)\n",
      "---------------------\n",
      "Average  =   3.3846  Std. Dev. =   0.7905  Error =   0.2041\n",
      "\n",
      "The following averages for the complete trajectory have been calculated:\n",
      "\n",
      " Total < M_x > = -22.686 Debye\n",
      " Total < M_y > = 26.3592 Debye\n",
      " Total < M_z > = 9.11203 Debye\n",
      "\n",
      " Total < M_x^2 > = 514.657 Debye^2\n",
      " Total < M_y^2 > = 694.805 Debye^2\n",
      " Total < M_z^2 > = 83.029 Debye^2\n",
      "\n",
      " Total < |M|^2 > = 1292.49 Debye^2\n",
      " Total |< M >|^2 = 1292.49 Debye^2\n",
      "\n",
      " < |M|^2 > - |< M >|^2 = -2.27374e-13 Debye^2\n",
      "\n",
      "Finite system Kirkwood g factor G_k = -1.32325e-15\n",
      "Infinite system Kirkwood g factor g_k = -1.32325e-15\n",
      "\n",
      "Epsilon = 1\n",
      "\n"
     ]
    }
   ],
   "source": [
    "import os\n",
    "import subprocess\n",
    "from subprocess import PIPE\n",
    "gromacs_home = \"~/usr/local/gromacs2018/bin/\"\n",
    "!echo \"System\" > anal.txt \n",
    "os.environ['OMP_NUM_THREADS'] = '1'    \n",
    "commands = gromacs_home+\"gmx_mpi dipoles -s eq.tpr -f eq.gro < anal.txt\"\n",
    "proc = subprocess.run(commands, shell=True, stdout=PIPE, stderr=PIPE,encoding='utf-8')\n",
    "output = proc.stdout\n",
    "print(output)"
   ]
  },
  {
   "cell_type": "markdown",
   "metadata": {},
   "source": [
    "【結論】  \n",
    "gromacsのdipolesでは、周期境界をはみ出した分子の部分について特にUnitCell内に戻すような処理を行わず、  \n",
    "はみ出した値のまま素朴に計算しているようである。  \n",
    "現在弊社の誘電スペクトルの計算ではgmx dipolesを特にオプションなど検討せずに使用しているが、  \n",
    "これで問題がないのかどうかについては改めて検討する。  \n"
   ]
  }
 ],
 "metadata": {
  "colab": {
   "name": "dipoles_gromacs_IR.ipynb",
   "provenance": []
  },
  "kernelspec": {
   "display_name": "Python 3",
   "language": "python",
   "name": "python3"
  },
  "language_info": {
   "codemirror_mode": {
    "name": "ipython",
    "version": 3
   },
   "file_extension": ".py",
   "mimetype": "text/x-python",
   "name": "python",
   "nbconvert_exporter": "python",
   "pygments_lexer": "ipython3",
   "version": "3.6.13"
  }
 },
 "nbformat": 4,
 "nbformat_minor": 1
}
