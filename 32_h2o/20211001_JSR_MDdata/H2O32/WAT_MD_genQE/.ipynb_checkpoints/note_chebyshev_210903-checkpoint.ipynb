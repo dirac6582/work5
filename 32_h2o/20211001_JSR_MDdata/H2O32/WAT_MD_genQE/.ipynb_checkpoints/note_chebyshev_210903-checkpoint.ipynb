{
 "cells": [
  {
   "cell_type": "markdown",
   "metadata": {},
   "source": [
    "【目的】  \n",
    "弊社の誘電スペクトルの計算においてGromacsの解析ツールの\"gmx dipoles\"を使い  \n",
    "Unit Cellの双極子モーメントを計算しているが、周期境界をはみ出した電荷についてはどのように扱われて  \n",
    "いるのかを調査する。  \n",
    "\n",
    "【方法】  \n",
    "ここでは1,3-プロパンジオール (HO-CH2CH2CH2-OH)を用いて、Unit Cell内にガス状態で分散させ、  \n",
    "分子の中心は周期境界を跨いではいないが、端のOH基がはみ出しているような構造を作る。  \n",
    "gmx dipolesで解析した値と原子座標Rと電荷qよりμ=qrで計算した値とを比較する。  "
   ]
  },
  {
   "cell_type": "code",
   "execution_count": 1,
   "metadata": {},
   "outputs": [],
   "source": [
    "!rm -r -f input.acpype\n",
    "!ls ./ |  grep -v -E 'RFmodels|inputs|dipole_of_Unitcell.ipynb' | xargs rm -rf \n",
    "!mkdir output"
   ]
  },
  {
   "cell_type": "code",
   "execution_count": 2,
   "metadata": {},
   "outputs": [],
   "source": [
    "import pandas as pd\n",
    "poly = pd.read_csv(\"./inputs/propanediol.csv\")\n",
    "#poly = poly[1:].reset_index(drop=True)"
   ]
  },
  {
   "cell_type": "code",
   "execution_count": 3,
   "metadata": {
    "scrolled": true
   },
   "outputs": [
    {
     "data": {
      "text/html": [
       "<div>\n",
       "<style scoped>\n",
       "    .dataframe tbody tr th:only-of-type {\n",
       "        vertical-align: middle;\n",
       "    }\n",
       "\n",
       "    .dataframe tbody tr th {\n",
       "        vertical-align: top;\n",
       "    }\n",
       "\n",
       "    .dataframe thead th {\n",
       "        text-align: right;\n",
       "    }\n",
       "</style>\n",
       "<table border=\"1\" class=\"dataframe\">\n",
       "  <thead>\n",
       "    <tr style=\"text-align: right;\">\n",
       "      <th></th>\n",
       "      <th>Smiles</th>\n",
       "      <th>Name</th>\n",
       "    </tr>\n",
       "  </thead>\n",
       "  <tbody>\n",
       "    <tr>\n",
       "      <th>0</th>\n",
       "      <td>OCCCO</td>\n",
       "      <td>PRD</td>\n",
       "    </tr>\n",
       "  </tbody>\n",
       "</table>\n",
       "</div>"
      ],
      "text/plain": [
       "  Smiles Name\n",
       "0  OCCCO  PRD"
      ]
     },
     "execution_count": 3,
     "metadata": {},
     "output_type": "execute_result"
    }
   ],
   "source": [
    "poly"
   ]
  },
  {
   "cell_type": "code",
   "execution_count": 4,
   "metadata": {},
   "outputs": [],
   "source": [
    "import pandas as pd\n",
    "\n",
    "from rdkit import Chem\n",
    "from rdkit.Chem import Draw\n",
    "from rdkit.Chem import Descriptors\n",
    "from rdkit.ML.Descriptors import MoleculeDescriptors\n",
    "from rdkit.Chem import PandasTools\n",
    "\n",
    "#化学構造のsmilesリストを準備する\n",
    "smiles_list_polymer = poly[\"Smiles\"].to_list()\n",
    "\n",
    "\n",
    "# 化合物のラベルを作成\n",
    "label_list = poly[\"Name\"].to_list()\n",
    "\n",
    "# molオブジェクトのリストを作成\n",
    "mols_list_polymer = [Chem.MolFromSmiles(smile) for smile in smiles_list_polymer]"
   ]
  },
  {
   "cell_type": "code",
   "execution_count": 5,
   "metadata": {
    "scrolled": false
   },
   "outputs": [
    {
     "data": {
      "image/png": "[encoded data removed]",
      "text/plain": [
       "<IPython.core.display.Image object>"
      ]
     },
     "execution_count": 5,
     "metadata": {},
     "output_type": "execute_result"
    }
   ],
   "source": [
    "img = Draw.MolsToGridImage(mols_list_polymer,\n",
    "                           molsPerRow=4, #一列に配置する分子の数\n",
    "                           subImgSize=(300,200),\n",
    "                           legends=label_list #化合物の下に表示するラベル\n",
    "                           )\n",
    "img"
   ]
  },
  {
   "cell_type": "code",
   "execution_count": 6,
   "metadata": {},
   "outputs": [],
   "source": [
    "def gaff_bcc(smiles):\n",
    "    #GAFF2/AM1-BCCをアサインする\n",
    "    import sys,os,os.path\n",
    "    os.environ['SMILES']=str(smiles)\n",
    "    !echo ${SMILES} > input.smi\n",
    "    !obabel -ismi input.smi -O input.mol2 --gen3D --conformer --nconf 5000 --weighted \n",
    "    !babel -imol2 input.mol2 -oxyz input.xyz\n",
    "    from ase.io import read, write\n",
    "    inp1 = read('input.xyz')\n",
    "    !acpype -i input.mol2 -c bcc -n 0 -m 1 -a gaff2 -f -o gmx -k \"qm_theory='AM1',grms_tol=0.05,scfconv=1.d-10,ndiis_attempts=700, \"\n",
    "\n",
    "    import shutil\n",
    "    src = './input.acpype/input_GMX.gro'\n",
    "    copy = './input1.gro'\n",
    "    shutil.copyfile(src,copy)\n",
    "    src = './input.acpype/input_GMX.itp'\n",
    "    copy = './input1.itp'\n",
    "    shutil.copyfile(src,copy)"
   ]
  },
  {
   "cell_type": "code",
   "execution_count": 7,
   "metadata": {},
   "outputs": [
    {
     "name": "stdout",
     "output_type": "stream",
     "text": [
      "1 molecule converted\n",
      "1 molecule converted\n",
      "13 info messages 6 audit log messages \n",
      "=========================================================================================\n",
      "| ACPYPE: AnteChamber PYthon Parser interfacE v. 2020-10-24T12:16:34CEST (c) 2021 AWSdS |\n",
      "=========================================================================================\n",
      "==> ... charge set to 0\n",
      "==> Executing Antechamber...\n",
      "==> * Antechamber OK *\n",
      "==> * Parmchk OK *\n",
      "==> Executing Tleap...\n",
      "++++++++++start_quote+++++++++++++++++++++++++++++++++++++++++++++++++++++++++++\n",
      "Checking 'UNL'....\n",
      "Checking parameters for unit 'UNL'.\n",
      "Checking for bond parameters.\n",
      "Checking for angle parameters.\n",
      "Unit is OK.\n",
      "++++++++++end_quote+++++++++++++++++++++++++++++++++++++++++++++++++++++++++++++\n",
      "==> * Tleap OK *\n",
      "==> Removing temporary files...\n",
      "==> Writing GROMACS files\n",
      "\n",
      "==> Writing GMX dihedrals for GMX 4.5 and higher.\n",
      "\n",
      "==> Writing pickle file input.pkl\n",
      "Total time of execution: less than a second\n"
     ]
    }
   ],
   "source": [
    "gaff_bcc(smiles_list_polymer[0])"
   ]
  },
  {
   "cell_type": "code",
   "execution_count": 8,
   "metadata": {},
   "outputs": [],
   "source": [
    "#make mdp file for energy minimization\n",
    "def make_mdp_em():\n",
    "\n",
    "    mdp_file = \"em.mdp\"\n",
    "\n",
    "    lines = [\n",
    "    \"; VARIOUS PREPROCESSING OPTIONS\",\n",
    "    \";title                    = Yo\",\n",
    "    \";cpp                      = /usr/bin/cpp\",\n",
    "    \"include                  =\", \n",
    "    \"define                   =\", \n",
    "    \"    \",\n",
    "    \"; RUN CONTROL PARAMETERS\",\n",
    "    \"integrator               = steep\",\n",
    "    \"nsteps                   = 1000000\",\n",
    "    \"emtol                    = 10\",\n",
    "    \"emstep                   = 0.1\",\n",
    "    \"nstlist                  = 1\",\n",
    "    \"cutoff-scheme            = verlet\",\n",
    "    \"vdw-type                 = cut-off\",\n",
    "    \"rlist                    = 0.5\",\n",
    "    \"rvdw                     = 0.5\",\n",
    "    \"rcoulomb                 = 0.5\",\n",
    "    ]\n",
    "\n",
    "    with open(mdp_file, mode='w') as f:\n",
    "        f.write('\\n'.join(lines))"
   ]
  },
  {
   "cell_type": "code",
   "execution_count": 9,
   "metadata": {},
   "outputs": [],
   "source": [
    "#make mdp file for NVT run\n",
    "def make_mdp_nvt(temp,steps,dt,cutoff):\n",
    "\n",
    "    temperature      = temp\n",
    "    simulation_steps = steps \n",
    "    time_step        = dt/1000.0  # ps\n",
    "    cutoff_radius    = cutoff/10.0\n",
    "    \n",
    "    mdp_file = \"run.mdp\"\n",
    "\n",
    "    lines = [\n",
    "    \"; VARIOUS PREPROCESSING OPTIONS\",\n",
    "    \";title                    = Yo\",\n",
    "    \";cpp                      = /usr/bin/cpp\",\n",
    "    \"include                  =\", \n",
    "    \"define                   =\", \n",
    "    \"    \",\n",
    "    \"; RUN CONTROL PARAMETERS\",\n",
    "    \"constraints              = none\",\n",
    "    \"integrator               = md\",\n",
    "    \"nsteps                   = {}\".format(simulation_steps),\n",
    "    \"dt                       = {}\".format(time_step),\n",
    "    \"nstlist                  = 1\",\n",
    "    \"rlist                    = {}\".format(cutoff_radius),\n",
    "    \"rvdw                     = {}\".format(cutoff_radius),\n",
    "    \"rcoulomb                 = {}\".format(cutoff_radius),\n",
    "    \"coulombtype              = cut-off\",\n",
    "    \"cutoff-scheme            = verlet\",\n",
    "    \"vdw-type                 = cut-off\",        \n",
    "    \"tc-grps                  = system\",\n",
    "    \"tau-t                    = 0.1\",\n",
    "    \"ref-t                    = {}\".format(temperature),\n",
    "    \"Pcoupl                   = no\",\n",
    "    \"nstenergy                = 1000\",\n",
    "    \"nstxout                  = 1000\",  \n",
    "    ]\n",
    "\n",
    "    with open(mdp_file, mode='w') as f:\n",
    "        f.write('\\n'.join(lines))"
   ]
  },
  {
   "cell_type": "code",
   "execution_count": 10,
   "metadata": {},
   "outputs": [],
   "source": [
    "def build_initial_cell_gromacs(dt,eq_cutoff,eq_temp,eq_steps):\n",
    "\n",
    "    import pandas as pd\n",
    "    \n",
    "    import time \n",
    "    init_time = time.time()\n",
    "    \n",
    "    dt = dt\n",
    "\n",
    "    import MDAnalysis as mda\n",
    "    from nglview.datafiles import PDB, XTC\n",
    "\n",
    "    #混合溶液を作成\n",
    "    import mdapackmol\n",
    "    import numpy as np\n",
    "    from ase import units\n",
    "    import shutil\n",
    "\n",
    "    # load individual molecule files\n",
    "    mol1 = mda.Universe('input1.gro')\n",
    "    num_mols1 = 30\n",
    "\n",
    "    mw_mol1 = np.sum(mol1.atoms.masses)\n",
    "    total_weight = num_mols1 * mw_mol1 \n",
    "    \n",
    "    # Determine side length of a box with the density of mixture \n",
    "    L = 12.0 # Ang. unit \n",
    "    system = mdapackmol.packmol(\n",
    "    [ mdapackmol.PackmolStructure(\n",
    "    mol1, number=num_mols1,\n",
    "    instructions=[\"inside box \"+str(0)+\"  \"+str(0)+\"  \"+str(0)+ \"  \"+str(L)+\"  \"+str(L)+\"  \"+str(L)]),])\n",
    "\n",
    "    system.atoms.write('mixture.gro')\n",
    "\n",
    "    import os \n",
    "    os.environ['GMX_MAXBACKUP'] = '-1'\n",
    "\n",
    "    # for gromacs-5 or later \n",
    "    commands = \"gmx editconf -f mixture.gro  -box \"+ str(L/10.0)+\"  \"+str(L/10.0)+\"  \"+str(L/10.0) + \"  \" +\" -o init.gro\"\n",
    "\n",
    "    import subprocess\n",
    "    from subprocess import PIPE\n",
    "\n",
    "    proc = subprocess.run(commands, shell=True, stdout=PIPE, stderr=PIPE,encoding='utf-8')\n",
    "    output = proc.stdout\n",
    "    #print('STDOUT: {}'.format(output))\n",
    "\n",
    "    #make top file for GAFF\n",
    "\n",
    "    top_file = \"system.top\"\n",
    "    mol_name1 = \"input\"\n",
    " \n",
    "    lines = [\n",
    "        \"; input_GMX.top created by acpype (v: 2020-07-25T09:06:13CEST) on Fri Jul 31 07:59:08 2020\",\n",
    "        \";by acpype (v: 2020-07-25T09:06:13CEST) on Fri Jul 31 07:59:08 2020\",\n",
    "        \"   \",\n",
    "        \"[ defaults ]\",\n",
    "        \"; nbfunc        comb-rule       gen-pairs       fudgeLJ fudgeQQ\",\n",
    "        \"1               2               yes             0.5     0.8333\",\n",
    "        \"    \",\n",
    "        \"; Include input.itp topology\", \n",
    "        \"#include \\\"{}.itp\\\"\".format(\"input1\"),\n",
    "        \"    \",\n",
    "        \"[ system ]\",\n",
    "        \"input\",\n",
    "        \"     \",\n",
    "        \"[ molecules ]\",\n",
    "        \"; Compound        nmols\" ,\n",
    "        mol_name1 + \"          {} \".format(num_mols1), \n",
    "    ]\n",
    "        \n",
    "    with open(top_file, mode='w') as f:\n",
    "        f.write('\\n'.join(lines))\n",
    "\n",
    "    # Energy minimization\n",
    "    import os\n",
    "    import subprocess\n",
    "    from subprocess import PIPE\n",
    "    \n",
    "    print('Minimizing energy')\n",
    "    \n",
    "    os.environ['GMX_MAXBACKUP'] = '-1'\n",
    "    !. /home/yam13524/usr/local/gromacs2018/bin/GMXRC\n",
    "    gromacs_home = \"/home/yam13524/usr/local/gromacs2018/bin/\"\n",
    "\n",
    "    make_mdp_em()\n",
    "\n",
    "    #grompp\n",
    "    os.environ['OMP_NUM_THREADS'] = '1'    \n",
    "    commands = gromacs_home+\"gmx_mpi grompp -f em.mdp -p system.top -c init.gro -o em.tpr -maxwarn 10 \"\n",
    "    proc = subprocess.run(commands, shell=True, stdout=PIPE, stderr=PIPE,encoding='utf-8')\n",
    "    output = proc.stdout\n",
    "\n",
    "    #mdrun\n",
    "    os.environ['OMP_NUM_THREADS'] = '1' \n",
    "    commands = gromacs_home+\"gmx_mpi mdrun -s em.tpr -o em.trr -e em.edr -c em.gro -nb cpu\"\n",
    "    proc = subprocess.run(commands, shell=True, stdout=PIPE, stderr=PIPE,encoding='utf-8')\n",
    "    output = proc.stdout\n",
    "\n",
    "    #Relax the geometry \n",
    "    print('Running dynamics :Equilibration')\n",
    "  \n",
    "    temp = eq_temp\n",
    "    dt   = dt \n",
    "    steps = eq_steps\n",
    "    make_mdp_nvt(temp,steps,dt,eq_cutoff)\n",
    "\n",
    "    #grompp\n",
    "    os.environ['OMP_NUM_THREADS'] = '1'    \n",
    "    commands = gromacs_home+\"gmx_mpi grompp -f run.mdp -p system.top -c em.gro -o eq.tpr -maxwarn 10 \".format(str(temp))\n",
    "    proc = subprocess.run(commands, shell=True, stdout=PIPE, stderr=PIPE,encoding='utf-8')\n",
    "    output = proc.stdout\n",
    "\n",
    "    #mdrun\n",
    "    os.environ['OMP_NUM_THREADS'] = '1' \n",
    "    commands = gromacs_home+\"gmx_mpi mdrun -s eq.tpr -o eq.trr -e eq.edr -c eq.gro -nb cpu\"\n",
    "    proc = subprocess.run(commands, shell=True, stdout=PIPE, stderr=PIPE,encoding='utf-8')\n",
    "    output = proc.stdout\n",
    "\n",
    "    print(\"elapsed time= {} sec.\".format(time.time()-init_time))"
   ]
  },
  {
   "cell_type": "code",
   "execution_count": 11,
   "metadata": {},
   "outputs": [],
   "source": [
    "!export OMP_NUM_THREADS=1 "
   ]
  },
  {
   "cell_type": "code",
   "execution_count": 12,
   "metadata": {},
   "outputs": [],
   "source": [
    "dt = 1                              #[fs] MDの刻み時間：このまま使うことを推奨。\n",
    "eq_temp = 300                       #緩和計算させるときの温度 [K]\n",
    "eq_steps = 100000                    #緩和計算するstep数。この例だと100ps\n",
    "eq_cutoff = 4.0 "
   ]
  },
  {
   "cell_type": "code",
   "execution_count": 13,
   "metadata": {},
   "outputs": [
    {
     "data": {
      "application/vnd.jupyter.widget-view+json": {
       "model_id": "07e16dfa399e4a599ed50be1735b1a4f",
       "version_major": 2,
       "version_minor": 0
      },
      "text/plain": []
     },
     "metadata": {},
     "output_type": "display_data"
    },
    {
     "name": "stderr",
     "output_type": "stream",
     "text": [
      "/home/yam13524/miniconda3/envs/openmm/lib/python3.7/site-packages/MDAnalysis/topology/base.py:203: DeprecationWarning: `np.int` is a deprecated alias for the builtin `int`. To silence this warning, use `int` by itself. Doing this will not modify any behavior and is safe. When replacing `np.int`, you may wish to use e.g. `np.int64` or `np.int32` to specify the precision. If you wish to review your current use, check the release note link for additional information.\n",
      "Deprecated in NumPy 1.20; for more details and guidance: https://numpy.org/devdocs/release/1.20.0-notes.html#deprecations\n",
      "  residx = np.zeros_like(criteria[0], dtype=np.int)\n",
      "/home/yam13524/miniconda3/envs/openmm/lib/python3.7/site-packages/MDAnalysis/coordinates/PDB.py:1028: UserWarning: Found no information for attr: 'altLocs' Using default value of ' '\n",
      "  \"\".format(attrname, default))\n",
      "/home/yam13524/miniconda3/envs/openmm/lib/python3.7/site-packages/MDAnalysis/coordinates/PDB.py:1028: UserWarning: Found no information for attr: 'icodes' Using default value of ' '\n",
      "  \"\".format(attrname, default))\n",
      "/home/yam13524/miniconda3/envs/openmm/lib/python3.7/site-packages/MDAnalysis/coordinates/PDB.py:1028: UserWarning: Found no information for attr: 'occupancies' Using default value of '1.0'\n",
      "  \"\".format(attrname, default))\n",
      "/home/yam13524/miniconda3/envs/openmm/lib/python3.7/site-packages/MDAnalysis/coordinates/PDB.py:1028: UserWarning: Found no information for attr: 'tempfactors' Using default value of '0.0'\n",
      "  \"\".format(attrname, default))\n"
     ]
    },
    {
     "name": "stdout",
     "output_type": "stream",
     "text": [
      "Minimizing energy\n",
      "Running dynamics :Equilibration\n",
      "elapsed time= 72.00720548629761 sec.\n"
     ]
    }
   ],
   "source": [
    "build_initial_cell_gromacs(dt,eq_cutoff,eq_temp,eq_steps)"
   ]
  },
  {
   "cell_type": "code",
   "execution_count": 14,
   "metadata": {},
   "outputs": [
    {
     "data": {
      "image/png": "[encoded data removed]",
      "text/plain": [
       "<Figure size 432x288 with 1 Axes>"
      ]
     },
     "metadata": {
      "needs_background": "light"
     },
     "output_type": "display_data"
    }
   ],
   "source": [
    "#構造可視化(matplotlib版)\n",
    "import matplotlib.pyplot as plt\n",
    "from ase.visualize.plot import plot_atoms\n",
    "import ase.io\n",
    "mol1 = ase.io.read('eq.gro')\n",
    "%matplotlib inline\n",
    "plot_atoms(mol1, rotation=('0x,0y,0z'))\n",
    "plt.show()"
   ]
  },
  {
   "cell_type": "code",
   "execution_count": 15,
   "metadata": {},
   "outputs": [
    {
     "data": {
      "application/vnd.jupyter.widget-view+json": {
       "model_id": "db0215bc2707416895cca6bc95c45baa",
       "version_major": 2,
       "version_minor": 0
      },
      "text/plain": [
       "NGLWidget()"
      ]
     },
     "metadata": {},
     "output_type": "display_data"
    }
   ],
   "source": [
    "#構造可視化(nglview版)\n",
    "import nglview as nv\n",
    "import ase.io\n",
    "mol1 = ase.io.read('eq.gro')\n",
    "w = nv.show_ase(mol1)\n",
    "w.add_label(radius=1,color=\"black\",label_type=\"atom\")\n",
    "w.add_unitcell()\n",
    "w.update_unitcell()\n",
    "w"
   ]
  },
  {
   "cell_type": "code",
   "execution_count": null,
   "metadata": {},
   "outputs": [],
   "source": [
    "mol1.get_all_distances(mic=True)"
   ]
  },
  {
   "cell_type": "code",
   "execution_count": null,
   "metadata": {},
   "outputs": [],
   "source": [
    "mol1.get_cell()"
   ]
  },
  {
   "cell_type": "code",
   "execution_count": null,
   "metadata": {},
   "outputs": [],
   "source": [
    "dist = mol1.get_all_distances(mic=True)"
   ]
  },
  {
   "cell_type": "code",
   "execution_count": null,
   "metadata": {},
   "outputs": [],
   "source": [
    "import numpy as np"
   ]
  },
  {
   "cell_type": "code",
   "execution_count": null,
   "metadata": {},
   "outputs": [],
   "source": [
    "np.max(dist)"
   ]
  },
  {
   "cell_type": "code",
   "execution_count": null,
   "metadata": {},
   "outputs": [],
   "source": [
    "distwomic = mol1.get_all_distances(mic=False)"
   ]
  },
  {
   "cell_type": "code",
   "execution_count": null,
   "metadata": {},
   "outputs": [],
   "source": [
    "np.max(distwomic)"
   ]
  },
  {
   "cell_type": "code",
   "execution_count": null,
   "metadata": {},
   "outputs": [],
   "source": [
    "dist.shape"
   ]
  },
  {
   "cell_type": "code",
   "execution_count": null,
   "metadata": {},
   "outputs": [],
   "source": [
    "angles = mol1.get_angles([(1,2,3),(0,2,3)],mic=True)"
   ]
  },
  {
   "cell_type": "code",
   "execution_count": null,
   "metadata": {},
   "outputs": [],
   "source": [
    "angles"
   ]
  },
  {
   "cell_type": "code",
   "execution_count": null,
   "metadata": {},
   "outputs": [],
   "source": [
    "dist[0]"
   ]
  },
  {
   "cell_type": "code",
   "execution_count": null,
   "metadata": {},
   "outputs": [],
   "source": []
  },
  {
   "cell_type": "code",
   "execution_count": null,
   "metadata": {},
   "outputs": [],
   "source": []
  },
  {
   "cell_type": "code",
   "execution_count": null,
   "metadata": {},
   "outputs": [],
   "source": [
    "def fc(r,Rc) :\n",
    "    return 0.5*(np.cos(r*np.pi/Rc)+1.0)"
   ]
  },
  {
   "cell_type": "code",
   "execution_count": null,
   "metadata": {},
   "outputs": [],
   "source": [
    "atom_ind=5\n",
    "Rcut = 6 #[ang. unit]    \n",
    "dist_i = dist[atom_ind]\n",
    "neighbors_list = np.argwhere(dist_i<=Rcut).reshape(-1)\n",
    "neighbors_list = neighbors_list[neighbors_list !=atom_ind]\n",
    "distances = dist_i[neighbors_list]\n",
    "i = atom_ind \n",
    "indices = [(j,i,k) for j in neighbors_list if j!=i for k in neighbors_list if (k!=i) and (k!=j)]\n",
    "angles = mol1.get_angles(indices,mic=True)"
   ]
  },
  {
   "cell_type": "code",
   "execution_count": null,
   "metadata": {},
   "outputs": [],
   "source": [
    "len(distances)"
   ]
  },
  {
   "cell_type": "code",
   "execution_count": null,
   "metadata": {},
   "outputs": [],
   "source": [
    "len(angles)"
   ]
  },
  {
   "cell_type": "code",
   "execution_count": null,
   "metadata": {},
   "outputs": [],
   "source": [
    "neighbors_list"
   ]
  },
  {
   "cell_type": "code",
   "execution_count": null,
   "metadata": {},
   "outputs": [],
   "source": [
    "print(neighbors_list !=atom_ind)"
   ]
  },
  {
   "cell_type": "code",
   "execution_count": null,
   "metadata": {},
   "outputs": [],
   "source": [
    "np.array(indices)[:,1]"
   ]
  },
  {
   "cell_type": "code",
   "execution_count": null,
   "metadata": {},
   "outputs": [],
   "source": [
    "dist_i[np.array(indices)[:,0]]"
   ]
  },
  {
   "cell_type": "code",
   "execution_count": null,
   "metadata": {},
   "outputs": [],
   "source": [
    "weight_RDF = fc(distances,Rcut)\n",
    "weight_ADFj = fc(dist_i[np.array(indices)[:,0]],Rcut)\n",
    "weight_ADFk = fc(dist_i[np.array(indices)[:,2]],Rcut)"
   ]
  },
  {
   "cell_type": "code",
   "execution_count": null,
   "metadata": {},
   "outputs": [],
   "source": [
    "RDF_i= np.histogram(distances, bins=1000, weights=weight_RDF, density=True,range=(0,Rcut))"
   ]
  },
  {
   "cell_type": "code",
   "execution_count": null,
   "metadata": {},
   "outputs": [],
   "source": [
    "import matplotlib.pyplot as plt\n",
    "x=(RDF_i[1][:-1]+RDF_i[1][1:])/2\n",
    "y=RDF_i[0]\n",
    "plt.plot(x,y)"
   ]
  },
  {
   "cell_type": "code",
   "execution_count": null,
   "metadata": {},
   "outputs": [],
   "source": [
    "ats = mol1.get_atomic_numbers()\n",
    "Hatoms=np.where(ats==1,0,ats)\n",
    "HCatoms=np.where(Hatoms==6,-1,Hatoms)\n",
    "w=np.where(HCatoms==8,1,HCatoms)"
   ]
  },
  {
   "cell_type": "code",
   "execution_count": null,
   "metadata": {},
   "outputs": [],
   "source": [
    "w"
   ]
  },
  {
   "cell_type": "code",
   "execution_count": null,
   "metadata": {},
   "outputs": [],
   "source": [
    "dr = x[1]-x[0]\n",
    "sigma = 0.2 \n",
    "ngs = int(sigma / dr) "
   ]
  },
  {
   "cell_type": "code",
   "execution_count": null,
   "metadata": {},
   "outputs": [],
   "source": [
    "dr = x[1]-x[0]\n",
    "sigma = 0.2 \n",
    "ngs = int(sigma / dr) \n",
    "from scipy.ndimage.filters import gaussian_filter\n",
    "blurred_y = gaussian_filter(y, sigma=ngs)\n",
    "plt.plot(x,blurred_y)"
   ]
  },
  {
   "cell_type": "code",
   "execution_count": null,
   "metadata": {},
   "outputs": [],
   "source": [
    "plt.plot(x,blurred_y)"
   ]
  },
  {
   "cell_type": "code",
   "execution_count": null,
   "metadata": {},
   "outputs": [],
   "source": [
    "wRDF_i= np.histogram(distances, bins=1000, weights=weight_RDF*w[neighbors_list], density=True,range=(0,Rcut))"
   ]
  },
  {
   "cell_type": "code",
   "execution_count": null,
   "metadata": {},
   "outputs": [],
   "source": [
    "import matplotlib.pyplot as plt\n",
    "x=(wRDF_i[1][:-1]+wRDF_i[1][1:])/2\n",
    "y=wRDF_i[0]\n",
    "plt.plot(x,y)"
   ]
  },
  {
   "cell_type": "code",
   "execution_count": null,
   "metadata": {},
   "outputs": [],
   "source": [
    "blurred_y = gaussian_filter(y, sigma=ngs)\n",
    "plt.plot(x,blurred_y)"
   ]
  },
  {
   "cell_type": "code",
   "execution_count": null,
   "metadata": {},
   "outputs": [],
   "source": [
    "ADF_i= np.histogram(angles, bins=1000, weights=weight_ADFj*weight_ADFk, density=True,range=(0,180))"
   ]
  },
  {
   "cell_type": "code",
   "execution_count": null,
   "metadata": {},
   "outputs": [],
   "source": [
    "x=(ADF_i[1][:-1]+ADF_i[1][1:])/2\n",
    "y=ADF_i[0]\n",
    "plt.plot(x,y)"
   ]
  },
  {
   "cell_type": "code",
   "execution_count": null,
   "metadata": {},
   "outputs": [],
   "source": [
    "dth = x[1]-x[0]\n",
    "sigma = 1.0 \n",
    "ngs = int(sigma / dth) \n",
    "blurred_y = gaussian_filter(y, sigma=ngs)\n",
    "plt.plot(x,blurred_y)"
   ]
  },
  {
   "cell_type": "code",
   "execution_count": null,
   "metadata": {},
   "outputs": [],
   "source": [
    "wADF_i= np.histogram(angles, bins=1000, weights=weight_ADFj*weight_ADFk*w[np.array(indices)[:,0]]*w[np.array(indices)[:,2]], density=True,range=(0,180))"
   ]
  },
  {
   "cell_type": "code",
   "execution_count": null,
   "metadata": {},
   "outputs": [],
   "source": [
    "x=(wADF_i[1][:-1]+wADF_i[1][1:])/2\n",
    "y=wADF_i[0]\n",
    "plt.plot(x,y)"
   ]
  },
  {
   "cell_type": "code",
   "execution_count": null,
   "metadata": {},
   "outputs": [],
   "source": [
    "dth = x[1]-x[0]\n",
    "sigma = 1.0 \n",
    "ngs = int(sigma / dth) \n",
    "blurred_y = gaussian_filter(y, sigma=ngs)\n",
    "plt.plot(x,blurred_y)"
   ]
  },
  {
   "cell_type": "code",
   "execution_count": null,
   "metadata": {},
   "outputs": [],
   "source": [
    "x=(RDF_i[1][:-1]+RDF_i[1][1:])/2\n",
    "dr = x[1]-x[0]\n",
    "np.sum(RDF_i[0])*dr"
   ]
  },
  {
   "cell_type": "code",
   "execution_count": null,
   "metadata": {},
   "outputs": [],
   "source": [
    "x=(wRDF_i[1][:-1]+wRDF_i[1][1:])/2\n",
    "dr = x[1]-x[0]\n",
    "np.sum(wRDF_i[0])*dr"
   ]
  },
  {
   "cell_type": "code",
   "execution_count": null,
   "metadata": {},
   "outputs": [],
   "source": [
    "x=(ADF_i[1][:-1]+ADF_i[1][1:])/2\n",
    "dth = x[1]-x[0]\n",
    "np.sum(ADF_i[0])*dth"
   ]
  },
  {
   "cell_type": "code",
   "execution_count": null,
   "metadata": {},
   "outputs": [],
   "source": [
    "x=(wADF_i[1][:-1]+wADF_i[1][1:])/2\n",
    "dth = x[1]-x[0]\n",
    "np.sum(wADF_i[0])*dth"
   ]
  },
  {
   "cell_type": "code",
   "execution_count": null,
   "metadata": {},
   "outputs": [],
   "source": [
    "a1=np.array([0.1,0.2,0.3])\n",
    "a2=np.array([1,2,3])\n",
    "a2/a1"
   ]
  },
  {
   "cell_type": "code",
   "execution_count": null,
   "metadata": {},
   "outputs": [],
   "source": [
    "a1*a2"
   ]
  },
  {
   "cell_type": "code",
   "execution_count": null,
   "metadata": {},
   "outputs": [],
   "source": []
  },
  {
   "cell_type": "code",
   "execution_count": 120,
   "metadata": {},
   "outputs": [],
   "source": [
    "#Chebyshev記述子の作成\n",
    "#Cutoff関数の定義\n",
    "import numpy as np\n",
    "def fc(r,Rc) :\n",
    "    return 0.5*(np.cos(r*np.pi/Rc)+1.0)\n",
    "\n",
    "#パラメータの設定\n",
    "atom_ind=10\n",
    "Rcut = 8 #[ang. unit]    \n",
    "N2 = 40  #記述子の個数_原子間距離の分布\n",
    "N3 = 40  #記述子の個数_角度分布\n",
    "\n",
    "#原子種依存の重みの計算(C,H,Oの3原子種を仮定)\n",
    "ats = mol1.get_atomic_numbers()\n",
    "Hatoms=np.where(ats==1,0,ats)\n",
    "HCatoms=np.where(Hatoms==6,-1,Hatoms)\n",
    "w=np.where(HCatoms==8,1,HCatoms)\n",
    "\n",
    "#UnitCell内の原子間距離の計算(mic:True to use the Minimum Image Convention)\n",
    "dist = mol1.get_all_distances(mic=True)\n",
    "\n",
    "def Chebyshev(at_id,Rcut,N2,N3,wt,dist,mol1):\n",
    "    \n",
    "    #変数の代入\n",
    "    atom_ind = at_id #int \n",
    "    N2       = N2    #int \n",
    "    N3       = N3    #int\n",
    "    w        = wt    #array \n",
    "    dist     = dist  #array  \n",
    "    mol1     = mol1  #ASE atoms object \n",
    "    Rcut = Rcut      #float \n",
    "    \n",
    "    #ある原子iを中心としたCutoff半径内の原子indexのリスト作成\n",
    "    dist_i = dist[atom_ind]\n",
    "    neighbors_list = np.argwhere(dist_i<=Rcut).reshape(-1)\n",
    "    neighbors_list = neighbors_list[neighbors_list !=atom_ind]\n",
    "\n",
    "    #Cutoff半径内の任意の原子と原子iとの距離のリスト作成\n",
    "    distances = dist_i[neighbors_list]\n",
    "\n",
    "    #Cutoff半径内の任意の原子j,kと原子iの作る角度のリスト作成\n",
    "    i = atom_ind \n",
    "    indices = [(j,i,k) for j in neighbors_list if j!=i for k in neighbors_list if (k!=i) and (k!=j)]\n",
    "    angles = mol1.get_angles(indices,mic=True)\n",
    "\n",
    "    #Chebyshev記述子を作る（原子間距離σ2について）\n",
    "    r = distances \n",
    "    weight_RDF = fc(distances,Rcut)\n",
    "    #Chebyshev関数\n",
    "    funcT = []\n",
    "    x = 2.0*r/Rcut - 1.0 \n",
    "    for n2 in range(N2):\n",
    "        if n2==0 :\n",
    "            funcT.append(np.ones(x.shape))\n",
    "        if n2==1 :\n",
    "            funcT.append(x) \n",
    "        if n2>1 :\n",
    "            funcT.append(2.0*x*funcT[n2-1]-funcT[n2-2])\n",
    "\n",
    "    coef2  =[]\n",
    "    coef2w =[]\n",
    "    for n2 in range(N2):\n",
    "        if n2==0 :\n",
    "            k=0.5 \n",
    "        else :\n",
    "            k=1.0 \n",
    "        phi = k*funcT[n2]/(2.0*np.pi*np.sqrt(r/Rcut-r*r/(Rcut*Rcut)))\n",
    "        c2 = np.sum(phi*weight_RDF)\n",
    "        c2w= np.sum(phi*weight_RDF*w[neighbors_list])\n",
    "        coef2.append(c2)\n",
    "        coef2w.append(c2w)\n",
    "    coef2 = np.array(coef2)\n",
    "    coef2w= np.array(coef2w)\n",
    "\n",
    "    #Chebyshev記述子を作る（角度分布σ3について）\n",
    "    th_rad = np.pi*angles/180.0\n",
    "    weight_ADFj = fc(dist_i[np.array(indices)[:,0]],Rcut)\n",
    "    weight_ADFk = fc(dist_i[np.array(indices)[:,2]],Rcut)        \n",
    "    #Chebyshev関数\n",
    "    funcT = []\n",
    "    x = 2.0*th_rad/np.pi - 1.0 \n",
    "    for n3 in range(N3):\n",
    "        if n3==0 :\n",
    "            funcT.append(np.ones(x.shape))\n",
    "        if n3==1 :\n",
    "            funcT.append(x) \n",
    "        if n3>1 :\n",
    "            funcT.append(2.0*x*funcT[n3-1]-funcT[n3-2])\n",
    "\n",
    "    coef3  =[]\n",
    "    coef3w =[]\n",
    "    for n3 in range(N3):\n",
    "        if n3==0 :\n",
    "            k=0.5 \n",
    "        else :\n",
    "            k=1.0 \n",
    "        phi = k*funcT[n3]/(2.0*np.pi*np.sqrt(th_rad/np.pi-th_rad*th_rad/(np.pi*np.pi)))\n",
    "        c3 = np.sum(phi*weight_ADFj*weight_ADFk)\n",
    "        c3w= np.sum(phi*weight_ADFj*weight_ADFk*w[np.array(indices)[:,0]]*w[np.array(indices)[:,2]])\n",
    "        coef3.append(c3)\n",
    "        coef3w.append(c3w)\n",
    "    coef3 = np.array(coef3)\n",
    "    coef3w= np.array(coef3w)\n",
    "    \n",
    "    return [coef2,coef2w,coef3,coef3w]\n",
    "\n",
    "#Chebyshev記述子\n",
    "c2,c2w,c3,c3w = Chebyshev(atom_ind,Rcut,N2,N3,w,dist,mol1)\n"
   ]
  },
  {
   "cell_type": "code",
   "execution_count": 121,
   "metadata": {},
   "outputs": [
    {
     "data": {
      "text/plain": [
       "array([ 15.72818107,   1.84514512, -23.04128538,  -3.1390706 ,\n",
       "         7.7718753 ,   1.7181241 ,   0.77568886,  -0.74162557,\n",
       "        -1.76807853,   0.90271046,  -0.1300569 ,  -1.39008755,\n",
       "         2.24695153,   1.30613709,  -2.76381919,  -0.62022845,\n",
       "         1.1113612 ,   0.34091935,   0.06413747,  -0.44822403,\n",
       "         1.045027  ,  -0.43200896,  -1.66148688,   2.05870111,\n",
       "        -0.37604229,  -2.06214937,   2.69691502,   0.18293965,\n",
       "        -3.21299265,   1.08923456,   3.35248127,  -0.91550833,\n",
       "        -3.75822891,   0.92650441,   2.73986387,  -1.71355411,\n",
       "        -0.88510541,   1.76894428,   0.32033202,  -0.50485864])"
      ]
     },
     "execution_count": 121,
     "metadata": {},
     "output_type": "execute_result"
    }
   ],
   "source": [
    "c2"
   ]
  },
  {
   "cell_type": "code",
   "execution_count": 102,
   "metadata": {},
   "outputs": [
    {
     "data": {
      "image/png": "[encoded data removed]",
      "text/plain": [
       "<Figure size 432x288 with 1 Axes>"
      ]
     },
     "metadata": {
      "needs_background": "light"
     },
     "output_type": "display_data"
    },
    {
     "data": {
      "image/png": "[encoded data removed]",
      "text/plain": [
       "<Figure size 432x288 with 1 Axes>"
      ]
     },
     "metadata": {
      "needs_background": "light"
     },
     "output_type": "display_data"
    }
   ],
   "source": [
    "#Chebyshev記述子で分布関数を正しく表現できているか確認する \n",
    "dist_i = dist[atom_ind]\n",
    "neighbors_list = np.argwhere(dist_i<=Rcut).reshape(-1)\n",
    "neighbors_list = neighbors_list[neighbors_list !=atom_ind]\n",
    "distances = dist_i[neighbors_list]\n",
    "i = atom_ind \n",
    "indices = [(j,i,k) for j in neighbors_list if j!=i for k in neighbors_list if (k!=i) and (k!=j)]\n",
    "angles = mol1.get_angles(indices,mic=True)\n",
    "\n",
    "#重みの設定\n",
    "weight_RDF = fc(distances,Rcut)\n",
    "weight_ADFj = fc(dist_i[np.array(indices)[:,0]],Rcut)\n",
    "weight_ADFk = fc(dist_i[np.array(indices)[:,2]],Rcut)\n",
    "\n",
    "#動径分布関数の計算と表示\n",
    "import matplotlib.pyplot as plt\n",
    "%matplotlib inline\n",
    "\n",
    "RDF_i= np.histogram(distances, bins=1000, weights=weight_RDF, density=True,range=(0,Rcut))\n",
    "x=(RDF_i[1][:-1]+RDF_i[1][1:])/2\n",
    "y=RDF_i[0]\n",
    "dr = x[1]-x[0]\n",
    "sigma = 0.1 \n",
    "ngs = int(sigma / dr) \n",
    "from scipy.ndimage.filters import gaussian_filter\n",
    "blurred_y = gaussian_filter(y, sigma=ngs)\n",
    "plt.plot(x,blurred_y)\n",
    "plt.show()\n",
    "rdf0x = x[:]\n",
    "rdf0y = blurred_y[:]\n",
    "\n",
    "#角度分布関数の計算と表示\n",
    "ADF_i= np.histogram(angles, bins=1000, weights=weight_ADFj*weight_ADFk, density=True,range=(0,180))\n",
    "x=(ADF_i[1][:-1]+ADF_i[1][1:])/2\n",
    "y=ADF_i[0]\n",
    "dr = x[1]-x[0]\n",
    "sigma = 2 \n",
    "ngs = int(sigma / dr) \n",
    "from scipy.ndimage.filters import gaussian_filter\n",
    "blurred_y = gaussian_filter(y, sigma=ngs)\n",
    "plt.plot(x,blurred_y)\n",
    "plt.show()\n",
    "\n",
    "adf0x = x[:]\n",
    "adf0y = blurred_y[:]"
   ]
  },
  {
   "cell_type": "code",
   "execution_count": 103,
   "metadata": {},
   "outputs": [
    {
     "data": {
      "image/png": "[encoded data removed]",
      "text/plain": [
       "<Figure size 432x288 with 1 Axes>"
      ]
     },
     "metadata": {
      "needs_background": "light"
     },
     "output_type": "display_data"
    },
    {
     "data": {
      "image/png": "[encoded data removed]",
      "text/plain": [
       "<Figure size 432x288 with 1 Axes>"
      ]
     },
     "metadata": {
      "needs_background": "light"
     },
     "output_type": "display_data"
    }
   ],
   "source": [
    "#原子種の重みを考慮する\n",
    "\n",
    "#動径分布関数の計算と表示\n",
    "wRDF_i= np.histogram(distances, bins=1000, weights=weight_RDF*w[neighbors_list], density=True,range=(0,Rcut))\n",
    "wADF_i= np.histogram(angles, bins=1000, weights=weight_ADFj*weight_ADFk*w[np.array(indices)[:,0]]*w[np.array(indices)[:,2]], density=True,range=(0,180))\n",
    "x=(wRDF_i[1][:-1]+wRDF_i[1][1:])/2\n",
    "y=wRDF_i[0]\n",
    "dr = x[1]-x[0]\n",
    "sigma = 0.2 \n",
    "ngs = int(sigma / dr) \n",
    "blurred_y = gaussian_filter(y, sigma=ngs)\n",
    "plt.plot(x,blurred_y)\n",
    "plt.show()\n",
    "\n",
    "rdf0wx = x[:]\n",
    "rdf0wy = blurred_y[:]\n",
    "\n",
    "#角度分布関数の計算と表示\n",
    "x=(wADF_i[1][:-1]+wADF_i[1][1:])/2\n",
    "y=wADF_i[0]\n",
    "dr = x[1]-x[0]\n",
    "sigma = 2 \n",
    "ngs = int(sigma / dr) \n",
    "blurred_y = gaussian_filter(y, sigma=ngs)\n",
    "plt.plot(x,blurred_y)\n",
    "plt.show()\n",
    "\n",
    "adf0wx = x[:]\n",
    "adf0wy = blurred_y[:]\n"
   ]
  },
  {
   "cell_type": "code",
   "execution_count": 115,
   "metadata": {},
   "outputs": [
    {
     "name": "stderr",
     "output_type": "stream",
     "text": [
      "/home/yam13524/miniconda3/envs/openmm/lib/python3.7/site-packages/ipykernel_launcher.py:53: RuntimeWarning: divide by zero encountered in true_divide\n",
      "/home/yam13524/miniconda3/envs/openmm/lib/python3.7/site-packages/ipykernel_launcher.py:54: RuntimeWarning: invalid value encountered in add\n",
      "/home/yam13524/miniconda3/envs/openmm/lib/python3.7/site-packages/ipykernel_launcher.py:55: RuntimeWarning: invalid value encountered in add\n"
     ]
    }
   ],
   "source": [
    "#Chebyshevの展開式を用いる\n",
    "dd = 1.0\n",
    "r = np.linspace(0+dd,Rcut-dd,1000)\n",
    "N2 = 15\n",
    "N3 = 15\n",
    "\n",
    "#Chebyshev関数\n",
    "funcT = []\n",
    "x = 2.0*r/Rcut - 1.0 \n",
    "for n2 in range(N2):\n",
    "    if n2==0 :\n",
    "        funcT.append(np.ones(x.shape))\n",
    "    if n2==1 :\n",
    "        funcT.append(x) \n",
    "    if n2>1 :\n",
    "        funcT.append(2.0*x*funcT[n2-1]-funcT[n2-2])\n",
    "\n",
    "RDF   =np.zeros(r.shape)\n",
    "RDFw  =np.zeros(r.shape)\n",
    "for n2 in range(N2):\n",
    "    if n2==0 :\n",
    "        k=0.5\n",
    "    else :\n",
    "        k=1.0 \n",
    "    phi = k*funcT[n2]/(2.0*np.pi*np.sqrt(r/Rcut-r*r/(Rcut*Rcut)))\n",
    "    RDF  += c2[n2]*phi\n",
    "    #RDF  += phi\n",
    "    RDFw += c2w[n2]*phi\n",
    "    \n",
    "th = np.linspace(0,180,1000)\n",
    "\n",
    "#Chebyshev記述子を作る（角度分布σ3について）\n",
    "th_rad = np.pi*th/180.0\n",
    "\n",
    "#Chebyshev関数\n",
    "funcT = []\n",
    "x = 2.0*th_rad/np.pi - 1.0 \n",
    "for n3 in range(N3):\n",
    "    if n3==0 :\n",
    "        funcT.append(np.ones(x.shape))\n",
    "    if n3==1 :\n",
    "        funcT.append(x) \n",
    "    if n3>1 :\n",
    "        funcT.append(2.0*x*funcT[n3-1]-funcT[n3-2])\n",
    "\n",
    "ADF  =np.zeros(th.shape)  \n",
    "ADFw =np.zeros(th.shape)  \n",
    "for n3 in range(N3):\n",
    "    if n3==0 :\n",
    "        k=0.5 \n",
    "    else :\n",
    "        k=1.0 \n",
    "    phi = k*funcT[n3]/(2.0*np.pi*np.sqrt(th_rad/np.pi-th_rad*th_rad/(np.pi*np.pi)))\n",
    "    ADF  += c3[n3]*phi\n",
    "    ADFw += c3w[n3]*phi\n",
    "    "
   ]
  },
  {
   "cell_type": "code",
   "execution_count": 116,
   "metadata": {},
   "outputs": [
    {
     "data": {
      "text/plain": [
       "[<matplotlib.lines.Line2D at 0x7f0f97e37250>]"
      ]
     },
     "execution_count": 116,
     "metadata": {},
     "output_type": "execute_result"
    },
    {
     "data": {
      "image/png": "[encoded data removed]",
      "text/plain": [
       "<Figure size 432x288 with 1 Axes>"
      ]
     },
     "metadata": {
      "needs_background": "light"
     },
     "output_type": "display_data"
    }
   ],
   "source": [
    "#動径分布関数の比較\n",
    "plt.plot(r,RDF)\n",
    "plt.plot(rdf0x,rdf0y*100)"
   ]
  },
  {
   "cell_type": "code",
   "execution_count": 119,
   "metadata": {},
   "outputs": [
    {
     "data": {
      "text/plain": [
       "[<matplotlib.lines.Line2D at 0x7f0f97ad63d0>]"
      ]
     },
     "execution_count": 119,
     "metadata": {},
     "output_type": "execute_result"
    },
    {
     "data": {
      "image/png": "[encoded data removed]",
      "text/plain": [
       "<Figure size 432x288 with 1 Axes>"
      ]
     },
     "metadata": {
      "needs_background": "light"
     },
     "output_type": "display_data"
    }
   ],
   "source": [
    "#動径分布関数の比較\n",
    "plt.plot(r,RDFw)\n",
    "plt.plot(rdf0wx,rdf0wy*3)"
   ]
  },
  {
   "cell_type": "code",
   "execution_count": 70,
   "metadata": {},
   "outputs": [],
   "source": [
    "dd = 0.01\n",
    "r = np.linspace(0+dd,Rcut-dd,10000)\n",
    "N2 = 500\n",
    "N3 = 500\n",
    "\n",
    "#Chebyshev関数\n",
    "funcT = []\n",
    "x = 2.0*r/Rcut - 1.0 \n",
    "for n2 in range(N2):\n",
    "    if n2==0 :\n",
    "        funcT.append(np.ones(x.shape))\n",
    "    if n2==1 :\n",
    "        funcT.append(x) \n",
    "    if n2>1 :\n",
    "        funcT.append(2.0*x*funcT[n2-1]-funcT[n2-2])\n",
    "\n",
    "RDF   =np.zeros(r.shape)\n",
    "RDFw  =np.zeros(r.shape)\n",
    "for n2 in range(N2):\n",
    "    if n2==0 :\n",
    "        k=0.5\n",
    "    else :\n",
    "        k=1.0 \n",
    "    phi = k*funcT[n2]/(2.0*np.pi*np.sqrt(r/Rcut-(r**2)/(Rcut**2)))\n",
    "    RDF  += c2[n2]*phi\n",
    "    RDFw += c2w[n2]*phi"
   ]
  },
  {
   "cell_type": "code",
   "execution_count": 71,
   "metadata": {},
   "outputs": [
    {
     "data": {
      "text/plain": [
       "array([-36.82009927, -35.73909358, -34.74517502, ..., -34.74517502,\n",
       "       -35.73909358, -36.82009927])"
      ]
     },
     "execution_count": 71,
     "metadata": {},
     "output_type": "execute_result"
    }
   ],
   "source": [
    "c2[2]*funcT[2]/(2.0*np.pi*np.sqrt(r/Rcut-r*r/(Rcut*Rcut)))"
   ]
  },
  {
   "cell_type": "code",
   "execution_count": 56,
   "metadata": {},
   "outputs": [
    {
     "data": {
      "text/plain": [
       "array([1., 1., 1., 1., 1., 1., 1., 1., 1., 1., 1., 1., 1., 1., 1., 1., 1.,\n",
       "       1., 1., 1., 1., 1., 1., 1., 1., 1., 1., 1., 1., 1., 1., 1., 1., 1.,\n",
       "       1., 1., 1., 1., 1., 1., 1., 1., 1., 1., 1., 1., 1., 1., 1., 1., 1.,\n",
       "       1., 1., 1., 1., 1., 1., 1., 1., 1., 1., 1., 1., 1., 1., 1., 1., 1.,\n",
       "       1., 1., 1., 1., 1., 1., 1., 1., 1., 1., 1., 1., 1., 1., 1., 1., 1.,\n",
       "       1., 1., 1., 1., 1., 1., 1., 1., 1., 1., 1., 1., 1., 1., 1., 1., 1.,\n",
       "       1., 1., 1., 1., 1., 1., 1., 1., 1., 1., 1., 1., 1., 1., 1., 1., 1.,\n",
       "       1., 1., 1., 1., 1., 1., 1., 1., 1., 1., 1., 1., 1., 1., 1., 1., 1.,\n",
       "       1., 1., 1., 1., 1., 1., 1., 1., 1., 1., 1., 1., 1., 1., 1., 1., 1.,\n",
       "       1., 1., 1., 1., 1., 1., 1., 1., 1., 1., 1., 1., 1., 1., 1., 1., 1.,\n",
       "       1., 1., 1., 1., 1., 1., 1., 1., 1., 1., 1., 1., 1., 1., 1., 1., 1.,\n",
       "       1., 1., 1., 1., 1., 1., 1., 1., 1., 1., 1., 1., 1., 1., 1., 1., 1.,\n",
       "       1., 1., 1., 1., 1., 1., 1., 1., 1., 1., 1., 1., 1., 1., 1., 1., 1.,\n",
       "       1., 1., 1., 1., 1., 1., 1., 1., 1., 1., 1., 1., 1., 1., 1., 1., 1.,\n",
       "       1., 1., 1., 1., 1., 1., 1., 1., 1., 1., 1., 1., 1., 1., 1., 1., 1.,\n",
       "       1., 1., 1., 1., 1., 1., 1., 1., 1., 1., 1., 1., 1., 1., 1., 1., 1.,\n",
       "       1., 1., 1., 1., 1., 1., 1., 1., 1., 1., 1., 1., 1., 1., 1., 1., 1.,\n",
       "       1., 1., 1., 1., 1., 1., 1., 1., 1., 1., 1., 1., 1., 1., 1., 1., 1.,\n",
       "       1., 1., 1., 1., 1., 1., 1., 1., 1., 1., 1., 1., 1., 1., 1., 1., 1.,\n",
       "       1., 1., 1., 1., 1., 1., 1., 1., 1., 1., 1., 1., 1., 1., 1., 1., 1.,\n",
       "       1., 1., 1., 1., 1., 1., 1., 1., 1., 1., 1., 1., 1., 1., 1., 1., 1.,\n",
       "       1., 1., 1., 1., 1., 1., 1., 1., 1., 1., 1., 1., 1., 1., 1., 1., 1.,\n",
       "       1., 1., 1., 1., 1., 1., 1., 1., 1., 1., 1., 1., 1., 1., 1., 1., 1.,\n",
       "       1., 1., 1., 1., 1., 1., 1., 1., 1., 1., 1., 1., 1., 1., 1., 1., 1.,\n",
       "       1., 1., 1., 1., 1., 1., 1., 1., 1., 1., 1., 1., 1., 1., 1., 1., 1.,\n",
       "       1., 1., 1., 1., 1., 1., 1., 1., 1., 1., 1., 1., 1., 1., 1., 1., 1.,\n",
       "       1., 1., 1., 1., 1., 1., 1., 1., 1., 1., 1., 1., 1., 1., 1., 1., 1.,\n",
       "       1., 1., 1., 1., 1., 1., 1., 1., 1., 1., 1., 1., 1., 1., 1., 1., 1.,\n",
       "       1., 1., 1., 1., 1., 1., 1., 1., 1., 1., 1., 1., 1., 1., 1., 1., 1.,\n",
       "       1., 1., 1., 1., 1., 1., 1., 1., 1., 1., 1., 1., 1., 1., 1., 1., 1.,\n",
       "       1., 1., 1., 1., 1., 1., 1., 1., 1., 1., 1., 1., 1., 1., 1., 1., 1.,\n",
       "       1., 1., 1., 1., 1., 1., 1., 1., 1., 1., 1., 1., 1., 1., 1., 1., 1.,\n",
       "       1., 1., 1., 1., 1., 1., 1., 1., 1., 1., 1., 1., 1., 1., 1., 1., 1.,\n",
       "       1., 1., 1., 1., 1., 1., 1., 1., 1., 1., 1., 1., 1., 1., 1., 1., 1.,\n",
       "       1., 1., 1., 1., 1., 1., 1., 1., 1., 1., 1., 1., 1., 1., 1., 1., 1.,\n",
       "       1., 1., 1., 1., 1., 1., 1., 1., 1., 1., 1., 1., 1., 1., 1., 1., 1.,\n",
       "       1., 1., 1., 1., 1., 1., 1., 1., 1., 1., 1., 1., 1., 1., 1., 1., 1.,\n",
       "       1., 1., 1., 1., 1., 1., 1., 1., 1., 1., 1., 1., 1., 1., 1., 1., 1.,\n",
       "       1., 1., 1., 1., 1., 1., 1., 1., 1., 1., 1., 1., 1., 1., 1., 1., 1.,\n",
       "       1., 1., 1., 1., 1., 1., 1., 1., 1., 1., 1., 1., 1., 1., 1., 1., 1.,\n",
       "       1., 1., 1., 1., 1., 1., 1., 1., 1., 1., 1., 1., 1., 1., 1., 1., 1.,\n",
       "       1., 1., 1., 1., 1., 1., 1., 1., 1., 1., 1., 1., 1., 1., 1., 1., 1.,\n",
       "       1., 1., 1., 1., 1., 1., 1., 1., 1., 1., 1., 1., 1., 1., 1., 1., 1.,\n",
       "       1., 1., 1., 1., 1., 1., 1., 1., 1., 1., 1., 1., 1., 1., 1., 1., 1.,\n",
       "       1., 1., 1., 1., 1., 1., 1., 1., 1., 1., 1., 1., 1., 1., 1., 1., 1.,\n",
       "       1., 1., 1., 1., 1., 1., 1., 1., 1., 1., 1., 1., 1., 1., 1., 1., 1.,\n",
       "       1., 1., 1., 1., 1., 1., 1., 1., 1., 1., 1., 1., 1., 1., 1., 1., 1.,\n",
       "       1., 1., 1., 1., 1., 1., 1., 1., 1., 1., 1., 1., 1., 1., 1., 1., 1.,\n",
       "       1., 1., 1., 1., 1., 1., 1., 1., 1., 1., 1., 1., 1., 1., 1., 1., 1.,\n",
       "       1., 1., 1., 1., 1., 1., 1., 1., 1., 1., 1., 1., 1., 1., 1., 1., 1.,\n",
       "       1., 1., 1., 1., 1., 1., 1., 1., 1., 1., 1., 1., 1., 1., 1., 1., 1.,\n",
       "       1., 1., 1., 1., 1., 1., 1., 1., 1., 1., 1., 1., 1., 1., 1., 1., 1.,\n",
       "       1., 1., 1., 1., 1., 1., 1., 1., 1., 1., 1., 1., 1., 1., 1., 1., 1.,\n",
       "       1., 1., 1., 1., 1., 1., 1., 1., 1., 1., 1., 1., 1., 1., 1., 1., 1.,\n",
       "       1., 1., 1., 1., 1., 1., 1., 1., 1., 1., 1., 1., 1., 1., 1., 1., 1.,\n",
       "       1., 1., 1., 1., 1., 1., 1., 1., 1., 1., 1., 1., 1., 1., 1., 1., 1.,\n",
       "       1., 1., 1., 1., 1., 1., 1., 1., 1., 1., 1., 1., 1., 1., 1., 1., 1.,\n",
       "       1., 1., 1., 1., 1., 1., 1., 1., 1., 1., 1., 1., 1., 1., 1., 1., 1.,\n",
       "       1., 1., 1., 1., 1., 1., 1., 1., 1., 1., 1., 1., 1., 1.])"
      ]
     },
     "execution_count": 56,
     "metadata": {},
     "output_type": "execute_result"
    }
   ],
   "source": [
    "funcT[0]"
   ]
  },
  {
   "cell_type": "code",
   "execution_count": 57,
   "metadata": {},
   "outputs": [
    {
     "data": {
      "text/plain": [
       "array([-0.99666667, -0.99467134, -0.99267601, -0.99068068, -0.98868535,\n",
       "       -0.98669002, -0.98469469, -0.98269937, -0.98070404, -0.97870871,\n",
       "       -0.97671338, -0.97471805, -0.97272272, -0.97072739, -0.96873207,\n",
       "       -0.96673674, -0.96474141, -0.96274608, -0.96075075, -0.95875542,\n",
       "       -0.95676009, -0.95476476, -0.95276944, -0.95077411, -0.94877878,\n",
       "       -0.94678345, -0.94478812, -0.94279279, -0.94079746, -0.93880214,\n",
       "       -0.93680681, -0.93481148, -0.93281615, -0.93082082, -0.92882549,\n",
       "       -0.92683016, -0.92483483, -0.92283951, -0.92084418, -0.91884885,\n",
       "       -0.91685352, -0.91485819, -0.91286286, -0.91086753, -0.90887221,\n",
       "       -0.90687688, -0.90488155, -0.90288622, -0.90089089, -0.89889556,\n",
       "       -0.89690023, -0.8949049 , -0.89290958, -0.89091425, -0.88891892,\n",
       "       -0.88692359, -0.88492826, -0.88293293, -0.8809376 , -0.87894228,\n",
       "       -0.87694695, -0.87495162, -0.87295629, -0.87096096, -0.86896563,\n",
       "       -0.8669703 , -0.86497497, -0.86297965, -0.86098432, -0.85898899,\n",
       "       -0.85699366, -0.85499833, -0.853003  , -0.85100767, -0.84901235,\n",
       "       -0.84701702, -0.84502169, -0.84302636, -0.84103103, -0.8390357 ,\n",
       "       -0.83704037, -0.83504505, -0.83304972, -0.83105439, -0.82905906,\n",
       "       -0.82706373, -0.8250684 , -0.82307307, -0.82107774, -0.81908242,\n",
       "       -0.81708709, -0.81509176, -0.81309643, -0.8111011 , -0.80910577,\n",
       "       -0.80711044, -0.80511512, -0.80311979, -0.80112446, -0.79912913,\n",
       "       -0.7971338 , -0.79513847, -0.79314314, -0.79114781, -0.78915249,\n",
       "       -0.78715716, -0.78516183, -0.7831665 , -0.78117117, -0.77917584,\n",
       "       -0.77718051, -0.77518519, -0.77318986, -0.77119453, -0.7691992 ,\n",
       "       -0.76720387, -0.76520854, -0.76321321, -0.76121788, -0.75922256,\n",
       "       -0.75722723, -0.7552319 , -0.75323657, -0.75124124, -0.74924591,\n",
       "       -0.74725058, -0.74525526, -0.74325993, -0.7412646 , -0.73926927,\n",
       "       -0.73727394, -0.73527861, -0.73328328, -0.73128795, -0.72929263,\n",
       "       -0.7272973 , -0.72530197, -0.72330664, -0.72131131, -0.71931598,\n",
       "       -0.71732065, -0.71532533, -0.71333   , -0.71133467, -0.70933934,\n",
       "       -0.70734401, -0.70534868, -0.70335335, -0.70135802, -0.6993627 ,\n",
       "       -0.69736737, -0.69537204, -0.69337671, -0.69138138, -0.68938605,\n",
       "       -0.68739072, -0.6853954 , -0.68340007, -0.68140474, -0.67940941,\n",
       "       -0.67741408, -0.67541875, -0.67342342, -0.67142809, -0.66943277,\n",
       "       -0.66743744, -0.66544211, -0.66344678, -0.66145145, -0.65945612,\n",
       "       -0.65746079, -0.65546547, -0.65347014, -0.65147481, -0.64947948,\n",
       "       -0.64748415, -0.64548882, -0.64349349, -0.64149816, -0.63950284,\n",
       "       -0.63750751, -0.63551218, -0.63351685, -0.63152152, -0.62952619,\n",
       "       -0.62753086, -0.62553554, -0.62354021, -0.62154488, -0.61954955,\n",
       "       -0.61755422, -0.61555889, -0.61356356, -0.61156823, -0.60957291,\n",
       "       -0.60757758, -0.60558225, -0.60358692, -0.60159159, -0.59959626,\n",
       "       -0.59760093, -0.59560561, -0.59361028, -0.59161495, -0.58961962,\n",
       "       -0.58762429, -0.58562896, -0.58363363, -0.5816383 , -0.57964298,\n",
       "       -0.57764765, -0.57565232, -0.57365699, -0.57166166, -0.56966633,\n",
       "       -0.567671  , -0.56567568, -0.56368035, -0.56168502, -0.55968969,\n",
       "       -0.55769436, -0.55569903, -0.5537037 , -0.55170838, -0.54971305,\n",
       "       -0.54771772, -0.54572239, -0.54372706, -0.54173173, -0.5397364 ,\n",
       "       -0.53774107, -0.53574575, -0.53375042, -0.53175509, -0.52975976,\n",
       "       -0.52776443, -0.5257691 , -0.52377377, -0.52177845, -0.51978312,\n",
       "       -0.51778779, -0.51579246, -0.51379713, -0.5118018 , -0.50980647,\n",
       "       -0.50781114, -0.50581582, -0.50382049, -0.50182516, -0.49982983,\n",
       "       -0.4978345 , -0.49583917, -0.49384384, -0.49184852, -0.48985319,\n",
       "       -0.48785786, -0.48586253, -0.4838672 , -0.48187187, -0.47987654,\n",
       "       -0.47788121, -0.47588589, -0.47389056, -0.47189523, -0.4698999 ,\n",
       "       -0.46790457, -0.46590924, -0.46391391, -0.46191859, -0.45992326,\n",
       "       -0.45792793, -0.4559326 , -0.45393727, -0.45194194, -0.44994661,\n",
       "       -0.44795128, -0.44595596, -0.44396063, -0.4419653 , -0.43996997,\n",
       "       -0.43797464, -0.43597931, -0.43398398, -0.43198866, -0.42999333,\n",
       "       -0.427998  , -0.42600267, -0.42400734, -0.42201201, -0.42001668,\n",
       "       -0.41802135, -0.41602603, -0.4140307 , -0.41203537, -0.41004004,\n",
       "       -0.40804471, -0.40604938, -0.40405405, -0.40205873, -0.4000634 ,\n",
       "       -0.39806807, -0.39607274, -0.39407741, -0.39208208, -0.39008675,\n",
       "       -0.38809142, -0.3860961 , -0.38410077, -0.38210544, -0.38011011,\n",
       "       -0.37811478, -0.37611945, -0.37412412, -0.3721288 , -0.37013347,\n",
       "       -0.36813814, -0.36614281, -0.36414748, -0.36215215, -0.36015682,\n",
       "       -0.35816149, -0.35616617, -0.35417084, -0.35217551, -0.35018018,\n",
       "       -0.34818485, -0.34618952, -0.34419419, -0.34219887, -0.34020354,\n",
       "       -0.33820821, -0.33621288, -0.33421755, -0.33222222, -0.33022689,\n",
       "       -0.32823156, -0.32623624, -0.32424091, -0.32224558, -0.32025025,\n",
       "       -0.31825492, -0.31625959, -0.31426426, -0.31226894, -0.31027361,\n",
       "       -0.30827828, -0.30628295, -0.30428762, -0.30229229, -0.30029696,\n",
       "       -0.29830163, -0.29630631, -0.29431098, -0.29231565, -0.29032032,\n",
       "       -0.28832499, -0.28632966, -0.28433433, -0.28233901, -0.28034368,\n",
       "       -0.27834835, -0.27635302, -0.27435769, -0.27236236, -0.27036703,\n",
       "       -0.26837171, -0.26637638, -0.26438105, -0.26238572, -0.26039039,\n",
       "       -0.25839506, -0.25639973, -0.2544044 , -0.25240908, -0.25041375,\n",
       "       -0.24841842, -0.24642309, -0.24442776, -0.24243243, -0.2404371 ,\n",
       "       -0.23844178, -0.23644645, -0.23445112, -0.23245579, -0.23046046,\n",
       "       -0.22846513, -0.2264698 , -0.22447447, -0.22247915, -0.22048382,\n",
       "       -0.21848849, -0.21649316, -0.21449783, -0.2125025 , -0.21050717,\n",
       "       -0.20851185, -0.20651652, -0.20452119, -0.20252586, -0.20053053,\n",
       "       -0.1985352 , -0.19653987, -0.19454454, -0.19254922, -0.19055389,\n",
       "       -0.18855856, -0.18656323, -0.1845679 , -0.18257257, -0.18057724,\n",
       "       -0.17858192, -0.17658659, -0.17459126, -0.17259593, -0.1706006 ,\n",
       "       -0.16860527, -0.16660994, -0.16461461, -0.16261929, -0.16062396,\n",
       "       -0.15862863, -0.1566333 , -0.15463797, -0.15264264, -0.15064731,\n",
       "       -0.14865199, -0.14665666, -0.14466133, -0.142666  , -0.14067067,\n",
       "       -0.13867534, -0.13668001, -0.13468468, -0.13268936, -0.13069403,\n",
       "       -0.1286987 , -0.12670337, -0.12470804, -0.12271271, -0.12071738,\n",
       "       -0.11872206, -0.11672673, -0.1147314 , -0.11273607, -0.11074074,\n",
       "       -0.10874541, -0.10675008, -0.10475475, -0.10275943, -0.1007641 ,\n",
       "       -0.09876877, -0.09677344, -0.09477811, -0.09278278, -0.09078745,\n",
       "       -0.08879213, -0.0867968 , -0.08480147, -0.08280614, -0.08081081,\n",
       "       -0.07881548, -0.07682015, -0.07482482, -0.0728295 , -0.07083417,\n",
       "       -0.06883884, -0.06684351, -0.06484818, -0.06285285, -0.06085752,\n",
       "       -0.0588622 , -0.05686687, -0.05487154, -0.05287621, -0.05088088,\n",
       "       -0.04888555, -0.04689022, -0.04489489, -0.04289957, -0.04090424,\n",
       "       -0.03890891, -0.03691358, -0.03491825, -0.03292292, -0.03092759,\n",
       "       -0.02893227, -0.02693694, -0.02494161, -0.02294628, -0.02095095,\n",
       "       -0.01895562, -0.01696029, -0.01496496, -0.01296964, -0.01097431,\n",
       "       -0.00897898, -0.00698365, -0.00498832, -0.00299299, -0.00099766,\n",
       "        0.00099766,  0.00299299,  0.00498832,  0.00698365,  0.00897898,\n",
       "        0.01097431,  0.01296964,  0.01496496,  0.01696029,  0.01895562,\n",
       "        0.02095095,  0.02294628,  0.02494161,  0.02693694,  0.02893227,\n",
       "        0.03092759,  0.03292292,  0.03491825,  0.03691358,  0.03890891,\n",
       "        0.04090424,  0.04289957,  0.04489489,  0.04689022,  0.04888555,\n",
       "        0.05088088,  0.05287621,  0.05487154,  0.05686687,  0.0588622 ,\n",
       "        0.06085752,  0.06285285,  0.06484818,  0.06684351,  0.06883884,\n",
       "        0.07083417,  0.0728295 ,  0.07482482,  0.07682015,  0.07881548,\n",
       "        0.08081081,  0.08280614,  0.08480147,  0.0867968 ,  0.08879213,\n",
       "        0.09078745,  0.09278278,  0.09477811,  0.09677344,  0.09876877,\n",
       "        0.1007641 ,  0.10275943,  0.10475475,  0.10675008,  0.10874541,\n",
       "        0.11074074,  0.11273607,  0.1147314 ,  0.11672673,  0.11872206,\n",
       "        0.12071738,  0.12271271,  0.12470804,  0.12670337,  0.1286987 ,\n",
       "        0.13069403,  0.13268936,  0.13468468,  0.13668001,  0.13867534,\n",
       "        0.14067067,  0.142666  ,  0.14466133,  0.14665666,  0.14865199,\n",
       "        0.15064731,  0.15264264,  0.15463797,  0.1566333 ,  0.15862863,\n",
       "        0.16062396,  0.16261929,  0.16461461,  0.16660994,  0.16860527,\n",
       "        0.1706006 ,  0.17259593,  0.17459126,  0.17658659,  0.17858192,\n",
       "        0.18057724,  0.18257257,  0.1845679 ,  0.18656323,  0.18855856,\n",
       "        0.19055389,  0.19254922,  0.19454454,  0.19653987,  0.1985352 ,\n",
       "        0.20053053,  0.20252586,  0.20452119,  0.20651652,  0.20851185,\n",
       "        0.21050717,  0.2125025 ,  0.21449783,  0.21649316,  0.21848849,\n",
       "        0.22048382,  0.22247915,  0.22447447,  0.2264698 ,  0.22846513,\n",
       "        0.23046046,  0.23245579,  0.23445112,  0.23644645,  0.23844178,\n",
       "        0.2404371 ,  0.24243243,  0.24442776,  0.24642309,  0.24841842,\n",
       "        0.25041375,  0.25240908,  0.2544044 ,  0.25639973,  0.25839506,\n",
       "        0.26039039,  0.26238572,  0.26438105,  0.26637638,  0.26837171,\n",
       "        0.27036703,  0.27236236,  0.27435769,  0.27635302,  0.27834835,\n",
       "        0.28034368,  0.28233901,  0.28433433,  0.28632966,  0.28832499,\n",
       "        0.29032032,  0.29231565,  0.29431098,  0.29630631,  0.29830163,\n",
       "        0.30029696,  0.30229229,  0.30428762,  0.30628295,  0.30827828,\n",
       "        0.31027361,  0.31226894,  0.31426426,  0.31625959,  0.31825492,\n",
       "        0.32025025,  0.32224558,  0.32424091,  0.32623624,  0.32823156,\n",
       "        0.33022689,  0.33222222,  0.33421755,  0.33621288,  0.33820821,\n",
       "        0.34020354,  0.34219887,  0.34419419,  0.34618952,  0.34818485,\n",
       "        0.35018018,  0.35217551,  0.35417084,  0.35616617,  0.35816149,\n",
       "        0.36015682,  0.36215215,  0.36414748,  0.36614281,  0.36813814,\n",
       "        0.37013347,  0.3721288 ,  0.37412412,  0.37611945,  0.37811478,\n",
       "        0.38011011,  0.38210544,  0.38410077,  0.3860961 ,  0.38809142,\n",
       "        0.39008675,  0.39208208,  0.39407741,  0.39607274,  0.39806807,\n",
       "        0.4000634 ,  0.40205873,  0.40405405,  0.40604938,  0.40804471,\n",
       "        0.41004004,  0.41203537,  0.4140307 ,  0.41602603,  0.41802135,\n",
       "        0.42001668,  0.42201201,  0.42400734,  0.42600267,  0.427998  ,\n",
       "        0.42999333,  0.43198866,  0.43398398,  0.43597931,  0.43797464,\n",
       "        0.43996997,  0.4419653 ,  0.44396063,  0.44595596,  0.44795128,\n",
       "        0.44994661,  0.45194194,  0.45393727,  0.4559326 ,  0.45792793,\n",
       "        0.45992326,  0.46191859,  0.46391391,  0.46590924,  0.46790457,\n",
       "        0.4698999 ,  0.47189523,  0.47389056,  0.47588589,  0.47788121,\n",
       "        0.47987654,  0.48187187,  0.4838672 ,  0.48586253,  0.48785786,\n",
       "        0.48985319,  0.49184852,  0.49384384,  0.49583917,  0.4978345 ,\n",
       "        0.49982983,  0.50182516,  0.50382049,  0.50581582,  0.50781114,\n",
       "        0.50980647,  0.5118018 ,  0.51379713,  0.51579246,  0.51778779,\n",
       "        0.51978312,  0.52177845,  0.52377377,  0.5257691 ,  0.52776443,\n",
       "        0.52975976,  0.53175509,  0.53375042,  0.53574575,  0.53774107,\n",
       "        0.5397364 ,  0.54173173,  0.54372706,  0.54572239,  0.54771772,\n",
       "        0.54971305,  0.55170838,  0.5537037 ,  0.55569903,  0.55769436,\n",
       "        0.55968969,  0.56168502,  0.56368035,  0.56567568,  0.567671  ,\n",
       "        0.56966633,  0.57166166,  0.57365699,  0.57565232,  0.57764765,\n",
       "        0.57964298,  0.5816383 ,  0.58363363,  0.58562896,  0.58762429,\n",
       "        0.58961962,  0.59161495,  0.59361028,  0.59560561,  0.59760093,\n",
       "        0.59959626,  0.60159159,  0.60358692,  0.60558225,  0.60757758,\n",
       "        0.60957291,  0.61156823,  0.61356356,  0.61555889,  0.61755422,\n",
       "        0.61954955,  0.62154488,  0.62354021,  0.62553554,  0.62753086,\n",
       "        0.62952619,  0.63152152,  0.63351685,  0.63551218,  0.63750751,\n",
       "        0.63950284,  0.64149816,  0.64349349,  0.64548882,  0.64748415,\n",
       "        0.64947948,  0.65147481,  0.65347014,  0.65546547,  0.65746079,\n",
       "        0.65945612,  0.66145145,  0.66344678,  0.66544211,  0.66743744,\n",
       "        0.66943277,  0.67142809,  0.67342342,  0.67541875,  0.67741408,\n",
       "        0.67940941,  0.68140474,  0.68340007,  0.6853954 ,  0.68739072,\n",
       "        0.68938605,  0.69138138,  0.69337671,  0.69537204,  0.69736737,\n",
       "        0.6993627 ,  0.70135802,  0.70335335,  0.70534868,  0.70734401,\n",
       "        0.70933934,  0.71133467,  0.71333   ,  0.71532533,  0.71732065,\n",
       "        0.71931598,  0.72131131,  0.72330664,  0.72530197,  0.7272973 ,\n",
       "        0.72929263,  0.73128795,  0.73328328,  0.73527861,  0.73727394,\n",
       "        0.73926927,  0.7412646 ,  0.74325993,  0.74525526,  0.74725058,\n",
       "        0.74924591,  0.75124124,  0.75323657,  0.7552319 ,  0.75722723,\n",
       "        0.75922256,  0.76121788,  0.76321321,  0.76520854,  0.76720387,\n",
       "        0.7691992 ,  0.77119453,  0.77318986,  0.77518519,  0.77718051,\n",
       "        0.77917584,  0.78117117,  0.7831665 ,  0.78516183,  0.78715716,\n",
       "        0.78915249,  0.79114781,  0.79314314,  0.79513847,  0.7971338 ,\n",
       "        0.79912913,  0.80112446,  0.80311979,  0.80511512,  0.80711044,\n",
       "        0.80910577,  0.8111011 ,  0.81309643,  0.81509176,  0.81708709,\n",
       "        0.81908242,  0.82107774,  0.82307307,  0.8250684 ,  0.82706373,\n",
       "        0.82905906,  0.83105439,  0.83304972,  0.83504505,  0.83704037,\n",
       "        0.8390357 ,  0.84103103,  0.84302636,  0.84502169,  0.84701702,\n",
       "        0.84901235,  0.85100767,  0.853003  ,  0.85499833,  0.85699366,\n",
       "        0.85898899,  0.86098432,  0.86297965,  0.86497497,  0.8669703 ,\n",
       "        0.86896563,  0.87096096,  0.87295629,  0.87495162,  0.87694695,\n",
       "        0.87894228,  0.8809376 ,  0.88293293,  0.88492826,  0.88692359,\n",
       "        0.88891892,  0.89091425,  0.89290958,  0.8949049 ,  0.89690023,\n",
       "        0.89889556,  0.90089089,  0.90288622,  0.90488155,  0.90687688,\n",
       "        0.90887221,  0.91086753,  0.91286286,  0.91485819,  0.91685352,\n",
       "        0.91884885,  0.92084418,  0.92283951,  0.92483483,  0.92683016,\n",
       "        0.92882549,  0.93082082,  0.93281615,  0.93481148,  0.93680681,\n",
       "        0.93880214,  0.94079746,  0.94279279,  0.94478812,  0.94678345,\n",
       "        0.94877878,  0.95077411,  0.95276944,  0.95476476,  0.95676009,\n",
       "        0.95875542,  0.96075075,  0.96274608,  0.96474141,  0.96673674,\n",
       "        0.96873207,  0.97072739,  0.97272272,  0.97471805,  0.97671338,\n",
       "        0.97870871,  0.98070404,  0.98269937,  0.98469469,  0.98669002,\n",
       "        0.98868535,  0.99068068,  0.99267601,  0.99467134,  0.99666667])"
      ]
     },
     "execution_count": 57,
     "metadata": {},
     "output_type": "execute_result"
    }
   ],
   "source": [
    "x"
   ]
  },
  {
   "cell_type": "code",
   "execution_count": null,
   "metadata": {},
   "outputs": [],
   "source": []
  },
  {
   "cell_type": "code",
   "execution_count": null,
   "metadata": {},
   "outputs": [],
   "source": [
    "#1,3-propanediolの電荷\n",
    "chags =[\n",
    "-0.597800,\n",
    " 0.128900,\n",
    "-0.158400,\n",
    " 0.128900,   \n",
    "-0.597800, \n",
    " 0.395500,      \n",
    " 0.050700,   \n",
    " 0.050700,     \n",
    " 0.051200,  \n",
    " 0.051200,  \n",
    " 0.050700,    \n",
    " 0.050700,    \n",
    " 0.395500]     \n",
    "\n",
    "#電荷素量、長さ、デバイの単位\n",
    "qe = 1.60217663e-19 #C \n",
    "debye = 3.33564e-30 #Cm \n",
    "ang = 1.0e-10 #Ang. Unit"
   ]
  },
  {
   "cell_type": "code",
   "execution_count": null,
   "metadata": {},
   "outputs": [],
   "source": [
    "#原子座標と電荷の値を用いて直接、UnitCellの双極子モーメントを計算する\n",
    "import numpy as np\n",
    "dx=0;dy=0;dz=0\n",
    "num_at = len(chags)\n",
    "for i,r in enumerate(mol1.get_positions()) :\n",
    "    dx += chags[i%num_at] * r[0] ; dy += chags[i%num_at] * r[1]; dz += chags[i%num_at] * r[2]\n",
    "\n",
    "print(\"Total < M_x > = {} Debye\".format(dx*ang*qe/debye))\n",
    "print(\"Total < M_y > = {} Debye\".format(dy*ang*qe/debye))\n",
    "print(\"Total < M_z > = {} Debye\".format(dz*ang*qe/debye))"
   ]
  },
  {
   "cell_type": "code",
   "execution_count": null,
   "metadata": {},
   "outputs": [],
   "source": [
    "import os\n",
    "import subprocess\n",
    "from subprocess import PIPE\n",
    "gromacs_home = \"~/usr/local/gromacs2018/bin/\"\n",
    "!echo \"System\" > anal.txt \n",
    "os.environ['OMP_NUM_THREADS'] = '1'    \n",
    "commands = gromacs_home+\"gmx_mpi dipoles -s eq.tpr -f eq.gro < anal.txt\"\n",
    "proc = subprocess.run(commands, shell=True, stdout=PIPE, stderr=PIPE,encoding='utf-8')\n",
    "output = proc.stdout\n",
    "print(output)"
   ]
  },
  {
   "cell_type": "markdown",
   "metadata": {},
   "source": [
    "【結論】  \n",
    "gromacsのdipolesでは、周期境界をはみ出した分子の部分について特にUnitCell内に戻すような処理を行わず、  \n",
    "はみ出した値のまま素朴に計算しているようである。  \n",
    "現在弊社の誘電スペクトルの計算ではgmx dipolesを特にオプションなど検討せずに使用しているが、  \n",
    "これで問題がないのかどうかについては改めて検討する。  \n"
   ]
  }
 ],
 "metadata": {
  "colab": {
   "name": "dipoles_gromacs_IR.ipynb",
   "provenance": []
  },
  "kernelspec": {
   "display_name": "Python 3",
   "language": "python",
   "name": "python3"
  },
  "language_info": {
   "codemirror_mode": {
    "name": "ipython",
    "version": 3
   },
   "file_extension": ".py",
   "mimetype": "text/x-python",
   "name": "python",
   "nbconvert_exporter": "python",
   "pygments_lexer": "ipython3",
   "version": "3.7.10"
  }
 },
 "nbformat": 4,
 "nbformat_minor": 1
}
