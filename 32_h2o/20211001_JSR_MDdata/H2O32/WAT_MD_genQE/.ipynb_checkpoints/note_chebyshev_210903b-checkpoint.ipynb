{
 "cells": [
  {
   "cell_type": "code",
   "execution_count": 1,
   "metadata": {},
   "outputs": [],
   "source": [
    "!rm -r -f input.acpype\n",
    "!ls ./ |  grep -v -E 'RFmodels|inputs|dipole_of_Unitcell.ipynb' | xargs rm -rf \n",
    "!mkdir output"
   ]
  },
  {
   "cell_type": "code",
   "execution_count": 2,
   "metadata": {},
   "outputs": [],
   "source": [
    "import pandas as pd\n",
    "poly = pd.read_csv(\"./inputs/propanediol.csv\")\n",
    "#poly = poly[1:].reset_index(drop=True)"
   ]
  },
  {
   "cell_type": "code",
   "execution_count": 3,
   "metadata": {
    "scrolled": true
   },
   "outputs": [
    {
     "data": {
      "text/html": [
       "<div>\n",
       "<style scoped>\n",
       "    .dataframe tbody tr th:only-of-type {\n",
       "        vertical-align: middle;\n",
       "    }\n",
       "\n",
       "    .dataframe tbody tr th {\n",
       "        vertical-align: top;\n",
       "    }\n",
       "\n",
       "    .dataframe thead th {\n",
       "        text-align: right;\n",
       "    }\n",
       "</style>\n",
       "<table border=\"1\" class=\"dataframe\">\n",
       "  <thead>\n",
       "    <tr style=\"text-align: right;\">\n",
       "      <th></th>\n",
       "      <th>Smiles</th>\n",
       "      <th>Name</th>\n",
       "    </tr>\n",
       "  </thead>\n",
       "  <tbody>\n",
       "    <tr>\n",
       "      <th>0</th>\n",
       "      <td>OCCCO</td>\n",
       "      <td>PRD</td>\n",
       "    </tr>\n",
       "  </tbody>\n",
       "</table>\n",
       "</div>"
      ],
      "text/plain": [
       "  Smiles Name\n",
       "0  OCCCO  PRD"
      ]
     },
     "execution_count": 3,
     "metadata": {},
     "output_type": "execute_result"
    }
   ],
   "source": [
    "poly"
   ]
  },
  {
   "cell_type": "code",
   "execution_count": 4,
   "metadata": {},
   "outputs": [],
   "source": [
    "max_atoms=500 \n",
    "density = 0.9 "
   ]
  },
  {
   "cell_type": "code",
   "execution_count": 5,
   "metadata": {},
   "outputs": [],
   "source": [
    "import pandas as pd\n",
    "\n",
    "from rdkit import Chem\n",
    "from rdkit.Chem import Draw\n",
    "from rdkit.Chem import Descriptors\n",
    "from rdkit.ML.Descriptors import MoleculeDescriptors\n",
    "from rdkit.Chem import PandasTools\n",
    "\n",
    "#化学構造のsmilesリストを準備する\n",
    "smiles_list_polymer = poly[\"Smiles\"].to_list()\n",
    "\n",
    "\n",
    "# 化合物のラベルを作成\n",
    "label_list = poly[\"Name\"].to_list()\n",
    "\n",
    "# molオブジェクトのリストを作成\n",
    "mols_list_polymer = [Chem.MolFromSmiles(smile) for smile in smiles_list_polymer]"
   ]
  },
  {
   "cell_type": "code",
   "execution_count": 6,
   "metadata": {
    "scrolled": false
   },
   "outputs": [
    {
     "data": {
      "image/png": "[encoded data removed]",
      "text/plain": [
       "<IPython.core.display.Image object>"
      ]
     },
     "execution_count": 6,
     "metadata": {},
     "output_type": "execute_result"
    }
   ],
   "source": [
    "img = Draw.MolsToGridImage(mols_list_polymer,\n",
    "                           molsPerRow=4, #一列に配置する分子の数\n",
    "                           subImgSize=(300,200),\n",
    "                           legends=label_list #化合物の下に表示するラベル\n",
    "                           )\n",
    "img"
   ]
  },
  {
   "cell_type": "code",
   "execution_count": 7,
   "metadata": {},
   "outputs": [],
   "source": [
    "def gaff_bcc(smiles):\n",
    "    #GAFF2/AM1-BCCをアサインする\n",
    "    import sys,os,os.path\n",
    "    os.environ['SMILES']=str(smiles)\n",
    "    !echo ${SMILES} > input.smi\n",
    "    !obabel -ismi input.smi -O input.mol2 --gen3D --conformer --nconf 5000 --weighted \n",
    "    !babel -imol2 input.mol2 -oxyz input.xyz\n",
    "    from ase.io import read, write\n",
    "    inp1 = read('input.xyz')\n",
    "    !acpype -i input.mol2 -c bcc -n 0 -m 1 -a gaff2 -f -o gmx -k \"qm_theory='AM1',grms_tol=0.05,scfconv=1.d-10,ndiis_attempts=700, \"\n",
    "\n",
    "    import shutil\n",
    "    src = './input.acpype/input_GMX.gro'\n",
    "    copy = './input1.gro'\n",
    "    shutil.copyfile(src,copy)\n",
    "    src = './input.acpype/input_GMX.itp'\n",
    "    copy = './input1.itp'\n",
    "    shutil.copyfile(src,copy)"
   ]
  },
  {
   "cell_type": "code",
   "execution_count": 8,
   "metadata": {},
   "outputs": [
    {
     "name": "stdout",
     "output_type": "stream",
     "text": [
      "1 molecule converted\n",
      "1 molecule converted\n",
      "13 info messages 6 audit log messages \n",
      "=========================================================================================\n",
      "| ACPYPE: AnteChamber PYthon Parser interfacE v. 2020-10-24T12:16:34CEST (c) 2021 AWSdS |\n",
      "=========================================================================================\n",
      "==> ... charge set to 0\n",
      "==> Executing Antechamber...\n",
      "==> * Antechamber OK *\n",
      "==> * Parmchk OK *\n",
      "==> Executing Tleap...\n",
      "++++++++++start_quote+++++++++++++++++++++++++++++++++++++++++++++++++++++++++++\n",
      "Checking 'UNL'....\n",
      "Checking parameters for unit 'UNL'.\n",
      "Checking for bond parameters.\n",
      "Checking for angle parameters.\n",
      "Unit is OK.\n",
      "++++++++++end_quote+++++++++++++++++++++++++++++++++++++++++++++++++++++++++++++\n",
      "==> * Tleap OK *\n",
      "==> Removing temporary files...\n",
      "==> Writing GROMACS files\n",
      "\n",
      "==> Writing GMX dihedrals for GMX 4.5 and higher.\n",
      "\n",
      "==> Writing pickle file input.pkl\n",
      "Total time of execution: 1s\n"
     ]
    }
   ],
   "source": [
    "gaff_bcc(smiles_list_polymer[0])"
   ]
  },
  {
   "cell_type": "code",
   "execution_count": 9,
   "metadata": {},
   "outputs": [],
   "source": [
    "#make mdp file for energy minimization\n",
    "def make_mdp_em():\n",
    "\n",
    "    mdp_file = \"em.mdp\"\n",
    "\n",
    "    lines = [\n",
    "    \"; VARIOUS PREPROCESSING OPTIONS\",\n",
    "    \";title                    = Yo\",\n",
    "    \";cpp                      = /usr/bin/cpp\",\n",
    "    \"include                  =\", \n",
    "    \"define                   =\", \n",
    "    \"    \",\n",
    "    \"; RUN CONTROL PARAMETERS\",\n",
    "    \"integrator               = steep\",\n",
    "    \"nsteps                   = 1000000\",\n",
    "    \"emtol                    = 10\",\n",
    "    \"emstep                   = 0.1\",\n",
    "    \"nstlist                  = 1\",\n",
    "    \"cutoff-scheme            = verlet\",\n",
    "    \"vdw-type                 = cut-off\",\n",
    "    \"rlist                    = 0.5\",\n",
    "    \"rvdw                     = 0.5\",\n",
    "    \"rcoulomb                 = 0.5\",\n",
    "    ]\n",
    "\n",
    "    with open(mdp_file, mode='w') as f:\n",
    "        f.write('\\n'.join(lines))"
   ]
  },
  {
   "cell_type": "code",
   "execution_count": 10,
   "metadata": {},
   "outputs": [],
   "source": [
    "#make mdp file for NVT run\n",
    "def make_mdp_nvt(temp,steps,dt,cutoff):\n",
    "\n",
    "    temperature      = temp\n",
    "    simulation_steps = steps \n",
    "    time_step        = dt/1000.0  # ps\n",
    "    cutoff_radius    = cutoff/10.0\n",
    "    \n",
    "    mdp_file = \"run.mdp\"\n",
    "\n",
    "    lines = [\n",
    "    \"; VARIOUS PREPROCESSING OPTIONS\",\n",
    "    \";title                    = Yo\",\n",
    "    \";cpp                      = /usr/bin/cpp\",\n",
    "    \"include                  =\", \n",
    "    \"define                   =\", \n",
    "    \"    \",\n",
    "    \"; RUN CONTROL PARAMETERS\",\n",
    "    \"constraints              = none\",\n",
    "    \"integrator               = md\",\n",
    "    \"nsteps                   = {}\".format(simulation_steps),\n",
    "    \"dt                       = {}\".format(time_step),\n",
    "    \"nstlist                  = 1\",\n",
    "    \"rlist                    = {}\".format(cutoff_radius),\n",
    "    \"rvdw                     = {}\".format(cutoff_radius),\n",
    "    \"rcoulomb                 = {}\".format(cutoff_radius),\n",
    "    \"coulombtype              = cut-off\",\n",
    "    \"cutoff-scheme            = verlet\",\n",
    "    \"vdw-type                 = cut-off\",        \n",
    "    \"tc-grps                  = system\",\n",
    "    \"tau-t                    = 0.1\",\n",
    "    \"ref-t                    = {}\".format(temperature),\n",
    "    \"Pcoupl                   = no\",\n",
    "    \"nstenergy                = 1000\",\n",
    "    \"nstxout                  = 1000\",  \n",
    "    ]\n",
    "\n",
    "    with open(mdp_file, mode='w') as f:\n",
    "        f.write('\\n'.join(lines))"
   ]
  },
  {
   "cell_type": "code",
   "execution_count": 16,
   "metadata": {},
   "outputs": [],
   "source": [
    "def build_initial_cell_gromacs(dt,eq_cutoff,eq_temp,eq_steps):\n",
    "\n",
    "    import pandas as pd\n",
    "    \n",
    "    import time \n",
    "    init_time = time.time()\n",
    "    \n",
    "    dt = dt\n",
    "\n",
    "    import MDAnalysis as mda\n",
    "    from nglview.datafiles import PDB, XTC\n",
    "\n",
    "    #混合溶液を作成\n",
    "    import mdapackmol\n",
    "    import numpy as np\n",
    "    from ase import units\n",
    "    import shutil\n",
    "\n",
    "    # load individual molecule files\n",
    "    mol1 = mda.Universe('input1.gro')\n",
    "    #num_mols1 = 30\n",
    "    total_mol = int(max_atoms/(mol1.atoms.n_atoms))\n",
    "    num_mols1 = total_mol\n",
    "    mw_mol1 = np.sum(mol1.atoms.masses)\n",
    "    total_weight = num_mols1 * mw_mol1 \n",
    "    \n",
    "    # Determine side length of a box with the density of mixture \n",
    "    #L = 12.0 # Ang. unit \n",
    "    d = density / 1e24 # Density in g/Ang3 \n",
    "    volume = (total_weight / units.mol) / d\n",
    "    L = volume**(1.0/3.0)\n",
    "    \n",
    "    system = mdapackmol.packmol(\n",
    "    [ mdapackmol.PackmolStructure(\n",
    "    mol1, number=num_mols1,\n",
    "    instructions=[\"inside box \"+str(0)+\"  \"+str(0)+\"  \"+str(0)+ \"  \"+str(L)+\"  \"+str(L)+\"  \"+str(L)]),])\n",
    "\n",
    "    system.atoms.write('mixture.gro')\n",
    "\n",
    "    import os \n",
    "    os.environ['GMX_MAXBACKUP'] = '-1'\n",
    "\n",
    "    # for gromacs-5 or later \n",
    "    commands = \"gmx editconf -f mixture.gro  -box \"+ str(L/10.0)+\"  \"+str(L/10.0)+\"  \"+str(L/10.0) + \"  \" +\" -o init.gro\"\n",
    "\n",
    "    import subprocess\n",
    "    from subprocess import PIPE\n",
    "\n",
    "    proc = subprocess.run(commands, shell=True, stdout=PIPE, stderr=PIPE,encoding='utf-8')\n",
    "    output = proc.stdout\n",
    "    #print('STDOUT: {}'.format(output))\n",
    "\n",
    "    #make top file for GAFF\n",
    "\n",
    "    top_file = \"system.top\"\n",
    "    mol_name1 = \"input\"\n",
    " \n",
    "    lines = [\n",
    "        \"; input_GMX.top created by acpype (v: 2020-07-25T09:06:13CEST) on Fri Jul 31 07:59:08 2020\",\n",
    "        \";by acpype (v: 2020-07-25T09:06:13CEST) on Fri Jul 31 07:59:08 2020\",\n",
    "        \"   \",\n",
    "        \"[ defaults ]\",\n",
    "        \"; nbfunc        comb-rule       gen-pairs       fudgeLJ fudgeQQ\",\n",
    "        \"1               2               yes             0.5     0.8333\",\n",
    "        \"    \",\n",
    "        \"; Include input.itp topology\", \n",
    "        \"#include \\\"{}.itp\\\"\".format(\"input1\"),\n",
    "        \"    \",\n",
    "        \"[ system ]\",\n",
    "        \"input\",\n",
    "        \"     \",\n",
    "        \"[ molecules ]\",\n",
    "        \"; Compound        nmols\" ,\n",
    "        mol_name1 + \"          {} \".format(num_mols1), \n",
    "    ]\n",
    "        \n",
    "    with open(top_file, mode='w') as f:\n",
    "        f.write('\\n'.join(lines))\n",
    "\n",
    "    # Energy minimization\n",
    "    import os\n",
    "    import subprocess\n",
    "    from subprocess import PIPE\n",
    "    \n",
    "    print('Minimizing energy')\n",
    "    \n",
    "    os.environ['GMX_MAXBACKUP'] = '-1'\n",
    "    !. /home/yamazaki/usr/local/gromacs/bin/GMXRC\n",
    "    gromacs_home = \"/home/yamazaki/usr/local/gromacs/bin/\"\n",
    "\n",
    "    make_mdp_em()\n",
    "\n",
    "    #grompp\n",
    "    os.environ['OMP_NUM_THREADS'] = '1'    \n",
    "    commands = gromacs_home+\"gmx_mpi grompp -f em.mdp -p system.top -c init.gro -o em.tpr -maxwarn 10 \"\n",
    "    proc = subprocess.run(commands, shell=True, stdout=PIPE, stderr=PIPE,encoding='utf-8')\n",
    "    output = proc.stdout\n",
    "\n",
    "    #mdrun\n",
    "    os.environ['OMP_NUM_THREADS'] = '1' \n",
    "    commands = gromacs_home+\"gmx_mpi mdrun -s em.tpr -o em.trr -e em.edr -c em.gro -nb gpu\"\n",
    "    proc = subprocess.run(commands, shell=True, stdout=PIPE, stderr=PIPE,encoding='utf-8')\n",
    "    output = proc.stdout\n",
    "\n",
    "    #Relax the geometry \n",
    "    print('Running dynamics :Equilibration')\n",
    "  \n",
    "    temp = eq_temp\n",
    "    dt   = dt \n",
    "    steps = eq_steps\n",
    "    make_mdp_nvt(temp,steps,dt,eq_cutoff)\n",
    "\n",
    "    #grompp\n",
    "    os.environ['OMP_NUM_THREADS'] = '1'    \n",
    "    commands = gromacs_home+\"gmx_mpi grompp -f run.mdp -p system.top -c em.gro -o eq.tpr -maxwarn 10 \".format(str(temp))\n",
    "    proc = subprocess.run(commands, shell=True, stdout=PIPE, stderr=PIPE,encoding='utf-8')\n",
    "    output = proc.stdout\n",
    "\n",
    "    #mdrun\n",
    "    os.environ['OMP_NUM_THREADS'] = '1' \n",
    "    commands = gromacs_home+\"gmx_mpi mdrun -s eq.tpr -o eq.trr -e eq.edr -c eq.gro -nb cpu\"\n",
    "    proc = subprocess.run(commands, shell=True, stdout=PIPE, stderr=PIPE,encoding='utf-8')\n",
    "    output = proc.stdout\n",
    "\n",
    "    print(\"elapsed time= {} sec.\".format(time.time()-init_time))"
   ]
  },
  {
   "cell_type": "code",
   "execution_count": 17,
   "metadata": {},
   "outputs": [],
   "source": [
    "!export OMP_NUM_THREADS=1 "
   ]
  },
  {
   "cell_type": "code",
   "execution_count": 18,
   "metadata": {},
   "outputs": [],
   "source": [
    "dt = 1                              #[fs] MDの刻み時間：このまま使うことを推奨。\n",
    "eq_temp = 300                       #緩和計算させるときの温度 [K]\n",
    "eq_steps = 100000                    #緩和計算するstep数。この例だと100ps\n",
    "eq_cutoff = 4.0 "
   ]
  },
  {
   "cell_type": "code",
   "execution_count": 19,
   "metadata": {},
   "outputs": [
    {
     "name": "stderr",
     "output_type": "stream",
     "text": [
      "/home/yamazaki/miniconda3/envs/openmm/lib/python3.6/site-packages/MDAnalysis/coordinates/PDB.py:1028: UserWarning: Found no information for attr: 'altLocs' Using default value of ' '\n",
      "  \"\".format(attrname, default))\n",
      "/home/yamazaki/miniconda3/envs/openmm/lib/python3.6/site-packages/MDAnalysis/coordinates/PDB.py:1028: UserWarning: Found no information for attr: 'icodes' Using default value of ' '\n",
      "  \"\".format(attrname, default))\n",
      "/home/yamazaki/miniconda3/envs/openmm/lib/python3.6/site-packages/MDAnalysis/coordinates/PDB.py:1028: UserWarning: Found no information for attr: 'occupancies' Using default value of '1.0'\n",
      "  \"\".format(attrname, default))\n",
      "/home/yamazaki/miniconda3/envs/openmm/lib/python3.6/site-packages/MDAnalysis/coordinates/PDB.py:1028: UserWarning: Found no information for attr: 'tempfactors' Using default value of '0.0'\n",
      "  \"\".format(attrname, default))\n"
     ]
    },
    {
     "name": "stdout",
     "output_type": "stream",
     "text": [
      "Minimizing energy\n",
      "Running dynamics :Equilibration\n",
      "elapsed time= 45.073203802108765 sec.\n"
     ]
    }
   ],
   "source": [
    "build_initial_cell_gromacs(dt,eq_cutoff,eq_temp,eq_steps)"
   ]
  },
  {
   "cell_type": "code",
   "execution_count": 20,
   "metadata": {},
   "outputs": [
    {
     "data": {
      "image/png": "[encoded data removed]",
      "text/plain": [
       "<Figure size 432x288 with 1 Axes>"
      ]
     },
     "metadata": {
      "needs_background": "light"
     },
     "output_type": "display_data"
    }
   ],
   "source": [
    "#構造可視化(matplotlib版)\n",
    "import matplotlib.pyplot as plt\n",
    "from ase.visualize.plot import plot_atoms\n",
    "import ase.io\n",
    "mol1 = ase.io.read('eq.gro')\n",
    "%matplotlib inline\n",
    "plot_atoms(mol1, rotation=('0x,0y,0z'))\n",
    "plt.show()"
   ]
  },
  {
   "cell_type": "code",
   "execution_count": 21,
   "metadata": {},
   "outputs": [
    {
     "data": {
      "application/vnd.jupyter.widget-view+json": {
       "model_id": "e67a433bbc57459aba68391c1053fb7c",
       "version_major": 2,
       "version_minor": 0
      },
      "text/plain": [
       "NGLWidget()"
      ]
     },
     "metadata": {},
     "output_type": "display_data"
    }
   ],
   "source": [
    "#構造可視化(nglview版)\n",
    "import nglview as nv\n",
    "import ase.io\n",
    "mol1 = ase.io.read('eq.gro')\n",
    "w = nv.show_ase(mol1)\n",
    "w.add_label(radius=1,color=\"black\",label_type=\"atom\")\n",
    "w.add_unitcell()\n",
    "w.update_unitcell()\n",
    "w"
   ]
  },
  {
   "cell_type": "code",
   "execution_count": 22,
   "metadata": {},
   "outputs": [
    {
     "data": {
      "text/plain": [
       "array([8, 6, 6, 6, 8, 1, 1, 1, 1, 1, 1, 1, 1, 8, 6, 6, 6, 8, 1, 1, 1, 1,\n",
       "       1, 1, 1, 1, 8, 6, 6, 6, 8, 1, 1, 1, 1, 1, 1, 1, 1, 8, 6, 6, 6, 8,\n",
       "       1, 1, 1, 1, 1, 1, 1, 1, 8, 6, 6, 6, 8, 1, 1, 1, 1, 1, 1, 1, 1, 8,\n",
       "       6, 6, 6, 8, 1, 1, 1, 1, 1, 1, 1, 1, 8, 6, 6, 6, 8, 1, 1, 1, 1, 1,\n",
       "       1, 1, 1, 8, 6, 6, 6, 8, 1, 1, 1, 1, 1, 1, 1, 1, 8, 6, 6, 6, 8, 1,\n",
       "       1, 1, 1, 1, 1, 1, 1, 8, 6, 6, 6, 8, 1, 1, 1, 1, 1, 1, 1, 1, 8, 6,\n",
       "       6, 6, 8, 1, 1, 1, 1, 1, 1, 1, 1, 8, 6, 6, 6, 8, 1, 1, 1, 1, 1, 1,\n",
       "       1, 1, 8, 6, 6, 6, 8, 1, 1, 1, 1, 1, 1, 1, 1, 8, 6, 6, 6, 8, 1, 1,\n",
       "       1, 1, 1, 1, 1, 1, 8, 6, 6, 6, 8, 1, 1, 1, 1, 1, 1, 1, 1, 8, 6, 6,\n",
       "       6, 8, 1, 1, 1, 1, 1, 1, 1, 1, 8, 6, 6, 6, 8, 1, 1, 1, 1, 1, 1, 1,\n",
       "       1, 8, 6, 6, 6, 8, 1, 1, 1, 1, 1, 1, 1, 1, 8, 6, 6, 6, 8, 1, 1, 1,\n",
       "       1, 1, 1, 1, 1, 8, 6, 6, 6, 8, 1, 1, 1, 1, 1, 1, 1, 1, 8, 6, 6, 6,\n",
       "       8, 1, 1, 1, 1, 1, 1, 1, 1, 8, 6, 6, 6, 8, 1, 1, 1, 1, 1, 1, 1, 1,\n",
       "       8, 6, 6, 6, 8, 1, 1, 1, 1, 1, 1, 1, 1, 8, 6, 6, 6, 8, 1, 1, 1, 1,\n",
       "       1, 1, 1, 1, 8, 6, 6, 6, 8, 1, 1, 1, 1, 1, 1, 1, 1, 8, 6, 6, 6, 8,\n",
       "       1, 1, 1, 1, 1, 1, 1, 1, 8, 6, 6, 6, 8, 1, 1, 1, 1, 1, 1, 1, 1, 8,\n",
       "       6, 6, 6, 8, 1, 1, 1, 1, 1, 1, 1, 1, 8, 6, 6, 6, 8, 1, 1, 1, 1, 1,\n",
       "       1, 1, 1, 8, 6, 6, 6, 8, 1, 1, 1, 1, 1, 1, 1, 1, 8, 6, 6, 6, 8, 1,\n",
       "       1, 1, 1, 1, 1, 1, 1, 8, 6, 6, 6, 8, 1, 1, 1, 1, 1, 1, 1, 1, 8, 6,\n",
       "       6, 6, 8, 1, 1, 1, 1, 1, 1, 1, 1, 8, 6, 6, 6, 8, 1, 1, 1, 1, 1, 1,\n",
       "       1, 1, 8, 6, 6, 6, 8, 1, 1, 1, 1, 1, 1, 1, 1, 8, 6, 6, 6, 8, 1, 1,\n",
       "       1, 1, 1, 1, 1, 1, 8, 6, 6, 6, 8, 1, 1, 1, 1, 1, 1, 1, 1, 8, 6, 6,\n",
       "       6, 8, 1, 1, 1, 1, 1, 1, 1, 1])"
      ]
     },
     "execution_count": 22,
     "metadata": {},
     "output_type": "execute_result"
    }
   ],
   "source": [
    "mol1.get_atomic_numbers()"
   ]
  },
  {
   "cell_type": "code",
   "execution_count": 23,
   "metadata": {},
   "outputs": [],
   "source": [
    "#Chebyshev記述子の作成\n",
    "#Cutoff関数の定義\n",
    "import numpy as np\n",
    "def fc(r,Rc) :\n",
    "    return 0.5*(np.cos(r*np.pi/Rc)+1.0)\n",
    "\n",
    "#パラメータの設定\n",
    "atom_ind=1\n",
    "Rcut = 8 #[ang. unit]    \n",
    "N2 = 40  #記述子の個数_原子間距離の分布\n",
    "N3 = 40  #記述子の個数_角度分布\n",
    "\n",
    "#原子種依存の重みの計算(C,H,Oの3原子種を仮定)\n",
    "ats = mol1.get_atomic_numbers()\n",
    "Hatoms=np.where(ats==1,0,ats)\n",
    "HCatoms=np.where(Hatoms==6,-1,Hatoms)\n",
    "w=np.where(HCatoms==8,1,HCatoms)\n",
    "\n",
    "#UnitCell内の原子間距離の計算(mic:True to use the Minimum Image Convention)\n",
    "dist = mol1.get_all_distances(mic=True)\n",
    "\n",
    "def Chebyshev(at_id,Rcut,N2,N3,wt,dist,mol1):\n",
    "    \n",
    "    #変数の代入\n",
    "    atom_ind = at_id #int \n",
    "    N2       = N2    #int \n",
    "    N3       = N3    #int\n",
    "    w        = wt    #array \n",
    "    dist     = dist  #array  \n",
    "    mol1     = mol1  #ASE atoms object \n",
    "    Rcut = Rcut      #float \n",
    "    \n",
    "    #ある原子iを中心としたCutoff半径内の原子indexのリスト作成\n",
    "    dist_i = dist[atom_ind]\n",
    "    neighbors_list = np.argwhere(dist_i<=Rcut).reshape(-1)\n",
    "    neighbors_list = neighbors_list[neighbors_list !=atom_ind]\n",
    "\n",
    "    #Cutoff半径内の任意の原子と原子iとの距離のリスト作成\n",
    "    distances = dist_i[neighbors_list]\n",
    "\n",
    "    #Cutoff半径内の任意の原子j,kと原子iの作る角度のリスト作成\n",
    "    i = atom_ind \n",
    "    indices = [(j,i,k) for j in neighbors_list if j!=i for k in neighbors_list if (k!=i) and (k!=j)]\n",
    "    angles = mol1.get_angles(indices,mic=True)\n",
    "\n",
    "    #Chebyshev記述子を作る（原子間距離σ2について）\n",
    "    r = distances \n",
    "    weight_RDF = fc(distances,Rcut)\n",
    "    #Chebyshev関数\n",
    "    funcT = []\n",
    "    x = 2.0*r/Rcut - 1.0 \n",
    "    for n2 in range(N2):\n",
    "        if n2==0 :\n",
    "            funcT.append(np.ones(x.shape))\n",
    "        if n2==1 :\n",
    "            funcT.append(x) \n",
    "        if n2>1 :\n",
    "            funcT.append(2.0*x*funcT[n2-1]-funcT[n2-2])\n",
    "\n",
    "    coef2  =[]\n",
    "    coef2w =[]\n",
    "    for n2 in range(N2):\n",
    "        if n2==0 :\n",
    "            k=0.5 \n",
    "        else :\n",
    "            k=1.0 \n",
    "        phi = k*funcT[n2]/(2.0*np.pi*np.sqrt(r/Rcut-r*r/(Rcut*Rcut)))\n",
    "        c2 = np.sum(phi*weight_RDF)\n",
    "        c2w= np.sum(phi*weight_RDF*w[neighbors_list])\n",
    "        coef2.append(c2)\n",
    "        coef2w.append(c2w)\n",
    "    coef2 = np.array(coef2)\n",
    "    coef2w= np.array(coef2w)\n",
    "\n",
    "    #Chebyshev記述子を作る（角度分布σ3について）\n",
    "    th_rad = np.pi*angles/180.0\n",
    "    weight_ADFj = fc(dist_i[np.array(indices)[:,0]],Rcut)\n",
    "    weight_ADFk = fc(dist_i[np.array(indices)[:,2]],Rcut)        \n",
    "    #Chebyshev関数\n",
    "    funcT = []\n",
    "    x = 2.0*th_rad/np.pi - 1.0 \n",
    "    for n3 in range(N3):\n",
    "        if n3==0 :\n",
    "            funcT.append(np.ones(x.shape))\n",
    "        if n3==1 :\n",
    "            funcT.append(x) \n",
    "        if n3>1 :\n",
    "            funcT.append(2.0*x*funcT[n3-1]-funcT[n3-2])\n",
    "\n",
    "    coef3  =[]\n",
    "    coef3w =[]\n",
    "    for n3 in range(N3):\n",
    "        if n3==0 :\n",
    "            k=0.5 \n",
    "        else :\n",
    "            k=1.0 \n",
    "        phi = k*funcT[n3]/(2.0*np.pi*np.sqrt(th_rad/np.pi-th_rad*th_rad/(np.pi*np.pi)))\n",
    "        c3 = np.sum(phi*weight_ADFj*weight_ADFk)\n",
    "        c3w= np.sum(phi*weight_ADFj*weight_ADFk*w[np.array(indices)[:,0]]*w[np.array(indices)[:,2]])\n",
    "        coef3.append(c3)\n",
    "        coef3w.append(c3w)\n",
    "    coef3 = np.array(coef3)\n",
    "    coef3w= np.array(coef3w)\n",
    "    #良くわからないが一応正規化する\n",
    "    coef2 = coef2 / np.linalg.norm(coef2)\n",
    "    coef2w = coef2w / np.linalg.norm(coef2w)\n",
    "    coef3 = coef3 / np.linalg.norm(coef3)\n",
    "    coef3w = coef3w / np.linalg.norm(coef3w)\n",
    "    \n",
    "    return [coef2,coef2w,coef3,coef3w]\n",
    "\n",
    "#Chebyshev記述子\n",
    "c2,c2w,c3,c3w = Chebyshev(atom_ind,Rcut,N2,N3,w,dist,mol1)\n"
   ]
  },
  {
   "cell_type": "code",
   "execution_count": 24,
   "metadata": {},
   "outputs": [
    {
     "data": {
      "image/png": "[encoded data removed]",
      "text/plain": [
       "<Figure size 432x288 with 1 Axes>"
      ]
     },
     "metadata": {
      "needs_background": "light"
     },
     "output_type": "display_data"
    },
    {
     "data": {
      "image/png": "[encoded data removed]",
      "text/plain": [
       "<Figure size 432x288 with 1 Axes>"
      ]
     },
     "metadata": {
      "needs_background": "light"
     },
     "output_type": "display_data"
    }
   ],
   "source": [
    "#Chebyshev記述子で分布関数を正しく表現できているか確認する \n",
    "dist_i = dist[atom_ind]\n",
    "neighbors_list = np.argwhere(dist_i<=Rcut).reshape(-1)\n",
    "neighbors_list = neighbors_list[neighbors_list !=atom_ind]\n",
    "distances = dist_i[neighbors_list]\n",
    "i = atom_ind \n",
    "indices = [(j,i,k) for j in neighbors_list if j!=i for k in neighbors_list if (k!=i) and (k!=j)]\n",
    "angles = mol1.get_angles(indices,mic=True)\n",
    "\n",
    "#重みの設定\n",
    "weight_RDF = fc(distances,Rcut)\n",
    "weight_ADFj = fc(dist_i[np.array(indices)[:,0]],Rcut)\n",
    "weight_ADFk = fc(dist_i[np.array(indices)[:,2]],Rcut)\n",
    "\n",
    "#動径分布関数の計算と表示\n",
    "import matplotlib.pyplot as plt\n",
    "%matplotlib inline\n",
    "\n",
    "RDF_i= np.histogram(distances, bins=1000, weights=weight_RDF, density=True,range=(0,Rcut))\n",
    "x=(RDF_i[1][:-1]+RDF_i[1][1:])/2\n",
    "y=RDF_i[0]\n",
    "dr = x[1]-x[0]\n",
    "sigma = 0.1 \n",
    "ngs = int(sigma / dr) \n",
    "from scipy.ndimage.filters import gaussian_filter\n",
    "blurred_y = gaussian_filter(y, sigma=ngs)\n",
    "plt.plot(x,blurred_y)\n",
    "plt.show()\n",
    "rdf0x = x[:]\n",
    "rdf0y = blurred_y[:]\n",
    "\n",
    "#角度分布関数の計算と表示\n",
    "ADF_i= np.histogram(angles, bins=1000, weights=weight_ADFj*weight_ADFk, density=True,range=(0,180))\n",
    "x=(ADF_i[1][:-1]+ADF_i[1][1:])/2\n",
    "y=ADF_i[0]\n",
    "dr = x[1]-x[0]\n",
    "sigma = 1 \n",
    "ngs = int(sigma / dr) \n",
    "from scipy.ndimage.filters import gaussian_filter\n",
    "blurred_y = gaussian_filter(y, sigma=ngs)\n",
    "plt.plot(x,blurred_y)\n",
    "plt.show()\n",
    "\n",
    "adf0x = x[:]\n",
    "adf0y = blurred_y[:]"
   ]
  },
  {
   "cell_type": "code",
   "execution_count": 25,
   "metadata": {},
   "outputs": [
    {
     "data": {
      "image/png": "[encoded data removed]",
      "text/plain": [
       "<Figure size 432x288 with 1 Axes>"
      ]
     },
     "metadata": {
      "needs_background": "light"
     },
     "output_type": "display_data"
    },
    {
     "data": {
      "image/png": "[encoded data removed]",
      "text/plain": [
       "<Figure size 432x288 with 1 Axes>"
      ]
     },
     "metadata": {
      "needs_background": "light"
     },
     "output_type": "display_data"
    }
   ],
   "source": [
    "#原子種の重みを考慮する\n",
    "\n",
    "#動径分布関数の計算と表示\n",
    "wRDF_i= np.histogram(distances, bins=1000, weights=weight_RDF*w[neighbors_list], density=True,range=(0,Rcut))\n",
    "wADF_i= np.histogram(angles, bins=1000, weights=weight_ADFj*weight_ADFk*w[np.array(indices)[:,0]]*w[np.array(indices)[:,2]], density=True,range=(0,180))\n",
    "x=(wRDF_i[1][:-1]+wRDF_i[1][1:])/2\n",
    "y=wRDF_i[0]\n",
    "dr = x[1]-x[0]\n",
    "sigma = 0.2 \n",
    "ngs = int(sigma / dr) \n",
    "blurred_y = gaussian_filter(y, sigma=ngs)\n",
    "plt.plot(x,blurred_y)\n",
    "plt.show()\n",
    "\n",
    "rdf0wx = x[:]\n",
    "rdf0wy = blurred_y[:]\n",
    "\n",
    "#角度分布関数の計算と表示\n",
    "x=(wADF_i[1][:-1]+wADF_i[1][1:])/2\n",
    "y=wADF_i[0]\n",
    "dr = x[1]-x[0]\n",
    "sigma = 2 \n",
    "ngs = int(sigma / dr) \n",
    "blurred_y = gaussian_filter(y, sigma=ngs)\n",
    "plt.plot(x,blurred_y)\n",
    "plt.show()\n",
    "\n",
    "adf0wx = x[:]\n",
    "adf0wy = blurred_y[:]\n"
   ]
  },
  {
   "cell_type": "code",
   "execution_count": 26,
   "metadata": {},
   "outputs": [],
   "source": [
    "#Chebyshevの展開式を用いる\n",
    "dd = 0.2\n",
    "r = np.linspace(0+dd,Rcut-dd,1000)\n",
    "\n",
    "#Chebyshev関数\n",
    "funcT = []\n",
    "x = 2.0*r/Rcut - 1.0 \n",
    "for n2 in range(N2):\n",
    "    if n2==0 :\n",
    "        funcT.append(np.ones(x.shape))\n",
    "    if n2==1 :\n",
    "        funcT.append(x) \n",
    "    if n2>1 :\n",
    "        funcT.append(2.0*x*funcT[n2-1]-funcT[n2-2])\n",
    "\n",
    "RDF   =np.zeros(r.shape)\n",
    "RDFw  =np.zeros(r.shape)\n",
    "for n2 in range(N2):\n",
    "    if n2==0 :\n",
    "        k=0.5\n",
    "    else :\n",
    "        k=1.0 \n",
    "    phi = k*funcT[n2]/(2.0*np.pi*np.sqrt(r/Rcut-r*r/(Rcut*Rcut)))\n",
    "    RDF  += c2[n2]*phi\n",
    "    #RDF  += phi\n",
    "    RDFw += c2w[n2]*phi\n",
    "\n",
    "dd = 10\n",
    "th = np.linspace(0+dd,180-dd,1000)\n",
    "\n",
    "#Chebyshev記述子を作る（角度分布σ3について）\n",
    "th_rad = np.pi*th/180.0\n",
    "\n",
    "#Chebyshev関数\n",
    "funcT = []\n",
    "x = 2.0*th_rad/np.pi - 1.0 \n",
    "for n3 in range(N3):\n",
    "    if n3==0 :\n",
    "        funcT.append(np.ones(x.shape))\n",
    "    if n3==1 :\n",
    "        funcT.append(x) \n",
    "    if n3>1 :\n",
    "        funcT.append(2.0*x*funcT[n3-1]-funcT[n3-2])\n",
    "\n",
    "ADF  =np.zeros(th.shape)  \n",
    "ADFw =np.zeros(th.shape)  \n",
    "for n3 in range(N3):\n",
    "    if n3==0 :\n",
    "        k=0.5 \n",
    "    else :\n",
    "        k=1.0 \n",
    "    phi = k*funcT[n3]/(2.0*np.pi*np.sqrt(th_rad/np.pi-th_rad*th_rad/(np.pi*np.pi)))\n",
    "    ADF  += c3[n3]*phi\n",
    "    ADFw += c3w[n3]*phi\n",
    "    "
   ]
  },
  {
   "cell_type": "code",
   "execution_count": 27,
   "metadata": {},
   "outputs": [
    {
     "data": {
      "text/plain": [
       "[<matplotlib.lines.Line2D at 0x7f0482170a58>]"
      ]
     },
     "execution_count": 27,
     "metadata": {},
     "output_type": "execute_result"
    },
    {
     "data": {
      "image/png": "[encoded data removed]",
      "text/plain": [
       "<Figure size 432x288 with 1 Axes>"
      ]
     },
     "metadata": {
      "needs_background": "light"
     },
     "output_type": "display_data"
    }
   ],
   "source": [
    "#動径分布関数の比較\n",
    "plt.plot(r,RDF)\n",
    "plt.plot(rdf0x,rdf0y*1)"
   ]
  },
  {
   "cell_type": "code",
   "execution_count": 28,
   "metadata": {
    "scrolled": true
   },
   "outputs": [
    {
     "data": {
      "text/plain": [
       "[<matplotlib.lines.Line2D at 0x7f04821701d0>]"
      ]
     },
     "execution_count": 28,
     "metadata": {},
     "output_type": "execute_result"
    },
    {
     "data": {
      "image/png": "[encoded data removed]",
      "text/plain": [
       "<Figure size 432x288 with 1 Axes>"
      ]
     },
     "metadata": {
      "needs_background": "light"
     },
     "output_type": "display_data"
    }
   ],
   "source": [
    "#動径分布関数の比較(原子種の重みを付与)\n",
    "plt.plot(r,-RDFw) #なぜかマイナスをつけないと合わない。\n",
    "plt.plot(rdf0wx,rdf0wy*1)"
   ]
  },
  {
   "cell_type": "code",
   "execution_count": 29,
   "metadata": {},
   "outputs": [
    {
     "data": {
      "text/plain": [
       "[<matplotlib.lines.Line2D at 0x7f0480eb3358>]"
      ]
     },
     "execution_count": 29,
     "metadata": {},
     "output_type": "execute_result"
    },
    {
     "data": {
      "image/png": "[encoded data removed]",
      "text/plain": [
       "<Figure size 432x288 with 1 Axes>"
      ]
     },
     "metadata": {
      "needs_background": "light"
     },
     "output_type": "display_data"
    }
   ],
   "source": [
    "#角度分布関数の比較\n",
    "plt.plot(th,ADF)\n",
    "plt.plot(adf0x,adf0y*40)"
   ]
  },
  {
   "cell_type": "code",
   "execution_count": 31,
   "metadata": {},
   "outputs": [
    {
     "data": {
      "text/plain": [
       "[<matplotlib.lines.Line2D at 0x7f0480e25198>]"
      ]
     },
     "execution_count": 31,
     "metadata": {},
     "output_type": "execute_result"
    },
    {
     "data": {
      "image/png": "[encoded data removed]",
      "text/plain": [
       "<Figure size 432x288 with 1 Axes>"
      ]
     },
     "metadata": {
      "needs_background": "light"
     },
     "output_type": "display_data"
    }
   ],
   "source": [
    "#角度分布関数の比較（原子種の重みを付与）\n",
    "plt.plot(th,-ADFw)\n",
    "plt.plot(adf0wx,adf0wy*1)"
   ]
  },
  {
   "cell_type": "code",
   "execution_count": null,
   "metadata": {},
   "outputs": [],
   "source": []
  },
  {
   "cell_type": "code",
   "execution_count": 32,
   "metadata": {},
   "outputs": [
    {
     "name": "stdout",
     "output_type": "stream",
     "text": [
      "1.9.0\n"
     ]
    }
   ],
   "source": [
    "import torch\n",
    "print(torch.__version__)"
   ]
  },
  {
   "cell_type": "code",
   "execution_count": 33,
   "metadata": {},
   "outputs": [
    {
     "data": {
      "text/plain": [
       "NeuralNetwork(\n",
       "  (layer1): Linear(in_features=2, out_features=1, bias=True)\n",
       ")"
      ]
     },
     "execution_count": 33,
     "metadata": {},
     "output_type": "execute_result"
    }
   ],
   "source": [
    "import torch       # ライブラリ「PyTorch」のtorchパッケージをインポート\n",
    "import torch.nn as nn  # 「ニューラルネットワーク」モジュールの別名定義\n",
    "\n",
    "# 定数（モデル定義時に必要となるもの）\n",
    "INPUT_FEATURES = 2  # 入力（特徴）の数： 2\n",
    "OUTPUT_NEURONS = 1  # ニューロンの数： 1\n",
    "\n",
    "# 変数（モデル定義時に必要となるもの）\n",
    "activation = torch.nn.Tanh()  # 活性化関数： tanh関数\n",
    "\n",
    "# 「torch.nn.Moduleクラスのサブクラス化」によるモデルの定義\n",
    "class NeuralNetwork(nn.Module):\n",
    "    def __init__(self):\n",
    "        super(NeuralNetwork, self).__init__()\n",
    "        # 層（layer：レイヤー）を定義\n",
    "        self.layer1 = nn.Linear(  # Linearは「全結合層」を指す\n",
    "            INPUT_FEATURES,       # データ（特徴）の入力ユニット数\n",
    "            OUTPUT_NEURONS)       # 出力結果への出力ユニット数\n",
    "\n",
    "    def forward(self, input):\n",
    "        # フォワードパスを定義\n",
    "        output = activation(self.layer1(input))  # 活性化関数は変数として定義\n",
    "        # 「出力＝活性化関数（第n層（入力））」の形式で記述する。\n",
    "        # 層（layer）を重ねる場合は、同様の記述を続ければよい（第3回）。\n",
    "        # 「出力（output）」は次の層（layer）への「入力（input）」に使う。\n",
    "        # 慣例では入力も出力も「x」と同じ変数名で記述する（よって以下では「x」と書く）\n",
    "        return output\n",
    "\n",
    "# モデル（NeuralNetworkクラス）のインスタンス化\n",
    "model = NeuralNetwork()\n",
    "model   # モデルの内容を出力"
   ]
  },
  {
   "cell_type": "code",
   "execution_count": 34,
   "metadata": {},
   "outputs": [
    {
     "data": {
      "text/plain": [
       "OrderedDict([('layer1.weight', tensor([[ 0.6000, -0.2000]])),\n",
       "             ('layer1.bias', tensor([0.8000]))])"
      ]
     },
     "execution_count": 34,
     "metadata": {},
     "output_type": "execute_result"
    }
   ],
   "source": [
    "# パラメーター（ニューロンへの入力で必要となるもの）の定義\n",
    "weight_array = nn.Parameter(\n",
    "    torch.tensor([[ 0.6,\n",
    "                   -0.2]]))  # 重み\n",
    "bias_array = nn.Parameter(\n",
    "    torch.tensor([  0.8 ]))  # バイアス\n",
    "\n",
    "# 重みとバイアスの初期値設定\n",
    "model.layer1.weight = weight_array\n",
    "model.layer1.bias = bias_array\n",
    "\n",
    "# torch.nn.Module全体の状態を辞書形式で取得\n",
    "params = model.state_dict()\n",
    "#params = list(model.parameters()) # このように取得することも可能\n",
    "params\n",
    "# 出力例：\n",
    "# OrderedDict([('layer1.weight', tensor([[ 0.6000, -0.2000]])),\n",
    "#              ('layer1.bias', tensor([0.8000]))])"
   ]
  },
  {
   "cell_type": "code",
   "execution_count": 35,
   "metadata": {},
   "outputs": [
    {
     "name": "stdout",
     "output_type": "stream",
     "text": [
      "tensor([[1., 2.]])\n",
      "tensor([[0.7616]], grad_fn=<TanhBackward>)\n"
     ]
    }
   ],
   "source": [
    "X_data = torch.tensor([[1.0, 2.0]])  # 入力する座標データ（1.0、2.0）\n",
    "print(X_data)\n",
    "# tensor([[1., 2.]]) ……などと表示される\n",
    "\n",
    "y_pred = model(X_data)  # このモデルに、データを入力して、出力を得る（＝予測：predict）\n",
    "print(y_pred)\n",
    "# tensor([[0.7616]], grad_fn=<TanhBackward>) ……などと表示される"
   ]
  },
  {
   "cell_type": "code",
   "execution_count": 49,
   "metadata": {},
   "outputs": [],
   "source": [
    "import torch\n",
    "import numpy as np\n",
    "\n",
    "# テンソルの新規作成\n",
    "x = torch.empty(2, 3) # 2行×3列のテンソル（未初期化状態）を生成\n",
    "x = torch.rand(2, 3)  # 2行×3列のテンソル（ランダムに初期化）を生成\n",
    "x = torch.zeros(2, 3, dtype=torch.float) # 2行×3列のテンソル（0で初期化、torch.float型）を生成\n",
    "x = torch.ones(2, 3, dtype=torch.float)  # 2行×3列のテンソル（1で初期化、torch.float型）を生成\n",
    "x = torch.tensor([[0.0, 0.1, 0.2],\n",
    "                  [1.0, 1.1, 1.2]])      # 1行×2列のテンソルをPythonリスト値から作成\n",
    "\n",
    "# 既存のテンソルを使った新規作成\n",
    "# 「new_*()」パターン\n",
    "y = x.new_ones(2, 3)   # 2行×3列のテンソル（1で初期化、既存のテンソルと「同じデータ型」）を生成\n",
    "# 「*_like()」パターン # 既存のテンソルと「同じサイズ」のテンソル（1で初期化、torch.int型）を生成\n",
    "y = torch.ones_like(x, dtype=torch.int)"
   ]
  },
  {
   "cell_type": "code",
   "execution_count": 38,
   "metadata": {},
   "outputs": [],
   "source": [
    "# テンソルサイズの取得\n",
    "x.size()               # 「torch.Size([2, 3])」のように、2行3列と出力される\n",
    "x.shape                # NumPy風の記述も可能。出力は上と同じ\n",
    "len(x)   # 行数（＝データ数）を取得する際も、NumPy風に記述することが可能\n",
    "x.ndim   # テンソルの次元数を取得する際も、NumPy風に記述が可能\n",
    "\n",
    "# テンソルのサイズ変更／形状変更\n",
    "z = x.view(3, 2)       # 3行2列に変更"
   ]
  },
  {
   "cell_type": "code",
   "execution_count": 47,
   "metadata": {},
   "outputs": [
    {
     "data": {
      "text/plain": [
       "tensor([[2.0000, 2.1000, 2.2000],\n",
       "        [3.0000, 3.1000, 3.2000]])"
      ]
     },
     "execution_count": 47,
     "metadata": {},
     "output_type": "execute_result"
    }
   ],
   "source": [
    "# テンソルの計算操作\n",
    "x + y                  # 演算子を使う方法\n",
    "torch.add(x, y)        # 関数を使う方法\n",
    "torch.add(x, y, out=x) # outパラメーターで出力先の変数を指定可能\n",
    "x.add_(y)              # 「*_()」パターン。xを置き換えて出力する例（上の行と同じ処理）"
   ]
  },
  {
   "cell_type": "code",
   "execution_count": 52,
   "metadata": {},
   "outputs": [
    {
     "name": "stdout",
     "output_type": "stream",
     "text": [
      "tensor([[0.0000, 0.1000, 0.2000],\n",
      "        [1.0000, 1.1000, 1.2000]])\n"
     ]
    }
   ],
   "source": [
    "print(x)"
   ]
  },
  {
   "cell_type": "code",
   "execution_count": 53,
   "metadata": {},
   "outputs": [
    {
     "name": "stdout",
     "output_type": "stream",
     "text": [
      "tensor([[0.0000, 0.1000, 0.2000],\n",
      "        [1.0000, 1.1000, 1.2000]])\n"
     ]
    },
    {
     "data": {
      "text/plain": [
       "tensor([[0.1000, 0.2000],\n",
       "        [1.1000, 1.2000]])"
      ]
     },
     "execution_count": 53,
     "metadata": {},
     "output_type": "execute_result"
    }
   ],
   "source": [
    "# インデクシングやスライシング（NumPyのような添え字を使用可能）\n",
    "print(x)         # 元は、2行3列のテンソル\n",
    "x[0, 1]          # 1行2列目（※0スタート）を取得\n",
    "x[:2, 1:]        # 先頭～2行（＝0行目と1行目）×2列～末尾（＝2列目と3列目）の2行2列が抽出される"
   ]
  },
  {
   "cell_type": "code",
   "execution_count": 54,
   "metadata": {},
   "outputs": [
    {
     "data": {
      "text/plain": [
       "0.10000000149011612"
      ]
     },
     "execution_count": 54,
     "metadata": {},
     "output_type": "execute_result"
    }
   ],
   "source": [
    "# テンソルの1つの要素値を、Pythonの数値に変換\n",
    "x[0, 1].item()   # 1行2列目（※0スタート）の要素値をPythonの数値で取得"
   ]
  },
  {
   "cell_type": "code",
   "execution_count": 43,
   "metadata": {},
   "outputs": [
    {
     "name": "stdout",
     "output_type": "stream",
     "text": [
      "PyTorch計算→NumPy反映：\n",
      "[[2.  2.1 2.2]\n",
      " [3.  3.1 3.2]]\n",
      "[[3.  3.1 3.2]\n",
      " [4.  4.1 4.2]]\n",
      "NumPy計算→PyTorch反映：\n",
      "tensor([[3.0000, 3.1000, 3.2000],\n",
      "        [4.0000, 4.1000, 4.2000]])\n",
      "tensor([[6.0000, 6.2000, 6.4000],\n",
      "        [8.0000, 8.2000, 8.4000]])\n",
      "NumPy計算→PyTorch反映：\n",
      "tensor([[1., 1., 1.],\n",
      "        [1., 1., 1.]], dtype=torch.float64)\n",
      "tensor([[2., 2., 2.],\n",
      "        [2., 2., 2.]], dtype=torch.float64)\n",
      "PyTorch計算→NumPy反映：\n",
      "[[2. 2. 2.]\n",
      " [2. 2. 2.]]\n",
      "[[3. 3. 3.]\n",
      " [3. 3. 3.]]\n"
     ]
    }
   ],
   "source": [
    "# PyTorchテンソルを、NumPy多次元配列に変換\n",
    "b = x.numpy()    # 「numpy()」を呼び出すだけ。以下は注意点（メモリ位置の共有）\n",
    "\n",
    "# ※PyTorchテンソル側の値を変えると、NumPy多次元配列値「b」も変化する（トラックされる）\n",
    "print ('PyTorch計算→NumPy反映：')\n",
    "print(b); x.add_(y); print(b)           # PyTorch側の計算はNumPy側に反映\n",
    "print ('NumPy計算→PyTorch反映：')\n",
    "print(x); np.add(b, b, out=b); print(x) # NumPy側の計算はPyTorch側に反映\n",
    "\n",
    "# -----------------------------------------\n",
    "# NumPy多次元配列を、PyTorchテンソルに変換\n",
    "c = np.ones((2, 3), dtype=np.float64) # 2行3列の多次元配列値（1で初期化）を生成\n",
    "d = torch.from_numpy(c)  # 「torch.from_numpy()」を呼び出すだけ\n",
    "\n",
    "# ※NumPy多次元配列値を変えると、PyTorchテンソル「d」も変化する（トラックされる）\n",
    "print ('NumPy計算→PyTorch反映：')\n",
    "print(d); np.add(c, c, out=c); print(d)  # NumPy側の計算はPyTorch側に反映\n",
    "print ('PyTorch計算→NumPy反映：')\n",
    "print(c); d.add_(y); print(c)            # PyTorch側の計算はNumPy側に反映"
   ]
  },
  {
   "cell_type": "code",
   "execution_count": 44,
   "metadata": {},
   "outputs": [],
   "source": [
    "# データ型の変換（※変換後のテンソルには、NumPyの計算は反映されない）\n",
    "e = d.float()  # 「torch.float64」から「torch.float32」"
   ]
  },
  {
   "cell_type": "code",
   "execution_count": 45,
   "metadata": {},
   "outputs": [
    {
     "name": "stdout",
     "output_type": "stream",
     "text": [
      "CUDA（GPU）が利用できる環境\n",
      "CUDAデバイス数： 1\n",
      "現在のCUDAデバイス番号： 0\n",
      "1番目のCUDAデバイス名： GeForce RTX 2070 Super with Max-Q Design\n"
     ]
    }
   ],
   "source": [
    "# NVIDIAのGPUである「CUDA」（GPU）デバイス環境が利用可能な場合、\n",
    "# GPUを使ってテンソルの計算を行うこともできる\n",
    "if torch.cuda.is_available():              # CUDA（GPU）が利用可能な場合\n",
    "    print('CUDA（GPU）が利用できる環境')\n",
    "    print(f'CUDAデバイス数： {torch.cuda.device_count()}')\n",
    "    print(f'現在のCUDAデバイス番号： {torch.cuda.current_device()}')  # ※0スタート\n",
    "    print(f'1番目のCUDAデバイス名： {torch.cuda.get_device_name(0)}') # 例「Tesla T4」  \n",
    "\n",
    "    device = torch.device(\"cuda\")          # デフォルトのCUDAデバイスオブジェクトを取得\n",
    "    device0 = torch.device(\"cuda:0\")       # 1番目（※0スタート）のCUDAデバイスを取得\n",
    "\n",
    "    # テンソル計算でのGPUの使い方は主に3つ：\n",
    "    g = torch.ones(2, 3, device=device)    # （1）テンソル生成時のパラメーター指定\n",
    "    g = x.to(device)                       # （2）既存テンソルのデバイス変更\n",
    "    g = x.cuda(device)                     # （3）既存テンソルの「CUDA（GPU）」利用\n",
    "    f = x.cpu()                            # （3'）既存テンソルの「CPU」利用\n",
    "\n",
    "    # ※（2）の使い方で、GPUは「.to(\"cuda\")」、CPUは「.to(\"cpu\")」と書いてもよい\n",
    "    g = x.to(\"cuda\")\n",
    "    f = x.to(\"cpu\")\n",
    "\n",
    "    # ※（3）の引数は省略することも可能\n",
    "    g = x.cuda()\n",
    "\n",
    "    # 「torch.nn.Module」オブジェクト（model）全体でのGPU／CPUの切り替え\n",
    "    model.cuda()  # モデルの全パラメーターとバッファーを「CUDA（GPU）」に移行する\n",
    "    model.cpu()   # モデルの全パラメーターとバッファーを「CPU」に移行する\n",
    "else:\n",
    "    print('CUDA（GPU）が利用できない環境')"
   ]
  },
  {
   "cell_type": "code",
   "execution_count": 55,
   "metadata": {},
   "outputs": [
    {
     "name": "stdout",
     "output_type": "stream",
     "text": [
      "Collecting playground-data\n",
      "  Downloading playground-data-1.1.1.tar.gz (19 kB)\n",
      "Requirement already satisfied: numpy in /home/yamazaki/miniconda3/envs/openmm/lib/python3.6/site-packages (from playground-data) (1.19.5)\n",
      "Requirement already satisfied: matplotlib in /home/yamazaki/miniconda3/envs/openmm/lib/python3.6/site-packages (from playground-data) (3.3.4)\n",
      "Requirement already satisfied: pyparsing!=2.0.4,!=2.1.2,!=2.1.6,>=2.0.3 in /home/yamazaki/miniconda3/envs/openmm/lib/python3.6/site-packages (from matplotlib->playground-data) (2.4.7)\n",
      "Requirement already satisfied: python-dateutil>=2.1 in /home/yamazaki/miniconda3/envs/openmm/lib/python3.6/site-packages (from matplotlib->playground-data) (2.8.1)\n",
      "Requirement already satisfied: cycler>=0.10 in /home/yamazaki/miniconda3/envs/openmm/lib/python3.6/site-packages (from matplotlib->playground-data) (0.10.0)\n",
      "Requirement already satisfied: kiwisolver>=1.0.1 in /home/yamazaki/miniconda3/envs/openmm/lib/python3.6/site-packages (from matplotlib->playground-data) (1.3.1)\n",
      "Requirement already satisfied: pillow>=6.2.0 in /home/yamazaki/miniconda3/envs/openmm/lib/python3.6/site-packages (from matplotlib->playground-data) (8.3.1)\n",
      "Requirement already satisfied: six in /home/yamazaki/miniconda3/envs/openmm/lib/python3.6/site-packages (from cycler>=0.10->matplotlib->playground-data) (1.16.0)\n",
      "Building wheels for collected packages: playground-data\n",
      "  Building wheel for playground-data (setup.py) ... \u001b[?25ldone\n",
      "\u001b[?25h  Created wheel for playground-data: filename=playground_data-1.1.1-py2.py3-none-any.whl size=20784 sha256=bdd8ef67b921d9dab6c6c1317ae60c320fab17ba4a6d5000d28601ca936ea813\n",
      "  Stored in directory: /home/yamazaki/.cache/pip/wheels/73/2d/e3/5f49486c8cfd848468909a92dc4ee352af83373fe176abefc1\n",
      "Successfully built playground-data\n",
      "Installing collected packages: playground-data\n",
      "Successfully installed playground-data-1.1.1\n",
      "X_train:\n",
      "[[ 3.73413284  0.92734102]\n",
      " [ 0.48475539  0.89737459]\n",
      " [ 2.37303914 -3.59830399]\n",
      " [-4.32450195  2.5000156 ]\n",
      " [-0.56733799  0.333174  ]]\n",
      "y_train:\n",
      "[[-1.]\n",
      " [ 1.]\n",
      " [-1.]\n",
      " [-1.]\n",
      " [ 1.]]\n",
      "X_valid:\n",
      "[[-1.39342559  1.95074566]\n",
      " [ 3.57246733  0.95919441]\n",
      " [ 0.59843622 -1.05192315]\n",
      " [ 1.48570387  3.72841142]\n",
      " [ 1.49694709 -1.80218848]]\n",
      "y_valid:\n",
      "[[ 1.]\n",
      " [-1.]\n",
      " [ 1.]\n",
      " [-1.]\n",
      " [ 1.]]\n"
     ]
    }
   ],
   "source": [
    "# 座標点データを生成するライブラリのインストール\n",
    "!pip install playground-data\n",
    "\n",
    "# playground-dataライブラリのplygdataパッケージを「pg」という別名でインポート\n",
    "import plygdata as pg\n",
    "\n",
    "# 設定値を定数として定義\n",
    "PROBLEM_DATA_TYPE = pg.DatasetType.ClassifyCircleData # 問題種別：「分類（Classification）」、データ種別：「円（CircleData）」を選択\n",
    "TRAINING_DATA_RATIO = 0.5  # データの何％を訓練【Training】用に？ (残りは精度検証【Validation】用) ： 50％\n",
    "DATA_NOISE = 0.0           # ノイズ： 0％\n",
    "\n",
    "# 定義済みの定数を引数に指定して、データを生成する\n",
    "data_list = pg.generate_data(PROBLEM_DATA_TYPE, DATA_NOISE)\n",
    "\n",
    "# データを「訓練用」と「精度検証用」を指定の比率で分割し、さらにそれぞれを「データ（X）」と「教師ラベル（y）」に分ける\n",
    "X_train, y_train, X_valid, y_valid = pg.split_data(data_list, training_size=TRAINING_DATA_RATIO)\n",
    "\n",
    "# データ分割後の各変数の内容例として、それぞれ5件ずつ出力\n",
    "print('X_train:'); print(X_train[:5])\n",
    "print('y_train:'); print(y_train[:5])\n",
    "print('X_valid:'); print(X_valid[:5])\n",
    "print('y_valid:'); print(y_valid[:5])"
   ]
  },
  {
   "cell_type": "code",
   "execution_count": 56,
   "metadata": {},
   "outputs": [],
   "source": [
    "# データ関連のユーティリティクラスをインポート\n",
    "from torch.utils.data import TensorDataset, DataLoader\n",
    "import torch       # ライブラリ「PyTorch」のtorchパッケージをインポート\n",
    "\n",
    "# 定数（学習方法設計時に必要となるもの）\n",
    "BATCH_SIZE = 15  # バッチサイズ： 15（Playgroundの選択肢は「1」～「30」）\n",
    "\n",
    "# NumPy多次元配列からテンソルに変換し、データ型はfloatに変換する\n",
    "t_X_train = torch.from_numpy(X_train).float()\n",
    "t_y_train = torch.from_numpy(y_train).float()\n",
    "t_X_valid = torch.from_numpy(X_valid).float()\n",
    "t_y_valid = torch.from_numpy(y_valid).float()\n",
    "\n",
    "# 「データ（X）」と「教師ラベル（y）」を、1つの「データセット（dataset）」にまとめる\n",
    "dataset_train = TensorDataset(t_X_train, t_y_train)  # 訓練用\n",
    "dataset_valid = TensorDataset(t_X_valid, t_y_valid)  # 精度検証用\n",
    "\n",
    "# ミニバッチを扱うための「データローダー（loader）」（訓練用と精度検証用）を作成\n",
    "loader_train = DataLoader(dataset_train, batch_size=BATCH_SIZE, shuffle=True)\n",
    "loader_valid = DataLoader(dataset_valid, batch_size=BATCH_SIZE)"
   ]
  },
  {
   "cell_type": "code",
   "execution_count": 57,
   "metadata": {},
   "outputs": [
    {
     "data": {
      "text/plain": [
       "tensor([-1.,  1.,  1.])"
      ]
     },
     "execution_count": 57,
     "metadata": {},
     "output_type": "execute_result"
    }
   ],
   "source": [
    "import torch       # ライブラリ「PyTorch」のtorchパッケージをインポート\n",
    "import torch.nn as nn  # 「ニューラルネットワーク」モジュールの別名定義\n",
    "\n",
    "# 離散化を行う関数\n",
    "def discretize(proba):\n",
    "    '''\n",
    "    実数の確率値を「1」か「-1」の2クラス分類値に離散化する。\n",
    "    閾値は「0.0以上」か「未満」か。データ型は「torch.float」を想定。\n",
    " \n",
    "    Examples:\n",
    "        >>> proba = torch.tensor([-0.5, 0.0, 0.5], dtype=torch.float)\n",
    "        >>> binary = discretize(proba)\n",
    "    '''\n",
    "    threshold = torch.Tensor([0.0]) # -1か1かを分ける閾値を作成\n",
    "    discretized = (proba >= threshold).float() # 閾値未満で0、以上で1に変換\n",
    "    return discretized * 2 - 1.0 # 2倍して-1.0することで、0／1を-1.0／1.0にスケール変換\n",
    "\n",
    "# discretize関数をモデルで簡単に使用できるようにするため、\n",
    "# PyTorchの「torch.nn.Module」を継承したクラスラッパーも作成した\n",
    "class Discretize(nn.Module):\n",
    "    '''\n",
    "    実数の確率値を「1」か「-1」の2クラス分類値に離散化する。\n",
    "    閾値は「0.0以上」か「未満」か。データ型は「torch.float」を想定。\n",
    " \n",
    "    Examples:\n",
    "        >>> d = Discretize()\n",
    "        >>> proba = torch.tensor([-0.5, 0.0, 0.5], dtype=torch.float)\n",
    "        >>> binary = d(proba)\n",
    "    '''        \n",
    "    def __init__(self):\n",
    "        super().__init__()\n",
    "\n",
    "    # forward()メソッドは、基本クラス「torch.nn.Module」の__call__メソッドからも呼び出されるため、\n",
    "    # Discretizeオブジェクトを関数のように使える（例えば上記の「d(proba)」）\n",
    "    def forward(self, proba):\n",
    "        return discretize(proba) # 上記の関数を呼び出すだけ\n",
    "\n",
    "# 関数の利用をテスト\n",
    "proba = torch.tensor([-0.5, 0.0, 0.5], dtype=torch.float)  # 確率値の例\n",
    "binary = discretize(proba)  # 2クラス分類（binary classification）値に離散化\n",
    "binary  # tensor([-1.,  1.,  1.]) …… などと表示される"
   ]
  },
  {
   "cell_type": "code",
   "execution_count": 58,
   "metadata": {},
   "outputs": [
    {
     "data": {
      "text/plain": [
       "NeuralNetwork(\n",
       "  (layer1): Linear(in_features=2, out_features=3, bias=True)\n",
       "  (layer2): Linear(in_features=3, out_features=3, bias=True)\n",
       "  (layer_out): Linear(in_features=3, out_features=1, bias=True)\n",
       ")"
      ]
     },
     "execution_count": 58,
     "metadata": {},
     "output_type": "execute_result"
    }
   ],
   "source": [
    "import torch       # ライブラリ「PyTorch」のtorchパッケージをインポート\n",
    "import torch.nn as nn  # 「ニューラルネットワーク」モジュールの別名定義\n",
    "\n",
    "# 定数（モデル定義時に必要となるもの）\n",
    "INPUT_FEATURES = 2      # 入力（特徴）の数： 2\n",
    "LAYER1_NEURONS = 3      # ニューロンの数： 3\n",
    "LAYER2_NEURONS = 3      # ニューロンの数： 3\n",
    "OUTPUT_RESULTS = 1      # 出力結果の数： 1\n",
    "\n",
    "# 変数（モデル定義時に必要となるもの）\n",
    "activation1 = torch.nn.Tanh()  # 活性化関数（隠れ層用）： tanh関数（変更可能）\n",
    "activation2 = torch.nn.Tanh()  # 活性化関数（隠れ層用）： tanh関数（変更可能）\n",
    "acti_out = torch.nn.Tanh()     # 活性化関数（出力層用）： tanh関数（固定）\n",
    "\n",
    "# torch.nn.Moduleによるモデルの定義\n",
    "class NeuralNetwork(nn.Module):\n",
    "    def __init__(self):\n",
    "        super(NeuralNetwork, self).__init__()\n",
    "        # 隠れ層：1つ目のレイヤー（layer）\n",
    "        self.layer1 = nn.Linear(\n",
    "            INPUT_FEATURES,                # 入力ユニット数（＝入力層）\n",
    "            LAYER1_NEURONS)                # 次のレイヤーの出力ユニット数\n",
    "\n",
    "        # 隠れ層：2つ目のレイヤー（layer）\n",
    "        self.layer2 = nn.Linear(\n",
    "            LAYER1_NEURONS,                # 入力ユニット数\n",
    "            LAYER2_NEURONS)                # 次のレイヤーへの出力ユニット数\n",
    "\n",
    "        # 出力層\n",
    "        self.layer_out = nn.Linear(\n",
    "            LAYER2_NEURONS,                # 入力ユニット数\n",
    "            OUTPUT_RESULTS)                # 出力結果への出力ユニット数\n",
    "\n",
    "    def forward(self, x):\n",
    "        # フォワードパスを定義\n",
    "        # 「出力＝活性化関数（第n層（入力））」の形式で記述する\n",
    "        x = activation1(self.layer1(x))  # 活性化関数は変数として定義\n",
    "        x = activation2(self.layer2(x))  # 同上\n",
    "        x = acti_out(self.layer_out(x))  # ※活性化関数は「tanh」固定\n",
    "        return x\n",
    "\n",
    "# モデル（NeuralNetworkクラス）のインスタンス化\n",
    "model = NeuralNetwork()\n",
    "model   # モデルの内容を出力"
   ]
  },
  {
   "cell_type": "code",
   "execution_count": 59,
   "metadata": {},
   "outputs": [],
   "source": [
    "import torch.optim as optim   # 「最適化」モジュールの別名定義\n",
    "\n",
    "# 定数（学習方法設計時に必要となるもの）\n",
    "LEARNING_RATE = 0.03   # 学習率： 0.03\n",
    "REGULARIZATION = 0.03  # 正則化率： 0.03\n",
    "\n",
    "# オプティマイザを作成（パラメーターと学習率も指定）\n",
    "optimizer = optim.SGD(           # 最適化アルゴリズムに「SGD」を選択\n",
    "    model.parameters(),          # 最適化で更新対象のパラメーター（重みやバイアス）\n",
    "    lr=LEARNING_RATE,            # 更新時の学習率\n",
    "    weight_decay=REGULARIZATION) # L2正則化（※不要な場合は0か省略）"
   ]
  },
  {
   "cell_type": "code",
   "execution_count": 60,
   "metadata": {},
   "outputs": [],
   "source": [
    "# 変数（学習方法設計時に必要となるもの）\n",
    "criterion = nn.MSELoss()  # 損失関数：平均二乗誤差"
   ]
  },
  {
   "cell_type": "code",
   "execution_count": 61,
   "metadata": {},
   "outputs": [],
   "source": [
    "def train_step(train_X, train_y):\n",
    "    # 訓練モードに設定\n",
    "    model.train()\n",
    "\n",
    "    # フォワードプロパゲーションで出力結果を取得\n",
    "    #train_X                # 入力データ\n",
    "    pred_y = model(train_X) # 出力結果\n",
    "    #train_y                # 正解ラベル\n",
    "\n",
    "    # 出力結果と正解ラベルから損失を計算し、勾配を求める\n",
    "    optimizer.zero_grad()   # 勾配を0で初期化（※累積してしまうため要注意）\n",
    "    loss = criterion(pred_y, train_y)     # 誤差（出力結果と正解ラベルの差）から損失を取得\n",
    "    loss.backward()   # 逆伝播の処理として勾配を計算（自動微分）\n",
    "\n",
    "    # 勾配を使ってパラメーター（重みとバイアス）を更新\n",
    "    optimizer.step()  # 指定されたデータ分の最適化を実施\n",
    "\n",
    "    # 正解数を算出\n",
    "    with torch.no_grad(): # 勾配は計算しないモードにする\n",
    "        discr_y = discretize(pred_y)         # 確率値から「-1」／「1」に変換\n",
    "        acc = (discr_y == train_y).sum()     # 正解数を計算する\n",
    "\n",
    "    # 損失と正解数をタプルで返す\n",
    "    return (loss.item(), acc.item())  # ※item()=Pythonの数値\n",
    "\n",
    "def valid_step(valid_X, valid_y):\n",
    "    # 評価モードに設定（※dropoutなどの挙動が評価用になる）\n",
    "    model.eval()\n",
    "    \n",
    "    # フォワードプロパゲーションで出力結果を取得\n",
    "    #valid_X                # 入力データ\n",
    "    pred_y = model(valid_X) # 出力結果\n",
    "    #valid_y                # 正解ラベル\n",
    "\n",
    "    # 出力結果と正解ラベルから損失を計算\n",
    "    loss = criterion(pred_y, valid_y)     # 誤差（出力結果と正解ラベルの差）から損失を取得\n",
    "    # ※評価時は勾配を計算しない\n",
    "\n",
    "    # 正解数を算出\n",
    "    with torch.no_grad(): # 勾配は計算しないモードにする\n",
    "        discr_y = discretize(pred_y)     # 確率値から「-1」／「1」に変換\n",
    "        acc = (discr_y == valid_y).sum() # 正解数を合計する\n",
    "\n",
    "    # 損失と正解数をタプルで返す\n",
    "    return (loss.item(), acc.item())  # ※item()=Pythonの数値"
   ]
  },
  {
   "cell_type": "code",
   "execution_count": 62,
   "metadata": {},
   "outputs": [
    {
     "name": "stdout",
     "output_type": "stream",
     "text": [
      "[Epoch   1/100] loss: 17.15246, acc: 0.52000 val_loss: 16.39028, val_acc: 0.48800\n",
      "[Epoch   2/100] loss: 7.95373, acc: 0.60800 val_loss: 7.75247, val_acc: 0.76400\n",
      "[Epoch   3/100] loss: 5.00614, acc: 0.71200 val_loss: 4.95310, val_acc: 0.78400\n",
      "[Epoch   4/100] loss: 3.50598, acc: 0.79200 val_loss: 3.52807, val_acc: 0.79600\n",
      "[Epoch   5/100] loss: 2.62475, acc: 0.83600 val_loss: 2.64919, val_acc: 0.80000\n",
      "[Epoch   6/100] loss: 2.08022, acc: 0.83600 val_loss: 2.07821, val_acc: 0.79200\n",
      "[Epoch   7/100] loss: 1.65693, acc: 0.84800 val_loss: 1.70321, val_acc: 0.80800\n",
      "[Epoch   8/100] loss: 1.41920, acc: 0.83200 val_loss: 1.45920, val_acc: 0.81600\n",
      "[Epoch   9/100] loss: 1.18193, acc: 0.84400 val_loss: 1.23756, val_acc: 0.80000\n",
      "[Epoch  10/100] loss: 1.01747, acc: 0.82800 val_loss: 1.08594, val_acc: 0.80000\n",
      "[Epoch  11/100] loss: 0.89132, acc: 0.84800 val_loss: 0.98040, val_acc: 0.80800\n",
      "[Epoch  12/100] loss: 0.79474, acc: 0.84400 val_loss: 0.89153, val_acc: 0.79600\n",
      "[Epoch  13/100] loss: 0.73220, acc: 0.83600 val_loss: 0.78674, val_acc: 0.80800\n",
      "[Epoch  14/100] loss: 0.68198, acc: 0.82800 val_loss: 0.75856, val_acc: 0.80400\n",
      "[Epoch  15/100] loss: 0.62165, acc: 0.84800 val_loss: 0.69803, val_acc: 0.80000\n",
      "[Epoch  16/100] loss: 0.56688, acc: 0.83200 val_loss: 0.64587, val_acc: 0.80000\n",
      "[Epoch  17/100] loss: 0.55607, acc: 0.83600 val_loss: 0.60245, val_acc: 0.80800\n",
      "[Epoch  18/100] loss: 0.49761, acc: 0.84000 val_loss: 0.56280, val_acc: 0.80800\n",
      "[Epoch  19/100] loss: 0.46951, acc: 0.82000 val_loss: 0.52234, val_acc: 0.79600\n",
      "[Epoch  20/100] loss: 0.43388, acc: 0.83200 val_loss: 0.52619, val_acc: 0.80000\n",
      "[Epoch  21/100] loss: 0.43224, acc: 0.82800 val_loss: 0.48826, val_acc: 0.80800\n",
      "[Epoch  22/100] loss: 0.40156, acc: 0.84400 val_loss: 0.46773, val_acc: 0.81200\n",
      "[Epoch  23/100] loss: 0.38362, acc: 0.84400 val_loss: 0.43425, val_acc: 0.80400\n",
      "[Epoch  24/100] loss: 0.35952, acc: 0.84000 val_loss: 0.41820, val_acc: 0.81600\n",
      "[Epoch  25/100] loss: 0.35160, acc: 0.84800 val_loss: 0.41366, val_acc: 0.79600\n",
      "[Epoch  26/100] loss: 0.33299, acc: 0.83600 val_loss: 0.38472, val_acc: 0.80800\n",
      "[Epoch  27/100] loss: 0.32269, acc: 0.82800 val_loss: 0.38971, val_acc: 0.78800\n",
      "[Epoch  28/100] loss: 0.31296, acc: 0.84800 val_loss: 0.34910, val_acc: 0.80800\n",
      "[Epoch  29/100] loss: 0.30224, acc: 0.83200 val_loss: 0.34606, val_acc: 0.80400\n",
      "[Epoch  30/100] loss: 0.28650, acc: 0.84400 val_loss: 0.34925, val_acc: 0.79600\n",
      "[Epoch  31/100] loss: 0.28170, acc: 0.84400 val_loss: 0.32382, val_acc: 0.81600\n",
      "[Epoch  32/100] loss: 0.26893, acc: 0.84800 val_loss: 0.30628, val_acc: 0.80800\n",
      "[Epoch  33/100] loss: 0.25910, acc: 0.84400 val_loss: 0.30688, val_acc: 0.80800\n",
      "[Epoch  34/100] loss: 0.25456, acc: 0.84000 val_loss: 0.29819, val_acc: 0.80000\n",
      "[Epoch  35/100] loss: 0.24881, acc: 0.83200 val_loss: 0.28145, val_acc: 0.80800\n",
      "[Epoch  36/100] loss: 0.23950, acc: 0.83600 val_loss: 0.27786, val_acc: 0.81200\n",
      "[Epoch  37/100] loss: 0.22749, acc: 0.86000 val_loss: 0.28479, val_acc: 0.80000\n",
      "[Epoch  38/100] loss: 0.23171, acc: 0.84800 val_loss: 0.26746, val_acc: 0.80400\n",
      "[Epoch  39/100] loss: 0.23104, acc: 0.83200 val_loss: 0.25634, val_acc: 0.80000\n",
      "[Epoch  40/100] loss: 0.21789, acc: 0.83600 val_loss: 0.24986, val_acc: 0.80000\n",
      "[Epoch  41/100] loss: 0.21235, acc: 0.85200 val_loss: 0.24784, val_acc: 0.80800\n",
      "[Epoch  42/100] loss: 0.20678, acc: 0.82800 val_loss: 0.24068, val_acc: 0.80400\n",
      "[Epoch  43/100] loss: 0.20133, acc: 0.84400 val_loss: 0.22769, val_acc: 0.80800\n",
      "[Epoch  44/100] loss: 0.19587, acc: 0.84000 val_loss: 0.23440, val_acc: 0.81200\n",
      "[Epoch  45/100] loss: 0.20152, acc: 0.84400 val_loss: 0.21891, val_acc: 0.81200\n",
      "[Epoch  46/100] loss: 0.18628, acc: 0.84000 val_loss: 0.21412, val_acc: 0.78800\n",
      "[Epoch  47/100] loss: 0.18677, acc: 0.84800 val_loss: 0.21184, val_acc: 0.80800\n",
      "[Epoch  48/100] loss: 0.18185, acc: 0.84000 val_loss: 0.20890, val_acc: 0.81600\n",
      "[Epoch  49/100] loss: 0.17535, acc: 0.84800 val_loss: 0.20986, val_acc: 0.80000\n",
      "[Epoch  50/100] loss: 0.17132, acc: 0.83600 val_loss: 0.20073, val_acc: 0.79200\n",
      "[Epoch  51/100] loss: 0.17165, acc: 0.83200 val_loss: 0.20237, val_acc: 0.79200\n",
      "[Epoch  52/100] loss: 0.16893, acc: 0.82800 val_loss: 0.18968, val_acc: 0.81600\n",
      "[Epoch  53/100] loss: 0.16101, acc: 0.84400 val_loss: 0.18905, val_acc: 0.82000\n",
      "[Epoch  54/100] loss: 0.16463, acc: 0.83600 val_loss: 0.18192, val_acc: 0.80800\n",
      "[Epoch  55/100] loss: 0.15920, acc: 0.84400 val_loss: 0.17984, val_acc: 0.81600\n",
      "[Epoch  56/100] loss: 0.15739, acc: 0.83600 val_loss: 0.17638, val_acc: 0.81200\n",
      "[Epoch  57/100] loss: 0.15260, acc: 0.84400 val_loss: 0.17038, val_acc: 0.79600\n",
      "[Epoch  58/100] loss: 0.14803, acc: 0.84000 val_loss: 0.16650, val_acc: 0.79200\n",
      "[Epoch  59/100] loss: 0.14951, acc: 0.82800 val_loss: 0.17326, val_acc: 0.80000\n",
      "[Epoch  60/100] loss: 0.14337, acc: 0.83200 val_loss: 0.16577, val_acc: 0.81200\n",
      "[Epoch  61/100] loss: 0.14424, acc: 0.83200 val_loss: 0.16256, val_acc: 0.81200\n",
      "[Epoch  62/100] loss: 0.14054, acc: 0.84000 val_loss: 0.16331, val_acc: 0.81600\n",
      "[Epoch  63/100] loss: 0.13499, acc: 0.84800 val_loss: 0.15579, val_acc: 0.79600\n",
      "[Epoch  64/100] loss: 0.13907, acc: 0.82400 val_loss: 0.16285, val_acc: 0.80400\n",
      "[Epoch  65/100] loss: 0.13904, acc: 0.83200 val_loss: 0.16176, val_acc: 0.79600\n",
      "[Epoch  66/100] loss: 0.13178, acc: 0.84400 val_loss: 0.15347, val_acc: 0.81600\n",
      "[Epoch  67/100] loss: 0.13129, acc: 0.85200 val_loss: 0.14681, val_acc: 0.81200\n",
      "[Epoch  68/100] loss: 0.12770, acc: 0.83200 val_loss: 0.14735, val_acc: 0.81200\n",
      "[Epoch  69/100] loss: 0.12418, acc: 0.82800 val_loss: 0.14300, val_acc: 0.80800\n",
      "[Epoch  70/100] loss: 0.12475, acc: 0.82800 val_loss: 0.15257, val_acc: 0.78000\n",
      "[Epoch  71/100] loss: 0.12526, acc: 0.82000 val_loss: 0.14228, val_acc: 0.79200\n",
      "[Epoch  72/100] loss: 0.12250, acc: 0.84000 val_loss: 0.13839, val_acc: 0.80400\n",
      "[Epoch  73/100] loss: 0.11599, acc: 0.84400 val_loss: 0.14595, val_acc: 0.78400\n",
      "[Epoch  74/100] loss: 0.11420, acc: 0.84400 val_loss: 0.13617, val_acc: 0.80400\n",
      "[Epoch  75/100] loss: 0.11341, acc: 0.84000 val_loss: 0.13038, val_acc: 0.81200\n",
      "[Epoch  76/100] loss: 0.11589, acc: 0.83200 val_loss: 0.12946, val_acc: 0.80800\n",
      "[Epoch  77/100] loss: 0.11624, acc: 0.82400 val_loss: 0.12906, val_acc: 0.81200\n",
      "[Epoch  78/100] loss: 0.11073, acc: 0.83600 val_loss: 0.12739, val_acc: 0.79200\n",
      "[Epoch  79/100] loss: 0.11127, acc: 0.83600 val_loss: 0.13021, val_acc: 0.80000\n",
      "[Epoch  80/100] loss: 0.10718, acc: 0.85200 val_loss: 0.12036, val_acc: 0.80800\n",
      "[Epoch  81/100] loss: 0.11014, acc: 0.84400 val_loss: 0.12253, val_acc: 0.80800\n",
      "[Epoch  82/100] loss: 0.10681, acc: 0.82800 val_loss: 0.11915, val_acc: 0.80800\n",
      "[Epoch  83/100] loss: 0.10548, acc: 0.83200 val_loss: 0.11976, val_acc: 0.81200\n",
      "[Epoch  84/100] loss: 0.10262, acc: 0.84400 val_loss: 0.11788, val_acc: 0.81600\n",
      "[Epoch  85/100] loss: 0.10187, acc: 0.84800 val_loss: 0.11325, val_acc: 0.80800\n",
      "[Epoch  86/100] loss: 0.10134, acc: 0.84800 val_loss: 0.11673, val_acc: 0.79200\n",
      "[Epoch  87/100] loss: 0.10161, acc: 0.82800 val_loss: 0.11882, val_acc: 0.79200\n",
      "[Epoch  88/100] loss: 0.09998, acc: 0.84400 val_loss: 0.11357, val_acc: 0.80400\n",
      "[Epoch  89/100] loss: 0.09799, acc: 0.84000 val_loss: 0.11103, val_acc: 0.81200\n",
      "[Epoch  90/100] loss: 0.09768, acc: 0.84000 val_loss: 0.11064, val_acc: 0.81200\n",
      "[Epoch  91/100] loss: 0.09618, acc: 0.83200 val_loss: 0.12021, val_acc: 0.78400\n",
      "[Epoch  92/100] loss: 0.09448, acc: 0.84000 val_loss: 0.10730, val_acc: 0.81200\n",
      "[Epoch  93/100] loss: 0.09483, acc: 0.84400 val_loss: 0.11087, val_acc: 0.80000\n",
      "[Epoch  94/100] loss: 0.09287, acc: 0.82800 val_loss: 0.10646, val_acc: 0.80800\n",
      "[Epoch  95/100] loss: 0.09194, acc: 0.84000 val_loss: 0.10951, val_acc: 0.80000\n",
      "[Epoch  96/100] loss: 0.09185, acc: 0.84400 val_loss: 0.10423, val_acc: 0.80400\n",
      "[Epoch  97/100] loss: 0.09102, acc: 0.82000 val_loss: 0.11197, val_acc: 0.79200\n",
      "[Epoch  98/100] loss: 0.08913, acc: 0.84800 val_loss: 0.10272, val_acc: 0.81200\n",
      "[Epoch  99/100] loss: 0.08653, acc: 0.84000 val_loss: 0.10110, val_acc: 0.80800\n",
      "[Epoch 100/100] loss: 0.08546, acc: 0.84800 val_loss: 0.10105, val_acc: 0.82000\n",
      "Finished Training\n",
      "OrderedDict([('layer1.weight', tensor([[ 0.6489,  0.2382],\n",
      "        [-0.4762, -0.4459],\n",
      "        [ 0.3642,  0.3912]])), ('layer1.bias', tensor([ 0.9820,  0.6606, -0.3019])), ('layer2.weight', tensor([[ 0.4739,  0.2242,  0.1064],\n",
      "        [-1.0456, -0.7770,  0.3506],\n",
      "        [ 0.5343,  0.3890, -0.2493]])), ('layer2.bias', tensor([ 0.0306,  0.3806, -0.1479])), ('layer_out.weight', tensor([[ 0.4629, -1.3310,  0.6340]])), ('layer_out.bias', tensor([-0.4009]))])\n"
     ]
    }
   ],
   "source": [
    "# パラメーター（重みやバイアス）の初期化を行う関数の定義\n",
    "def init_parameters(layer):\n",
    "    if type(layer) == nn.Linear:\n",
    "        nn.init.xavier_uniform_(layer.weight) # 重みを「一様分布のランダム値」に初期化\n",
    "        layer.bias.data.fill_(0.0)            # バイアスを「0」に初期化\n",
    "\n",
    "# 学習の前にパラメーター（重みやバイアス）を初期化する\n",
    "model.apply(init_parameters)\n",
    "\n",
    "# 定数（学習／評価時に必要となるもの）\n",
    "EPOCHS = 100             # エポック数： 100\n",
    "\n",
    "# 変数（学習／評価時に必要となるもの）\n",
    "avg_loss = 0.0           # 「訓練」用の平均「損失値」\n",
    "avg_acc = 0.0            # 「訓練」用の平均「正解率」\n",
    "avg_val_loss = 0.0       # 「評価」用の平均「損失値」\n",
    "avg_val_acc = 0.0        # 「評価」用の平均「正解率」\n",
    "\n",
    "# 損失の履歴を保存するための変数\n",
    "train_history = []\n",
    "valid_history = []\n",
    "\n",
    "for epoch in range(EPOCHS):\n",
    "    # forループ内で使う変数と、エポックごとの値リセット\n",
    "    total_loss = 0.0     # 「訓練」時における累計「損失値」\n",
    "    total_acc = 0.0      # 「訓練」時における累計「正解数」\n",
    "    total_val_loss = 0.0 # 「評価」時における累計「損失値」\n",
    "    total_val_acc = 0.0  # 「評価」時における累計「正解数」\n",
    "    total_train = 0      # 「訓練」時における累計「データ数」\n",
    "    total_valid = 0      # 「評価」時における累計「データ数」\n",
    "\n",
    "    for train_X, train_y in loader_train:\n",
    "        # 【重要】1ミニバッチ分の「訓練」を実行\n",
    "        loss, acc = train_step(train_X, train_y)\n",
    "\n",
    "        # 取得した損失値と正解率を累計値側に足していく\n",
    "        total_loss += loss          # 訓練用の累計損失値\n",
    "        total_acc += acc            # 訓練用の累計正解数\n",
    "        total_train += len(train_y) # 訓練データの累計数\n",
    "            \n",
    "    for valid_X, valid_y in loader_valid:\n",
    "        # 【重要】1ミニバッチ分の「評価（精度検証）」を実行\n",
    "        val_loss, val_acc = valid_step(valid_X, valid_y)\n",
    "\n",
    "        # 取得した損失値と正解率を累計値側に足していく\n",
    "        total_val_loss += val_loss  # 評価用の累計損失値\n",
    "        total_val_acc += val_acc    # 評価用の累計正解数\n",
    "        total_valid += len(valid_y) # 訓練データの累計数\n",
    "\n",
    "    # ミニバッチ単位で累計してきた損失値や正解率の平均を取る\n",
    "    n = epoch + 1                             # 処理済みのエポック数\n",
    "    avg_loss = total_loss / n                 # 訓練用の平均損失値\n",
    "    avg_acc = total_acc / total_train         # 訓練用の平均正解率\n",
    "    avg_val_loss = total_val_loss / n         # 訓練用の平均損失値\n",
    "    avg_val_acc = total_val_acc / total_valid # 訓練用の平均正解率\n",
    "\n",
    "    # グラフ描画のために損失の履歴を保存する\n",
    "    train_history.append(avg_loss)\n",
    "    valid_history.append(avg_val_loss)\n",
    "\n",
    "    # 損失や正解率などの情報を表示\n",
    "    print(f'[Epoch {epoch+1:3d}/{EPOCHS:3d}]' \\\n",
    "          f' loss: {avg_loss:.5f}, acc: {avg_acc:.5f}' \\\n",
    "          f' val_loss: {avg_val_loss:.5f}, val_acc: {avg_val_acc:.5f}')\n",
    "\n",
    "print('Finished Training')\n",
    "print(model.state_dict())  # 学習後のパラメーターの情報を表示"
   ]
  },
  {
   "cell_type": "code",
   "execution_count": 63,
   "metadata": {},
   "outputs": [
    {
     "data": {
      "image/png": "[encoded data removed]",
      "text/plain": [
       "<Figure size 432x288 with 1 Axes>"
      ]
     },
     "metadata": {
      "needs_background": "light"
     },
     "output_type": "display_data"
    }
   ],
   "source": [
    "import matplotlib.pyplot as plt\n",
    "\n",
    "# 学習結果（損失）のグラフを描画\n",
    "epochs = len(train_history)\n",
    "plt.plot(range(epochs), train_history, marker='.', label='loss (Training data)')\n",
    "plt.plot(range(epochs), valid_history, marker='.', label='loss (Validation data)')\n",
    "plt.legend(loc='best')\n",
    "plt.grid()\n",
    "plt.xlabel('epoch')\n",
    "plt.ylabel('loss')\n",
    "plt.show()"
   ]
  },
  {
   "cell_type": "code",
   "execution_count": null,
   "metadata": {},
   "outputs": [],
   "source": []
  },
  {
   "cell_type": "code",
   "execution_count": null,
   "metadata": {},
   "outputs": [],
   "source": []
  },
  {
   "cell_type": "code",
   "execution_count": null,
   "metadata": {},
   "outputs": [],
   "source": []
  },
  {
   "cell_type": "code",
   "execution_count": null,
   "metadata": {},
   "outputs": [],
   "source": []
  },
  {
   "cell_type": "code",
   "execution_count": null,
   "metadata": {},
   "outputs": [],
   "source": []
  },
  {
   "cell_type": "code",
   "execution_count": null,
   "metadata": {},
   "outputs": [],
   "source": []
  },
  {
   "cell_type": "code",
   "execution_count": null,
   "metadata": {},
   "outputs": [],
   "source": [
    "#1,3-propanediolの電荷\n",
    "chags =[\n",
    "-0.597800,\n",
    " 0.128900,\n",
    "-0.158400,\n",
    " 0.128900,   \n",
    "-0.597800, \n",
    " 0.395500,      \n",
    " 0.050700,   \n",
    " 0.050700,     \n",
    " 0.051200,  \n",
    " 0.051200,  \n",
    " 0.050700,    \n",
    " 0.050700,    \n",
    " 0.395500]     \n",
    "\n",
    "#電荷素量、長さ、デバイの単位\n",
    "qe = 1.60217663e-19 #C \n",
    "debye = 3.33564e-30 #Cm \n",
    "ang = 1.0e-10 #Ang. Unit"
   ]
  },
  {
   "cell_type": "code",
   "execution_count": null,
   "metadata": {},
   "outputs": [],
   "source": [
    "#原子座標と電荷の値を用いて直接、UnitCellの双極子モーメントを計算する\n",
    "import numpy as np\n",
    "dx=0;dy=0;dz=0\n",
    "num_at = len(chags)\n",
    "for i,r in enumerate(mol1.get_positions()) :\n",
    "    dx += chags[i%num_at] * r[0] ; dy += chags[i%num_at] * r[1]; dz += chags[i%num_at] * r[2]\n",
    "\n",
    "print(\"Total < M_x > = {} Debye\".format(dx*ang*qe/debye))\n",
    "print(\"Total < M_y > = {} Debye\".format(dy*ang*qe/debye))\n",
    "print(\"Total < M_z > = {} Debye\".format(dz*ang*qe/debye))"
   ]
  },
  {
   "cell_type": "code",
   "execution_count": null,
   "metadata": {},
   "outputs": [],
   "source": [
    "import os\n",
    "import subprocess\n",
    "from subprocess import PIPE\n",
    "gromacs_home = \"~/usr/local/gromacs2018/bin/\"\n",
    "!echo \"System\" > anal.txt \n",
    "os.environ['OMP_NUM_THREADS'] = '1'    \n",
    "commands = gromacs_home+\"gmx_mpi dipoles -s eq.tpr -f eq.gro < anal.txt\"\n",
    "proc = subprocess.run(commands, shell=True, stdout=PIPE, stderr=PIPE,encoding='utf-8')\n",
    "output = proc.stdout\n",
    "print(output)"
   ]
  },
  {
   "cell_type": "markdown",
   "metadata": {},
   "source": [
    "【結論】  \n",
    "gromacsのdipolesでは、周期境界をはみ出した分子の部分について特にUnitCell内に戻すような処理を行わず、  \n",
    "はみ出した値のまま素朴に計算しているようである。  \n",
    "現在弊社の誘電スペクトルの計算ではgmx dipolesを特にオプションなど検討せずに使用しているが、  \n",
    "これで問題がないのかどうかについては改めて検討する。  \n"
   ]
  }
 ],
 "metadata": {
  "colab": {
   "name": "dipoles_gromacs_IR.ipynb",
   "provenance": []
  },
  "kernelspec": {
   "display_name": "Python 3",
   "language": "python",
   "name": "python3"
  },
  "language_info": {
   "codemirror_mode": {
    "name": "ipython",
    "version": 3
   },
   "file_extension": ".py",
   "mimetype": "text/x-python",
   "name": "python",
   "nbconvert_exporter": "python",
   "pygments_lexer": "ipython3",
   "version": "3.6.12"
  }
 },
 "nbformat": 4,
 "nbformat_minor": 1
}
