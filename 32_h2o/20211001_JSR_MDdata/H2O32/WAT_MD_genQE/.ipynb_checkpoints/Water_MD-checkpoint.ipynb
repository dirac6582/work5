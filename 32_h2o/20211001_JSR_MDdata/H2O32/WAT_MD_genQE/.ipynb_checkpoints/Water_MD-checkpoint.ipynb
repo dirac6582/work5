{
 "cells": [
  {
   "cell_type": "markdown",
   "metadata": {},
   "source": [
    "### 古典MD (GAFF2/AM1BCC力場）の実行とQEファイルの出力  \n",
    "水32分子を25℃ (密度0.997)でNVTでMD計算    \n",
    "1ナノ秒をdt = 0.2 fsで計算する。   \n",
    "MDのカットオフ半径は4Å　長距離静電相互作用はPMEを使用。    \n",
    "200fsで構造を出力し、最初の1,001フレームを捨てて4,000構造を出力する。    \n",
    "ASEで構造を読み込んで、Quantum Espressoフォーマットで出力  "
   ]
  },
  {
   "cell_type": "code",
   "execution_count": 1,
   "metadata": {},
   "outputs": [],
   "source": [
    "!rm -r -f input.acpype\n",
    "!ls ./ |  grep -v -E 'inputs|Water_MD.ipynb' | xargs rm -rf \n",
    "!mkdir output"
   ]
  },
  {
   "cell_type": "code",
   "execution_count": 2,
   "metadata": {},
   "outputs": [],
   "source": [
    "import pandas as pd\n",
    "poly = pd.read_csv(\"./inputs/water.csv\")\n",
    "#poly = poly[1:].reset_index(drop=True)"
   ]
  },
  {
   "cell_type": "code",
   "execution_count": 3,
   "metadata": {
    "scrolled": true
   },
   "outputs": [
    {
     "data": {
      "text/html": [
       "<div>\n",
       "<style scoped>\n",
       "    .dataframe tbody tr th:only-of-type {\n",
       "        vertical-align: middle;\n",
       "    }\n",
       "\n",
       "    .dataframe tbody tr th {\n",
       "        vertical-align: top;\n",
       "    }\n",
       "\n",
       "    .dataframe thead th {\n",
       "        text-align: right;\n",
       "    }\n",
       "</style>\n",
       "<table border=\"1\" class=\"dataframe\">\n",
       "  <thead>\n",
       "    <tr style=\"text-align: right;\">\n",
       "      <th></th>\n",
       "      <th>Smiles</th>\n",
       "      <th>Name</th>\n",
       "    </tr>\n",
       "  </thead>\n",
       "  <tbody>\n",
       "    <tr>\n",
       "      <th>0</th>\n",
       "      <td>O</td>\n",
       "      <td>SPCFW</td>\n",
       "    </tr>\n",
       "  </tbody>\n",
       "</table>\n",
       "</div>"
      ],
      "text/plain": [
       "  Smiles   Name\n",
       "0      O  SPCFW"
      ]
     },
     "execution_count": 3,
     "metadata": {},
     "output_type": "execute_result"
    }
   ],
   "source": [
    "poly"
   ]
  },
  {
   "cell_type": "code",
   "execution_count": 4,
   "metadata": {},
   "outputs": [],
   "source": [
    "max_atoms=32*3\n",
    "density = 0.997062\n",
    "\n",
    "dt = 0.2                           #[fs] MDの刻み時間：このまま使うことを推奨。\n",
    "eq_temp = 25+273.15                #緩和計算させるときの温度 [K]\n",
    "eq_steps = 5000000                 #緩和計算するstep数。この例だと1.0 nsec.\n",
    "eq_cutoff = 4\n",
    "\n",
    "!. /home/yamazaki/usr/local/gromacs/bin/GMXRC\n",
    "gromacs_home = \"/home/yamazaki/usr/local/gromacs/bin/\""
   ]
  },
  {
   "cell_type": "code",
   "execution_count": 5,
   "metadata": {},
   "outputs": [],
   "source": [
    "import pandas as pd\n",
    "\n",
    "from rdkit import Chem\n",
    "from rdkit.Chem import Draw\n",
    "from rdkit.Chem import Descriptors\n",
    "from rdkit.ML.Descriptors import MoleculeDescriptors\n",
    "from rdkit.Chem import PandasTools\n",
    "\n",
    "#化学構造のsmilesリストを準備する\n",
    "smiles_list_polymer = poly[\"Smiles\"].to_list()\n",
    "\n",
    "\n",
    "# 化合物のラベルを作成\n",
    "label_list = poly[\"Name\"].to_list()\n",
    "\n",
    "# molオブジェクトのリストを作成\n",
    "mols_list_polymer = [Chem.MolFromSmiles(smile) for smile in smiles_list_polymer]"
   ]
  },
  {
   "cell_type": "code",
   "execution_count": 6,
   "metadata": {},
   "outputs": [],
   "source": [
    "def gaff_bcc(smiles):\n",
    "    #GAFF2/AM1-BCCをアサインする\n",
    "    import sys,os,os.path\n",
    "    os.environ['SMILES']=str(smiles)\n",
    "    !echo ${SMILES} > input.smi\n",
    "    !obabel -ismi input.smi -O input.mol2 --gen3D --conformer --nconf 5000 --weighted \n",
    "    !babel -imol2 input.mol2 -oxyz input.xyz\n",
    "    from ase.io import read, write\n",
    "    inp1 = read('input.xyz')\n",
    "    !acpype -i input.mol2 -c bcc -n 0 -m 1 -a gaff2 -f -o gmx -k \"qm_theory='AM1',grms_tol=0.05,scfconv=1.d-10,ndiis_attempts=700, \"\n",
    "\n",
    "    import shutil\n",
    "    src = './input.acpype/input_GMX.gro'\n",
    "    copy = './input1.gro'\n",
    "    shutil.copyfile(src,copy)\n",
    "    src = './input.acpype/input_GMX.itp'\n",
    "    copy = './input1.itp'\n",
    "    shutil.copyfile(src,copy)"
   ]
  },
  {
   "cell_type": "code",
   "execution_count": 7,
   "metadata": {
    "scrolled": true
   },
   "outputs": [
    {
     "name": "stdout",
     "output_type": "stream",
     "text": [
      "1 molecule converted\n",
      "1 molecule converted\n",
      "3 info messages 6 audit log messages \n",
      "=========================================================================================\n",
      "| ACPYPE: AnteChamber PYthon Parser interfacE v. 2020-10-24T12:16:34CEST (c) 2021 AWSdS |\n",
      "=========================================================================================\n",
      "==> ... charge set to 0\n",
      "==> Executing Antechamber...\n",
      "==> * Antechamber OK *\n",
      "==> * Parmchk OK *\n",
      "==> Executing Tleap...\n",
      "++++++++++start_quote+++++++++++++++++++++++++++++++++++++++++++++++++++++++++++\n",
      "Checking 'HOH'....\n",
      "Checking parameters for unit 'HOH'.\n",
      "Checking for bond parameters.\n",
      "Checking for angle parameters.\n",
      "Unit is OK.\n",
      "++++++++++end_quote+++++++++++++++++++++++++++++++++++++++++++++++++++++++++++++\n",
      "==> * Tleap OK *\n",
      "==> Removing temporary files...\n",
      "==> Writing GROMACS files\n",
      "\n",
      "==> Writing GMX dihedrals for GMX 4.5 and higher.\n",
      "\n",
      "==> Writing pickle file input.pkl\n",
      "Total time of execution: less than a second\n"
     ]
    }
   ],
   "source": [
    "gaff_bcc(smiles_list_polymer[0])"
   ]
  },
  {
   "cell_type": "code",
   "execution_count": 8,
   "metadata": {},
   "outputs": [],
   "source": [
    "#make mdp file for energy minimization\n",
    "def make_mdp_em(cutoff):\n",
    "\n",
    "    mdp_file = \"em.mdp\"\n",
    "    cutoff_radius    = cutoff/10.0\n",
    "    \n",
    "    lines = [\n",
    "    \"; VARIOUS PREPROCESSING OPTIONS\",\n",
    "    \";title                    = Yo\",\n",
    "    \";cpp                      = /usr/bin/cpp\",\n",
    "    \"include                  =\", \n",
    "    \"define                   =\", \n",
    "    \"    \",\n",
    "    \"; RUN CONTROL PARAMETERS\",\n",
    "    \"integrator               = steep\",\n",
    "    \"nsteps                   = 1000000\",\n",
    "    \"emtol                    = 10\",\n",
    "    \"emstep                   = 0.1\",\n",
    "    \"nstlist                  = 1\",\n",
    "    \"cutoff-scheme            = verlet\",\n",
    "    \"vdw-type                 = cut-off\",\n",
    "    \"rlist                    = {}\".format(cutoff_radius),\n",
    "    \"rvdw                     = {}\".format(cutoff_radius),\n",
    "    \"rcoulomb                 = {}\".format(cutoff_radius),\n",
    "    ]\n",
    "\n",
    "    with open(mdp_file, mode='w') as f:\n",
    "        f.write('\\n'.join(lines))"
   ]
  },
  {
   "cell_type": "code",
   "execution_count": 9,
   "metadata": {},
   "outputs": [],
   "source": [
    "#make mdp file for NVT run\n",
    "def make_mdp_nvt(temp,steps,dt,cutoff):\n",
    "\n",
    "    temperature      = temp\n",
    "    simulation_steps = steps \n",
    "    time_step        = dt/1000.0  # ps\n",
    "    cutoff_radius    = cutoff/10.0\n",
    "    \n",
    "    mdp_file = \"run.mdp\"\n",
    "\n",
    "    lines = [\n",
    "    \"; VARIOUS PREPROCESSING OPTIONS\",\n",
    "    \";title                    = Yo\",\n",
    "    \";cpp                      = /usr/bin/cpp\",\n",
    "    \"include                  =\", \n",
    "    \"define                   =\", \n",
    "    \"    \",\n",
    "    \"; RUN CONTROL PARAMETERS\",\n",
    "    \"constraints              = none\",\n",
    "    \"integrator               = md\",\n",
    "    \"nsteps                   = {}\".format(simulation_steps),\n",
    "    \"dt                       = {}\".format(time_step),\n",
    "    \"nstlist                  = 1\",\n",
    "    \"rlist                    = {}\".format(cutoff_radius),\n",
    "    \"rvdw                     = {}\".format(cutoff_radius),\n",
    "    \"rcoulomb                 = {}\".format(cutoff_radius),\n",
    "    \"coulombtype              = pme\",\n",
    "    \"cutoff-scheme            = verlet\",\n",
    "    \"vdw-type                 = cut-off\",        \n",
    "    \"tc-grps                  = system\",\n",
    "    \"tau-t                    = 0.1\",\n",
    "    \"gen-vel                  = yes\",\n",
    "    \"gen-temp                 = {}\".format(temperature),\n",
    "    \"ref-t                    = {}\".format(temperature),\n",
    "    \"Pcoupl                   = no\",\n",
    "    \"Tcoupl                    = v-rescale \" ,\n",
    "    \"nstenergy                = 1000\",\n",
    "    \"nstxout                  = 1000\", \n",
    "    \"nstfout                  = 1000\",\n",
    "    \"DispCorr                 = EnerPres\",\n",
    "    ]\n",
    "\n",
    "    with open(mdp_file, mode='w') as f:\n",
    "        f.write('\\n'.join(lines))"
   ]
  },
  {
   "cell_type": "code",
   "execution_count": 10,
   "metadata": {},
   "outputs": [],
   "source": [
    "def build_initial_cell_gromacs(dt,eq_cutoff,eq_temp,eq_steps):\n",
    "\n",
    "    import pandas as pd\n",
    "    \n",
    "    import time \n",
    "    init_time = time.time()\n",
    "    \n",
    "    dt = dt\n",
    "\n",
    "    import MDAnalysis as mda\n",
    "    from nglview.datafiles import PDB, XTC\n",
    "\n",
    "    #混合溶液を作成\n",
    "    import mdapackmol\n",
    "    import numpy as np\n",
    "    from ase import units\n",
    "    import shutil\n",
    "\n",
    "    # load individual molecule files\n",
    "    mol1 = mda.Universe('input1.gro')\n",
    "    #num_mols1 = 30\n",
    "    total_mol = int(max_atoms/(mol1.atoms.n_atoms))\n",
    "    num_mols1 = total_mol\n",
    "    mw_mol1 = np.sum(mol1.atoms.masses)\n",
    "    total_weight = num_mols1 * mw_mol1 \n",
    "    \n",
    "    # Determine side length of a box with the density of mixture \n",
    "    #L = 12.0 # Ang. unit \n",
    "    d = density / 1e24 # Density in g/Ang3 \n",
    "    volume = (total_weight / units.mol) / d\n",
    "    L = volume**(1.0/3.0)\n",
    "    \n",
    "    system = mdapackmol.packmol(\n",
    "    [ mdapackmol.PackmolStructure(\n",
    "    mol1, number=num_mols1,\n",
    "    instructions=[\"inside box \"+str(0)+\"  \"+str(0)+\"  \"+str(0)+ \"  \"+str(L)+\"  \"+str(L)+\"  \"+str(L)]),])\n",
    "\n",
    "    system.atoms.write('mixture.gro')\n",
    "\n",
    "    import os \n",
    "    os.environ['GMX_MAXBACKUP'] = '-1'\n",
    "\n",
    "    # for gromacs-5 or later \n",
    "    commands = gromacs_home+\"gmx_mpi editconf -f mixture.gro  -box \"+ str(L/10.0)+\"  \"+str(L/10.0)+\"  \"+str(L/10.0) + \"  \" +\" -o init.gro\"\n",
    "\n",
    "    import subprocess\n",
    "    from subprocess import PIPE\n",
    "\n",
    "    proc = subprocess.run(commands, shell=True, stdout=PIPE, stderr=PIPE,encoding='utf-8')\n",
    "    output = proc.stdout\n",
    "    #print('STDOUT: {}'.format(output))\n",
    "\n",
    "    #make top file for GAFF\n",
    "\n",
    "    top_file = \"system.top\"\n",
    "    mol_name1 = \"input\"\n",
    " \n",
    "    lines = [\n",
    "        \"; input_GMX.top created by acpype (v: 2020-07-25T09:06:13CEST) on Fri Jul 31 07:59:08 2020\",\n",
    "        \";by acpype (v: 2020-07-25T09:06:13CEST) on Fri Jul 31 07:59:08 2020\",\n",
    "        \"   \",\n",
    "        \"[ defaults ]\",\n",
    "        \"; nbfunc        comb-rule       gen-pairs       fudgeLJ fudgeQQ\",\n",
    "        \"1               2               yes             0.5     0.8333\",\n",
    "        \"    \",\n",
    "        \"; Include input.itp topology\", \n",
    "        \"#include \\\"{}.itp\\\"\".format(\"input1\"),\n",
    "        \"    \",\n",
    "        \"[ system ]\",\n",
    "        \"input\",\n",
    "        \"     \",\n",
    "        \"[ molecules ]\",\n",
    "        \"; Compound        nmols\" ,\n",
    "        mol_name1 + \"          {} \".format(num_mols1), \n",
    "    ]\n",
    "        \n",
    "    with open(top_file, mode='w') as f:\n",
    "        f.write('\\n'.join(lines))\n",
    "\n",
    "    # Energy minimization\n",
    "    import os\n",
    "    import subprocess\n",
    "    from subprocess import PIPE\n",
    "    \n",
    "    print('Minimizing energy')\n",
    "    \n",
    "    os.environ['GMX_MAXBACKUP'] = '-1'\n",
    "\n",
    "    make_mdp_em(eq_cutoff)\n",
    "\n",
    "    #grompp\n",
    "    os.environ['OMP_NUM_THREADS'] = '1'    \n",
    "    commands = gromacs_home+\"gmx_mpi grompp -f em.mdp -p system.top -c init.gro -o em.tpr -maxwarn 10 \"\n",
    "    proc = subprocess.run(commands, shell=True, stdout=PIPE, stderr=PIPE,encoding='utf-8')\n",
    "    output = proc.stdout\n",
    "\n",
    "    #mdrun\n",
    "    os.environ['OMP_NUM_THREADS'] = '1' \n",
    "    commands = gromacs_home+\"gmx_mpi mdrun -s em.tpr -o em.trr -e em.edr -c em.gro -nb cpu\"\n",
    "    proc = subprocess.run(commands, shell=True, stdout=PIPE, stderr=PIPE,encoding='utf-8')\n",
    "    output = proc.stdout\n",
    "\n",
    "    #Relax the geometry \n",
    "    print('Running dynamics :Equilibration')\n",
    "  \n",
    "    temp = eq_temp\n",
    "    dt   = dt \n",
    "    steps = eq_steps\n",
    "    make_mdp_nvt(temp,steps,dt,eq_cutoff)\n",
    "\n",
    "    #grompp\n",
    "    os.environ['OMP_NUM_THREADS'] = '1'    \n",
    "    commands = gromacs_home+\"gmx_mpi grompp -f run.mdp -p system.top -c em.gro -o eq.tpr -maxwarn 10 \".format(str(temp))\n",
    "    proc = subprocess.run(commands, shell=True, stdout=PIPE, stderr=PIPE,encoding='utf-8')\n",
    "    output = proc.stdout\n",
    "\n",
    "    #mdrun\n",
    "    os.environ['OMP_NUM_THREADS'] = '6' \n",
    "    commands = gromacs_home+\"gmx_mpi mdrun -s eq.tpr -o eq.trr -e eq.edr -c eq.gro -nb gpu\"\n",
    "    proc = subprocess.run(commands, shell=True, stdout=PIPE, stderr=PIPE,encoding='utf-8')\n",
    "    output = proc.stdout\n",
    "\n",
    "    print(\"elapsed time= {} sec.\".format(time.time()-init_time))"
   ]
  },
  {
   "cell_type": "code",
   "execution_count": 11,
   "metadata": {
    "scrolled": false
   },
   "outputs": [
    {
     "data": {
      "application/vnd.jupyter.widget-view+json": {
       "model_id": "3640ae03a5a146959d55727df09d7950",
       "version_major": 2,
       "version_minor": 0
      },
      "text/plain": []
     },
     "metadata": {},
     "output_type": "display_data"
    },
    {
     "name": "stderr",
     "output_type": "stream",
     "text": [
      "/home/yamazaki/miniconda3/envs/openmm/lib/python3.6/site-packages/MDAnalysis/coordinates/PDB.py:1028: UserWarning: Found no information for attr: 'altLocs' Using default value of ' '\n",
      "  \"\".format(attrname, default))\n",
      "/home/yamazaki/miniconda3/envs/openmm/lib/python3.6/site-packages/MDAnalysis/coordinates/PDB.py:1028: UserWarning: Found no information for attr: 'icodes' Using default value of ' '\n",
      "  \"\".format(attrname, default))\n",
      "/home/yamazaki/miniconda3/envs/openmm/lib/python3.6/site-packages/MDAnalysis/coordinates/PDB.py:1028: UserWarning: Found no information for attr: 'occupancies' Using default value of '1.0'\n",
      "  \"\".format(attrname, default))\n",
      "/home/yamazaki/miniconda3/envs/openmm/lib/python3.6/site-packages/MDAnalysis/coordinates/PDB.py:1028: UserWarning: Found no information for attr: 'tempfactors' Using default value of '0.0'\n",
      "  \"\".format(attrname, default))\n"
     ]
    },
    {
     "name": "stdout",
     "output_type": "stream",
     "text": [
      "Minimizing energy\n",
      "Running dynamics :Equilibration\n",
      "elapsed time= 428.99074053764343 sec.\n"
     ]
    }
   ],
   "source": [
    "build_initial_cell_gromacs(dt,eq_cutoff,eq_temp,eq_steps)"
   ]
  },
  {
   "cell_type": "code",
   "execution_count": 12,
   "metadata": {
    "scrolled": true
   },
   "outputs": [
    {
     "data": {
      "image/png": "[encoded data removed]",
      "text/plain": [
       "<Figure size 432x288 with 1 Axes>"
      ]
     },
     "metadata": {
      "needs_background": "light"
     },
     "output_type": "display_data"
    }
   ],
   "source": [
    "#構造可視化(matplotlib版)\n",
    "import matplotlib.pyplot as plt\n",
    "from ase.visualize.plot import plot_atoms\n",
    "import ase.io\n",
    "mol1 = ase.io.read('eq.gro')\n",
    "%matplotlib inline\n",
    "plot_atoms(mol1, rotation=('0x,0y,0z'))\n",
    "plt.show()"
   ]
  },
  {
   "cell_type": "code",
   "execution_count": 13,
   "metadata": {},
   "outputs": [
    {
     "data": {
      "application/vnd.jupyter.widget-view+json": {
       "model_id": "45587b57c457499eb5e9077e58d84955",
       "version_major": 2,
       "version_minor": 0
      },
      "text/plain": [
       "NGLWidget()"
      ]
     },
     "metadata": {},
     "output_type": "display_data"
    }
   ],
   "source": [
    "#構造可視化(nglview版)\n",
    "import nglview as nv\n",
    "import ase.io\n",
    "mol1 = ase.io.read('eq.gro')\n",
    "w = nv.show_ase(mol1)\n",
    "w.add_label(radius=1,color=\"black\",label_type=\"atom\")\n",
    "w.add_unitcell()\n",
    "w.update_unitcell()\n",
    "w"
   ]
  },
  {
   "cell_type": "code",
   "execution_count": 14,
   "metadata": {
    "scrolled": false
   },
   "outputs": [
    {
     "data": {
      "application/vnd.jupyter.widget-view+json": {
       "model_id": "cd01eeb49c9f4708bb41c014a0864579",
       "version_major": 2,
       "version_minor": 0
      },
      "text/plain": [
       "NGLWidget(max_frame=5000)"
      ]
     },
     "metadata": {},
     "output_type": "display_data"
    },
    {
     "data": {
      "application/vnd.jupyter.widget-view+json": {
       "model_id": "6db9b6acb6bb443a80fd7deff51820d5",
       "version_major": 2,
       "version_minor": 0
      },
      "text/plain": [
       "Tab(children=(Box(children=(Box(children=(Box(children=(Label(value='step'), IntSlider(value=1, min=-100)), la…"
      ]
     },
     "metadata": {},
     "output_type": "display_data"
    }
   ],
   "source": [
    "#Trajectoryの表示\n",
    "import sys\n",
    "import mdtraj\n",
    "\n",
    "# ParmEd Imports\n",
    "from parmed import load_file\n",
    "from parmed.openmm.reporters import NetCDFReporter\n",
    "from parmed import unit as u\n",
    "\n",
    "#analysis\n",
    "import os  \n",
    "import subprocess\n",
    "from subprocess import PIPE\n",
    "\n",
    "!echo \"System\" > ./inputs/anal.txt \n",
    "\n",
    "commands = gromacs_home+\"gmx_mpi trjconv -s eq.tpr -f eq.trr -dump 0 -o eq.pdb < ./inputs/anal.txt\"\n",
    "proc = subprocess.run(commands, shell=True, stdout=PIPE, stderr=PIPE,encoding='utf-8')\n",
    "output = proc.stdout\n",
    "commands = gromacs_home+\"gmx_mpi trjconv -s eq.tpr -f eq.trr -pbc atom -force -o eq_pbc.trr < ./inputs/anal.txt\"\n",
    "proc = subprocess.run(commands, shell=True, stdout=PIPE, stderr=PIPE,encoding='utf-8')\n",
    "output = proc.stdout\n",
    "\n",
    "traj=mdtraj.load(\"eq_pbc.trr\", top=\"eq.pdb\")\n",
    "view=nv.show_mdtraj(traj,gui=True)\n",
    "view.parameters =dict(\n",
    "                        camera_type=\"orthographic\",\n",
    "                        backgraound_color=\"black\",\n",
    "                        clip_dist=0\n",
    ")\n",
    "view.clear_representations()\n",
    "view.add_representation(\"ball+stick\")\n",
    "#view.add_representation(\"spacefill\",selection=[i for i in range(n_atoms,n_total_atoms)],opacity=0.1)\n",
    "view.add_unitcell()\n",
    "view.update_unitcell()\n",
    "view"
   ]
  },
  {
   "cell_type": "code",
   "execution_count": 15,
   "metadata": {},
   "outputs": [
    {
     "data": {
      "text/plain": [
       "4000"
      ]
     },
     "execution_count": 15,
     "metadata": {},
     "output_type": "execute_result"
    }
   ],
   "source": [
    "#前半のトラジェクトリーのカットする\n",
    "traj = traj[1001:]\n",
    "len(traj)"
   ]
  },
  {
   "cell_type": "code",
   "execution_count": 16,
   "metadata": {},
   "outputs": [],
   "source": [
    "#トラジェクトリーをASEで読み込んでQuantumEspressoの入力ファイルを出力する\n",
    "filename = \"WAT\"\n",
    "for i,snapshot in enumerate(traj) :\n",
    "    snapshot.save_gro(\"temp.gro\")\n",
    "    atoms1 = ase.io.read('temp.gro')\n",
    "    atoms1.write(\"./output/\"+filename+\"_\"+str(i)+\".in\",format=\"espresso-in\")\n",
    "    "
   ]
  },
  {
   "cell_type": "code",
   "execution_count": null,
   "metadata": {},
   "outputs": [],
   "source": [
    "#ASEから直接QuantumEspressoを叩くことも可能"
   ]
  },
  {
   "cell_type": "code",
   "execution_count": null,
   "metadata": {},
   "outputs": [],
   "source": [
    "from ase import Atoms\n",
    "from ase.build import bulk \n",
    "from ase.calculators.espresso import Espresso \n",
    "pseudopotentials = {\"H\":\"H.pbe-hgh.UPF\",\"O\":\"O.pbe-hgh.UPF\"}\n",
    "input_data = { \n",
    "    \"system\": {\n",
    "        \"ecutwfc\":100,\n",
    "        \"ecutrho\":400,\n",
    "        \"occupations\":\"smearing\",\n",
    "        \"smearing\":\"gauss\",\n",
    "        \"degauss\":0.01},\n",
    "    \"control\":{\n",
    "    \"disk_io\" : \"low\",\n",
    "    \"outdir\"  : \"./out\",\n",
    "    \"pseudo_dir\" : \"./pseudo\",\n",
    "    \"tprnfor\" : True,\n",
    "    \"tstress\" : True,\n",
    "    }\n",
    "}\n",
    "\n",
    "calc = Espresso(pseudopotentials=pseudopotentials,kpts=(1,1,1),input_data=input_data)\n",
    "atoms1.set_calculator(calc)\n",
    "\n",
    "print(atoms1.get_potential_energy())\n",
    "print(atoms1.get_forces())\n",
    "!cat espresso.pwi\n"
   ]
  },
  {
   "cell_type": "code",
   "execution_count": null,
   "metadata": {},
   "outputs": [],
   "source": []
  }
 ],
 "metadata": {
  "colab": {
   "name": "dipoles_gromacs_IR.ipynb",
   "provenance": []
  },
  "kernelspec": {
   "display_name": "Python 3",
   "language": "python",
   "name": "python3"
  },
  "language_info": {
   "codemirror_mode": {
    "name": "ipython",
    "version": 3
   },
   "file_extension": ".py",
   "mimetype": "text/x-python",
   "name": "python",
   "nbconvert_exporter": "python",
   "pygments_lexer": "ipython3",
   "version": "3.7.4"
  }
 },
 "nbformat": 4,
 "nbformat_minor": 1
}
