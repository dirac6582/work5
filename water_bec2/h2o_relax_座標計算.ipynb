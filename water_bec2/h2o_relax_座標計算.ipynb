{
 "cells": [
  {
   "cell_type": "code",
   "execution_count": 1,
   "metadata": {},
   "outputs": [],
   "source": [
    "import numpy as np"
   ]
  },
  {
   "cell_type": "code",
   "execution_count": 2,
   "metadata": {},
   "outputs": [
    {
     "name": "stdout",
     "output_type": "stream",
     "text": [
      "[ 80.  81.  82.  83.  84.  85.  86.  87.  88.  89.  90.  91.  92.  93.\n",
      "  94.  95.  96.  97.  98.  99. 100.]\n",
      "[1.3962634  1.41371669 1.43116999 1.44862328 1.46607657 1.48352986\n",
      " 1.50098316 1.51843645 1.53588974 1.55334303 1.57079633 1.58824962\n",
      " 1.60570291 1.6231562  1.6406095  1.65806279 1.67551608 1.69296937\n",
      " 1.71042267 1.72787596 1.74532925]\n"
     ]
    }
   ],
   "source": [
    "#rはÅで指定\n",
    "r=0.9693\n",
    "deg_list=np.linspace(80,100,21)\n",
    "print(deg_list)\n",
    "theta_list=deg_list*np.pi/180\n",
    "print(theta_list)"
   ]
  },
  {
   "cell_type": "code",
   "execution_count": 3,
   "metadata": {},
   "outputs": [
    {
     "name": "stdout",
     "output_type": "stream",
     "text": [
      "80.0 0.16831717861255566 0.9545741549947333 0.00\n",
      "81.0 0.15163192696349584 0.9573663085388671 0.00\n",
      "82.0 0.1349004867605917 0.9598668390312041 0.00\n",
      "83.0 0.11812795456260945 0.9620749847859335 0.00\n",
      "84.0 0.10131943944533649 0.9639900731804674 0.00\n",
      "85.0 0.08448006144530502 0.965611520860329 0.00\n",
      "86.0 0.0676149500001808 0.9669388339168477 0.00\n",
      "87.0 0.05072924238628559 0.9679716080376085 0.00\n",
      "88.0 0.0338280821537343 0.9687095286296096 0.00\n",
      "89.0 0.016916617559658776 0.9691523709150901 0.00\n",
      "90.0 5.935250712067648e-17 0.9693 0.00\n",
      "91.0 -0.016916617559658873 0.9691523709150901 0.00\n",
      "92.0 -0.033828082153733965 0.9687095286296096 0.00\n",
      "93.0 -0.050729242386285255 0.9679716080376085 0.00\n",
      "94.0 -0.0676149500001807 0.9669388339168477 0.00\n",
      "95.0 -0.08448006144530514 0.965611520860329 0.00\n",
      "96.0 -0.10131943944533638 0.9639900731804675 0.00\n",
      "97.0 -0.11812795456260936 0.9620749847859336 0.00\n",
      "98.0 -0.13490048676059135 0.9598668390312042 0.00\n",
      "99.0 -0.15163192696349595 0.957366308538867 0.00\n",
      "100.0 -0.16831717861255555 0.9545741549947333 0.00\n"
     ]
    }
   ],
   "source": [
    "for deg in deg_list:\n",
    "    print(deg, r*np.cos(deg*np.pi/180), r*np.sin(deg*np.pi/180), \"0.00\")"
   ]
  },
  {
   "cell_type": "code",
   "execution_count": 4,
   "metadata": {},
   "outputs": [],
   "source": [
    "#座標x y の設定\n",
    "x=1.8038723611924616\n",
    "y=0.3180713670325163\n",
    "def make_file(x,y,angle):\n",
    "    lines= [\n",
    "    \"&control\", \n",
    "    \"      calculation = 'scf'\", \n",
    "    \"      prefix = 'h2o_bec'\", \n",
    "    \"      pseudo_dir = '/home/amano/src/qe-6.4.1/pseudo/'\", \n",
    "    \"      outdir           = './work/'\", \n",
    "    \" \",    \n",
    "    \"/\", \n",
    "    \"&system\", \n",
    "    \"      ibrav=1, celldm(1) =10,\", \n",
    "    \"      nat=3, ntyp=2,\", \n",
    "    \"      ecutwfc=70\", \n",
    "    \"      nosym =.TRUE.\", \n",
    "    \"/\", \n",
    "    \"&electrons\", \n",
    "    \"      conv_thr=1e-8\", \n",
    "    \"/\", \n",
    "    \"&ions\", \n",
    "    \"/\", \n",
    "    \"ATOMIC_SPECIES\", \n",
    "    \"H  1.00784 H.pbe-rrkjus_psl.1.0.0.UPF\", \n",
    "    \"O  15.999 O.pbe-n-rrkjus_psl.1.0.0.UPF\", \n",
    "    \" \",\n",
    "    \" \" ,  \n",
    "    \"ATOMIC_POSITIONS (angstrom)\", \n",
    "    \" O 0.00 0.00 0.00\", \n",
    "    \" H 0.9693 0.00 0.00\", \n",
    "    \" H {0} {1} 0.00\".format(x, y), \n",
    "    \" \" , \n",
    "    \"K_POINTS (automatic)\", \n",
    "    \" 1 1 1 0 0 0\", \n",
    "    ]\n",
    "    #出力ファイル名\n",
    "    output=\"h2o_bec.pw.in\"\n",
    "    #ファイルの保存\n",
    "    with open(output, mode='w') as f:\n",
    "        f.write('\\n'.join(lines))\n"
   ]
  },
  {
   "cell_type": "code",
   "execution_count": 5,
   "metadata": {},
   "outputs": [],
   "source": [
    "#phファイルの方\n",
    "def make_phfile():\n",
    "    lines=[\n",
    "    \"h2o phonon\",\n",
    "    \"&inputph\",\n",
    "    \"     tr2_ph = 1.0d-15,\" ,\n",
    "    \"     prefix = 'h2o_bec'\" ,\n",
    "    \"     outdir = './work/'\"  ,\n",
    "    \"     trans  = .true.\", \n",
    "    \"     zue    = .true.\", \n",
    "    \"     epsil  = .true.\", \n",
    "    \"   asr      = .true.\",    \n",
    "    \"/\",\n",
    "    \"0 0 0\",\n",
    "    ]\n",
    "    #出力ファイル名\n",
    "    output=\"h2o_bec.ph.in\"\n",
    "    #ファイルの保存\n",
    "    with open(output, mode='w') as f:\n",
    "        f.write('\\n'.join(lines))\n"
   ]
  },
  {
   "cell_type": "code",
   "execution_count": null,
   "metadata": {},
   "outputs": [],
   "source": [
    "\n",
    "        "
   ]
  },
  {
   "cell_type": "code",
   "execution_count": 6,
   "metadata": {},
   "outputs": [],
   "source": [
    "def copyfile1(angle):\n",
    "    import shutil\n",
    "    src=\"h2o_bec.pw.in\"\n",
    "    copy = './water_{}'.format(str(angle)) #移動先のdir\n",
    "    # shutil.copyfileはscrのファイルをcopyにコピーする．\n",
    "    shutil.move(src,copy)\n",
    "\n",
    "def copyfile2(angle):\n",
    "    import shutil\n",
    "    src=\"h2o_bec.ph.in\"\n",
    "    copy = './water_{}'.format(str(angle))\n",
    "    # shutil.copyfileはscrのファイルをcopyにコピーする．\n",
    "    shutil.move(src,copy)\n",
    "\n",
    "\n",
    "#water_10などのdirを作成\n",
    "def make_dir(angle):\n",
    "    import os\n",
    "    new_dir_path = 'water_{}'.format(str(angle))\n",
    "    os.mkdir(new_dir_path)"
   ]
  },
  {
   "cell_type": "code",
   "execution_count": 7,
   "metadata": {},
   "outputs": [
    {
     "name": "stdout",
     "output_type": "stream",
     "text": [
      "80.0 0.16831717861255566 0.9545741549947333 0.00\n",
      "81.0 0.15163192696349584 0.9573663085388671 0.00\n",
      "82.0 0.1349004867605917 0.9598668390312041 0.00\n",
      "83.0 0.11812795456260945 0.9620749847859335 0.00\n",
      "84.0 0.10131943944533649 0.9639900731804674 0.00\n",
      "85.0 0.08448006144530502 0.965611520860329 0.00\n",
      "86.0 0.0676149500001808 0.9669388339168477 0.00\n",
      "87.0 0.05072924238628559 0.9679716080376085 0.00\n",
      "88.0 0.0338280821537343 0.9687095286296096 0.00\n",
      "89.0 0.016916617559658776 0.9691523709150901 0.00\n",
      "90.0 5.935250712067648e-17 0.9693 0.00\n",
      "91.0 -0.016916617559658873 0.9691523709150901 0.00\n",
      "92.0 -0.033828082153733965 0.9687095286296096 0.00\n",
      "93.0 -0.050729242386285255 0.9679716080376085 0.00\n",
      "94.0 -0.0676149500001807 0.9669388339168477 0.00\n",
      "95.0 -0.08448006144530514 0.965611520860329 0.00\n",
      "96.0 -0.10131943944533638 0.9639900731804675 0.00\n",
      "97.0 -0.11812795456260936 0.9620749847859336 0.00\n",
      "98.0 -0.13490048676059135 0.9598668390312042 0.00\n",
      "99.0 -0.15163192696349595 0.957366308538867 0.00\n",
      "100.0 -0.16831717861255555 0.9545741549947333 0.00\n"
     ]
    }
   ],
   "source": [
    "# 実際にファイル群を作成\n",
    "for deg in deg_list:\n",
    "    print(deg, r*np.cos(deg*np.pi/180), r*np.sin(deg*np.pi/180), \"0.00\")\n",
    "    # 3つの変数の設定\n",
    "    angle=deg\n",
    "    x=r*np.cos(deg*np.pi/180)\n",
    "    y=r*np.sin(deg*np.pi/180)\n",
    "    \n",
    "    #water_angleのdir作成\n",
    "    make_dir(angle)\n",
    "    \n",
    "    #pwファイル作成\n",
    "    make_file(x,y,angle)\n",
    "    \n",
    "    #pwファイル移動\n",
    "    copyfile1(angle)\n",
    "    \n",
    "    #phファイル作成\n",
    "    make_phfile()\n",
    "    \n",
    "    #phファイル移動\n",
    "    copyfile2(angle)\n",
    "    "
   ]
  },
  {
   "cell_type": "code",
   "execution_count": null,
   "metadata": {},
   "outputs": [],
   "source": []
  }
 ],
 "metadata": {
  "kernelspec": {
   "display_name": "Python 3",
   "language": "python",
   "name": "python3"
  },
  "language_info": {
   "codemirror_mode": {
    "name": "ipython",
    "version": 3
   },
   "file_extension": ".py",
   "mimetype": "text/x-python",
   "name": "python",
   "nbconvert_exporter": "python",
   "pygments_lexer": "ipython3",
   "version": "3.7.4"
  }
 },
 "nbformat": 4,
 "nbformat_minor": 2
}
