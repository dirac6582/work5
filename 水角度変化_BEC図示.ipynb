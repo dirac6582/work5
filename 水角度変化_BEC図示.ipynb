{
 "cells": [
  {
   "cell_type": "markdown",
   "id": "ee9dcfed",
   "metadata": {},
   "source": [
    "#  H，OのBECを読み出して単純に図示する．\n",
    "\n",
    "\n",
    "## ファイル読み込み→ 11成分のみ取り出し→listにappend→ 図示の順番が良さそう．"
   ]
  },
  {
   "cell_type": "code",
   "execution_count": 2,
   "id": "5d44d5cf",
   "metadata": {},
   "outputs": [],
   "source": [
    "import numpy as np"
   ]
  },
  {
   "cell_type": "code",
   "execution_count": null,
   "id": "9f42f710",
   "metadata": {},
   "outputs": [],
   "source": []
  },
  {
   "cell_type": "code",
   "execution_count": null,
   "id": "536223bf",
   "metadata": {},
   "outputs": [],
   "source": []
  },
  {
   "cell_type": "code",
   "execution_count": null,
   "id": "808b2754",
   "metadata": {},
   "outputs": [],
   "source": []
  },
  {
   "cell_type": "code",
   "execution_count": 1,
   "id": "29072229",
   "metadata": {},
   "outputs": [
    {
     "ename": "NameError",
     "evalue": "name 'np' is not defined",
     "output_type": "error",
     "traceback": [
      "\u001b[0;31m---------------------------------------------------------------------------\u001b[0m",
      "\u001b[0;31mNameError\u001b[0m                                 Traceback (most recent call last)",
      "\u001b[0;32m/var/folders/qh/w7z0wx8j49g7zl502vjqfx800000gn/T/ipykernel_24754/643388897.py\u001b[0m in \u001b[0;36m<module>\u001b[0;34m\u001b[0m\n\u001b[1;32m      1\u001b[0m \u001b[0;31m# 有効電荷の取得\u001b[0m\u001b[0;34m\u001b[0m\u001b[0;34m\u001b[0m\u001b[0;34m\u001b[0m\u001b[0m\n\u001b[0;32m----> 2\u001b[0;31m \u001b[0mZO\u001b[0m\u001b[0;34m=\u001b[0m\u001b[0mnp\u001b[0m\u001b[0;34m.\u001b[0m\u001b[0mloadtxt\u001b[0m\u001b[0;34m(\u001b[0m\u001b[0;34m\"bec_O_1.txt\"\u001b[0m\u001b[0;34m)\u001b[0m\u001b[0;34m\u001b[0m\u001b[0;34m\u001b[0m\u001b[0m\n\u001b[0m\u001b[1;32m      3\u001b[0m \u001b[0mZH1\u001b[0m\u001b[0;34m=\u001b[0m\u001b[0mnp\u001b[0m\u001b[0;34m.\u001b[0m\u001b[0mloadtxt\u001b[0m\u001b[0;34m(\u001b[0m\u001b[0;34m\"bec_H1_1.txt\"\u001b[0m\u001b[0;34m)\u001b[0m\u001b[0;34m\u001b[0m\u001b[0;34m\u001b[0m\u001b[0m\n\u001b[1;32m      4\u001b[0m \u001b[0mZH2\u001b[0m\u001b[0;34m=\u001b[0m\u001b[0mnp\u001b[0m\u001b[0;34m.\u001b[0m\u001b[0mloadtxt\u001b[0m\u001b[0;34m(\u001b[0m\u001b[0;34m\"bec_H2_1.txt\"\u001b[0m\u001b[0;34m)\u001b[0m\u001b[0;34m\u001b[0m\u001b[0;34m\u001b[0m\u001b[0m\n\u001b[1;32m      5\u001b[0m \u001b[0;34m\u001b[0m\u001b[0m\n",
      "\u001b[0;31mNameError\u001b[0m: name 'np' is not defined"
     ]
    }
   ],
   "source": [
    "# 有効電荷の取得\n",
    "ZO=np.loadtxt(\"bec_O_1.txt\")\n",
    "ZH1=np.loadtxt(\"bec_H1_1.txt\")\n",
    "ZH2=np.loadtxt(\"bec_H2_1.txt\")\n",
    "\n",
    "print(ZO)\n",
    "print(ZH1)\n",
    "print(ZH2)"
   ]
  },
  {
   "cell_type": "code",
   "execution_count": 6,
   "id": "1de341a2",
   "metadata": {
    "scrolled": true
   },
   "outputs": [
    {
     "name": "stdout",
     "output_type": "stream",
     "text": [
      "80\n",
      "[[-3.8937e-01  9.0750e-02  0.0000e+00]\n",
      " [ 8.6670e-02 -4.1332e-01  0.0000e+00]\n",
      " [-2.0000e-05 -2.0000e-05 -7.7668e-01]]\n",
      "81\n",
      "[[-3.9294e-01  9.0470e-02  0.0000e+00]\n",
      " [ 8.6790e-02 -4.1409e-01  0.0000e+00]\n",
      " [-1.0000e-05 -1.0000e-05 -7.7794e-01]]\n",
      "82\n",
      "[[-3.9701e-01  9.0220e-02 -0.0000e+00]\n",
      " [ 8.7010e-02 -4.1550e-01  0.0000e+00]\n",
      " [-1.0000e-05 -1.0000e-05 -7.8006e-01]]\n",
      "83\n",
      "[[-0.40036  0.09     0.     ]\n",
      " [ 0.0872  -0.41626 -0.     ]\n",
      " [-0.      -0.      -0.78111]]\n",
      "84\n",
      "[[-0.40401  0.08985 -0.     ]\n",
      " [ 0.08749 -0.41749 -0.     ]\n",
      " [ 0.       0.      -0.78275]]\n",
      "85\n",
      "[[-0.40802  0.08963 -0.     ]\n",
      " [ 0.08769 -0.41904 -0.     ]\n",
      " [ 0.       0.      -0.78469]]\n",
      "86\n",
      "[[-0.41182  0.08949 -0.     ]\n",
      " [ 0.08797 -0.42053 -0.     ]\n",
      " [-0.      -0.      -0.78644]]\n",
      "87\n",
      "[[-0.41555  0.08935 -0.     ]\n",
      " [ 0.08825 -0.422   -0.     ]\n",
      " [-0.      -0.      -0.78802]]\n",
      "88\n",
      "[[-0.41935  0.08927  0.     ]\n",
      " [ 0.08855 -0.42363 -0.     ]\n",
      " [-0.      -0.      -0.7897 ]]\n",
      "89\n",
      "[[-4.2330e-01  8.9170e-02 -0.0000e+00]\n",
      " [ 8.8820e-02 -4.2546e-01 -1.0000e-05]\n",
      " [-1.0000e-05 -1.0000e-05 -7.9158e-01]]\n",
      "90\n",
      "[[-4.2706e-01  8.9110e-02 -0.0000e+00]\n",
      " [ 8.9110e-02 -4.2706e-01 -0.0000e+00]\n",
      " [-1.0000e-05 -1.0000e-05 -7.9306e-01]]\n",
      "91\n",
      "[[-0.43126  0.08909  0.     ]\n",
      " [ 0.08942 -0.42922  0.     ]\n",
      " [-0.      -0.      -0.79524]]\n",
      "92\n",
      "[[-4.3546e-01  8.9020e-02 -0.0000e+00]\n",
      " [ 8.9650e-02 -4.3142e-01 -0.0000e+00]\n",
      " [-1.0000e-05 -1.0000e-05 -7.9725e-01]]\n",
      "93\n",
      "[[-0.43965  0.089    0.     ]\n",
      " [ 0.08992 -0.43356  0.     ]\n",
      " [ 0.       0.      -0.79912]]\n",
      "94\n",
      "[[-4.4366e-01  8.8980e-02 -0.0000e+00]\n",
      " [ 9.0140e-02 -4.3562e-01 -0.0000e+00]\n",
      " [-1.0000e-05 -1.0000e-05 -8.0070e-01]]\n",
      "95\n",
      "[[-0.44794  0.08897 -0.     ]\n",
      " [ 0.09036 -0.43797 -0.     ]\n",
      " [-0.      -0.      -0.80258]]\n",
      "96\n",
      "[[-0.45271  0.08899  0.     ]\n",
      " [ 0.09056 -0.44084  0.     ]\n",
      " [ 0.       0.      -0.8052 ]]\n",
      "97\n",
      "[[-0.45714  0.08901  0.     ]\n",
      " [ 0.09076 -0.4434   0.     ]\n",
      " [-0.      -0.      -0.80701]]\n",
      "98\n",
      "[[-0.46133  0.089    0.     ]\n",
      " [ 0.09088 -0.44571  0.     ]\n",
      " [-0.      -0.      -0.80865]]\n",
      "99\n",
      "[[-0.46644  0.08904 -0.     ]\n",
      " [ 0.09103 -0.44894 -0.     ]\n",
      " [ 0.       0.      -0.81121]]\n",
      "100\n",
      "[[-4.7122e-01  8.9080e-02  0.0000e+00]\n",
      " [ 9.1140e-02 -4.5182e-01  0.0000e+00]\n",
      " [-1.0000e-05 -1.0000e-05 -8.1329e-01]]\n"
     ]
    }
   ],
   "source": [
    "bec11_list=[]\n",
    "bec22_list=[]\n",
    "bec33_list=[]\n",
    "\n",
    "i_array=np.arange(80,101)\n",
    "\n",
    "for i in range(80,101):\n",
    "    print(i)\n",
    "    # zero padding\n",
    "    #count_zero = str(i).zfill(4)\n",
    "    #print(count_zero)\n",
    "    #BECarray[i,:,:,:]=np.load(\"WAT32_BEC/\"+count_zero+\".npy\")\n",
    "    ZO=np.loadtxt(\"result/bec_O_\"+str(i)+\".txt\")\n",
    "    bec11_list.append(ZO[0][0])\n",
    "    bec22_list.append(ZO[1][1])\n",
    "    bec33_list.append(ZO[2][2])\n",
    "    print(ZO)\n",
    "    ##print(BECarray[i,:,:,:])"
   ]
  },
  {
   "cell_type": "code",
   "execution_count": 7,
   "id": "f3b8206f",
   "metadata": {},
   "outputs": [],
   "source": [
    "bec11_array=np.array(bec11_list)\n",
    "bec22_array=np.array(bec22_list)\n",
    "bec33_array=np.array(bec33_list)\n"
   ]
  },
  {
   "cell_type": "code",
   "execution_count": 9,
   "id": "4b5c5ae9",
   "metadata": {},
   "outputs": [
    {
     "name": "stdout",
     "output_type": "stream",
     "text": [
      "[ 80  81  82  83  84  85  86  87  88  89  90  91  92  93  94  95  96  97\n",
      "  98  99 100]\n"
     ]
    },
    {
     "data": {
      "text/plain": [
       "<matplotlib.legend.Legend at 0x112273b20>"
      ]
     },
     "execution_count": 9,
     "metadata": {},
     "output_type": "execute_result"
    },
    {
     "data": {
      "image/png": "[encoded data removed]",
      "text/plain": [
       "<Figure size 432x288 with 1 Axes>"
      ]
     },
     "metadata": {
      "needs_background": "light"
     },
     "output_type": "display_data"
    }
   ],
   "source": [
    "# 得られたdetたちを図示する．\n",
    "import numpy as np\n",
    "import matplotlib.pyplot as plt\n",
    "\n",
    "# ここにグラフを描画する処理を記載する．\n",
    "print(i_array)\n",
    "\n",
    "plt.plot(i_array,bec11_array, label=\"ZO11\")\n",
    "plt.plot(i_array,bec22_array, label=\"ZO22\")\n",
    "plt.plot(i_array,bec33_array, label=\"ZO33\")\n",
    "plt.ylabel(\"Z\")\n",
    "plt.xlabel(\"angle [° ]\")\n",
    "plt.legend()"
   ]
  },
  {
   "cell_type": "code",
   "execution_count": 13,
   "id": "f793a789",
   "metadata": {
    "scrolled": true
   },
   "outputs": [
    {
     "name": "stdout",
     "output_type": "stream",
     "text": [
      "80\n",
      "[[ 2.7370e-02 -4.9380e-02 -0.0000e+00]\n",
      " [-3.6900e-03  2.7728e-01 -0.0000e+00]\n",
      " [-1.0000e-05 -0.0000e+00  3.0605e-01]]\n",
      "81\n",
      "[[ 2.9610e-02 -4.9830e-02 -0.0000e+00]\n",
      " [-7.0000e-03  2.7708e-01  0.0000e+00]\n",
      " [-1.0000e-05 -0.0000e+00  3.0667e-01]]\n",
      "82\n",
      "[[ 3.1620e-02 -5.0260e-02 -0.0000e+00]\n",
      " [-1.0290e-02  2.7683e-01  0.0000e+00]\n",
      " [-1.0000e-05 -0.0000e+00  3.0726e-01]]\n",
      "83\n",
      "[[ 0.03411 -0.05068 -0.     ]\n",
      " [-0.01362  0.27666 -0.     ]\n",
      " [-0.      -0.       0.30793]]\n",
      "84\n",
      "[[ 3.6420e-02 -5.1050e-02 -0.0000e+00]\n",
      " [-1.6890e-02  2.7647e-01  0.0000e+00]\n",
      " [ 0.0000e+00  1.0000e-05  3.0861e-01]]\n",
      "85\n",
      "[[ 0.03861 -0.05142  0.     ]\n",
      " [-0.02025  0.27628 -0.     ]\n",
      " [ 0.       0.       0.30924]]\n",
      "86\n",
      "[[ 0.04098 -0.05174  0.     ]\n",
      " [-0.02357  0.2761  -0.     ]\n",
      " [-0.      -0.       0.30993]]\n",
      "87\n",
      "[[ 0.04347 -0.05203  0.     ]\n",
      " [-0.0269   0.27597  0.     ]\n",
      " [-0.      -0.       0.31064]]\n",
      "88\n",
      "[[ 0.04598 -0.0523   0.     ]\n",
      " [-0.03023  0.27584 -0.     ]\n",
      " [-0.      -0.       0.31135]]\n",
      "89\n",
      "[[ 4.8460e-02 -5.2530e-02  0.0000e+00]\n",
      " [-3.3570e-02  2.7570e-01  0.0000e+00]\n",
      " [-1.0000e-05 -0.0000e+00  3.1208e-01]]\n",
      "90\n",
      "[[ 5.1180e-02 -5.2730e-02  0.0000e+00]\n",
      " [-3.6880e-02  2.7564e-01  0.0000e+00]\n",
      " [-1.0000e-05 -0.0000e+00  3.1286e-01]]\n",
      "91\n",
      "[[ 0.05374 -0.05291 -0.     ]\n",
      " [-0.04017  0.27555  0.     ]\n",
      " [-0.      -0.       0.31359]]\n",
      "92\n",
      "[[ 5.6370e-02 -5.3030e-02 -0.0000e+00]\n",
      " [-4.3480e-02  2.7548e-01 -0.0000e+00]\n",
      " [-1.0000e-05 -0.0000e+00  3.1436e-01]]\n",
      "93\n",
      "[[ 0.05915 -0.05313 -0.     ]\n",
      " [-0.04677  0.27544  0.     ]\n",
      " [ 0.       0.       0.31515]]\n",
      "94\n",
      "[[ 6.2090e-02 -5.3200e-02  0.0000e+00]\n",
      " [-5.0040e-02  2.7545e-01  0.0000e+00]\n",
      " [-1.0000e-05 -0.0000e+00  3.1599e-01]]\n",
      "95\n",
      "[[ 0.065   -0.05324  0.     ]\n",
      " [-0.0533   0.27546  0.     ]\n",
      " [-0.      -0.       0.31681]]\n",
      "96\n",
      "[[ 0.06772 -0.05322  0.     ]\n",
      " [-0.05654  0.27547 -0.     ]\n",
      " [ 0.       0.       0.31761]]\n",
      "97\n",
      "[[ 7.0840e-02 -5.3180e-02  0.0000e+00]\n",
      " [-5.9740e-02  2.7554e-01  0.0000e+00]\n",
      " [-1.0000e-05 -0.0000e+00  3.1847e-01]]\n",
      "98\n",
      "[[ 0.07407 -0.05308 -0.     ]\n",
      " [-0.06291  0.27564 -0.     ]\n",
      " [-0.      -0.       0.31938]]\n",
      "99\n",
      "[[ 0.07707 -0.05297  0.     ]\n",
      " [-0.06611  0.27571 -0.     ]\n",
      " [ 0.       0.       0.32022]]\n",
      "100\n",
      "[[ 8.0300e-02 -5.2820e-02 -0.0000e+00]\n",
      " [-6.9250e-02  2.7585e-01  0.0000e+00]\n",
      " [-1.0000e-05 -0.0000e+00  3.2116e-01]]\n"
     ]
    }
   ],
   "source": [
    "bec11_list=[]\n",
    "bec22_list=[]\n",
    "bec33_list=[]\n",
    "\n",
    "bec11_list2=[]\n",
    "bec22_list2=[]\n",
    "bec33_list2=[]\n",
    "\n",
    "i_array=np.arange(80,101)\n",
    "\n",
    "for i in range(80,101):\n",
    "    print(i)\n",
    "    # zero padding\n",
    "    #count_zero = str(i).zfill(4)\n",
    "    #print(count_zero)\n",
    "    #BECarray[i,:,:,:]=np.load(\"WAT32_BEC/\"+count_zero+\".npy\")\n",
    "    ZO=np.loadtxt(\"result/bec_H1_\"+str(i)+\".txt\")\n",
    "    bec11_list.append(ZO[0][0])\n",
    "    bec22_list.append(ZO[1][1])\n",
    "    bec33_list.append(ZO[2][2])\n",
    "    print(ZO)\n",
    "    \n",
    "    ZH2=np.loadtxt(\"result/bec_H2_\"+str(i)+\".txt\")\n",
    "    bec11_list2.append(ZH2[0][0])\n",
    "    bec22_list2.append(ZH2[1][1])\n",
    "    bec33_list2.append(ZH2[2][2])\n",
    "    ##print(BECarray[i,:,:,:])"
   ]
  },
  {
   "cell_type": "code",
   "execution_count": 15,
   "id": "71ba19e1",
   "metadata": {},
   "outputs": [],
   "source": [
    "bec11_array=np.array(bec11_list)\n",
    "bec22_array=np.array(bec22_list)\n",
    "bec33_array=np.array(bec33_list)\n",
    "\n",
    "bec11_array2=np.array(bec11_list2)\n",
    "bec22_array2=np.array(bec22_list2)\n",
    "bec33_array2=np.array(bec33_list2)"
   ]
  },
  {
   "cell_type": "code",
   "execution_count": 16,
   "id": "b6257655",
   "metadata": {},
   "outputs": [
    {
     "name": "stdout",
     "output_type": "stream",
     "text": [
      "[ 80  81  82  83  84  85  86  87  88  89  90  91  92  93  94  95  96  97\n",
      "  98  99 100]\n"
     ]
    },
    {
     "data": {
      "text/plain": [
       "<matplotlib.legend.Legend at 0x1124b5bb0>"
      ]
     },
     "execution_count": 16,
     "metadata": {},
     "output_type": "execute_result"
    },
    {
     "data": {
      "image/png": "[encoded data removed]",
      "text/plain": [
       "<Figure size 432x288 with 1 Axes>"
      ]
     },
     "metadata": {
      "needs_background": "light"
     },
     "output_type": "display_data"
    }
   ],
   "source": [
    "# 得られたdetたちを図示する．\n",
    "import numpy as np\n",
    "import matplotlib.pyplot as plt\n",
    "\n",
    "# ここにグラフを描画する処理を記載する．\n",
    "print(i_array)\n",
    "\n",
    "plt.plot(i_array,bec11_array, label=\"ZH1_11\")\n",
    "plt.plot(i_array,bec22_array, label=\"ZH1_22\")\n",
    "plt.plot(i_array,bec33_array, label=\"ZH1_33\")\n",
    "\n",
    "plt.plot(i_array,bec11_array2, label=\"ZH2_11\")\n",
    "plt.plot(i_array,bec22_array2, label=\"ZH2_22\")\n",
    "plt.plot(i_array,bec33_array2, label=\"ZH2_33\")\n",
    "plt.ylabel(\"Z\")\n",
    "plt.xlabel(\"angle [° ]\")\n",
    "plt.legend()"
   ]
  },
  {
   "cell_type": "code",
   "execution_count": null,
   "id": "08260c9b",
   "metadata": {},
   "outputs": [],
   "source": []
  }
 ],
 "metadata": {
  "kernelspec": {
   "display_name": "Python 3 (ipykernel)",
   "language": "python",
   "name": "python3"
  },
  "language_info": {
   "codemirror_mode": {
    "name": "ipython",
    "version": 3
   },
   "file_extension": ".py",
   "mimetype": "text/x-python",
   "name": "python",
   "nbconvert_exporter": "python",
   "pygments_lexer": "ipython3",
   "version": "3.9.2"
  }
 },
 "nbformat": 4,
 "nbformat_minor": 5
}
